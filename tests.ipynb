{
 "cells": [
  {
   "cell_type": "code",
   "execution_count": 3,
   "metadata": {},
   "outputs": [
    {
     "name": "stdout",
     "output_type": "stream",
     "text": [
      "<Response [200]>\n",
      ">>> there are 6223 tweets left to download\n",
      "Asking to download 5 tweets at max\n",
      "\n",
      "Asking tweets of IKEA 606342802 from tweet id None.\n",
      "             Max number of tweets asked is 5.\n",
      "                Expansions asked are ['attachments.media_keys', 'geo.place_id', 'author_id']\n",
      "                    Tweet fields asked are ['text', 'id', 'attachments', 'created_at', 'lang', 'author_id', 'entities', 'geo', 'public_metrics']\n",
      "                        Media fields asked are ['media_key', 'type', 'url', 'variants', 'preview_image_url']\n",
      "                            user_fields asked are ['id', 'username', 'description', 'public_metrics', 'verified']\n",
      "\n",
      "<tweepy.pagination.Paginator object at 0x000001993DDD8CD0> \n",
      " object was created\n"
     ]
    }
   ],
   "source": [
    "import os\n",
    "import math\n",
    "from downloadData import UserDataDownload\n",
    "from utils import *\n",
    "\n",
    "BEARER_TOKEN = 'AAAAAAAAAAAAAAAAAAAAAAB6rAEAAAAAUETTBU7ohCCUuzTnRu1VHgYw4Vk%3DN5I6Yq9m16CwhIjwHsFrYx87qsqBeHxwD1lA6bksneT5IlsIvS'\n",
    "    \n",
    "# Define the username of the user whose data you want to download\n",
    "username = '@IKEA'\n",
    "\n",
    "# Initialize UserDataDownload object\n",
    "user_data = UserDataDownload(username=username)\n",
    "\n",
    "# Set up client for accessing Twitter API\n",
    "user_data.set_client(bearer_token=BEARER_TOKEN)\n",
    "\n",
    "# Retrieve user data from Twitter\n",
    "user_data.set_user_data()\n",
    "\n",
    "user_data.set_output_filename()\n",
    "\n",
    "# Set the ID of the oldest tweet to retrieve\n",
    "user_data.set_until_id()\n",
    "\n",
    "# Set the maximum number of tweets to retrieve based on rate limit\n",
    "user_data.set_max_tweets(bearer_token=BEARER_TOKEN, n=5)\n",
    "\n",
    "# Set up paginator for retrieving tweets\n",
    "user_data.set_paginator()"
   ]
  },
  {
   "cell_type": "code",
   "execution_count": 20,
   "metadata": {},
   "outputs": [
    {
     "name": "stdout",
     "output_type": "stream",
     "text": [
      ">>> started retrieving tweets\n"
     ]
    },
    {
     "name": "stderr",
     "output_type": "stream",
     "text": [
      "2it [00:00,  6.87it/s]"
     ]
    },
    {
     "name": "stdout",
     "output_type": "stream",
     "text": [
      "started for cycle on response\n",
      "{'1767491004016263364': {'text': \"Spread the flower power with the new Nytillverkad collection. Inspired by the timeless designs of some favourites from the archives, join us as we dive back into the 60's and 70's ➡️ https://t.co/aF19CfMv9r https://t.co/wuYDQISvoE\", 'id': '1767491004016263364', 'entities': {'urls': [{'start': 183, 'end': 206, 'url': 'https://t.co/aF19CfMv9r', 'expanded_url': 'https://www.ikea.com/global/en/newsroom/retail/nytillverkad-launch4-240312/', 'display_url': 'ikea.com/global/en/news…', 'images': [{'url': 'https://pbs.twimg.com/news_img/1767491010349715456/ESblLshh?format=jpg&name=orig', 'width': 1400, 'height': 915}, {'url': 'https://pbs.twimg.com/news_img/1767491010349715456/ESblLshh?format=jpg&name=150x150', 'width': 150, 'height': 150}], 'status': 200, 'title': 'Nytillverkad launch 4 collection - IKEA Global', 'description': 'IKEA celebrates the creativity and flower power of the 60s and 70s through the fourth launch of the Nytillverkad collection.', 'unwound_url': 'https://www.ikea.com/global/en/newsroom/retail/nytillverkad-launch4-240312/'}, {'start': 207, 'end': 230, 'url': 'https://t.co/wuYDQISvoE', 'expanded_url': 'https://twitter.com/IKEA/status/1767491004016263364/video/1', 'display_url': 'pic.twitter.com/wuYDQISvoE', 'media_key': '7_1767490974199042048'}], 'annotations': [{'start': 37, 'end': 48, 'probability': 0.7215, 'type': 'Other', 'normalized_text': 'Nytillverkad'}]}, 'author_id': '606342802', 'edit_history_tweet_ids': ['1767491004016263364'], 'attachments': {'media_keys': ['7_1767490974199042048']}, 'created_at': '2024-03-12T10:01:08.000Z', 'lang': 'en', 'public_metrics': {'retweet_count': 5, 'reply_count': 6, 'like_count': 11, 'quote_count': 0, 'bookmark_count': 1, 'impression_count': 1482}}}\n",
      "1\n",
      "\n",
      "1\n",
      "started for cycle on response\n",
      "{'1763202533051314370': {'entities': {'mentions': [{'start': 26, 'end': 41, 'username': 'annieleibovitz', 'id': '52672768'}], 'urls': [{'start': 166, 'end': 189, 'url': 'https://t.co/uyPVbCb9Zu', 'expanded_url': 'https://lifeathome.ikea.com/annie-leibovitz/?utm_source=instagram&utm_medium=social_&utm_campaign=al_ikea_instagram_showcase_global&utm_term=awareness', 'display_url': 'lifeathome.ikea.com/annie-leibovit…', 'images': [{'url': 'https://pbs.twimg.com/news_img/1766053664265773056/N3ecsHuF?format=jpg&name=orig', 'width': 1024, 'height': 683}, {'url': 'https://pbs.twimg.com/news_img/1766053664265773056/N3ecsHuF?format=jpg&name=150x150', 'width': 150, 'height': 150}], 'status': 200, 'title': 'Annie Leibovitz - IKEA Life at Home', 'description': 'Explore the realities of home life through the lens of American photographer, Annie Leibovitz.', 'unwound_url': 'https://lifeathome.ikea.com/annie-leibovitz/?utm_source=instagram&utm_medium=social_&utm_campaign=al_ikea_instagram_showcase_global&utm_term=awareness'}, {'start': 225, 'end': 248, 'url': 'https://t.co/TM0xcQyQ3r', 'expanded_url': 'https://twitter.com/IKEA/status/1763202533051314370/video/1', 'display_url': 'pic.twitter.com/TM0xcQyQ3r', 'media_key': '7_1763202468228300800'}], 'annotations': [{'start': 95, 'end': 106, 'probability': 0.8861, 'type': 'Other', 'normalized_text': 'Life at Home'}, {'start': 192, 'end': 195, 'probability': 0.5619, 'type': 'Organization', 'normalized_text': 'IKEA'}, {'start': 210, 'end': 223, 'probability': 0.4291, 'type': 'Other', 'normalized_text': 'annieleibovitz'}], 'hashtags': [{'start': 191, 'end': 196, 'tag': 'IKEA'}, {'start': 197, 'end': 208, 'tag': 'lifeathome'}, {'start': 209, 'end': 224, 'tag': 'annieleibovitz'}]}, 'text': 'Go behind the scenes with @annieleibovitz as the iconic photographer captures the realities of Life at Home around the world. View all the videos and portraits here: https://t.co/uyPVbCb9Zu  #IKEA #lifeathome #annieleibovitz https://t.co/TM0xcQyQ3r', 'id': '1763202533051314370', 'author_id': '606342802', 'edit_history_tweet_ids': ['1763202533051314370'], 'attachments': {'media_keys': ['7_1763202468228300800']}, 'created_at': '2024-02-29T14:00:17.000Z', 'lang': 'en', 'public_metrics': {'retweet_count': 0, 'reply_count': 7, 'like_count': 6, 'quote_count': 0, 'bookmark_count': 2, 'impression_count': 1899}}}\n",
      "1\n",
      "\n",
      "2\n"
     ]
    },
    {
     "name": "stderr",
     "output_type": "stream",
     "text": [
      "\n"
     ]
    }
   ],
   "source": [
    "import tqdm\n",
    "tweets = []\n",
    "print('>>> started retrieving tweets')\n",
    "response = user_data.get_paginator()\n",
    "count = 0\n",
    "for tweet in tqdm.tqdm(response.flatten(limit=2)):\n",
    "    print('started for cycle on response')\n",
    "    data = {tweet.data['id']: tweet.data}\n",
    "    print(data)\n",
    "    print(len(data.keys()))\n",
    "    print()\n",
    "    count +=1\n",
    "    print(count)\n",
    "    if count > 2:\n",
    "        break\n",
    "    # data = dict(tweet.data)\n",
    "    # print(data)\n",
    "    # print(len(tweets))"
   ]
  },
  {
   "cell_type": "code",
   "execution_count": 18,
   "metadata": {},
   "outputs": [
    {
     "data": {
      "text/plain": [
       "<tweepy.pagination.Paginator at 0x1993ddd8cd0>"
      ]
     },
     "execution_count": 18,
     "metadata": {},
     "output_type": "execute_result"
    }
   ],
   "source": [
    "response"
   ]
  },
  {
   "cell_type": "code",
   "execution_count": 13,
   "metadata": {},
   "outputs": [
    {
     "data": {
      "text/plain": [
       "1"
      ]
     },
     "execution_count": 13,
     "metadata": {},
     "output_type": "execute_result"
    }
   ],
   "source": [
    "len(tweets)"
   ]
  },
  {
   "cell_type": "code",
   "execution_count": 16,
   "metadata": {},
   "outputs": [
    {
     "data": {
      "text/plain": [
       "dict"
      ]
     },
     "execution_count": 16,
     "metadata": {},
     "output_type": "execute_result"
    }
   ],
   "source": [
    "type(tweets[0])"
   ]
  },
  {
   "cell_type": "code",
   "execution_count": null,
   "metadata": {},
   "outputs": [],
   "source": [
    "# import datetime\n",
    "# print(f\"retrieving tweets from {user.data.username} timeline\")\n",
    "# user_id = user.data.id\n",
    "# responses = tweepy.Paginator(client.get_users_tweets, user_id, start_time = datetime.datetime(year=2023, month=1, day=1, hour = 0, minute = 0), end_time = datetime.datetime(year=2023, month=12, day=31, hour=23, minute=59), max_results=100, limit=5)\n",
    "# counter = 0\n",
    "# tweet_dict = {}\n",
    "# i=0\n",
    "# for response in responses:\n",
    "#     counter += 1\n",
    "#     print(f\"==> processing {counter * 100} to {(counter + 1) * 100} of {user.data.username}'s tweets\")\n",
    "#     try:\n",
    "#         for tweet in response.data:  # see any individual tweet by id at: twitter.com/anyuser/status/TWEET_ID_HERE\n",
    "#             tweet_dict[i] = (dict(tweet))\n",
    "#             i+=1\n",
    "#     except Exception as e:\n",
    "#         print(e)\n",
    "# print(f\"END {user.data.username}: finished retrieving tweets from {user.data.username} timeline\\n\")\n",
    "# print(tweet_dict)"
   ]
  },
  {
   "cell_type": "code",
   "execution_count": null,
   "metadata": {},
   "outputs": [],
   "source": [
    "# len(tweet_list)\n",
    "# tweet_dict = {}\n",
    "# for i, el in enumerate(tweet_list):\n",
    "#     tweet_dict[i] = el\n",
    "#     tweet_dict[i]['user_id'] = user.data.id\n",
    "# tweet_dict"
   ]
  },
  {
   "cell_type": "code",
   "execution_count": 21,
   "metadata": {},
   "outputs": [
    {
     "data": {
      "text/plain": [
       "list"
      ]
     },
     "execution_count": 21,
     "metadata": {},
     "output_type": "execute_result"
    }
   ],
   "source": [
    "with open('data/out/IKEA/IKEA_tweets.json', 'r') as file:\n",
    "    data = json.load(file)\n",
    "    \n",
    "type(data)"
   ]
  },
  {
   "cell_type": "code",
   "execution_count": 24,
   "metadata": {},
   "outputs": [
    {
     "name": "stdout",
     "output_type": "stream",
     "text": [
      "1767491004016263364 2024-03-12T10:01:08.000Z\n"
     ]
    }
   ],
   "source": [
    "# Initialize variables to store the most recent tweet ID and its creation date\n",
    "most_recent_tweet_id = None\n",
    "most_recent_creation_date = None\n",
    "\n",
    "# Iterate through the tweets data to find the most recent tweet\n",
    "for tweet_dict in data:\n",
    "    for tweet_id, tweet_info in tweet_dict.items():\n",
    "        creation_date = tweet_info['created_at']\n",
    "        if most_recent_creation_date is None or creation_date > most_recent_creation_date:\n",
    "            most_recent_creation_date = creation_date\n",
    "            most_recent_tweet_id = tweet_id\n",
    "\n",
    "print(most_recent_tweet_id, most_recent_creation_date)\n"
   ]
  },
  {
   "cell_type": "code",
   "execution_count": 25,
   "metadata": {},
   "outputs": [
    {
     "name": "stdout",
     "output_type": "stream",
     "text": [
      "1745762593799545313 2024-01-12T11:00:11.000Z\n"
     ]
    }
   ],
   "source": [
    "# Initialize variables to store the most recent tweet ID and its creation date\n",
    "less_recent_tweet_id = None\n",
    "less_recent_creation_date = None\n",
    "\n",
    "# Iterate through the tweets data to find the most recent tweet\n",
    "for tweet_dict in data:\n",
    "    for tweet_id, tweet_info in tweet_dict.items():\n",
    "        creation_date = tweet_info['created_at']\n",
    "        if less_recent_creation_date is None or creation_date < less_recent_creation_date:\n",
    "            less_recent_creation_date = creation_date\n",
    "            less_recent_tweet_id = tweet_id\n",
    "\n",
    "print(less_recent_tweet_id, less_recent_creation_date)"
   ]
  },
  {
   "cell_type": "code",
   "execution_count": 28,
   "metadata": {},
   "outputs": [
    {
     "name": "stderr",
     "output_type": "stream",
     "text": [
      "Rate limit exceeded. Sleeping for 331 seconds.\n"
     ]
    }
   ],
   "source": []
  },
  {
   "cell_type": "code",
   "execution_count": 12,
   "metadata": {},
   "outputs": [
    {
     "name": "stdout",
     "output_type": "stream",
     "text": [
      "1313448929187553280\n",
      "{'1313448929187553280': {'attachments': {'media_keys': ['7_1313438226032533504']}, 'author_id': '606342802', 'created_at': '2020-10-06T12:00:02.000Z', 'edit_history_tweet_ids': ['1313448929187553280'], 'entities': {'annotations': [{'end': 21, 'normalized_text': 'Inter IKEA Group', 'probability': 0.698, 'start': 6, 'type': 'Organization'}, {'end': 42, 'normalized_text': 'IKEA', 'probability': 0.8595, 'start': 39, 'type': 'Organization'}, {'end': 62, 'normalized_text': 'EUR', 'probability': 0.4433, 'start': 60, 'type': 'Other'}], 'urls': [{'display_url': 'about.ikea.com/en/about-us/ye…', 'end': 109, 'expanded_url': 'https://about.ikea.com/en/about-us/year-in-review', 'start': 86, 'status': 200, 'unwound_url': 'https://www.ikea.com/global/en/our-business/how-we-work/year-in-review/', 'url': 'https://t.co/I3cBSj3EKT'}, {'display_url': 'pic.twitter.com/cFObuH4V37', 'end': 133, 'expanded_url': 'https://twitter.com/IKEA/status/1313448929187553280/video/1', 'media_key': '7_1313438226032533504', 'start': 110, 'url': 'https://t.co/cFObuH4V37'}]}, 'id': '1313448929187553280', 'lang': 'en', 'public_metrics': {'bookmark_count': 0, 'impression_count': 0, 'like_count': 50, 'quote_count': 3, 'reply_count': 11, 'retweet_count': 5}, 'text': 'Today Inter IKEA Group announces total IKEA retail sales of EUR 39.6 billion for FY20 https://t.co/I3cBSj3EKT https://t.co/cFObuH4V37'}}\n",
      "2020-10-06T12:00:02.000Z\n"
     ]
    }
   ],
   "source": [
    "import os\n",
    "import json\n",
    "json_files = [int(file.replace('.json', '')) for file in os.listdir('data/log/IKEA') if file.endswith('.json')]\n",
    "json_files.sort()\n",
    "print(json_files[0])\n",
    "with open(f'data/log/IKEA/{json_files[0]}.json', 'r') as file:\n",
    "    tweet = json.load(file)\n",
    "    print(tweet)\n",
    "    print(tweet[str(json_files[0])]['created_at'])"
   ]
  },
  {
   "cell_type": "code",
   "execution_count": 17,
   "metadata": {},
   "outputs": [
    {
     "name": "stdout",
     "output_type": "stream",
     "text": [
      "Original created_at: 2020-10-06T12:00:02.000Z\n",
      "Updated created_at: 2020-10-06T12:00:03.000000Z\n"
     ]
    }
   ],
   "source": [
    "import os\n",
    "import json\n",
    "from datetime import datetime, timedelta\n",
    "\n"
   ]
  },
  {
   "cell_type": "code",
   "execution_count": null,
   "metadata": {},
   "outputs": [],
   "source": []
  }
 ],
 "metadata": {
  "kernelspec": {
   "display_name": "base",
   "language": "python",
   "name": "python3"
  },
  "language_info": {
   "codemirror_mode": {
    "name": "ipython",
    "version": 3
   },
   "file_extension": ".py",
   "mimetype": "text/x-python",
   "name": "python",
   "nbconvert_exporter": "python",
   "pygments_lexer": "ipython3",
   "version": "3.8.16"
  }
 },
 "nbformat": 4,
 "nbformat_minor": 2
}
