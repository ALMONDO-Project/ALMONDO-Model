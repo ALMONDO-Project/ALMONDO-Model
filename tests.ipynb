{
 "cells": [
  {
   "cell_type": "code",
   "execution_count": 12,
   "metadata": {},
   "outputs": [],
   "source": [
    "import tweepy\n",
    "import json\n",
    "import requests"
   ]
  },
  {
   "cell_type": "code",
   "execution_count": 13,
   "metadata": {},
   "outputs": [],
   "source": [
    "from utils import *"
   ]
  },
  {
   "cell_type": "code",
   "execution_count": 14,
   "metadata": {},
   "outputs": [],
   "source": [
    "BEARER_TOKEN = 'AAAAAAAAAAAAAAAAAAAAAAB6rAEAAAAAUETTBU7ohCCUuzTnRu1VHgYw4Vk%3DN5I6Yq9m16CwhIjwHsFrYx87qsqBeHxwD1lA6bksneT5IlsIvS'\n",
    "input_data_path = 'data/in/'\n",
    "output_data_path = 'data/out/'\n",
    "log_data_path = 'data/log/'"
   ]
  },
  {
   "cell_type": "code",
   "execution_count": 15,
   "metadata": {},
   "outputs": [],
   "source": [
    "client = tweepy.Client(BEARER_TOKEN, wait_on_rate_limit=True)"
   ]
  },
  {
   "cell_type": "code",
   "execution_count": 16,
   "metadata": {},
   "outputs": [
    {
     "data": {
      "text/plain": [
       "<tweepy.client.Client at 0x1c1b2333910>"
      ]
     },
     "execution_count": 16,
     "metadata": {},
     "output_type": "execute_result"
    }
   ],
   "source": [
    "client"
   ]
  },
  {
   "cell_type": "code",
   "execution_count": 20,
   "metadata": {},
   "outputs": [],
   "source": [
    "users = read_users(input_data_path)"
   ]
  },
  {
   "cell_type": "code",
   "execution_count": 21,
   "metadata": {},
   "outputs": [
    {
     "data": {
      "text/plain": [
       "['@Vestas']"
      ]
     },
     "execution_count": 21,
     "metadata": {},
     "output_type": "execute_result"
    }
   ],
   "source": [
    "users"
   ]
  },
  {
   "cell_type": "code",
   "execution_count": 22,
   "metadata": {},
   "outputs": [
    {
     "name": "stdout",
     "output_type": "stream",
     "text": [
      "<Response [200]>\n"
     ]
    }
   ],
   "source": [
    "tweet_available_count = compute_max_tweets(BEARER_TOKEN)"
   ]
  },
  {
   "cell_type": "code",
   "execution_count": 23,
   "metadata": {},
   "outputs": [
    {
     "data": {
      "text/plain": [
       "6770"
      ]
     },
     "execution_count": 23,
     "metadata": {},
     "output_type": "execute_result"
    }
   ],
   "source": [
    "tweet_available_count"
   ]
  },
  {
   "cell_type": "code",
   "execution_count": 24,
   "metadata": {},
   "outputs": [],
   "source": [
    "# fetching the user \n",
    "user = client.get_user(username=users[0].replace('@', '')) "
   ]
  },
  {
   "cell_type": "code",
   "execution_count": 25,
   "metadata": {},
   "outputs": [
    {
     "data": {
      "text/plain": [
       "Response(data=<User id=156646851 name=Vestas Wind Systems username=Vestas>, includes={}, errors=[], meta={})"
      ]
     },
     "execution_count": 25,
     "metadata": {},
     "output_type": "execute_result"
    }
   ],
   "source": [
    "user"
   ]
  },
  {
   "cell_type": "code",
   "execution_count": 72,
   "metadata": {},
   "outputs": [
    {
     "name": "stdout",
     "output_type": "stream",
     "text": [
      "retrieving tweets from IKEA timeline\n",
      "==> processing 100 to 200 of IKEA's tweets\n",
      "END IKEA: finished retrieving tweets from IKEA timeline\n",
      "\n",
      "[{'edit_history_tweet_ids': [1734558879097209152], 'id': 1734558879097209152, 'text': \"Inspired by the vibrant 60s and 70s, we're revisiting bold patterns and optimistic shapes with a modern twist in the third part of our Nytillverkad collection. Tap to read more ➡️ https://t.co/SWh5afotYh https://t.co/KulJ2IcT5x\"}, {'edit_history_tweet_ids': [1729470262431678967], 'id': 1729470262431678967, 'text': \"Say hej to VALLHORN, PARASOLL and BADRING ✨ Tap to read how our three new smart sensors help you monitor and stay connected to your home, so you'll have peace of mind, even when you're away ➡️ https://t.co/MEnRyxVSMp https://t.co/OOi86ezqGF\"}, {'edit_history_tweet_ids': [1727960308096934259], 'id': 1727960308096934259, 'text': 'With the right spare parts, you can extend the lifespan of your furniture. We offer over 4,000 assembly spare parts on https://t.co/OUxYFTT0wi for free, so you can enjoy your furniture for longer. Read more: https://t.co/btU8dAacDp\\n#keepgoodthingsgoing #greenfriday https://t.co/sZch0aGs2n'}, {'edit_history_tweet_ids': [1716349400245485754], 'id': 1716349400245485754, 'text': \"It's the start of #IKEAFOUNDATIONWEEK23, and the @IKEAFoundation  is celebrating the work of some of their partners in creating a better life for the many.\\n#PeopleAndPlanet https://t.co/5FAeydbSng\"}, {'edit_history_tweet_ids': [1712422873170669785], 'id': 1712422873170669785, 'text': \"FY23 continues to be a challenging year for many, with high inflation rates and cost of living. Tap to read how we're continuing to improve affordability for the many people while growing our business in our total IKEA sales release ➡️ https://t.co/w4CkARe5h8 https://t.co/pFKaL9qj3G\"}, {'edit_history_tweet_ids': [1709569127017320539], 'id': 1709569127017320539, 'text': 'Today, we pledge our first patent to make the IKEA Anchor and Unlock innovation available to others. Read how this new feature aims to reduce tip-over risks, an important milestone on our innovation journey on furniture stability ➡ https://t.co/OVpe1x0jzT https://t.co/D0gfE7EhpA'}, {'edit_history_tweet_ids': [1707455525540007952], 'id': 1707455525540007952, 'text': 'Hej Bogotá 👋 We are opening our first store in Colombia today, offering more than\\xa026000m2\\xa0of home inspiration for the many to explore: https://t.co/0CIJbrvwaU'}, {'edit_history_tweet_ids': [1706956911805923676], 'id': 1706956911805923676, 'text': \"We're bringing back some design favourites from our archive into the future. Explore the second part of our Nytillverkad collection and tap to read more about it here: https://t.co/5XytpKuBtc https://t.co/vUGfY8nwp8\"}, {'edit_history_tweet_ids': [1706217081178304715], 'id': 1706217081178304715, 'text': 'Reach for the stars 🌟 with our new AFTONSPARV collection. This space-inspired collection brings the wonders of outer space fueled by imagination. Tap to read about this inter-galactic adventure here: https://t.co/kmcRD0Pzq5 https://t.co/WZJIbDxMyV'}, {'edit_history_tweet_ids': [1701551232844779777], 'id': 1701551232844779777, 'text': \"In the next 2.5 years, we'll focus on three main areas - just transition and children's rights, family-friendly policies, diversity and inclusion, and children's rights in a digital world. Read more about our view on children's rights here: https://t.co/m4VrSl8w3H\"}, {'edit_history_tweet_ids': [1701551230118441252], 'id': 1701551230118441252, 'text': \"We're taking the next step in our long-standing relationship with @UNICEF to place children's rights at the centre as a responsible business and actively promote and advocate for them.\"}, {'edit_history_tweet_ids': [1694723770630750546], 'id': 1694723770630750546, 'text': 'Hej IKEA Scarborough 👋 Congratulations on the second IKEA city store in Toronto! Here, we welcome 150+ more co-workers to the IKEA family. Come explore the Swedish Deli, collect online orders or explore the 7,500 sqm of home inspiration. Welcome! https://t.co/lOahLnQnBH'}, {'edit_history_tweet_ids': [1694611825969569875], 'id': 1694611825969569875, 'text': 'RT @IKEAUSANews: Hej, SF neighbors — today’s the day! Pop by our city format store at 945 Market Street for games, workshops, giveaways, an…'}, {'edit_history_tweet_ids': [1691797761354531202], 'id': 1691797761354531202, 'text': 'Hej Copenhagen 👋 Today we are happy to welcome customers to a new city store downtown. The capital of Denmark now joins the ranks of Rome, Madrid and Stockholm, where we have recently opened new stores in city centers. Welcome! https://t.co/E7FTkLxgdl'}, {'edit_history_tweet_ids': [1674734814249865219], 'id': 1674734814249865219, 'text': \"Meet the newest member of our hot dog family, a plant-based twist on our iconic hot dog. With great taste and texture, it's the latest, innovative addition to the family of plant-based products at IKEA. Read more here: https://t.co/E0B08wdpDF https://t.co/lzhnhCRtIH\"}, {'edit_history_tweet_ids': [1671090541054885892], 'id': 1671090541054885892, 'text': 'It’s time to hear the less spoken side of refugees, time to dispel the myths and discover the truth. Meet Zahra and Tarek from Syria, Nataliia and Yevheniia from Ukraine, Edgar from Venezuela, and Hassan from Sudan. https://t.co/A4gcByrdAB #takingbackthenarrative #worldrefugeeday https://t.co/TR7pd7Msol'}, {'edit_history_tweet_ids': [1666798696158343168], 'id': 1666798696158343168, 'text': 'Hej Romania and IKEA Timișoara 👋 Our newest blue box will double our capacity to serve online orders for customers in Romania – and it is both eWIND and BREEAM certified. We’re looking forward to meeting the many people in Timișoara and neighbouring regions! https://t.co/wDeXeqPLC8'}, {'edit_history_tweet_ids': [1666037217607729155], 'id': 1666037217607729155, 'text': 'We are happy to share that IKEA has acquired a stake in NILO, a deep tech company that has developed and patented a plastic waste-derived adhesive for wood-based boards. Read more: https://t.co/n43GcoOtT8'}, {'edit_history_tweet_ids': [1664257699972825088], 'id': 1664257699972825088, 'text': 'Applications for IKEA Artist in Residence: Mentorship with Annie Leibovitz are now open! Calling all photographers between 18-25 who would like to learn about Life at Home through American photographer @annieleibovitz and IKEA. https://t.co/tqfcGBZjFl https://t.co/mLYWHVuVmA'}, {'edit_history_tweet_ids': [1661779199433093132], 'id': 1661779199433093132, 'text': 'RT @IKEASverige: Over 50 years ago, we inaugurated our first #IKEA store in Kållered, Gothenburg. Today it was time again when the new IKEA…'}, {'edit_history_tweet_ids': [1656628986691170304], 'id': 1656628986691170304, 'text': 'Celebrate traditional artisanal craftsmanship with our new collection, MÄVINN. This handmade collection is made in collaboration with seven social businesses, creating jobs and empowering local communities. To learn more ➡️ https://t.co/7D0FmkssXF https://t.co/tL4DlbP21b'}, {'edit_history_tweet_ids': [1653293258968006657], 'id': 1653293258968006657, 'text': \"We're grateful to have known and worked with him, and his creative mind and skillful artistry will continue to inspire us. Our thoughts and condolences go out to his family, friends, and colleagues.\"}, {'edit_history_tweet_ids': [1653293255923056643], 'id': 1653293255923056643, 'text': 'We are saddened by the passing of Noboru Nakamura, our much-appreciated colleague, for many years. His legacy is a significant part of our design history, with outstanding contributions to iconic products like the KLIPPAN sofa and the POEM/POÄNG armchair. https://t.co/pYbQoamNX8'}, {'edit_history_tweet_ids': [1649032692497874944], 'id': 1649032692497874944, 'text': 'RT @IKEAUSANews: IKEA is committed to growth and finding innovative solutions to create a better everyday life for the many people, which i…'}, {'edit_history_tweet_ids': [1647887741240188928], 'id': 1647887741240188928, 'text': \"Introducing Nytillverkad, our newest collection celebrating our 80th anniversary. We've refreshed design classics from our archives for the future. Learn more here: https://t.co/q2m4jEqZfe\\n#IKEA #Nytillverkad https://t.co/afj11BQmzo\"}, {'edit_history_tweet_ids': [1646848524749766658], 'id': 1646848524749766658, 'text': \"We'll be at the Milan Design Week from 17 to 23 April to reveal our newest collection and much more. Join us as we journey together through time and explore the future. Stay tuned. #IKEA #IKEAdesignweek https://t.co/xaIF4mu8Az\"}, {'edit_history_tweet_ids': [1646423210185879552], 'id': 1646423210185879552, 'text': 'In close cooperation with @UNHCR, we have provided over 850,000 home furnishing products to support people forced to leave their homes and hometowns. Learn more about our ongoing collaboration here: https://t.co/h8KDVHEeU5'}, {'edit_history_tweet_ids': [1641032548418478080], 'id': 1641032548418478080, 'text': 'Say hej to SAMMANLÄNKAD, a new collection of LED solar-powered lighting created in collaboration with @littlesunorg that explores solar energy at home. Read more: https://t.co/NJ8z9utbq9 https://t.co/TGPinWgE8Y'}, {'edit_history_tweet_ids': [1638927432177647616], 'id': 1638927432177647616, 'text': \"Hej Rome Fiumicino 👋🏼! We're excited to welcome you to the IKEA family with the opening of our first city store in Italy. Come to find support for all your IKEA needs and explore our Swedish Deli. See you soon! https://t.co/YuJyCz1C8c\"}, {'edit_history_tweet_ids': [1638875875360882689], 'id': 1638875875360882689, 'text': \"Every drop of water saved matters 🚰 We're proud to be a founding member of the @50L Home Coalition, which focuses on water-saving efforts to make 50L of daily water use per person possible. https://t.co/H2SefbhHsG\"}, {'edit_history_tweet_ids': [1636336520981258241], 'id': 1636336520981258241, 'text': 'Elevate your shower-singing game with our new waterproof VAPPEBY Bluetooth speaker 🎶 This addition to our Bluetooth speaker range is designed to be dust and waterproof so you can enjoy sound experiences from anywhere. Read more here: https://t.co/wRdyeeIEOn https://t.co/YGWClW3UGv'}, {'edit_history_tweet_ids': [1633044822809346048], 'id': 1633044822809346048, 'text': \"We're shifting from road to one of Europe's longest rail distances to transport our products. This move will reduce 4,500 trucks on the roads, decrease fossil fuel use, and lower CO2 emissions by 5,100 tons per year. Read more here: https://t.co/OBNVU1Dx6c\"}, {'edit_history_tweet_ids': [1631565925483786240], 'id': 1631565925483786240, 'text': 'RT @Canopyplanet: Hold on to your SVARTKLINT! Iconic home retailer @IKEA is joining our CanopyStyle initiative, committing to ensuring that…'}, {'edit_history_tweet_ids': [1630919803618615297], 'id': 1630919803618615297, 'text': \"Today, 5% of the total IKEA climate footprint is connected to glue usage in board materials. Now, we're switching from fossil-based to bio-based glues to reduce greenhouse gas emissions. Tap here to learn more ➡️ https://t.co/UkaBqz9zqj\"}, {'edit_history_tweet_ids': [1627624124561457155], 'id': 1627624124561457155, 'text': \"With four key focuses - a positive impact on the environment, decent and meaningful work for workers, promotion of children's rights and animal welfare, read how we create a more sustainable value chain through IWAY here ➡️ https://t.co/QhWa3m0CoP\"}, {'edit_history_tweet_ids': [1627624119872126977], 'id': 1627624119872126977, 'text': 'IWAY is the IKEA way of ensuring that our suppliers and we are doing the right things throughout the supply chain regarding social and environmental conditions. https://t.co/cRNVGAVpg3'}, {'edit_history_tweet_ids': [1627624110326009858], 'id': 1627624110326009858, 'text': 'We interact with many suppliers and service providers when producing furniture or transporting products, so we must ensure the people involved are treated well. https://t.co/eCmug4wpQH'}, {'edit_history_tweet_ids': [1625832437967163392], 'id': 1625832437967163392, 'text': 'RT @Tolga1Oncu: 3.8B visits to https://t.co/T0nxspMGi7, 680M visits to @IKEA stores and 110K pieces of old IKEA furniture returned on #BuyB…'}, {'edit_history_tweet_ids': [1625782131958898688], 'id': 1625782131958898688, 'text': \"A key contributor to the decrease in climate footprint is the increased share of renewable electricity. So we're expanding the renewable electricity programme to suppliers in ten additional markets to speed this up. Read more here https://t.co/zYsg2iU1Fx\"}, {'edit_history_tweet_ids': [1625782126078488576], 'id': 1625782126078488576, 'text': 'We continue to see a decrease in the IKEA climate footprint and are making progress towards our 2030 sustainability commitments. The IKEA Sustainability Report FY22 and the IKEA Climate Report FY22 are available here ➡️ https://t.co/B2RKQcREe0 https://t.co/ZcCbNO24ch'}, {'edit_history_tweet_ids': [1625480000932614147], 'id': 1625480000932614147, 'text': 'Did you know those small everyday activities like cooking and cleaning can affect indoor air quality in your home? Tap to read how VINDSTYRKA, our air quality sensor allows you to measure and monitor levels of indoor air pollution ➡️ https://t.co/IsMj3ZVney https://t.co/r8OeQO5PqC'}, {'edit_history_tweet_ids': [1625091358791802880], 'id': 1625091358791802880, 'text': 'As the devastating impact of the earthquakes in Türkiye and Syria grows, our friends at @IKEAFoundation have donated €10M, funding 5,000 emergency shelters from @Better_Shelter, supporting 20,000+ affected with temporary homes. https://t.co/wwkQtrcnom'}, {'edit_history_tweet_ids': [1618612340894863362], 'id': 1618612340894863362, 'text': 'Inspired by our research, she will be turning her camera lens to life at home around the world as our very first IKEA Artist in Residence.\\u202f \\n\\nFind out more: https://t.co/f5vrGx3mkc'}, {'edit_history_tweet_ids': [1618612335660371969], 'id': 1618612335660371969, 'text': 'The latest IKEA Life at Home Report is out, and so is the news that we’re collaborating with the iconic photographer Annie Leibovitz. https://t.co/gILJhDz8VC https://t.co/E4q9gJyrsl'}, {'edit_history_tweet_ids': [1618594617150111745], 'id': 1618594617150111745, 'text': 'Wood is a remarkable material and plays an essential role in our range, and today we are launching a new wood &amp; forestry webpage to show where our suppliers sourced wood from in FY22. Tap the link to learn more ➡️ https://t.co/vTPrghixiA https://t.co/hwFEv60wHT'}, {'edit_history_tweet_ids': [1612715097956270080], 'id': 1612715097956270080, 'text': 'Only 6 in 10 of us feel like our home reflects who we are. Find out more from the latest IKEA Life at Home Report: https://t.co/0vJtkvS5dt #MakeYourselfAtHome https://t.co/oRGPgFep6c'}]\n"
     ]
    }
   ],
   "source": [
    "import datetime\n",
    "print(f\"retrieving tweets from {user.data.username} timeline\")\n",
    "user_id = user.data.id\n",
    "responses = tweepy.Paginator(client.get_users_tweets, user_id, start_time = datetime.datetime(year=2023, month=1, day=1, hour = 0, minute = 0), end_time = datetime.datetime(year=2023, month=12, day=31, hour=23, minute=59), max_results=100, limit=5)\n",
    "counter = 0\n",
    "tweet_dict = {}\n",
    "i=0\n",
    "for response in responses:\n",
    "    counter += 1\n",
    "    print(f\"==> processing {counter * 100} to {(counter + 1) * 100} of {user.data.username}'s tweets\")\n",
    "    try:\n",
    "        for tweet in response.data:  # see any individual tweet by id at: twitter.com/anyuser/status/TWEET_ID_HERE\n",
    "            tweet_dict[i] = (dict(tweet))\n",
    "            i+=1\n",
    "    except Exception as e:\n",
    "        print(e)\n",
    "print(f\"END {user.data.username}: finished retrieving tweets from {user.data.username} timeline\\n\")\n",
    "print(tweet_dict)"
   ]
  },
  {
   "cell_type": "code",
   "execution_count": 85,
   "metadata": {},
   "outputs": [
    {
     "data": {
      "text/plain": [
       "{0: {'edit_history_tweet_ids': [1734558879097209152],\n",
       "  'id': 1734558879097209152,\n",
       "  'text': \"Inspired by the vibrant 60s and 70s, we're revisiting bold patterns and optimistic shapes with a modern twist in the third part of our Nytillverkad collection. Tap to read more ➡️ https://t.co/SWh5afotYh https://t.co/KulJ2IcT5x\",\n",
       "  'user_id': 606342802},\n",
       " 1: {'edit_history_tweet_ids': [1729470262431678967],\n",
       "  'id': 1729470262431678967,\n",
       "  'text': \"Say hej to VALLHORN, PARASOLL and BADRING ✨ Tap to read how our three new smart sensors help you monitor and stay connected to your home, so you'll have peace of mind, even when you're away ➡️ https://t.co/MEnRyxVSMp https://t.co/OOi86ezqGF\",\n",
       "  'user_id': 606342802},\n",
       " 2: {'edit_history_tweet_ids': [1727960308096934259],\n",
       "  'id': 1727960308096934259,\n",
       "  'text': 'With the right spare parts, you can extend the lifespan of your furniture. We offer over 4,000 assembly spare parts on https://t.co/OUxYFTT0wi for free, so you can enjoy your furniture for longer. Read more: https://t.co/btU8dAacDp\\n#keepgoodthingsgoing #greenfriday https://t.co/sZch0aGs2n',\n",
       "  'user_id': 606342802},\n",
       " 3: {'edit_history_tweet_ids': [1716349400245485754],\n",
       "  'id': 1716349400245485754,\n",
       "  'text': \"It's the start of #IKEAFOUNDATIONWEEK23, and the @IKEAFoundation  is celebrating the work of some of their partners in creating a better life for the many.\\n#PeopleAndPlanet https://t.co/5FAeydbSng\",\n",
       "  'user_id': 606342802},\n",
       " 4: {'edit_history_tweet_ids': [1712422873170669785],\n",
       "  'id': 1712422873170669785,\n",
       "  'text': \"FY23 continues to be a challenging year for many, with high inflation rates and cost of living. Tap to read how we're continuing to improve affordability for the many people while growing our business in our total IKEA sales release ➡️ https://t.co/w4CkARe5h8 https://t.co/pFKaL9qj3G\",\n",
       "  'user_id': 606342802},\n",
       " 5: {'edit_history_tweet_ids': [1709569127017320539],\n",
       "  'id': 1709569127017320539,\n",
       "  'text': 'Today, we pledge our first patent to make the IKEA Anchor and Unlock innovation available to others. Read how this new feature aims to reduce tip-over risks, an important milestone on our innovation journey on furniture stability ➡ https://t.co/OVpe1x0jzT https://t.co/D0gfE7EhpA',\n",
       "  'user_id': 606342802},\n",
       " 6: {'edit_history_tweet_ids': [1707455525540007952],\n",
       "  'id': 1707455525540007952,\n",
       "  'text': 'Hej Bogotá 👋 We are opening our first store in Colombia today, offering more than\\xa026000m2\\xa0of home inspiration for the many to explore: https://t.co/0CIJbrvwaU',\n",
       "  'user_id': 606342802},\n",
       " 7: {'edit_history_tweet_ids': [1706956911805923676],\n",
       "  'id': 1706956911805923676,\n",
       "  'text': \"We're bringing back some design favourites from our archive into the future. Explore the second part of our Nytillverkad collection and tap to read more about it here: https://t.co/5XytpKuBtc https://t.co/vUGfY8nwp8\",\n",
       "  'user_id': 606342802},\n",
       " 8: {'edit_history_tweet_ids': [1706217081178304715],\n",
       "  'id': 1706217081178304715,\n",
       "  'text': 'Reach for the stars 🌟 with our new AFTONSPARV collection. This space-inspired collection brings the wonders of outer space fueled by imagination. Tap to read about this inter-galactic adventure here: https://t.co/kmcRD0Pzq5 https://t.co/WZJIbDxMyV',\n",
       "  'user_id': 606342802},\n",
       " 9: {'edit_history_tweet_ids': [1701551232844779777],\n",
       "  'id': 1701551232844779777,\n",
       "  'text': \"In the next 2.5 years, we'll focus on three main areas - just transition and children's rights, family-friendly policies, diversity and inclusion, and children's rights in a digital world. Read more about our view on children's rights here: https://t.co/m4VrSl8w3H\",\n",
       "  'user_id': 606342802},\n",
       " 10: {'edit_history_tweet_ids': [1701551230118441252],\n",
       "  'id': 1701551230118441252,\n",
       "  'text': \"We're taking the next step in our long-standing relationship with @UNICEF to place children's rights at the centre as a responsible business and actively promote and advocate for them.\",\n",
       "  'user_id': 606342802},\n",
       " 11: {'edit_history_tweet_ids': [1694723770630750546],\n",
       "  'id': 1694723770630750546,\n",
       "  'text': 'Hej IKEA Scarborough 👋 Congratulations on the second IKEA city store in Toronto! Here, we welcome 150+ more co-workers to the IKEA family. Come explore the Swedish Deli, collect online orders or explore the 7,500 sqm of home inspiration. Welcome! https://t.co/lOahLnQnBH',\n",
       "  'user_id': 606342802},\n",
       " 12: {'edit_history_tweet_ids': [1694611825969569875],\n",
       "  'id': 1694611825969569875,\n",
       "  'text': 'RT @IKEAUSANews: Hej, SF neighbors — today’s the day! Pop by our city format store at 945 Market Street for games, workshops, giveaways, an…',\n",
       "  'user_id': 606342802},\n",
       " 13: {'edit_history_tweet_ids': [1691797761354531202],\n",
       "  'id': 1691797761354531202,\n",
       "  'text': 'Hej Copenhagen 👋 Today we are happy to welcome customers to a new city store downtown. The capital of Denmark now joins the ranks of Rome, Madrid and Stockholm, where we have recently opened new stores in city centers. Welcome! https://t.co/E7FTkLxgdl',\n",
       "  'user_id': 606342802},\n",
       " 14: {'edit_history_tweet_ids': [1674734814249865219],\n",
       "  'id': 1674734814249865219,\n",
       "  'text': \"Meet the newest member of our hot dog family, a plant-based twist on our iconic hot dog. With great taste and texture, it's the latest, innovative addition to the family of plant-based products at IKEA. Read more here: https://t.co/E0B08wdpDF https://t.co/lzhnhCRtIH\",\n",
       "  'user_id': 606342802},\n",
       " 15: {'edit_history_tweet_ids': [1671090541054885892],\n",
       "  'id': 1671090541054885892,\n",
       "  'text': 'It’s time to hear the less spoken side of refugees, time to dispel the myths and discover the truth. Meet Zahra and Tarek from Syria, Nataliia and Yevheniia from Ukraine, Edgar from Venezuela, and Hassan from Sudan. https://t.co/A4gcByrdAB #takingbackthenarrative #worldrefugeeday https://t.co/TR7pd7Msol',\n",
       "  'user_id': 606342802},\n",
       " 16: {'edit_history_tweet_ids': [1666798696158343168],\n",
       "  'id': 1666798696158343168,\n",
       "  'text': 'Hej Romania and IKEA Timișoara 👋 Our newest blue box will double our capacity to serve online orders for customers in Romania – and it is both eWIND and BREEAM certified. We’re looking forward to meeting the many people in Timișoara and neighbouring regions! https://t.co/wDeXeqPLC8',\n",
       "  'user_id': 606342802},\n",
       " 17: {'edit_history_tweet_ids': [1666037217607729155],\n",
       "  'id': 1666037217607729155,\n",
       "  'text': 'We are happy to share that IKEA has acquired a stake in NILO, a deep tech company that has developed and patented a plastic waste-derived adhesive for wood-based boards. Read more: https://t.co/n43GcoOtT8',\n",
       "  'user_id': 606342802},\n",
       " 18: {'edit_history_tweet_ids': [1664257699972825088],\n",
       "  'id': 1664257699972825088,\n",
       "  'text': 'Applications for IKEA Artist in Residence: Mentorship with Annie Leibovitz are now open! Calling all photographers between 18-25 who would like to learn about Life at Home through American photographer @annieleibovitz and IKEA. https://t.co/tqfcGBZjFl https://t.co/mLYWHVuVmA',\n",
       "  'user_id': 606342802},\n",
       " 19: {'edit_history_tweet_ids': [1661779199433093132],\n",
       "  'id': 1661779199433093132,\n",
       "  'text': 'RT @IKEASverige: Over 50 years ago, we inaugurated our first #IKEA store in Kållered, Gothenburg. Today it was time again when the new IKEA…',\n",
       "  'user_id': 606342802},\n",
       " 20: {'edit_history_tweet_ids': [1656628986691170304],\n",
       "  'id': 1656628986691170304,\n",
       "  'text': 'Celebrate traditional artisanal craftsmanship with our new collection, MÄVINN. This handmade collection is made in collaboration with seven social businesses, creating jobs and empowering local communities. To learn more ➡️ https://t.co/7D0FmkssXF https://t.co/tL4DlbP21b',\n",
       "  'user_id': 606342802},\n",
       " 21: {'edit_history_tweet_ids': [1653293258968006657],\n",
       "  'id': 1653293258968006657,\n",
       "  'text': \"We're grateful to have known and worked with him, and his creative mind and skillful artistry will continue to inspire us. Our thoughts and condolences go out to his family, friends, and colleagues.\",\n",
       "  'user_id': 606342802},\n",
       " 22: {'edit_history_tweet_ids': [1653293255923056643],\n",
       "  'id': 1653293255923056643,\n",
       "  'text': 'We are saddened by the passing of Noboru Nakamura, our much-appreciated colleague, for many years. His legacy is a significant part of our design history, with outstanding contributions to iconic products like the KLIPPAN sofa and the POEM/POÄNG armchair. https://t.co/pYbQoamNX8',\n",
       "  'user_id': 606342802},\n",
       " 23: {'edit_history_tweet_ids': [1649032692497874944],\n",
       "  'id': 1649032692497874944,\n",
       "  'text': 'RT @IKEAUSANews: IKEA is committed to growth and finding innovative solutions to create a better everyday life for the many people, which i…',\n",
       "  'user_id': 606342802},\n",
       " 24: {'edit_history_tweet_ids': [1647887741240188928],\n",
       "  'id': 1647887741240188928,\n",
       "  'text': \"Introducing Nytillverkad, our newest collection celebrating our 80th anniversary. We've refreshed design classics from our archives for the future. Learn more here: https://t.co/q2m4jEqZfe\\n#IKEA #Nytillverkad https://t.co/afj11BQmzo\",\n",
       "  'user_id': 606342802},\n",
       " 25: {'edit_history_tweet_ids': [1646848524749766658],\n",
       "  'id': 1646848524749766658,\n",
       "  'text': \"We'll be at the Milan Design Week from 17 to 23 April to reveal our newest collection and much more. Join us as we journey together through time and explore the future. Stay tuned. #IKEA #IKEAdesignweek https://t.co/xaIF4mu8Az\",\n",
       "  'user_id': 606342802},\n",
       " 26: {'edit_history_tweet_ids': [1646423210185879552],\n",
       "  'id': 1646423210185879552,\n",
       "  'text': 'In close cooperation with @UNHCR, we have provided over 850,000 home furnishing products to support people forced to leave their homes and hometowns. Learn more about our ongoing collaboration here: https://t.co/h8KDVHEeU5',\n",
       "  'user_id': 606342802},\n",
       " 27: {'edit_history_tweet_ids': [1641032548418478080],\n",
       "  'id': 1641032548418478080,\n",
       "  'text': 'Say hej to SAMMANLÄNKAD, a new collection of LED solar-powered lighting created in collaboration with @littlesunorg that explores solar energy at home. Read more: https://t.co/NJ8z9utbq9 https://t.co/TGPinWgE8Y',\n",
       "  'user_id': 606342802},\n",
       " 28: {'edit_history_tweet_ids': [1638927432177647616],\n",
       "  'id': 1638927432177647616,\n",
       "  'text': \"Hej Rome Fiumicino 👋🏼! We're excited to welcome you to the IKEA family with the opening of our first city store in Italy. Come to find support for all your IKEA needs and explore our Swedish Deli. See you soon! https://t.co/YuJyCz1C8c\",\n",
       "  'user_id': 606342802},\n",
       " 29: {'edit_history_tweet_ids': [1638875875360882689],\n",
       "  'id': 1638875875360882689,\n",
       "  'text': \"Every drop of water saved matters 🚰 We're proud to be a founding member of the @50L Home Coalition, which focuses on water-saving efforts to make 50L of daily water use per person possible. https://t.co/H2SefbhHsG\",\n",
       "  'user_id': 606342802},\n",
       " 30: {'edit_history_tweet_ids': [1636336520981258241],\n",
       "  'id': 1636336520981258241,\n",
       "  'text': 'Elevate your shower-singing game with our new waterproof VAPPEBY Bluetooth speaker 🎶 This addition to our Bluetooth speaker range is designed to be dust and waterproof so you can enjoy sound experiences from anywhere. Read more here: https://t.co/wRdyeeIEOn https://t.co/YGWClW3UGv',\n",
       "  'user_id': 606342802},\n",
       " 31: {'edit_history_tweet_ids': [1633044822809346048],\n",
       "  'id': 1633044822809346048,\n",
       "  'text': \"We're shifting from road to one of Europe's longest rail distances to transport our products. This move will reduce 4,500 trucks on the roads, decrease fossil fuel use, and lower CO2 emissions by 5,100 tons per year. Read more here: https://t.co/OBNVU1Dx6c\",\n",
       "  'user_id': 606342802},\n",
       " 32: {'edit_history_tweet_ids': [1631565925483786240],\n",
       "  'id': 1631565925483786240,\n",
       "  'text': 'RT @Canopyplanet: Hold on to your SVARTKLINT! Iconic home retailer @IKEA is joining our CanopyStyle initiative, committing to ensuring that…',\n",
       "  'user_id': 606342802},\n",
       " 33: {'edit_history_tweet_ids': [1630919803618615297],\n",
       "  'id': 1630919803618615297,\n",
       "  'text': \"Today, 5% of the total IKEA climate footprint is connected to glue usage in board materials. Now, we're switching from fossil-based to bio-based glues to reduce greenhouse gas emissions. Tap here to learn more ➡️ https://t.co/UkaBqz9zqj\",\n",
       "  'user_id': 606342802},\n",
       " 34: {'edit_history_tweet_ids': [1627624124561457155],\n",
       "  'id': 1627624124561457155,\n",
       "  'text': \"With four key focuses - a positive impact on the environment, decent and meaningful work for workers, promotion of children's rights and animal welfare, read how we create a more sustainable value chain through IWAY here ➡️ https://t.co/QhWa3m0CoP\",\n",
       "  'user_id': 606342802},\n",
       " 35: {'edit_history_tweet_ids': [1627624119872126977],\n",
       "  'id': 1627624119872126977,\n",
       "  'text': 'IWAY is the IKEA way of ensuring that our suppliers and we are doing the right things throughout the supply chain regarding social and environmental conditions. https://t.co/cRNVGAVpg3',\n",
       "  'user_id': 606342802},\n",
       " 36: {'edit_history_tweet_ids': [1627624110326009858],\n",
       "  'id': 1627624110326009858,\n",
       "  'text': 'We interact with many suppliers and service providers when producing furniture or transporting products, so we must ensure the people involved are treated well. https://t.co/eCmug4wpQH',\n",
       "  'user_id': 606342802},\n",
       " 37: {'edit_history_tweet_ids': [1625832437967163392],\n",
       "  'id': 1625832437967163392,\n",
       "  'text': 'RT @Tolga1Oncu: 3.8B visits to https://t.co/T0nxspMGi7, 680M visits to @IKEA stores and 110K pieces of old IKEA furniture returned on #BuyB…',\n",
       "  'user_id': 606342802},\n",
       " 38: {'edit_history_tweet_ids': [1625782131958898688],\n",
       "  'id': 1625782131958898688,\n",
       "  'text': \"A key contributor to the decrease in climate footprint is the increased share of renewable electricity. So we're expanding the renewable electricity programme to suppliers in ten additional markets to speed this up. Read more here https://t.co/zYsg2iU1Fx\",\n",
       "  'user_id': 606342802},\n",
       " 39: {'edit_history_tweet_ids': [1625782126078488576],\n",
       "  'id': 1625782126078488576,\n",
       "  'text': 'We continue to see a decrease in the IKEA climate footprint and are making progress towards our 2030 sustainability commitments. The IKEA Sustainability Report FY22 and the IKEA Climate Report FY22 are available here ➡️ https://t.co/B2RKQcREe0 https://t.co/ZcCbNO24ch',\n",
       "  'user_id': 606342802},\n",
       " 40: {'edit_history_tweet_ids': [1625480000932614147],\n",
       "  'id': 1625480000932614147,\n",
       "  'text': 'Did you know those small everyday activities like cooking and cleaning can affect indoor air quality in your home? Tap to read how VINDSTYRKA, our air quality sensor allows you to measure and monitor levels of indoor air pollution ➡️ https://t.co/IsMj3ZVney https://t.co/r8OeQO5PqC',\n",
       "  'user_id': 606342802},\n",
       " 41: {'edit_history_tweet_ids': [1625091358791802880],\n",
       "  'id': 1625091358791802880,\n",
       "  'text': 'As the devastating impact of the earthquakes in Türkiye and Syria grows, our friends at @IKEAFoundation have donated €10M, funding 5,000 emergency shelters from @Better_Shelter, supporting 20,000+ affected with temporary homes. https://t.co/wwkQtrcnom',\n",
       "  'user_id': 606342802},\n",
       " 42: {'edit_history_tweet_ids': [1618612340894863362],\n",
       "  'id': 1618612340894863362,\n",
       "  'text': 'Inspired by our research, she will be turning her camera lens to life at home around the world as our very first IKEA Artist in Residence.\\u202f \\n\\nFind out more: https://t.co/f5vrGx3mkc',\n",
       "  'user_id': 606342802},\n",
       " 43: {'edit_history_tweet_ids': [1618612335660371969],\n",
       "  'id': 1618612335660371969,\n",
       "  'text': 'The latest IKEA Life at Home Report is out, and so is the news that we’re collaborating with the iconic photographer Annie Leibovitz. https://t.co/gILJhDz8VC https://t.co/E4q9gJyrsl',\n",
       "  'user_id': 606342802},\n",
       " 44: {'edit_history_tweet_ids': [1618594617150111745],\n",
       "  'id': 1618594617150111745,\n",
       "  'text': 'Wood is a remarkable material and plays an essential role in our range, and today we are launching a new wood &amp; forestry webpage to show where our suppliers sourced wood from in FY22. Tap the link to learn more ➡️ https://t.co/vTPrghixiA https://t.co/hwFEv60wHT',\n",
       "  'user_id': 606342802},\n",
       " 45: {'edit_history_tweet_ids': [1612715097956270080],\n",
       "  'id': 1612715097956270080,\n",
       "  'text': 'Only 6 in 10 of us feel like our home reflects who we are. Find out more from the latest IKEA Life at Home Report: https://t.co/0vJtkvS5dt #MakeYourselfAtHome https://t.co/oRGPgFep6c',\n",
       "  'user_id': 606342802}}"
      ]
     },
     "execution_count": 85,
     "metadata": {},
     "output_type": "execute_result"
    }
   ],
   "source": [
    "len(tweet_list)\n",
    "tweet_dict = {}\n",
    "for i, el in enumerate(tweet_list):\n",
    "    tweet_dict[i] = el\n",
    "    tweet_dict[i]['user_id'] = user.data.id\n",
    "tweet_dict"
   ]
  },
  {
   "cell_type": "code",
   "execution_count": null,
   "metadata": {},
   "outputs": [],
   "source": []
  }
 ],
 "metadata": {
  "kernelspec": {
   "display_name": "base",
   "language": "python",
   "name": "python3"
  },
  "language_info": {
   "codemirror_mode": {
    "name": "ipython",
    "version": 3
   },
   "file_extension": ".py",
   "mimetype": "text/x-python",
   "name": "python",
   "nbconvert_exporter": "python",
   "pygments_lexer": "ipython3",
   "version": "3.11.5"
  }
 },
 "nbformat": 4,
 "nbformat_minor": 2
}
