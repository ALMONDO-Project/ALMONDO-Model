{
 "cells": [
  {
   "cell_type": "code",
   "execution_count": 1,
   "metadata": {},
   "outputs": [],
   "source": [
    "from classes.simulator import ALMONDOSimulator\n",
    "from classes.almondoModel import AlmondoModel\n",
    "import networkx as nx\n",
    "import ndlib.models.ModelConfig as mc\n",
    "import json\n",
    "import numpy as np\n",
    "import os\n",
    "from tqdm import tqdm\n",
    "import matplotlib.pyplot as plt\n",
    "import random"
   ]
  },
  {
   "cell_type": "markdown",
   "metadata": {},
   "source": [
    "## Funzioni"
   ]
  },
  {
   "cell_type": "code",
   "execution_count": 2,
   "metadata": {},
   "outputs": [],
   "source": [
    "def create_strategies(n_lobbyists: int, lobbyists_data: dict, N: int, nruns: int, strategies_path:str):\n",
    "        \"\"\"\n",
    "        Generate and save strategies for the lobbyists.\n",
    "        \"\"\"\n",
    "        print('Creating strategies')\n",
    "\n",
    "        for id in range(n_lobbyists):\n",
    "            data = lobbyists_data[id]\n",
    "            B = data['B']\n",
    "            c = data['c']\n",
    "            folder = os.path.join(strategies_path, str(B))\n",
    "            os.makedirs(folder, exist_ok=True)\n",
    "            for run in range(nruns):\n",
    "                filename = f'strategy_{run}.txt'\n",
    "                path = os.path.join(folder, filename)\n",
    "                if not os.path.exists(path):\n",
    "                    inter_per_time = B // (c * 3000)\n",
    "                    matrix = np.zeros((3000, N), dtype=int)\n",
    "                    for t in range(3000):\n",
    "                        indices = np.random.choice(N, inter_per_time, replace=False)\n",
    "                        matrix[t, indices] = 1\n",
    "                    print('Saving strategy to file')\n",
    "                    np.savetxt(path, matrix, fmt=\"%i\")\n",
    "                else:\n",
    "                    continue\n",
    "        print('Strategies created')"
   ]
  },
  {
   "cell_type": "code",
   "execution_count": 3,
   "metadata": {},
   "outputs": [],
   "source": [
    "def read_random_strategy(strategies_path, B: int) -> tuple:\n",
    "        \"\"\"\n",
    "        Read a random strategy for a given B value.\n",
    "\n",
    "        Arguments:\n",
    "        - B: The B value associated with the lobbyist's strategy.\n",
    "\n",
    "        Returns:\n",
    "        - tuple: A tuple containing the strategy matrix and its filename.\n",
    "        \"\"\"\n",
    "        path = os.path.join(strategies_path, str(B))\n",
    "        strategy_name = random.choice(os.listdir(path))\n",
    "        filepath = os.path.join(path, strategy_name)\n",
    "        return np.loadtxt(filepath).astype(int), filepath"
   ]
  },
  {
   "cell_type": "markdown",
   "metadata": {},
   "source": [
    "## Parametri"
   ]
  },
  {
   "cell_type": "code",
   "execution_count": 4,
   "metadata": {},
   "outputs": [],
   "source": [
    "NLs = [0, 1, 2, 3, 4, 20] #number of lobbyists in the simulations\n",
    "params = {\n",
    "    'N': 500,\n",
    "    'p_o': 0.01,\n",
    "    'p_p': 0.99,\n",
    "    'initial_distribution': 'uniform',\n",
    "    'T': 10000,\n",
    "    'lambda_values': [0.5], #[0.0, 0.1, 0.2, 0.3, 0.4, 0.5, 0.6, 0.7, 0.8, 0.9, 1.0],\n",
    "    'phi_values': [0.0], # [0.0, 0.1, 0.2, 0.3, 0.4, 0.5, 0.6, 0.7, 0.8, 0.9, 1.0],\n",
    "    'base': 'results_tests'\n",
    "}    "
   ]
  },
  {
   "cell_type": "code",
   "execution_count": 5,
   "metadata": {},
   "outputs": [
    {
     "name": "stdout",
     "output_type": "stream",
     "text": [
      "performing simulations for balanced_budgets/2_lobbyists\n"
     ]
    }
   ],
   "source": [
    "nl = 2\n",
    "\n",
    "params['scenario'] = f'balanced_budgets/{nl}_lobbyists'\n",
    "params['n_lobbyists'] = nl\n",
    "\n",
    "if nl > 0:\n",
    "    params['lobbyists_data'] = dict()\n",
    "    for id in range(nl):\n",
    "        params['lobbyists_data'][id] = {'m': id%2, 'B': 300000, 'c': 1, 'strategies': [], 'T': 3000}    \n",
    "\n",
    "os.makedirs(params['base'], exist_ok=True)\n",
    "path = os.path.join(params['base'], params['scenario'])\n",
    "os.makedirs(path, exist_ok=True)\n",
    "\n",
    "with open(os.path.join(path, 'initial_config.json'), 'w') as f:\n",
    "    json.dump(params, f, indent=4)\n",
    "\n",
    "print(f'performing simulations for {params[\"scenario\"]}')"
   ]
  },
  {
   "cell_type": "markdown",
   "metadata": {},
   "source": [
    "## Simulator initialization"
   ]
  },
  {
   "cell_type": "code",
   "execution_count": 6,
   "metadata": {},
   "outputs": [
    {
     "name": "stdout",
     "output_type": "stream",
     "text": [
      "Creating strategies\n",
      "Saving strategy to file\n",
      "Strategies created\n"
     ]
    }
   ],
   "source": [
    "base_path = params['base']\n",
    "scenario_path = os.path.join(params['base'], params['scenario'])\n",
    "os.makedirs(base_path, exist_ok=True)\n",
    "os.makedirs(scenario_path, exist_ok=True)\n",
    "strategies_path = os.path.join(scenario_path, \"strategies\")\n",
    "os.makedirs(strategies_path, exist_ok=True)        \n",
    "\n",
    "N = params['N']\n",
    "graph = nx.complete_graph(N)  # Create a complete graph of N nodes\n",
    "p_o = params['p_o']\n",
    "p_p = params['p_p']\n",
    "lambdas = params['lambda_values']\n",
    "phis = params['phi_values']\n",
    "T = params['T']\n",
    "initial_distribution = params['initial_distribution']\n",
    "nruns = 1\n",
    "lobbyists_data = params['lobbyists_data']\n",
    "n_lobbyists = params['n_lobbyists']\n",
    "\n",
    "if n_lobbyists > 0:\n",
    "    create_strategies(n_lobbyists, lobbyists_data, N, nruns, strategies_path)  # Generate strategies for lobbyists if any exist"
   ]
  },
  {
   "cell_type": "markdown",
   "metadata": {},
   "source": [
    "## Create configuration in simulator"
   ]
  },
  {
   "cell_type": "code",
   "execution_count": 7,
   "metadata": {},
   "outputs": [
    {
     "name": "stdout",
     "output_type": "stream",
     "text": [
      "[(0.5, 0.0)]\n"
     ]
    }
   ],
   "source": [
    "parameters_pairs = ([(l, p) for l in lambdas for p in phis])\n",
    "print(parameters_pairs)"
   ]
  },
  {
   "cell_type": "code",
   "execution_count": 8,
   "metadata": {},
   "outputs": [
    {
     "name": "stdout",
     "output_type": "stream",
     "text": [
      "Creating configuration object\n",
      "Assigning p_o and p_p parameters\n",
      "p_o=0.01, p_p=0.99\n",
      "Assigning homogeneous lambda\n",
      "Assigning homogeneous phi\n",
      "Configuring model: assigning graph, parameters, and initial distribution of weights\n"
     ]
    }
   ],
   "source": [
    "lambda_v = parameters_pairs[0][0]\n",
    "phi_v = parameters_pairs[0][1]\n",
    "\n",
    "print('Creating configuration object')\n",
    "config = mc.Configuration()\n",
    "\n",
    "print('Assigning p_o and p_p parameters')\n",
    "config.add_model_parameter(\"p_o\", p_o)\n",
    "config.add_model_parameter(\"p_p\", p_p)\n",
    "print(f'p_o={p_o}, p_p={p_p}')\n",
    "\n",
    "# Configure lambda values for each agent\n",
    "if isinstance(lambda_v, list):\n",
    "    for i in graph.nodes():\n",
    "        config.add_node_configuration(\"lambda\", i, lambda_v[i])\n",
    "elif isinstance(lambda_v, float):\n",
    "    print('Assigning homogeneous lambda')\n",
    "    for i in graph.nodes():\n",
    "        config.add_node_configuration(\"lambda\", i, lambda_v)\n",
    "else:\n",
    "    raise ValueError(\"lambda_v must be a float or a list\")\n",
    "\n",
    "# Configure phi values for each agent\n",
    "if isinstance(phi_v, list):\n",
    "    for i in graph.nodes():\n",
    "        config.add_node_configuration(\"phi\", i, phi_v[i])\n",
    "elif isinstance(phi_v, float):\n",
    "    print('Assigning homogeneous phi')\n",
    "    for i in graph.nodes():\n",
    "        config.add_node_configuration(\"phi\", i, phi_v)\n",
    "else:\n",
    "    raise ValueError(\"phi_v must be a float or a list\")\n",
    "\n",
    "# Initialize the model with the graph and configuration\n",
    "print('Configuring model: assigning graph, parameters, and initial distribution of weights')\n",
    "model = AlmondoModel(graph)"
   ]
  },
  {
   "cell_type": "code",
   "execution_count": 9,
   "metadata": {},
   "outputs": [
    {
     "name": "stdout",
     "output_type": "stream",
     "text": [
      "Initial status set\n"
     ]
    }
   ],
   "source": [
    "model.set_initial_status(config, kind=initial_distribution)\n",
    "print('Initial status set')"
   ]
  },
  {
   "cell_type": "code",
   "execution_count": 10,
   "metadata": {},
   "outputs": [
    {
     "name": "stdout",
     "output_type": "stream",
     "text": [
      "[3.22686938e-01 6.94815453e-01 1.93771308e-01 3.04548083e-01\n",
      " 3.80054739e-01 2.89287014e-01 1.12798014e-01 3.28277100e-01\n",
      " 9.23540691e-01 5.75735370e-01 1.93626201e-02 7.18803973e-01\n",
      " 8.41723148e-02 3.11863686e-01 4.38515605e-02 1.89993770e-01\n",
      " 8.68739061e-01 7.93998492e-01 9.89773084e-02 8.13445058e-01\n",
      " 1.33102545e-01 6.33244382e-02 4.64866671e-01 1.78768534e-02\n",
      " 2.48455655e-01 1.00367698e-01 2.34908633e-01 9.71343635e-01\n",
      " 8.10880427e-05 1.21397421e-01 3.60348131e-01 9.24484568e-02\n",
      " 2.95586423e-01 6.39871199e-03 4.43275135e-01 6.89023335e-01\n",
      " 9.32291942e-01 8.06432407e-01 3.62213856e-01 3.91291052e-01\n",
      " 9.82320248e-01 5.84716964e-01 7.70758963e-01 5.55360868e-01\n",
      " 5.35756749e-01 4.75447631e-01 1.16228823e-01 5.87330762e-01\n",
      " 5.34093311e-01 7.02442264e-01 3.94427879e-01 8.61861065e-01\n",
      " 8.41345447e-01 9.07634399e-01 6.42638266e-01 2.38856038e-01\n",
      " 1.76179367e-01 7.51975181e-01 7.50665372e-01 4.22532586e-01\n",
      " 3.69265413e-01 5.75996173e-01 4.50592232e-01 6.45792273e-01\n",
      " 6.23491779e-02 1.37976747e-01 5.38886670e-02 3.74868678e-01\n",
      " 1.93131905e-01 1.63069139e-01 5.22025397e-01 4.29559048e-02\n",
      " 2.58062726e-02 5.53334411e-01 5.29346786e-01 5.43337685e-01\n",
      " 5.00059287e-01 6.62664556e-01 7.86173866e-01 9.24700758e-01\n",
      " 5.95362593e-01 7.02423525e-01 3.75452468e-01 4.50958117e-01\n",
      " 4.93126235e-02 6.93805294e-01 5.39240813e-01 7.06700498e-02\n",
      " 7.30835398e-01 7.59438079e-01 4.20337821e-01 8.75978329e-01\n",
      " 7.50573376e-01 9.55982939e-01 3.74256469e-01 2.86729398e-01\n",
      " 1.82473018e-01 2.75433524e-02 5.69801891e-01 7.36545937e-02\n",
      " 6.57324203e-01 3.00499173e-01 3.31660301e-01 9.70289767e-01\n",
      " 1.92648889e-01 6.96776657e-01 8.07293522e-01 4.56970633e-01\n",
      " 5.99823348e-01 7.21340623e-01 7.66666528e-01 7.99401569e-02\n",
      " 7.95167830e-01 4.05953602e-01 2.60678149e-01 4.81414916e-01\n",
      " 7.25199242e-01 6.92450491e-01 9.51034925e-01 3.30249785e-01\n",
      " 7.61682874e-01 2.78266089e-01 9.96022416e-01 2.14506439e-02\n",
      " 1.52543439e-01 3.98394128e-03 3.62776735e-01 9.94394421e-01\n",
      " 7.32520903e-01 6.40290653e-01 1.35537261e-01 6.49234191e-01\n",
      " 5.81477069e-01 5.79930698e-01 5.02180288e-01 6.33869277e-01\n",
      " 6.87182809e-01 6.13684724e-01 1.05556905e-01 1.70334310e-01\n",
      " 7.81701526e-01 6.22860475e-01 7.81405652e-01 9.80856700e-02\n",
      " 6.91684811e-01 4.61055417e-01 6.46440986e-01 6.61234554e-01\n",
      " 7.83619929e-01 7.08126039e-01 8.00949214e-01 6.89257379e-01\n",
      " 9.12633650e-01 1.57656075e-01 4.54051613e-01 3.66582430e-02\n",
      " 2.42998867e-01 4.68313821e-01 1.04797103e-01 8.88966612e-01\n",
      " 3.44797306e-01 7.22647451e-02 4.43736917e-01 8.11327781e-01\n",
      " 9.72649553e-01 7.20637719e-01 6.67017470e-01 7.85497774e-01\n",
      " 6.70720228e-01 8.71756048e-01 1.91350030e-01 5.41808776e-01\n",
      " 4.52347566e-01 2.70725737e-02 8.53421950e-01 8.24157793e-01\n",
      " 2.66467506e-01 5.34363184e-01 9.69450234e-01 9.40915754e-01\n",
      " 6.48846082e-01 7.94373727e-03 5.83062365e-01 6.06645849e-01\n",
      " 5.70264432e-01 3.55685129e-01 6.89120643e-01 6.37101567e-01\n",
      " 9.56229758e-01 5.10332475e-01 9.26385225e-01 7.43521069e-01\n",
      " 8.86355802e-01 8.13204641e-01 2.85405997e-01 5.99192038e-01\n",
      " 6.17149967e-01 2.14243108e-01 5.32088013e-01 6.63659712e-01\n",
      " 8.11755000e-01 1.34388762e-01 2.15624761e-01 6.55499471e-01\n",
      " 8.33452409e-01 9.72456395e-01 3.87689427e-01 3.35658272e-01\n",
      " 9.70679267e-01 7.32927348e-01 7.80637394e-01 7.18225486e-01\n",
      " 3.47525495e-01 6.25974731e-01 1.33131919e-01 9.36487239e-01\n",
      " 6.10856139e-01 3.54401270e-01 3.78763706e-01 8.05619488e-01\n",
      " 3.76054651e-01 3.84943011e-01 8.53963749e-01 1.26084996e-01\n",
      " 5.66032909e-01 4.75866613e-01 4.91892668e-01 1.26517940e-02\n",
      " 2.38226684e-01 8.73699184e-01 9.28841755e-01 5.58591287e-01\n",
      " 5.16865942e-01 6.06353087e-01 6.09487906e-01 7.24879809e-01\n",
      " 3.34851165e-01 6.83069884e-01 4.61500163e-01 7.40637288e-01\n",
      " 8.06278601e-01 6.47572250e-01 2.02887561e-01 7.46742278e-01\n",
      " 5.55098233e-01 8.35409201e-01 9.45119910e-01 9.66073777e-01\n",
      " 4.50787491e-01 4.63855314e-01 1.43695408e-01 9.77589882e-01\n",
      " 3.14570455e-01 9.51289666e-01 4.60936906e-01 7.33762272e-01\n",
      " 9.70220125e-01 5.60899193e-02 4.88826687e-02 8.84399496e-02\n",
      " 3.90003152e-01 2.40390477e-01 9.42735349e-01 7.17984679e-01\n",
      " 4.94247848e-01 9.28874893e-01 8.61450738e-01 6.84108776e-01\n",
      " 3.43291852e-01 2.27622584e-01 9.39066598e-01 2.49415082e-01\n",
      " 9.09892881e-01 8.23349212e-02 5.93296114e-01 2.81173388e-01\n",
      " 3.98940390e-01 5.77033331e-01 6.53706881e-01 7.85016510e-01\n",
      " 9.00487215e-01 1.67297196e-01 5.37067416e-01 6.71695959e-01\n",
      " 6.72423274e-01 5.35622939e-01 3.86823456e-01 1.68104745e-01\n",
      " 6.59413315e-01 3.50453202e-01 5.15155180e-01 3.55923112e-01\n",
      " 9.73182121e-01 3.09192067e-01 1.91175039e-01 6.04791056e-01\n",
      " 1.44574894e-01 6.10936243e-01 4.67115598e-01 2.69141063e-01\n",
      " 5.29543101e-01 9.15415645e-01 2.14803624e-01 3.96661589e-01\n",
      " 3.73365528e-01 8.46872753e-01 1.91246363e-01 9.89216279e-02\n",
      " 3.80126886e-01 8.60404144e-01 4.48765542e-01 8.94685259e-01\n",
      " 2.15338218e-02 6.20728822e-01 5.48415867e-01 2.10523961e-01\n",
      " 9.73286323e-01 2.37742342e-01 2.60193664e-01 4.30350083e-01\n",
      " 8.19745084e-01 2.92210810e-01 2.21181099e-01 1.77880072e-01\n",
      " 1.17733261e-01 3.41286778e-01 4.40423718e-01 7.26226623e-01\n",
      " 8.41741778e-01 4.88257099e-01 3.32229949e-01 4.46600153e-01\n",
      " 8.05052537e-01 1.57473579e-01 6.69952018e-01 8.79984607e-01\n",
      " 9.67112323e-01 4.57631941e-01 5.53048349e-01 3.87813297e-01\n",
      " 4.09099678e-01 5.26851989e-01 1.98977598e-01 5.76237913e-01\n",
      " 1.31339980e-01 3.75090657e-01 7.31777164e-01 5.47667879e-01\n",
      " 5.56277029e-01 3.33388743e-01 7.03511955e-01 4.27026754e-01\n",
      " 8.48612947e-01 8.19274106e-01 1.62024562e-01 9.40414520e-01\n",
      " 3.47311928e-01 8.09361037e-02 5.44032291e-01 7.99916446e-02\n",
      " 9.96550257e-01 3.19133507e-01 2.85090743e-01 6.76065993e-01\n",
      " 9.22784130e-01 3.57110225e-01 4.97948875e-01 1.35148586e-01\n",
      " 4.63125895e-01 1.46380224e-01 5.07124019e-01 7.73630905e-01\n",
      " 3.14696888e-01 3.29225637e-01 5.54285952e-01 1.13913242e-01\n",
      " 5.06705299e-01 5.50076941e-01 8.79241965e-01 4.17818785e-01\n",
      " 8.64584397e-01 8.64049893e-01 1.90328904e-01 4.40726996e-01\n",
      " 8.75568792e-01 4.48148780e-01 9.22440916e-01 4.54654682e-01\n",
      " 3.29310182e-01 3.23788131e-01 4.46215074e-01 6.17894021e-01\n",
      " 8.04766020e-01 6.89969923e-01 8.24584111e-01 4.73679033e-01\n",
      " 4.63914669e-01 7.49521777e-01 3.20752599e-01 8.49578127e-01\n",
      " 1.45156545e-01 6.37981065e-01 3.96619035e-01 3.63013254e-01\n",
      " 4.44969644e-01 1.96946376e-01 7.55218227e-01 2.80485190e-01\n",
      " 6.98730316e-01 5.07904864e-01 9.62221648e-01 2.68062931e-01\n",
      " 9.68345136e-01 8.47228376e-01 9.79599552e-01 9.12640919e-01\n",
      " 8.20645877e-01 5.35762547e-02 1.47621721e-01 3.10949309e-01\n",
      " 8.79737446e-01 1.03414440e-01 8.84291357e-01 1.08395119e-01\n",
      " 6.55873487e-01 1.20990477e-01 3.30144757e-01 5.98081612e-01\n",
      " 5.05296933e-01 5.04311714e-01 6.12551927e-01 9.64713418e-01\n",
      " 3.78731989e-01 4.21749643e-01 7.40711537e-01 9.51046959e-01\n",
      " 8.30151955e-01 2.01940481e-01 8.29087925e-01 8.91657559e-01\n",
      " 6.80297125e-01 1.27417078e-01 9.93032376e-01 2.47905401e-01\n",
      " 2.51511693e-01 9.18570246e-01 2.41003861e-01 4.99457770e-01\n",
      " 6.10137794e-01 4.20110603e-01 5.09146079e-01 7.45810140e-01\n",
      " 8.25910137e-02 4.89185840e-03 8.31729554e-01 8.60811278e-01\n",
      " 9.19357573e-01 3.31597276e-02 1.32373024e-01 6.34766937e-01\n",
      " 9.65771311e-01 2.76823359e-01 5.10929513e-01 8.66544465e-01\n",
      " 7.64323483e-01 1.56378953e-01 3.97221701e-01 6.67980332e-01\n",
      " 9.30088943e-01 7.02106016e-01 5.48570803e-01 5.18536651e-01\n",
      " 6.50294776e-01 3.68088687e-02 9.03442123e-01 3.21965846e-01\n",
      " 2.37816870e-01 7.08520388e-01 2.84161723e-01 6.09961503e-01\n",
      " 8.93185432e-01 1.67999152e-01 6.09128341e-01 4.92654515e-01\n",
      " 5.79205842e-01 5.16996849e-01 2.23458522e-01 5.26255143e-01\n",
      " 9.44659532e-01 2.61609657e-01 9.42329810e-01 6.06622599e-01\n",
      " 6.02556238e-01 4.75974079e-01 3.13415923e-01 2.42516179e-01\n",
      " 1.78820798e-01 3.44562084e-01 3.81212970e-02 7.52954442e-01]\n"
     ]
    }
   ],
   "source": [
    "print(model.status)"
   ]
  },
  {
   "cell_type": "code",
   "execution_count": 11,
   "metadata": {},
   "outputs": [
    {
     "data": {
      "image/png": "[encoded data removed]",
      "text/plain": [
       "<Figure size 640x480 with 1 Axes>"
      ]
     },
     "metadata": {},
     "output_type": "display_data"
    }
   ],
   "source": [
    "distrib = np.random.uniform(low=0, high=1, size=N)\n",
    "plt.hist(distrib, bins=10)\n",
    "plt.show()"
   ]
  },
  {
   "cell_type": "markdown",
   "metadata": {},
   "source": [
    "#### La funzione iniziale su 100 run genera distribuzioni con media 0.5?"
   ]
  },
  {
   "cell_type": "code",
   "execution_count": null,
   "metadata": {},
   "outputs": [],
   "source": [
    "avg_ops = []\n",
    "\n",
    "for _ in range(100):\n",
    "    distrib = np.random.uniform(0, 1, N)\n",
    "    avg_opinion = np.mean(distrib)\n",
    "    print(avg_opinion)\n",
    "    avg_ops.append(avg_opinion)\n",
    "\n",
    "sum(avg_ops)/len(avg_ops)"
   ]
  },
  {
   "cell_type": "code",
   "execution_count": null,
   "metadata": {},
   "outputs": [],
   "source": [
    "print(model.lambdas)"
   ]
  },
  {
   "cell_type": "code",
   "execution_count": null,
   "metadata": {},
   "outputs": [],
   "source": [
    "print(model.phis)"
   ]
  },
  {
   "cell_type": "code",
   "execution_count": 12,
   "metadata": {},
   "outputs": [
    {
     "name": "stdout",
     "output_type": "stream",
     "text": [
      "[]\n"
     ]
    }
   ],
   "source": [
    "print(model.lobbyists)"
   ]
  },
  {
   "cell_type": "code",
   "execution_count": 13,
   "metadata": {},
   "outputs": [
    {
     "name": "stdout",
     "output_type": "stream",
     "text": [
      "[]\n"
     ]
    }
   ],
   "source": [
    "print(model.system_status)"
   ]
  },
  {
   "cell_type": "code",
   "execution_count": 14,
   "metadata": {},
   "outputs": [
    {
     "name": "stdout",
     "output_type": "stream",
     "text": [
      "Assign strategies to lobbyists if any\n"
     ]
    },
    {
     "name": "stderr",
     "output_type": "stream",
     "text": [
      " 50%|█████     | 1/2 [00:00<00:00,  6.15it/s]"
     ]
    },
    {
     "name": "stdout",
     "output_type": "stream",
     "text": [
      "300000\n",
      "300000\n"
     ]
    },
    {
     "name": "stderr",
     "output_type": "stream",
     "text": [
      "100%|██████████| 2/2 [00:00<00:00,  6.48it/s]"
     ]
    },
    {
     "name": "stdout",
     "output_type": "stream",
     "text": [
      "Configuration ended\n"
     ]
    },
    {
     "name": "stderr",
     "output_type": "stream",
     "text": [
      "\n"
     ]
    }
   ],
   "source": [
    "print('Assign strategies to lobbyists if any')\n",
    "if n_lobbyists > 0:\n",
    "    for id in tqdm(lobbyists_data):\n",
    "        data = lobbyists_data[id]\n",
    "        B = data['B']\n",
    "        print(B)\n",
    "        m = data['m']\n",
    "        matrix, name = read_random_strategy(strategies_path, B)\n",
    "        model.add_lobbyist(m, matrix)\n",
    "        lobbyists_data[id]['strategies'].append(name)\n",
    "\n",
    "print('Configuration ended')"
   ]
  },
  {
   "cell_type": "code",
   "execution_count": 15,
   "metadata": {},
   "outputs": [
    {
     "name": "stdout",
     "output_type": "stream",
     "text": [
      "[<classes.almondoModel.AlmondoModel.LobbyistAgent object at 0x00000239220D7B00>, <classes.almondoModel.AlmondoModel.LobbyistAgent object at 0x00000239221A3F50>]\n"
     ]
    }
   ],
   "source": [
    "print(model.lobbyists)"
   ]
  },
  {
   "cell_type": "code",
   "execution_count": 16,
   "metadata": {},
   "outputs": [
    {
     "data": {
      "image/png": "[encoded data removed]",
      "text/plain": [
       "<Figure size 640x480 with 1 Axes>"
      ]
     },
     "metadata": {},
     "output_type": "display_data"
    }
   ],
   "source": [
    "plt.hist(model.status)\n",
    "plt.show()"
   ]
  },
  {
   "cell_type": "code",
   "execution_count": 20,
   "metadata": {},
   "outputs": [],
   "source": [
    "system_status = []"
   ]
  },
  {
   "cell_type": "code",
   "execution_count": null,
   "metadata": {},
   "outputs": [],
   "source": [
    "actual_iteration = 0"
   ]
  },
  {
   "cell_type": "markdown",
   "metadata": {},
   "source": [
    "## Interazione con il lobbista"
   ]
  },
  {
   "cell_type": "code",
   "execution_count": 17,
   "metadata": {},
   "outputs": [
    {
     "data": {
      "text/plain": [
       "(array([40., 50., 39., 59., 46., 56., 61., 46., 50., 53.]),\n",
       " array([8.10880427e-05, 9.97280049e-02, 1.99374922e-01, 2.99021839e-01,\n",
       "        3.98668756e-01, 4.98315672e-01, 5.97962589e-01, 6.97609506e-01,\n",
       "        7.97256423e-01, 8.96903340e-01, 9.96550257e-01]),\n",
       " <BarContainer object of 10 artists>)"
      ]
     },
     "execution_count": 17,
     "metadata": {},
     "output_type": "execute_result"
    },
    {
     "data": {
      "image/png": "[encoded data removed]",
      "text/plain": [
       "<Figure size 640x480 with 1 Axes>"
      ]
     },
     "metadata": {},
     "output_type": "display_data"
    }
   ],
   "source": [
    "plt.hist(model.status)"
   ]
  },
  {
   "cell_type": "code",
   "execution_count": 18,
   "metadata": {},
   "outputs": [
    {
     "data": {
      "text/plain": [
       "0"
      ]
     },
     "execution_count": 18,
     "metadata": {},
     "output_type": "execute_result"
    }
   ],
   "source": [
    "model.actual_iteration"
   ]
  },
  {
   "cell_type": "code",
   "execution_count": 21,
   "metadata": {},
   "outputs": [],
   "source": [
    "model.actual_status = model.status.copy()\n",
    "\n",
    "if model.actual_iteration == 0:\n",
    "    model.actual_iteration += 1\n",
    "    its = {\"iteration\": 0, \"status\": {i: value for i, value in enumerate(model.actual_status)}}\n",
    "    system_status.append(its)\n",
    "\n",
    "p_o = model.params['model']['p_o']\n",
    "p_p = model.params['model']['p_p']"
   ]
  },
  {
   "cell_type": "code",
   "execution_count": 22,
   "metadata": {},
   "outputs": [
    {
     "data": {
      "image/png": "[encoded data removed]",
      "text/plain": [
       "<Figure size 640x480 with 1 Axes>"
      ]
     },
     "metadata": {},
     "output_type": "display_data"
    }
   ],
   "source": [
    "lobbyist_list = model.lobbyists.copy()\n",
    "                \n",
    "random.shuffle(lobbyist_list)\n",
    "\n",
    "if len(model.lobbyists) > 0:\n",
    "    for lobbyist in lobbyist_list:\n",
    "        if model.actual_iteration < lobbyist.max_t:\n",
    "            w = model.lupdate(model.actual_status, lobbyist, model.actual_iteration)\n",
    "\n",
    "model.actual_status = w.copy()\n",
    "\n",
    "plt.hist(model.actual_status, bins=30)\n",
    "plt.show()\n"
   ]
  },
  {
   "cell_type": "code",
   "execution_count": 23,
   "metadata": {},
   "outputs": [
    {
     "name": "stdout",
     "output_type": "stream",
     "text": [
      "[3.22686938e-01 6.94815453e-01 1.93771308e-01 3.04548083e-01\n",
      " 3.80054739e-01 2.89287014e-01 5.19598490e-01 3.28277100e-01\n",
      " 9.23540691e-01 7.84173420e-01 1.93626201e-02 7.18803973e-01\n",
      " 8.41723148e-02 3.11863686e-01 4.38515605e-02 5.74353882e-01\n",
      " 8.68739061e-01 8.95692327e-01 9.89773084e-02 8.13445058e-01\n",
      " 1.33102545e-01 4.66667616e-01 4.64866671e-01 3.30495922e-01\n",
      " 2.48455655e-01 5.08672708e-01 6.01528878e-01 9.71343635e-01\n",
      " 8.10880427e-05 1.21397421e-01 6.71366859e-01 9.24484568e-02\n",
      " 2.95586423e-01 6.39871199e-03 4.43275135e-01 8.42242569e-01\n",
      " 9.32291942e-01 8.06432407e-01 6.72369403e-01 6.87910294e-01\n",
      " 9.82320248e-01 5.84716964e-01 7.70758963e-01 5.55360868e-01\n",
      " 5.35756749e-01 4.75447631e-01 1.16228823e-01 5.87330762e-01\n",
      " 5.34093311e-01 7.02442264e-01 3.94427879e-01 8.61861065e-01\n",
      " 8.41345447e-01 9.07634399e-01 6.42638266e-01 2.38856038e-01\n",
      " 5.65538504e-01 7.51975181e-01 7.50665372e-01 4.22532586e-01\n",
      " 3.69265413e-01 5.75996173e-01 4.50592232e-01 8.20141270e-01\n",
      " 6.23491779e-02 1.37976747e-01 5.38886670e-02 3.74868678e-01\n",
      " 1.93131905e-01 1.63069139e-01 5.22025397e-01 4.29559048e-02\n",
      " 2.58062726e-02 5.53334411e-01 5.29346786e-01 5.43337685e-01\n",
      " 5.00059287e-01 8.28774425e-01 8.91717044e-01 9.24700758e-01\n",
      " 7.94272132e-01 8.49081270e-01 3.75452468e-01 4.50958117e-01\n",
      " 4.93126235e-02 6.93805294e-01 7.65341884e-01 7.06700498e-02\n",
      " 8.63564507e-01 8.78124329e-01 4.20337821e-01 8.75978329e-01\n",
      " 7.50573376e-01 9.55982939e-01 3.74256469e-01 2.86729398e-01\n",
      " 1.82473018e-01 2.75433524e-02 5.69801891e-01 7.36545937e-02\n",
      " 6.57324203e-01 6.38763122e-01 3.31660301e-01 9.70289767e-01\n",
      " 1.92648889e-01 6.96776657e-01 8.07293522e-01 4.56970633e-01\n",
      " 5.99823348e-01 7.21340623e-01 7.66666528e-01 7.99401569e-02\n",
      " 7.95167830e-01 4.05953602e-01 6.16414018e-01 4.81414916e-01\n",
      " 7.25199242e-01 6.92450491e-01 9.75257567e-01 3.30249785e-01\n",
      " 7.61682874e-01 2.78266089e-01 9.96022416e-01 2.14506439e-02\n",
      " 5.49704446e-01 3.98394128e-03 3.62776735e-01 9.94394421e-01\n",
      " 7.32520903e-01 6.40290653e-01 1.35537261e-01 6.49234191e-01\n",
      " 7.87129629e-01 5.79930698e-01 5.02180288e-01 6.33869277e-01\n",
      " 6.87182809e-01 6.13684724e-01 1.05556905e-01 1.70334310e-01\n",
      " 7.81701526e-01 6.22860475e-01 8.89293953e-01 9.80856700e-02\n",
      " 6.91684811e-01 4.61055417e-01 6.46440986e-01 6.61234554e-01\n",
      " 7.83619929e-01 7.08126039e-01 8.00949214e-01 8.42362058e-01\n",
      " 9.12633650e-01 1.57656075e-01 4.54051613e-01 3.66582430e-02\n",
      " 2.42998867e-01 4.68313821e-01 1.04797103e-01 9.43853285e-01\n",
      " 3.44797306e-01 7.22647451e-02 4.43736917e-01 8.11327781e-01\n",
      " 9.72649553e-01 7.20637719e-01 6.67017470e-01 7.85497774e-01\n",
      " 6.70720228e-01 8.71756048e-01 1.91350030e-01 5.41808776e-01\n",
      " 4.52347566e-01 2.70725737e-02 9.25845036e-01 8.24157793e-01\n",
      " 2.66467506e-01 5.34363184e-01 9.69450234e-01 9.70140935e-01\n",
      " 6.48846082e-01 7.94373727e-03 5.83062365e-01 8.00069445e-01\n",
      " 7.81355046e-01 3.55685129e-01 6.89120643e-01 6.37101567e-01\n",
      " 9.56229758e-01 7.50366759e-01 9.26385225e-01 7.43521069e-01\n",
      " 8.86355802e-01 8.13204641e-01 2.85405997e-01 7.96240339e-01\n",
      " 6.17149967e-01 2.14243108e-01 7.61641755e-01 6.63659712e-01\n",
      " 8.11755000e-01 5.36650796e-01 2.15624761e-01 6.55499471e-01\n",
      " 8.33452409e-01 9.72456395e-01 3.87689427e-01 6.58028999e-01\n",
      " 9.85187123e-01 7.32927348e-01 7.80637394e-01 7.18225486e-01\n",
      " 3.47525495e-01 8.09987749e-01 1.33131919e-01 9.36487239e-01\n",
      " 8.02231233e-01 6.68166563e-01 3.78763706e-01 8.05619488e-01\n",
      " 3.76054651e-01 3.84943011e-01 9.26119677e-01 1.26084996e-01\n",
      " 7.79174081e-01 7.32431740e-01 4.91892668e-01 2.85923453e-01\n",
      " 2.38226684e-01 8.73699184e-01 9.64034259e-01 5.58591287e-01\n",
      " 7.53756230e-01 6.06353087e-01 8.01528793e-01 7.24879809e-01\n",
      " 6.57590588e-01 8.39202544e-01 4.61500163e-01 7.40637288e-01\n",
      " 8.06278601e-01 6.47572250e-01 2.02887561e-01 7.46742278e-01\n",
      " 5.55098233e-01 8.35409201e-01 9.45119910e-01 9.66073777e-01\n",
      " 7.19315316e-01 4.63855314e-01 1.43695408e-01 9.77589882e-01\n",
      " 6.46517482e-01 9.51289666e-01 7.24630876e-01 7.33762272e-01\n",
      " 9.70220125e-01 4.55400864e-01 4.88826687e-02 4.97072504e-01\n",
      " 6.87225033e-01 2.40390477e-01 9.42735349e-01 7.17984679e-01\n",
      " 4.94247848e-01 9.28874893e-01 9.29914401e-01 6.84108776e-01\n",
      " 3.43291852e-01 2.27622584e-01 9.39066598e-01 6.09957032e-01\n",
      " 9.09892881e-01 8.23349212e-02 5.93296114e-01 6.27999987e-01\n",
      " 3.98940390e-01 5.77033331e-01 6.53706881e-01 7.85016510e-01\n",
      " 9.00487215e-01 1.67297196e-01 5.37067416e-01 6.71695959e-01\n",
      " 6.72423274e-01 5.35622939e-01 3.86823456e-01 1.68104745e-01\n",
      " 6.59413315e-01 3.50453202e-01 5.15155180e-01 3.55923112e-01\n",
      " 9.73182121e-01 3.09192067e-01 1.91175039e-01 6.04791056e-01\n",
      " 1.44574894e-01 8.02272355e-01 4.67115598e-01 2.69141063e-01\n",
      " 5.29543101e-01 9.15415645e-01 5.89597515e-01 3.96661589e-01\n",
      " 3.73365528e-01 8.46872753e-01 1.91246363e-01 9.89216279e-02\n",
      " 3.80126886e-01 8.60404144e-01 4.48765542e-01 8.94685259e-01\n",
      " 2.15338218e-02 6.20728822e-01 7.70083483e-01 2.10523961e-01\n",
      " 9.73286323e-01 2.37742342e-01 2.60193664e-01 4.30350083e-01\n",
      " 8.19745084e-01 2.92210810e-01 2.21181099e-01 1.77880072e-01\n",
      " 1.17733261e-01 3.41286778e-01 4.40423718e-01 7.26226623e-01\n",
      " 8.41741778e-01 7.38890563e-01 6.56165642e-01 4.46600153e-01\n",
      " 8.05052537e-01 5.53100672e-01 8.32500227e-01 9.39304446e-01\n",
      " 9.67112323e-01 4.57631941e-01 5.53048349e-01 3.87813297e-01\n",
      " 4.09099678e-01 7.58931081e-01 1.98977598e-01 5.76237913e-01\n",
      " 1.31339980e-01 3.75090657e-01 8.64044218e-01 5.47667879e-01\n",
      " 5.56277029e-01 3.33388743e-01 7.03511955e-01 4.27026754e-01\n",
      " 8.48612947e-01 8.19274106e-01 1.62024562e-01 9.40414520e-01\n",
      " 3.47311928e-01 8.09361037e-02 5.44032291e-01 7.99916446e-02\n",
      " 9.96550257e-01 3.19133507e-01 2.85090743e-01 8.35624725e-01\n",
      " 9.22784130e-01 3.57110225e-01 4.97948875e-01 5.37217043e-01\n",
      " 7.25775962e-01 1.46380224e-01 7.48701122e-01 7.73630905e-01\n",
      " 3.14696888e-01 6.54530265e-01 5.54285952e-01 1.13913242e-01\n",
      " 5.06705299e-01 5.50076941e-01 8.79241965e-01 4.17818785e-01\n",
      " 8.64584397e-01 8.64049893e-01 1.90328904e-01 4.40726996e-01\n",
      " 8.75568792e-01 7.17931596e-01 9.22440916e-01 4.54654682e-01\n",
      " 3.29310182e-01 3.23788131e-01 4.46215074e-01 6.17894021e-01\n",
      " 8.04766020e-01 6.89969923e-01 8.24584111e-01 4.73679033e-01\n",
      " 4.63914669e-01 7.49521777e-01 3.20752599e-01 8.49578127e-01\n",
      " 1.45156545e-01 6.37981065e-01 3.96619035e-01 3.63013254e-01\n",
      " 7.16263489e-01 1.96946376e-01 7.55218227e-01 2.80485190e-01\n",
      " 6.98730316e-01 5.07904864e-01 9.62221648e-01 6.20611360e-01\n",
      " 9.68345136e-01 8.47228376e-01 9.79599552e-01 9.12640919e-01\n",
      " 8.20645877e-01 5.35762547e-02 5.46255995e-01 3.10949309e-01\n",
      " 8.79737446e-01 1.03414440e-01 8.84291357e-01 1.08395119e-01\n",
      " 8.25300793e-01 1.20990477e-01 3.30144757e-01 7.95669686e-01\n",
      " 7.47752268e-01 5.04311714e-01 8.03101726e-01 9.64713418e-01\n",
      " 3.78731989e-01 4.21749643e-01 8.68594052e-01 9.75263651e-01\n",
      " 8.30151955e-01 2.01940481e-01 8.29087925e-01 8.91657559e-01\n",
      " 6.80297125e-01 5.31359199e-01 9.93032376e-01 2.47905401e-01\n",
      " 6.11164377e-01 9.18570246e-01 2.41003861e-01 4.99457770e-01\n",
      " 8.01862451e-01 4.20110603e-01 7.49750943e-01 7.45810140e-01\n",
      " 8.25910137e-02 1.66124882e-01 8.31729554e-01 8.60811278e-01\n",
      " 9.19357573e-01 3.31597276e-02 1.32373024e-01 6.34766937e-01\n",
      " 9.65771311e-01 2.76823359e-01 5.10929513e-01 9.32495618e-01\n",
      " 7.64323483e-01 1.56378953e-01 3.97221701e-01 6.67980332e-01\n",
      " 9.30088943e-01 7.02106016e-01 7.70163508e-01 7.54622484e-01\n",
      " 6.50294776e-01 3.68088687e-02 9.03442123e-01 6.50568501e-01\n",
      " 6.03229560e-01 7.08520388e-01 2.84161723e-01 6.09961503e-01\n",
      " 8.93185432e-01 1.67999152e-01 6.09128341e-01 7.41179692e-01\n",
      " 7.85960449e-01 5.16996849e-01 2.23458522e-01 5.26255143e-01\n",
      " 9.44659532e-01 2.61609657e-01 9.42329810e-01 6.06622599e-01\n",
      " 7.97968874e-01 4.75974079e-01 6.45883600e-01 6.05965634e-01\n",
      " 1.78820798e-01 3.44562084e-01 3.81212970e-02 7.52954442e-01]\n"
     ]
    }
   ],
   "source": [
    "print(model.actual_status)"
   ]
  },
  {
   "cell_type": "code",
   "execution_count": 24,
   "metadata": {},
   "outputs": [
    {
     "name": "stdout",
     "output_type": "stream",
     "text": [
      "sender  69\n",
      "p  0.8301922442573645\n",
      "signal  0\n"
     ]
    }
   ],
   "source": [
    "sender = random.randint(0, model.n - 1)\n",
    "print('sender ', sender)\n",
    "\n",
    "try:        \n",
    "    p = model.actual_status[sender] * p_o + (1 - model.actual_status[sender]) * p_p\n",
    "    print('p ', p)\n",
    "    assert(p >= 0 and p <= 1), f\"Probability should be between 0 and 1, not {p}.\"\n",
    "    signal = np.random.binomial(1, p)\n",
    "    print('signal ', signal)\n",
    "    assert(signal == 0 or signal == 1), f\"Signal should be 0 or 1, not {signal}.\"\n",
    "\n",
    "except ValueError as e:\n",
    "    print('Info about code that causes the error -->')\n",
    "    print('Error = ', e)\n",
    "    print('p = ', p)\n",
    "    print('sender = ', sender)\n",
    "    print('sender actual status = ', model.actual_status[sender])\n",
    "    \n",
    "receivers = np.array(list(model.graph.neighbors(sender)))"
   ]
  },
  {
   "cell_type": "markdown",
   "metadata": {},
   "source": [
    "### Update functions"
   ]
  },
  {
   "cell_type": "markdown",
   "metadata": {},
   "source": [
    "## Interazione con il sender"
   ]
  },
  {
   "cell_type": "code",
   "execution_count": 25,
   "metadata": {},
   "outputs": [
    {
     "data": {
      "image/png": "[encoded data removed]",
      "text/plain": [
       "<Figure size 640x480 with 1 Axes>"
      ]
     },
     "metadata": {},
     "output_type": "display_data"
    }
   ],
   "source": [
    "if len(receivers) > 0:\n",
    "    model.actual_status[receivers] = model.update(receivers=receivers, s=signal)\n",
    "\n",
    "assert(np.all(model.actual_status >= 0) and np.all(model.actual_status <= 1)), \"Status values should be between 0 and 1.\"\n",
    "assert(len(model.actual_status) == model.n), f\"Length of actual_status {len(model.actual_status)} does not match the number of nodes {self.n}.\"\n",
    "\n",
    "model.actual_iteration += 1\n",
    "model.status = model.actual_status\n",
    "\n",
    "plt.hist(model.actual_status, bins=30)\n",
    "plt.show()\n",
    "\n",
    "its = {\"iteration\": model.actual_iteration - 1, \"status\": {i: value for i, value in enumerate(model.actual_status)}}"
   ]
  },
  {
   "cell_type": "code",
   "execution_count": null,
   "metadata": {},
   "outputs": [],
   "source": [
    "system_status.append(its)"
   ]
  },
  {
   "cell_type": "code",
   "execution_count": null,
   "metadata": {},
   "outputs": [],
   "source": [
    "len(system_status)"
   ]
  },
  {
   "cell_type": "code",
   "execution_count": null,
   "metadata": {},
   "outputs": [],
   "source": []
  }
 ],
 "metadata": {
  "kernelspec": {
   "display_name": "Python 3 (ipykernel)",
   "language": "python",
   "name": "python3"
  },
  "language_info": {
   "codemirror_mode": {
    "name": "ipython",
    "version": 3
   },
   "file_extension": ".py",
   "mimetype": "text/x-python",
   "name": "python",
   "nbconvert_exporter": "python",
   "pygments_lexer": "ipython3",
   "version": "3.12.7"
  }
 },
 "nbformat": 4,
 "nbformat_minor": 4
}
