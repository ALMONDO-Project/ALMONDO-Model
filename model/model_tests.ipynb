{
 "cells": [
  {
   "cell_type": "code",
   "execution_count": 1,
   "metadata": {},
   "outputs": [],
   "source": [
    "from classes.simulator import ALMONDOSimulator\n",
    "from classes.almondoModel import AlmondoModel\n",
    "import networkx as nx\n",
    "import ndlib.models.ModelConfig as mc\n",
    "import json\n",
    "import numpy as np\n",
    "import os\n",
    "from tqdm import tqdm\n",
    "import matplotlib.pyplot as plt\n",
    "import random"
   ]
  },
  {
   "cell_type": "markdown",
   "metadata": {},
   "source": [
    "## Funzioni"
   ]
  },
  {
   "cell_type": "code",
   "execution_count": 2,
   "metadata": {},
   "outputs": [],
   "source": [
    "def create_strategies(n_lobbyists: int, lobbyists_data: dict, N: int, nruns: int, strategies_path:str):\n",
    "        \"\"\"\n",
    "        Generate and save strategies for the lobbyists.\n",
    "        \"\"\"\n",
    "        print('Creating strategies')\n",
    "\n",
    "        for id in range(n_lobbyists):\n",
    "            data = lobbyists_data[id]\n",
    "            B = data['B']\n",
    "            c = data['c']\n",
    "            folder = os.path.join(strategies_path, str(B))\n",
    "            os.makedirs(folder, exist_ok=True)\n",
    "            for run in range(nruns):\n",
    "                filename = f'strategy_{run}.txt'\n",
    "                path = os.path.join(folder, filename)\n",
    "                if not os.path.exists(path):\n",
    "                    inter_per_time = B // (c * 3000)\n",
    "                    matrix = np.zeros((3000, N), dtype=int)\n",
    "                    for t in range(3000):\n",
    "                        indices = np.random.choice(N, inter_per_time, replace=False)\n",
    "                        matrix[t, indices] = 1\n",
    "                    print('Saving strategy to file')\n",
    "                    np.savetxt(path, matrix, fmt=\"%i\")\n",
    "                else:\n",
    "                    continue\n",
    "        print('Strategies created')"
   ]
  },
  {
   "cell_type": "code",
   "execution_count": 3,
   "metadata": {},
   "outputs": [],
   "source": [
    "def read_random_strategy(strategies_path, B: int) -> tuple:\n",
    "        \"\"\"\n",
    "        Read a random strategy for a given B value.\n",
    "\n",
    "        Arguments:\n",
    "        - B: The B value associated with the lobbyist's strategy.\n",
    "\n",
    "        Returns:\n",
    "        - tuple: A tuple containing the strategy matrix and its filename.\n",
    "        \"\"\"\n",
    "        path = os.path.join(strategies_path, str(B))\n",
    "        strategy_name = random.choice(os.listdir(path))\n",
    "        filepath = os.path.join(path, strategy_name)\n",
    "        return np.loadtxt(filepath).astype(int), filepath"
   ]
  },
  {
   "cell_type": "markdown",
   "metadata": {},
   "source": [
    "## Parametri"
   ]
  },
  {
   "cell_type": "code",
   "execution_count": 4,
   "metadata": {},
   "outputs": [],
   "source": [
    "NLs = [0, 1, 2, 3, 4, 20] #number of lobbyists in the simulations\n",
    "params = {\n",
    "    'N': 500,\n",
    "    'p_o': 0.01,\n",
    "    'p_p': 0.99,\n",
    "    'initial_distribution': 'uniform',\n",
    "    'T': 10000,\n",
    "    'lambda_values': [0.0, 0.1, 0.2, 0.3, 0.4, 0.5, 0.6, 0.7, 0.8, 0.9, 1.0],\n",
    "    'phi_values': [0.0, 0.1, 0.2, 0.3, 0.4, 0.5, 0.6, 0.7, 0.8, 0.9, 1.0],\n",
    "    'base': 'results_tests'\n",
    "}    "
   ]
  },
  {
   "cell_type": "code",
   "execution_count": 5,
   "metadata": {},
   "outputs": [
    {
     "name": "stdout",
     "output_type": "stream",
     "text": [
      "performing simulations for balanced_budgets/2_lobbyists\n"
     ]
    }
   ],
   "source": [
    "nl = 2\n",
    "\n",
    "params['scenario'] = f'balanced_budgets/{nl}_lobbyists'\n",
    "params['n_lobbyists'] = nl\n",
    "\n",
    "if nl > 0:\n",
    "    params['lobbyists_data'] = dict()\n",
    "    for id in range(nl):\n",
    "        params['lobbyists_data'][id] = {'m': id%2, 'B': 300000, 'c': 1, 'strategies': [], 'T': 3000}    \n",
    "\n",
    "os.makedirs(params['base'], exist_ok=True)\n",
    "path = os.path.join(params['base'], params['scenario'])\n",
    "os.makedirs(path, exist_ok=True)\n",
    "\n",
    "with open(os.path.join(path, 'initial_config.json'), 'w') as f:\n",
    "    json.dump(params, f, indent=4)\n",
    "\n",
    "print(f'performing simulations for {params[\"scenario\"]}')"
   ]
  },
  {
   "cell_type": "markdown",
   "metadata": {},
   "source": [
    "## Simulator initialization"
   ]
  },
  {
   "cell_type": "code",
   "execution_count": 6,
   "metadata": {},
   "outputs": [
    {
     "name": "stdout",
     "output_type": "stream",
     "text": [
      "Creating strategies\n",
      "Strategies created\n"
     ]
    }
   ],
   "source": [
    "base_path = params['base']\n",
    "scenario_path = os.path.join(params['base'], params['scenario'])\n",
    "os.makedirs(base_path, exist_ok=True)\n",
    "os.makedirs(scenario_path, exist_ok=True)\n",
    "strategies_path = os.path.join(scenario_path, \"strategies\")\n",
    "os.makedirs(strategies_path, exist_ok=True)        \n",
    "\n",
    "N = params['N']\n",
    "graph = nx.complete_graph(N)  # Create a complete graph of N nodes\n",
    "p_o = params['p_o']\n",
    "p_p = params['p_p']\n",
    "lambdas = params['lambda_values']\n",
    "phis = params['phi_values']\n",
    "T = params['T']\n",
    "initial_distribution = params['initial_distribution']\n",
    "nruns = 1\n",
    "lobbyists_data = params['lobbyists_data']\n",
    "n_lobbyists = params['n_lobbyists']\n",
    "\n",
    "if n_lobbyists > 0:\n",
    "    create_strategies(n_lobbyists, lobbyists_data, N, nruns, strategies_path)  # Generate strategies for lobbyists if any exist"
   ]
  },
  {
   "cell_type": "markdown",
   "metadata": {},
   "source": [
    "## Create configuration in simulator"
   ]
  },
  {
   "cell_type": "code",
   "execution_count": 7,
   "metadata": {},
   "outputs": [
    {
     "name": "stdout",
     "output_type": "stream",
     "text": [
      "[(0.0, 0.0), (0.0, 0.1), (0.0, 0.2), (0.0, 0.3), (0.0, 0.4), (0.0, 0.5), (0.0, 0.6), (0.0, 0.7), (0.0, 0.8), (0.0, 0.9), (0.0, 1.0), (0.1, 0.0), (0.1, 0.1), (0.1, 0.2), (0.1, 0.3), (0.1, 0.4), (0.1, 0.5), (0.1, 0.6), (0.1, 0.7), (0.1, 0.8), (0.1, 0.9), (0.1, 1.0), (0.2, 0.0), (0.2, 0.1), (0.2, 0.2), (0.2, 0.3), (0.2, 0.4), (0.2, 0.5), (0.2, 0.6), (0.2, 0.7), (0.2, 0.8), (0.2, 0.9), (0.2, 1.0), (0.3, 0.0), (0.3, 0.1), (0.3, 0.2), (0.3, 0.3), (0.3, 0.4), (0.3, 0.5), (0.3, 0.6), (0.3, 0.7), (0.3, 0.8), (0.3, 0.9), (0.3, 1.0), (0.4, 0.0), (0.4, 0.1), (0.4, 0.2), (0.4, 0.3), (0.4, 0.4), (0.4, 0.5), (0.4, 0.6), (0.4, 0.7), (0.4, 0.8), (0.4, 0.9), (0.4, 1.0), (0.5, 0.0), (0.5, 0.1), (0.5, 0.2), (0.5, 0.3), (0.5, 0.4), (0.5, 0.5), (0.5, 0.6), (0.5, 0.7), (0.5, 0.8), (0.5, 0.9), (0.5, 1.0), (0.6, 0.0), (0.6, 0.1), (0.6, 0.2), (0.6, 0.3), (0.6, 0.4), (0.6, 0.5), (0.6, 0.6), (0.6, 0.7), (0.6, 0.8), (0.6, 0.9), (0.6, 1.0), (0.7, 0.0), (0.7, 0.1), (0.7, 0.2), (0.7, 0.3), (0.7, 0.4), (0.7, 0.5), (0.7, 0.6), (0.7, 0.7), (0.7, 0.8), (0.7, 0.9), (0.7, 1.0), (0.8, 0.0), (0.8, 0.1), (0.8, 0.2), (0.8, 0.3), (0.8, 0.4), (0.8, 0.5), (0.8, 0.6), (0.8, 0.7), (0.8, 0.8), (0.8, 0.9), (0.8, 1.0), (0.9, 0.0), (0.9, 0.1), (0.9, 0.2), (0.9, 0.3), (0.9, 0.4), (0.9, 0.5), (0.9, 0.6), (0.9, 0.7), (0.9, 0.8), (0.9, 0.9), (0.9, 1.0), (1.0, 0.0), (1.0, 0.1), (1.0, 0.2), (1.0, 0.3), (1.0, 0.4), (1.0, 0.5), (1.0, 0.6), (1.0, 0.7), (1.0, 0.8), (1.0, 0.9), (1.0, 1.0)]\n"
     ]
    }
   ],
   "source": [
    "parameters_pairs = ([(l, p) for l in lambdas for p in phis])\n",
    "print(parameters_pairs)"
   ]
  },
  {
   "cell_type": "code",
   "execution_count": 8,
   "metadata": {},
   "outputs": [
    {
     "name": "stdout",
     "output_type": "stream",
     "text": [
      "Creating configuration object\n",
      "Assigning p_o and p_p parameters\n",
      "p_o=0.01, p_p=0.99\n",
      "Assigning homogeneous lambda\n",
      "Assigning homogeneous phi\n",
      "Configuring model: assigning graph, parameters, and initial distribution of weights\n"
     ]
    }
   ],
   "source": [
    "lambda_v = parameters_pairs[0][0]\n",
    "phi_v = parameters_pairs[0][1]\n",
    "\n",
    "print('Creating configuration object')\n",
    "config = mc.Configuration()\n",
    "\n",
    "print('Assigning p_o and p_p parameters')\n",
    "config.add_model_parameter(\"p_o\", p_o)\n",
    "config.add_model_parameter(\"p_p\", p_p)\n",
    "print(f'p_o={p_o}, p_p={p_p}')\n",
    "\n",
    "# Configure lambda values for each agent\n",
    "if isinstance(lambda_v, list):\n",
    "    for i in graph.nodes():\n",
    "        config.add_node_configuration(\"lambda\", i, lambda_v[i])\n",
    "elif isinstance(lambda_v, float):\n",
    "    print('Assigning homogeneous lambda')\n",
    "    for i in graph.nodes():\n",
    "        config.add_node_configuration(\"lambda\", i, lambda_v)\n",
    "else:\n",
    "    raise ValueError(\"lambda_v must be a float or a list\")\n",
    "\n",
    "# Configure phi values for each agent\n",
    "if isinstance(phi_v, list):\n",
    "    for i in graph.nodes():\n",
    "        config.add_node_configuration(\"phi\", i, phi_v[i])\n",
    "elif isinstance(phi_v, float):\n",
    "    print('Assigning homogeneous phi')\n",
    "    for i in graph.nodes():\n",
    "        config.add_node_configuration(\"phi\", i, phi_v)\n",
    "else:\n",
    "    raise ValueError(\"phi_v must be a float or a list\")\n",
    "\n",
    "# Initialize the model with the graph and configuration\n",
    "print('Configuring model: assigning graph, parameters, and initial distribution of weights')\n",
    "model = AlmondoModel(graph)"
   ]
  },
  {
   "cell_type": "code",
   "execution_count": 9,
   "metadata": {},
   "outputs": [
    {
     "name": "stdout",
     "output_type": "stream",
     "text": [
      "Initial status set\n"
     ]
    }
   ],
   "source": [
    "model.set_initial_status(config, kind=initial_distribution)\n",
    "print('Initial status set')"
   ]
  },
  {
   "cell_type": "code",
   "execution_count": 10,
   "metadata": {},
   "outputs": [
    {
     "name": "stdout",
     "output_type": "stream",
     "text": [
      "[0.73178543 0.89153765 0.75298027 0.35569571 0.61252881 0.39126331\n",
      " 0.44356543 0.88106443 0.35378975 0.491891   0.39989255 0.74360797\n",
      " 0.24376814 0.81198989 0.34915747 0.44201758 0.64336359 0.64766521\n",
      " 0.87785684 0.39151317 0.17657395 0.95541323 0.55097127 0.30612241\n",
      " 0.24197823 0.06660972 0.13586358 0.45889085 0.68527841 0.34686521\n",
      " 0.2342199  0.68683494 0.2739278  0.19197643 0.79039017 0.1575009\n",
      " 0.12869725 0.57378025 0.77201548 0.1528822  0.59650702 0.33944867\n",
      " 0.67030575 0.72442655 0.78996756 0.06657104 0.08160602 0.42493914\n",
      " 0.80609975 0.0034341  0.36795559 0.37493754 0.55083308 0.17661036\n",
      " 0.57828853 0.05395347 0.7297662  0.49638928 0.85628415 0.81939297\n",
      " 0.29217109 0.20369362 0.48829902 0.50728495 0.1503873  0.6035176\n",
      " 0.82897618 0.39111987 0.52831004 0.00137441 0.83308554 0.31352917\n",
      " 0.8200274  0.56037534 0.85626695 0.75975123 0.04965687 0.3471029\n",
      " 0.46043712 0.92516    0.07164767 0.37789338 0.67031891 0.67217673\n",
      " 0.19724256 0.27601909 0.57216083 0.37886095 0.48388526 0.09986007\n",
      " 0.26822989 0.10538186 0.59309437 0.46717206 0.29421886 0.1224949\n",
      " 0.22244724 0.28262156 0.33609631 0.52992487 0.50902671 0.30329297\n",
      " 0.36782316 0.01279872 0.95427062 0.29359293 0.729516   0.54693719\n",
      " 0.95575534 0.77271311 0.21053968 0.61057676 0.98809961 0.79470245\n",
      " 0.19665522 0.33505065 0.17837651 0.43955102 0.33989451 0.92416519\n",
      " 0.03179764 0.23107175 0.87710521 0.50080592 0.82215113 0.86352522\n",
      " 0.66160289 0.80845166 0.63113026 0.98478446 0.49770637 0.3266796\n",
      " 0.61235521 0.37804714 0.82925678 0.56967163 0.31325329 0.88009612\n",
      " 0.41487428 0.02916267 0.79835615 0.04900833 0.16711461 0.56392378\n",
      " 0.35624178 0.87439315 0.59557936 0.76225579 0.12634236 0.23234761\n",
      " 0.69829702 0.1823529  0.39156558 0.84145873 0.32369401 0.73741919\n",
      " 0.96486863 0.94674049 0.698625   0.53119131 0.76416616 0.55661465\n",
      " 0.51511886 0.39233146 0.81282397 0.32120902 0.02363979 0.38004921\n",
      " 0.53388303 0.99089825 0.08715035 0.99368646 0.26527821 0.28683001\n",
      " 0.88700314 0.65794529 0.50998524 0.24940566 0.5359295  0.91262219\n",
      " 0.92274643 0.39082111 0.48715334 0.02144246 0.60255907 0.54956461\n",
      " 0.2860908  0.26996048 0.41289355 0.22096423 0.71877353 0.22297858\n",
      " 0.19242392 0.13216403 0.26315991 0.44754864 0.63141475 0.29256454\n",
      " 0.64167632 0.62212249 0.01464446 0.63627847 0.0828573  0.08789261\n",
      " 0.03133906 0.93396613 0.74535927 0.7757269  0.95787603 0.18238571\n",
      " 0.81604635 0.40014929 0.64182948 0.4077712  0.5828896  0.35403247\n",
      " 0.59790325 0.56179856 0.02888578 0.27283333 0.57984739 0.65523952\n",
      " 0.31321839 0.62285239 0.63529194 0.79868134 0.63598107 0.9189242\n",
      " 0.07408739 0.56810073 0.58727931 0.52875501 0.87353084 0.82262859\n",
      " 0.37909679 0.75220655 0.83277834 0.6478591  0.96488366 0.38888599\n",
      " 0.03212329 0.39274999 0.31270927 0.68524684 0.11802002 0.48226146\n",
      " 0.65615108 0.01627284 0.03844163 0.0872015  0.85846259 0.19374073\n",
      " 0.38300206 0.6230159  0.01854583 0.24175404 0.11209049 0.47064262\n",
      " 0.63817818 0.31145602 0.05115604 0.82903434 0.80240643 0.43117107\n",
      " 0.25638491 0.29561376 0.58283032 0.18928073 0.22090468 0.79232983\n",
      " 0.67585817 0.07190296 0.702364   0.76567561 0.16800277 0.55413064\n",
      " 0.91639504 0.41522915 0.95229322 0.47839484 0.87120708 0.41612527\n",
      " 0.36859173 0.43058725 0.41765216 0.39260961 0.10259653 0.24763509\n",
      " 0.51336295 0.93120113 0.45864462 0.89788728 0.325852   0.67229652\n",
      " 0.28343493 0.73901963 0.80432405 0.16443518 0.96052435 0.72235607\n",
      " 0.88060717 0.6430597  0.92660568 0.64003217 0.07812855 0.58688053\n",
      " 0.00555225 0.21658317 0.49250062 0.20508487 0.84385958 0.42732422\n",
      " 0.21032318 0.68480735 0.20408305 0.99060958 0.13883253 0.21633158\n",
      " 0.45696984 0.6961047  0.14674902 0.41214892 0.18038763 0.13177453\n",
      " 0.71066656 0.2712831  0.29308837 0.10201395 0.01508881 0.4919305\n",
      " 0.8594378  0.05449447 0.72773668 0.37560993 0.98572941 0.307743\n",
      " 0.57115088 0.19442167 0.36934331 0.13212531 0.49522014 0.29802221\n",
      " 0.5622272  0.86674046 0.19040614 0.57138071 0.57302881 0.78591432\n",
      " 0.19528129 0.8631826  0.77732563 0.53257255 0.55777026 0.87874655\n",
      " 0.25260796 0.04495243 0.64709587 0.44025846 0.08366065 0.04604157\n",
      " 0.07709261 0.13343784 0.33350458 0.87653664 0.12014248 0.22152331\n",
      " 0.5535108  0.80865495 0.8064043  0.72808856 0.39357053 0.0728654\n",
      " 0.59351235 0.39473039 0.38318703 0.32220215 0.94345159 0.64305369\n",
      " 0.03490651 0.85988413 0.01449528 0.29230594 0.30449507 0.14528345\n",
      " 0.31862236 0.08514723 0.79923946 0.41176489 0.36060934 0.51759064\n",
      " 0.27999704 0.34150141 0.33324732 0.81183401 0.67447418 0.75634892\n",
      " 0.96918046 0.79281908 0.17465412 0.15091693 0.32661026 0.2693899\n",
      " 0.45020859 0.40755697 0.32184162 0.05174451 0.85810237 0.23660706\n",
      " 0.53314567 0.09374032 0.90052974 0.5672025  0.39797675 0.09816415\n",
      " 0.53234799 0.47476179 0.34198175 0.46280708 0.68540168 0.87887351\n",
      " 0.24100299 0.43126734 0.27447312 0.37754023 0.21127582 0.31401646\n",
      " 0.60878975 0.17984172 0.34028391 0.1383604  0.19980314 0.75758169\n",
      " 0.66819621 0.19805387 0.34615108 0.27098931 0.65976996 0.42087613\n",
      " 0.78722269 0.38804652 0.52758829 0.74742042 0.79546476 0.23298446\n",
      " 0.75938433 0.83325456 0.26579577 0.46895005 0.1311627  0.41528986\n",
      " 0.71681224 0.06620177 0.22316006 0.6761668  0.2755584  0.38128699\n",
      " 0.36897937 0.23047029 0.83210224 0.42390104 0.35268354 0.95255196\n",
      " 0.80624477 0.45619889 0.87707924 0.26279668 0.21371258 0.82523223\n",
      " 0.23492943 0.6165215  0.31915219 0.59135018 0.98185309 0.64949195\n",
      " 0.19178129 0.32756365 0.17292417 0.6708928  0.93504358 0.93012\n",
      " 0.20777869 0.82529832 0.05547161 0.7383551  0.48063502 0.527081\n",
      " 0.26402141 0.46882959 0.5707678  0.73492971 0.64435533 0.35810221\n",
      " 0.85885288 0.2837362  0.77976258 0.37546443 0.9193098  0.99610259\n",
      " 0.78902165 0.9170688 ]\n"
     ]
    }
   ],
   "source": [
    "print(model.status)"
   ]
  },
  {
   "cell_type": "code",
   "execution_count": 11,
   "metadata": {},
   "outputs": [
    {
     "data": {
      "image/png": "[encoded data removed]",
      "text/plain": [
       "<Figure size 640x480 with 1 Axes>"
      ]
     },
     "metadata": {},
     "output_type": "display_data"
    }
   ],
   "source": [
    "distrib = np.random.uniform(low=0, high=1, size=N)\n",
    "plt.hist(distrib, bins=10)\n",
    "plt.show()"
   ]
  },
  {
   "cell_type": "markdown",
   "metadata": {},
   "source": [
    "#### La funzione iniziale su 100 run genera distribuzioni con media 0.5?"
   ]
  },
  {
   "cell_type": "code",
   "execution_count": 12,
   "metadata": {},
   "outputs": [
    {
     "name": "stdout",
     "output_type": "stream",
     "text": [
      "0.511929159708552\n",
      "0.5004569157169086\n",
      "0.48852815988866727\n",
      "0.4984218692306608\n",
      "0.494500592356067\n",
      "0.514008611310629\n",
      "0.4834342333907774\n",
      "0.49813066625270325\n",
      "0.5025034667586238\n",
      "0.4933643594669837\n",
      "0.4995200781522488\n",
      "0.5035822507426433\n",
      "0.49394857653087026\n",
      "0.48315820670422793\n",
      "0.5053968520999754\n",
      "0.49366991789666836\n",
      "0.5016900964440879\n",
      "0.4991151676192907\n",
      "0.4954959715051614\n",
      "0.5096433484744162\n",
      "0.5028412523417257\n",
      "0.5088721114946382\n",
      "0.4989225422494581\n",
      "0.4886401606568462\n",
      "0.49203906073683606\n",
      "0.5040524664107258\n",
      "0.5186323787913993\n",
      "0.49683116371220887\n",
      "0.4973404813622285\n",
      "0.5045211025993066\n",
      "0.4999518209860914\n",
      "0.4978281550358563\n",
      "0.5441433091400777\n",
      "0.5105027775215222\n",
      "0.4958423811365159\n",
      "0.49325175952633865\n",
      "0.5008130824786503\n",
      "0.48174909735415455\n",
      "0.5060599919585254\n",
      "0.49156720985892216\n",
      "0.4927882494636239\n",
      "0.4973952816065715\n",
      "0.4851764261344977\n",
      "0.5081497921780338\n",
      "0.5051800591879718\n",
      "0.4915661212254113\n",
      "0.4953165050317566\n",
      "0.5175612238377483\n",
      "0.5035285983589374\n",
      "0.49441329187393923\n",
      "0.5094642888944282\n",
      "0.5066439290121785\n",
      "0.47844236771787163\n",
      "0.4940272850696647\n",
      "0.49451414145657463\n",
      "0.45070327896472256\n",
      "0.47049892756358497\n",
      "0.5028434823417772\n",
      "0.5121408064447341\n",
      "0.516965601939549\n",
      "0.5406381212715566\n",
      "0.5094887429075242\n",
      "0.5065862625613602\n",
      "0.4927007713538917\n",
      "0.48172704579693093\n",
      "0.4919560757357446\n",
      "0.47578701762882897\n",
      "0.5127629491320379\n",
      "0.5037567885162664\n",
      "0.4913771496530234\n",
      "0.4894221363954681\n",
      "0.5124525626912455\n",
      "0.5044444533157861\n",
      "0.49734111542610915\n",
      "0.4863796221566828\n",
      "0.5146067522380745\n",
      "0.5101658222047805\n",
      "0.518636560069863\n",
      "0.4818157076430859\n",
      "0.4854698287940671\n",
      "0.5260357142420398\n",
      "0.5002668598930979\n",
      "0.5047348545960568\n",
      "0.49495304280191965\n",
      "0.4889310798804022\n",
      "0.4902213961750422\n",
      "0.5188806893784623\n",
      "0.504684402155717\n",
      "0.49020040128719305\n",
      "0.5069482435737444\n",
      "0.4815699445223888\n",
      "0.47988367817982885\n",
      "0.4996438824461179\n",
      "0.4918573244985477\n",
      "0.49873155643098144\n",
      "0.5074849901780244\n",
      "0.47061572432856813\n",
      "0.5057969838039597\n",
      "0.4935928404010658\n",
      "0.5222364173301658\n"
     ]
    },
    {
     "data": {
      "text/plain": [
       "np.float64(0.49917005975501416)"
      ]
     },
     "execution_count": 12,
     "metadata": {},
     "output_type": "execute_result"
    }
   ],
   "source": [
    "avg_ops = []\n",
    "\n",
    "for _ in range(100):\n",
    "    distrib = np.random.uniform(0, 1, N)\n",
    "    avg_opinion = np.mean(distrib)\n",
    "    print(avg_opinion)\n",
    "    avg_ops.append(avg_opinion)\n",
    "\n",
    "sum(avg_ops)/len(avg_ops)"
   ]
  },
  {
   "cell_type": "code",
   "execution_count": 13,
   "metadata": {},
   "outputs": [
    {
     "name": "stdout",
     "output_type": "stream",
     "text": [
      "[0. 0. 0. 0. 0. 0. 0. 0. 0. 0. 0. 0. 0. 0. 0. 0. 0. 0. 0. 0. 0. 0. 0. 0.\n",
      " 0. 0. 0. 0. 0. 0. 0. 0. 0. 0. 0. 0. 0. 0. 0. 0. 0. 0. 0. 0. 0. 0. 0. 0.\n",
      " 0. 0. 0. 0. 0. 0. 0. 0. 0. 0. 0. 0. 0. 0. 0. 0. 0. 0. 0. 0. 0. 0. 0. 0.\n",
      " 0. 0. 0. 0. 0. 0. 0. 0. 0. 0. 0. 0. 0. 0. 0. 0. 0. 0. 0. 0. 0. 0. 0. 0.\n",
      " 0. 0. 0. 0. 0. 0. 0. 0. 0. 0. 0. 0. 0. 0. 0. 0. 0. 0. 0. 0. 0. 0. 0. 0.\n",
      " 0. 0. 0. 0. 0. 0. 0. 0. 0. 0. 0. 0. 0. 0. 0. 0. 0. 0. 0. 0. 0. 0. 0. 0.\n",
      " 0. 0. 0. 0. 0. 0. 0. 0. 0. 0. 0. 0. 0. 0. 0. 0. 0. 0. 0. 0. 0. 0. 0. 0.\n",
      " 0. 0. 0. 0. 0. 0. 0. 0. 0. 0. 0. 0. 0. 0. 0. 0. 0. 0. 0. 0. 0. 0. 0. 0.\n",
      " 0. 0. 0. 0. 0. 0. 0. 0. 0. 0. 0. 0. 0. 0. 0. 0. 0. 0. 0. 0. 0. 0. 0. 0.\n",
      " 0. 0. 0. 0. 0. 0. 0. 0. 0. 0. 0. 0. 0. 0. 0. 0. 0. 0. 0. 0. 0. 0. 0. 0.\n",
      " 0. 0. 0. 0. 0. 0. 0. 0. 0. 0. 0. 0. 0. 0. 0. 0. 0. 0. 0. 0. 0. 0. 0. 0.\n",
      " 0. 0. 0. 0. 0. 0. 0. 0. 0. 0. 0. 0. 0. 0. 0. 0. 0. 0. 0. 0. 0. 0. 0. 0.\n",
      " 0. 0. 0. 0. 0. 0. 0. 0. 0. 0. 0. 0. 0. 0. 0. 0. 0. 0. 0. 0. 0. 0. 0. 0.\n",
      " 0. 0. 0. 0. 0. 0. 0. 0. 0. 0. 0. 0. 0. 0. 0. 0. 0. 0. 0. 0. 0. 0. 0. 0.\n",
      " 0. 0. 0. 0. 0. 0. 0. 0. 0. 0. 0. 0. 0. 0. 0. 0. 0. 0. 0. 0. 0. 0. 0. 0.\n",
      " 0. 0. 0. 0. 0. 0. 0. 0. 0. 0. 0. 0. 0. 0. 0. 0. 0. 0. 0. 0. 0. 0. 0. 0.\n",
      " 0. 0. 0. 0. 0. 0. 0. 0. 0. 0. 0. 0. 0. 0. 0. 0. 0. 0. 0. 0. 0. 0. 0. 0.\n",
      " 0. 0. 0. 0. 0. 0. 0. 0. 0. 0. 0. 0. 0. 0. 0. 0. 0. 0. 0. 0. 0. 0. 0. 0.\n",
      " 0. 0. 0. 0. 0. 0. 0. 0. 0. 0. 0. 0. 0. 0. 0. 0. 0. 0. 0. 0. 0. 0. 0. 0.\n",
      " 0. 0. 0. 0. 0. 0. 0. 0. 0. 0. 0. 0. 0. 0. 0. 0. 0. 0. 0. 0. 0. 0. 0. 0.\n",
      " 0. 0. 0. 0. 0. 0. 0. 0. 0. 0. 0. 0. 0. 0. 0. 0. 0. 0. 0. 0.]\n"
     ]
    }
   ],
   "source": [
    "print(model.lambdas)"
   ]
  },
  {
   "cell_type": "code",
   "execution_count": 14,
   "metadata": {},
   "outputs": [
    {
     "name": "stdout",
     "output_type": "stream",
     "text": [
      "[0. 0. 0. 0. 0. 0. 0. 0. 0. 0. 0. 0. 0. 0. 0. 0. 0. 0. 0. 0. 0. 0. 0. 0.\n",
      " 0. 0. 0. 0. 0. 0. 0. 0. 0. 0. 0. 0. 0. 0. 0. 0. 0. 0. 0. 0. 0. 0. 0. 0.\n",
      " 0. 0. 0. 0. 0. 0. 0. 0. 0. 0. 0. 0. 0. 0. 0. 0. 0. 0. 0. 0. 0. 0. 0. 0.\n",
      " 0. 0. 0. 0. 0. 0. 0. 0. 0. 0. 0. 0. 0. 0. 0. 0. 0. 0. 0. 0. 0. 0. 0. 0.\n",
      " 0. 0. 0. 0. 0. 0. 0. 0. 0. 0. 0. 0. 0. 0. 0. 0. 0. 0. 0. 0. 0. 0. 0. 0.\n",
      " 0. 0. 0. 0. 0. 0. 0. 0. 0. 0. 0. 0. 0. 0. 0. 0. 0. 0. 0. 0. 0. 0. 0. 0.\n",
      " 0. 0. 0. 0. 0. 0. 0. 0. 0. 0. 0. 0. 0. 0. 0. 0. 0. 0. 0. 0. 0. 0. 0. 0.\n",
      " 0. 0. 0. 0. 0. 0. 0. 0. 0. 0. 0. 0. 0. 0. 0. 0. 0. 0. 0. 0. 0. 0. 0. 0.\n",
      " 0. 0. 0. 0. 0. 0. 0. 0. 0. 0. 0. 0. 0. 0. 0. 0. 0. 0. 0. 0. 0. 0. 0. 0.\n",
      " 0. 0. 0. 0. 0. 0. 0. 0. 0. 0. 0. 0. 0. 0. 0. 0. 0. 0. 0. 0. 0. 0. 0. 0.\n",
      " 0. 0. 0. 0. 0. 0. 0. 0. 0. 0. 0. 0. 0. 0. 0. 0. 0. 0. 0. 0. 0. 0. 0. 0.\n",
      " 0. 0. 0. 0. 0. 0. 0. 0. 0. 0. 0. 0. 0. 0. 0. 0. 0. 0. 0. 0. 0. 0. 0. 0.\n",
      " 0. 0. 0. 0. 0. 0. 0. 0. 0. 0. 0. 0. 0. 0. 0. 0. 0. 0. 0. 0. 0. 0. 0. 0.\n",
      " 0. 0. 0. 0. 0. 0. 0. 0. 0. 0. 0. 0. 0. 0. 0. 0. 0. 0. 0. 0. 0. 0. 0. 0.\n",
      " 0. 0. 0. 0. 0. 0. 0. 0. 0. 0. 0. 0. 0. 0. 0. 0. 0. 0. 0. 0. 0. 0. 0. 0.\n",
      " 0. 0. 0. 0. 0. 0. 0. 0. 0. 0. 0. 0. 0. 0. 0. 0. 0. 0. 0. 0. 0. 0. 0. 0.\n",
      " 0. 0. 0. 0. 0. 0. 0. 0. 0. 0. 0. 0. 0. 0. 0. 0. 0. 0. 0. 0. 0. 0. 0. 0.\n",
      " 0. 0. 0. 0. 0. 0. 0. 0. 0. 0. 0. 0. 0. 0. 0. 0. 0. 0. 0. 0. 0. 0. 0. 0.\n",
      " 0. 0. 0. 0. 0. 0. 0. 0. 0. 0. 0. 0. 0. 0. 0. 0. 0. 0. 0. 0. 0. 0. 0. 0.\n",
      " 0. 0. 0. 0. 0. 0. 0. 0. 0. 0. 0. 0. 0. 0. 0. 0. 0. 0. 0. 0. 0. 0. 0. 0.\n",
      " 0. 0. 0. 0. 0. 0. 0. 0. 0. 0. 0. 0. 0. 0. 0. 0. 0. 0. 0. 0.]\n"
     ]
    }
   ],
   "source": [
    "print(model.phis)"
   ]
  },
  {
   "cell_type": "code",
   "execution_count": 15,
   "metadata": {},
   "outputs": [
    {
     "name": "stdout",
     "output_type": "stream",
     "text": [
      "[]\n"
     ]
    }
   ],
   "source": [
    "print(model.lobbyists)"
   ]
  },
  {
   "cell_type": "code",
   "execution_count": 16,
   "metadata": {},
   "outputs": [
    {
     "name": "stdout",
     "output_type": "stream",
     "text": [
      "[]\n"
     ]
    }
   ],
   "source": [
    "print(model.system_status)"
   ]
  },
  {
   "cell_type": "code",
   "execution_count": 17,
   "metadata": {},
   "outputs": [
    {
     "name": "stdout",
     "output_type": "stream",
     "text": [
      "Assign strategies to lobbyists if any\n"
     ]
    },
    {
     "name": "stderr",
     "output_type": "stream",
     "text": [
      "  0%|          | 0/2 [00:00<?, ?it/s]"
     ]
    },
    {
     "name": "stdout",
     "output_type": "stream",
     "text": [
      "300000\n",
      "300000\n"
     ]
    },
    {
     "name": "stderr",
     "output_type": "stream",
     "text": [
      "100%|██████████| 2/2 [00:00<00:00, 13.09it/s]"
     ]
    },
    {
     "name": "stdout",
     "output_type": "stream",
     "text": [
      "Configuration ended\n"
     ]
    },
    {
     "name": "stderr",
     "output_type": "stream",
     "text": [
      "\n"
     ]
    }
   ],
   "source": [
    "print('Assign strategies to lobbyists if any')\n",
    "if n_lobbyists > 0:\n",
    "    for id in tqdm(lobbyists_data):\n",
    "        data = lobbyists_data[id]\n",
    "        B = data['B']\n",
    "        print(B)\n",
    "        m = data['m']\n",
    "        matrix, name = read_random_strategy(strategies_path, B)\n",
    "        model.add_lobbyist(m, matrix)\n",
    "        lobbyists_data[id]['strategies'].append(name)\n",
    "\n",
    "print('Configuration ended')"
   ]
  },
  {
   "cell_type": "code",
   "execution_count": 18,
   "metadata": {},
   "outputs": [
    {
     "name": "stdout",
     "output_type": "stream",
     "text": [
      "[<classes.almondoModel.AlmondoModel.LobbyistAgent object at 0x7747cd0d4cd0>, <classes.almondoModel.AlmondoModel.LobbyistAgent object at 0x77478c592650>]\n"
     ]
    }
   ],
   "source": [
    "print(model.lobbyists)"
   ]
  },
  {
   "cell_type": "code",
   "execution_count": 19,
   "metadata": {},
   "outputs": [
    {
     "data": {
      "image/png": "[encoded data removed]",
      "text/plain": [
       "<Figure size 640x480 with 1 Axes>"
      ]
     },
     "metadata": {},
     "output_type": "display_data"
    }
   ],
   "source": [
    "plt.hist(model.status)\n",
    "plt.show()"
   ]
  },
  {
   "cell_type": "code",
   "execution_count": 20,
   "metadata": {},
   "outputs": [],
   "source": [
    "system_status = []"
   ]
  },
  {
   "cell_type": "code",
   "execution_count": 21,
   "metadata": {},
   "outputs": [],
   "source": [
    "actual_iteration = 0"
   ]
  },
  {
   "cell_type": "markdown",
   "metadata": {},
   "source": [
    "## Interazione con il lobbista"
   ]
  },
  {
   "cell_type": "code",
   "execution_count": 30,
   "metadata": {},
   "outputs": [
    {
     "data": {
      "text/plain": [
       "(array([  1.,   1.,   0.,   0.,   0.,   5.,   2.,   8.,  22., 461.]),\n",
       " array([0.11991531, 0.20792345, 0.2959316 , 0.38393974, 0.47194789,\n",
       "        0.55995603, 0.64796418, 0.73597232, 0.82398047, 0.91198861,\n",
       "        0.99999676]),\n",
       " <BarContainer object of 10 artists>)"
      ]
     },
     "execution_count": 30,
     "metadata": {},
     "output_type": "execute_result"
    },
    {
     "data": {
      "image/png": "[encoded data removed]",
      "text/plain": [
       "<Figure size 640x480 with 1 Axes>"
      ]
     },
     "metadata": {},
     "output_type": "display_data"
    }
   ],
   "source": [
    "plt.hist(model.status)"
   ]
  },
  {
   "cell_type": "code",
   "execution_count": 31,
   "metadata": {},
   "outputs": [
    {
     "data": {
      "text/plain": [
       "2"
      ]
     },
     "execution_count": 31,
     "metadata": {},
     "output_type": "execute_result"
    }
   ],
   "source": [
    "model.actual_iteration"
   ]
  },
  {
   "cell_type": "code",
   "execution_count": 32,
   "metadata": {},
   "outputs": [],
   "source": [
    "model.actual_status = model.status.copy()\n",
    "\n",
    "if model.actual_iteration == 0:\n",
    "    model.actual_iteration += 1\n",
    "    its = {\"iteration\": 0, \"status\": {i: value for i, value in enumerate(model.actual_status)}}\n",
    "    system_status.append(its)\n",
    "\n",
    "p_o = model.params['model']['p_o']\n",
    "p_p = model.params['model']['p_p']"
   ]
  },
  {
   "cell_type": "code",
   "execution_count": 38,
   "metadata": {},
   "outputs": [
    {
     "data": {
      "image/png": "[encoded data removed]",
      "text/plain": [
       "<Figure size 640x480 with 1 Axes>"
      ]
     },
     "metadata": {},
     "output_type": "display_data"
    }
   ],
   "source": [
    "lobbyist_list = model.lobbyists.copy()\n",
    "                \n",
    "random.shuffle(lobbyist_list)\n",
    "\n",
    "if len(model.lobbyists) > 0:\n",
    "    for lobbyist in lobbyist_list:\n",
    "        if model.actual_iteration < lobbyist.max_t:\n",
    "            w = model.lupdate(model.actual_status, lobbyist, model.actual_iteration)\n",
    "\n",
    "model.actual_status = w.copy()\n",
    "\n",
    "plt.hist(model.actual_status, bins=30)\n",
    "plt.show()\n"
   ]
  },
  {
   "cell_type": "code",
   "execution_count": 39,
   "metadata": {},
   "outputs": [
    {
     "name": "stdout",
     "output_type": "stream",
     "text": [
      "sender  86\n",
      "p  0.01007476269860443\n",
      "signal  0\n"
     ]
    }
   ],
   "source": [
    "sender = random.randint(0, model.n - 1)\n",
    "print('sender ', sender)\n",
    "\n",
    "try:        \n",
    "    p = model.actual_status[sender] * p_o + (1 - model.actual_status[sender]) * p_p\n",
    "    print('p ', p)\n",
    "    assert(p >= 0 and p <= 1), f\"Probability should be between 0 and 1, not {p}.\"\n",
    "    signal = np.random.binomial(1, p)\n",
    "    print('signal ', signal)\n",
    "    assert(signal == 0 or signal == 1), f\"Signal should be 0 or 1, not {signal}.\"\n",
    "\n",
    "except ValueError as e:\n",
    "    print('Info about code that causes the error -->')\n",
    "    print('Error = ', e)\n",
    "    print('p = ', p)\n",
    "    print('sender = ', sender)\n",
    "    print('sender actual status = ', model.actual_status[sender])\n",
    "    \n",
    "receivers = np.array(list(model.graph.neighbors(sender)))"
   ]
  },
  {
   "cell_type": "markdown",
   "metadata": {},
   "source": [
    "### Update functions"
   ]
  },
  {
   "cell_type": "markdown",
   "metadata": {},
   "source": [
    "## Interazione con il sender"
   ]
  },
  {
   "cell_type": "code",
   "execution_count": 40,
   "metadata": {},
   "outputs": [
    {
     "data": {
      "image/png": "[encoded data removed]",
      "text/plain": [
       "<Figure size 640x480 with 1 Axes>"
      ]
     },
     "metadata": {},
     "output_type": "display_data"
    }
   ],
   "source": [
    "if len(receivers) > 0:\n",
    "    model.actual_status[receivers] = model.update(receivers=receivers, s=signal)\n",
    "\n",
    "assert(np.all(model.actual_status >= 0) and np.all(model.actual_status <= 1)), \"Status values should be between 0 and 1.\"\n",
    "assert(len(model.actual_status) == model.n), f\"Length of actual_status {len(model.actual_status)} does not match the number of nodes {self.n}.\"\n",
    "\n",
    "model.actual_iteration += 1\n",
    "model.status = model.actual_status\n",
    "\n",
    "plt.hist(model.actual_status, bins=30)\n",
    "plt.show()\n",
    "\n",
    "its = {\"iteration\": model.actual_iteration - 1, \"status\": {i: value for i, value in enumerate(model.actual_status)}}"
   ]
  },
  {
   "cell_type": "code",
   "execution_count": 41,
   "metadata": {},
   "outputs": [],
   "source": [
    "system_status.append(its)"
   ]
  },
  {
   "cell_type": "code",
   "execution_count": 42,
   "metadata": {},
   "outputs": [
    {
     "data": {
      "text/plain": [
       "4"
      ]
     },
     "execution_count": 42,
     "metadata": {},
     "output_type": "execute_result"
    }
   ],
   "source": [
    "len(system_status)"
   ]
  },
  {
   "cell_type": "code",
   "execution_count": null,
   "metadata": {},
   "outputs": [],
   "source": []
  }
 ],
 "metadata": {
  "kernelspec": {
   "display_name": "almondo-venv",
   "language": "python",
   "name": "python3"
  },
  "language_info": {
   "codemirror_mode": {
    "name": "ipython",
    "version": 3
   },
   "file_extension": ".py",
   "mimetype": "text/x-python",
   "name": "python",
   "nbconvert_exporter": "python",
   "pygments_lexer": "ipython3",
   "version": "3.11.5"
  }
 },
 "nbformat": 4,
 "nbformat_minor": 2
}
