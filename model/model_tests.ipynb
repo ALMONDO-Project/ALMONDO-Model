{
 "cells": [
  {
   "cell_type": "code",
   "execution_count": 1,
   "metadata": {},
   "outputs": [],
   "source": [
    "from classes.simulator import ALMONDOSimulator\n",
    "from classes.almondoModel import AlmondoModel\n",
    "import networkx as nx\n",
    "import ndlib.models.ModelConfig as mc\n",
    "import json\n",
    "import numpy as np\n",
    "import os\n",
    "from tqdm import tqdm\n",
    "import matplotlib.pyplot as plt\n",
    "import random"
   ]
  },
  {
   "cell_type": "markdown",
   "metadata": {},
   "source": [
    "## Funzioni"
   ]
  },
  {
   "cell_type": "code",
   "execution_count": 2,
   "metadata": {},
   "outputs": [],
   "source": [
    "def create_strategies(n_lobbyists: int, lobbyists_data: dict, N: int, nruns: int, strategies_path:str):\n",
    "        \"\"\"\n",
    "        Generate and save strategies for the lobbyists.\n",
    "        \"\"\"\n",
    "        print('Creating strategies')\n",
    "\n",
    "        for id in range(n_lobbyists):\n",
    "            data = lobbyists_data[id]\n",
    "            B = data['B']\n",
    "            c = data['c']\n",
    "            folder = os.path.join(strategies_path, str(B))\n",
    "            os.makedirs(folder, exist_ok=True)\n",
    "            for run in range(nruns):\n",
    "                filename = f'strategy_{run}.txt'\n",
    "                path = os.path.join(folder, filename)\n",
    "                if not os.path.exists(path):\n",
    "                    inter_per_time = B // (c * 3000)\n",
    "                    matrix = np.zeros((3000, N), dtype=int)\n",
    "                    for t in range(3000):\n",
    "                        indices = np.random.choice(N, inter_per_time, replace=False)\n",
    "                        matrix[t, indices] = 1\n",
    "                    print('Saving strategy to file')\n",
    "                    np.savetxt(path, matrix, fmt=\"%i\")\n",
    "                else:\n",
    "                    continue\n",
    "        print('Strategies created')"
   ]
  },
  {
   "cell_type": "code",
   "execution_count": 3,
   "metadata": {},
   "outputs": [],
   "source": [
    "def read_random_strategy(strategies_path, B: int) -> tuple:\n",
    "        \"\"\"\n",
    "        Read a random strategy for a given B value.\n",
    "\n",
    "        Arguments:\n",
    "        - B: The B value associated with the lobbyist's strategy.\n",
    "\n",
    "        Returns:\n",
    "        - tuple: A tuple containing the strategy matrix and its filename.\n",
    "        \"\"\"\n",
    "        path = os.path.join(strategies_path, str(B))\n",
    "        strategy_name = random.choice(os.listdir(path))\n",
    "        filepath = os.path.join(path, strategy_name)\n",
    "        return np.loadtxt(filepath).astype(int), filepath"
   ]
  },
  {
   "cell_type": "markdown",
   "metadata": {},
   "source": [
    "## Parametri"
   ]
  },
  {
   "cell_type": "code",
   "execution_count": 4,
   "metadata": {},
   "outputs": [],
   "source": [
    "NLs = [0, 1, 2, 3, 4, 20] #number of lobbyists in the simulations\n",
    "params = {\n",
    "    'N': 500,\n",
    "    'p_o': 0.01,\n",
    "    'p_p': 0.99,\n",
    "    'initial_distribution': 'uniform',\n",
    "    'T': 10000,\n",
    "    'lambda_values': [0.0, 0.1, 0.2, 0.3, 0.4, 0.5, 0.6, 0.7, 0.8, 0.9, 1.0],\n",
    "    'phi_values': [0.0, 0.1, 0.2, 0.3, 0.4, 0.5, 0.6, 0.7, 0.8, 0.9, 1.0],\n",
    "    'base': 'results_tests'\n",
    "}    "
   ]
  },
  {
   "cell_type": "code",
   "execution_count": 5,
   "metadata": {},
   "outputs": [
    {
     "name": "stdout",
     "output_type": "stream",
     "text": [
      "performing simulations for balanced_budgets/2_lobbyists\n"
     ]
    }
   ],
   "source": [
    "nl = 2\n",
    "\n",
    "params['scenario'] = f'balanced_budgets/{nl}_lobbyists'\n",
    "params['n_lobbyists'] = nl\n",
    "\n",
    "if nl > 0:\n",
    "    params['lobbyists_data'] = dict()\n",
    "    for id in range(nl):\n",
    "        params['lobbyists_data'][id] = {'m': id%2, 'B': 300000, 'c': 1, 'strategies': [], 'T': 3000}    \n",
    "\n",
    "os.makedirs(params['base'], exist_ok=True)\n",
    "path = os.path.join(params['base'], params['scenario'])\n",
    "os.makedirs(path, exist_ok=True)\n",
    "\n",
    "with open(os.path.join(path, 'initial_config.json'), 'w') as f:\n",
    "    json.dump(params, f, indent=4)\n",
    "\n",
    "print(f'performing simulations for {params[\"scenario\"]}')"
   ]
  },
  {
   "cell_type": "markdown",
   "metadata": {},
   "source": [
    "## Simulator initialization"
   ]
  },
  {
   "cell_type": "code",
   "execution_count": 6,
   "metadata": {},
   "outputs": [
    {
     "name": "stdout",
     "output_type": "stream",
     "text": [
      "Creating strategies\n",
      "Strategies created\n"
     ]
    }
   ],
   "source": [
    "base_path = params['base']\n",
    "scenario_path = os.path.join(params['base'], params['scenario'])\n",
    "os.makedirs(base_path, exist_ok=True)\n",
    "os.makedirs(scenario_path, exist_ok=True)\n",
    "strategies_path = os.path.join(scenario_path, \"strategies\")\n",
    "os.makedirs(strategies_path, exist_ok=True)        \n",
    "\n",
    "N = params['N']\n",
    "graph = nx.complete_graph(N)  # Create a complete graph of N nodes\n",
    "p_o = params['p_o']\n",
    "p_p = params['p_p']\n",
    "lambdas = params['lambda_values']\n",
    "phis = params['phi_values']\n",
    "T = params['T']\n",
    "initial_distribution = params['initial_distribution']\n",
    "nruns = 1\n",
    "lobbyists_data = params['lobbyists_data']\n",
    "n_lobbyists = params['n_lobbyists']\n",
    "\n",
    "if n_lobbyists > 0:\n",
    "    create_strategies(n_lobbyists, lobbyists_data, N, nruns, strategies_path)  # Generate strategies for lobbyists if any exist"
   ]
  },
  {
   "cell_type": "markdown",
   "metadata": {},
   "source": [
    "## Create configuration in simulator"
   ]
  },
  {
   "cell_type": "code",
   "execution_count": 7,
   "metadata": {},
   "outputs": [
    {
     "name": "stdout",
     "output_type": "stream",
     "text": [
      "[(0.0, 0.0), (0.0, 0.1), (0.0, 0.2), (0.0, 0.3), (0.0, 0.4), (0.0, 0.5), (0.0, 0.6), (0.0, 0.7), (0.0, 0.8), (0.0, 0.9), (0.0, 1.0), (0.1, 0.0), (0.1, 0.1), (0.1, 0.2), (0.1, 0.3), (0.1, 0.4), (0.1, 0.5), (0.1, 0.6), (0.1, 0.7), (0.1, 0.8), (0.1, 0.9), (0.1, 1.0), (0.2, 0.0), (0.2, 0.1), (0.2, 0.2), (0.2, 0.3), (0.2, 0.4), (0.2, 0.5), (0.2, 0.6), (0.2, 0.7), (0.2, 0.8), (0.2, 0.9), (0.2, 1.0), (0.3, 0.0), (0.3, 0.1), (0.3, 0.2), (0.3, 0.3), (0.3, 0.4), (0.3, 0.5), (0.3, 0.6), (0.3, 0.7), (0.3, 0.8), (0.3, 0.9), (0.3, 1.0), (0.4, 0.0), (0.4, 0.1), (0.4, 0.2), (0.4, 0.3), (0.4, 0.4), (0.4, 0.5), (0.4, 0.6), (0.4, 0.7), (0.4, 0.8), (0.4, 0.9), (0.4, 1.0), (0.5, 0.0), (0.5, 0.1), (0.5, 0.2), (0.5, 0.3), (0.5, 0.4), (0.5, 0.5), (0.5, 0.6), (0.5, 0.7), (0.5, 0.8), (0.5, 0.9), (0.5, 1.0), (0.6, 0.0), (0.6, 0.1), (0.6, 0.2), (0.6, 0.3), (0.6, 0.4), (0.6, 0.5), (0.6, 0.6), (0.6, 0.7), (0.6, 0.8), (0.6, 0.9), (0.6, 1.0), (0.7, 0.0), (0.7, 0.1), (0.7, 0.2), (0.7, 0.3), (0.7, 0.4), (0.7, 0.5), (0.7, 0.6), (0.7, 0.7), (0.7, 0.8), (0.7, 0.9), (0.7, 1.0), (0.8, 0.0), (0.8, 0.1), (0.8, 0.2), (0.8, 0.3), (0.8, 0.4), (0.8, 0.5), (0.8, 0.6), (0.8, 0.7), (0.8, 0.8), (0.8, 0.9), (0.8, 1.0), (0.9, 0.0), (0.9, 0.1), (0.9, 0.2), (0.9, 0.3), (0.9, 0.4), (0.9, 0.5), (0.9, 0.6), (0.9, 0.7), (0.9, 0.8), (0.9, 0.9), (0.9, 1.0), (1.0, 0.0), (1.0, 0.1), (1.0, 0.2), (1.0, 0.3), (1.0, 0.4), (1.0, 0.5), (1.0, 0.6), (1.0, 0.7), (1.0, 0.8), (1.0, 0.9), (1.0, 1.0)]\n"
     ]
    }
   ],
   "source": [
    "parameters_pairs = ([(l, p) for l in lambdas for p in phis])\n",
    "print(parameters_pairs)"
   ]
  },
  {
   "cell_type": "code",
   "execution_count": 8,
   "metadata": {},
   "outputs": [
    {
     "name": "stdout",
     "output_type": "stream",
     "text": [
      "Creating configuration object\n",
      "Assigning p_o and p_p parameters\n",
      "p_o=0.01, p_p=0.99\n",
      "Assigning homogeneous lambda\n",
      "Assigning homogeneous phi\n",
      "Configuring model: assigning graph, parameters, and initial distribution of weights\n"
     ]
    }
   ],
   "source": [
    "lambda_v = parameters_pairs[0][0]\n",
    "phi_v = parameters_pairs[0][1]\n",
    "\n",
    "print('Creating configuration object')\n",
    "config = mc.Configuration()\n",
    "\n",
    "print('Assigning p_o and p_p parameters')\n",
    "config.add_model_parameter(\"p_o\", p_o)\n",
    "config.add_model_parameter(\"p_p\", p_p)\n",
    "print(f'p_o={p_o}, p_p={p_p}')\n",
    "\n",
    "# Configure lambda values for each agent\n",
    "if isinstance(lambda_v, list):\n",
    "    for i in graph.nodes():\n",
    "        config.add_node_configuration(\"lambda\", i, lambda_v[i])\n",
    "elif isinstance(lambda_v, float):\n",
    "    print('Assigning homogeneous lambda')\n",
    "    for i in graph.nodes():\n",
    "        config.add_node_configuration(\"lambda\", i, lambda_v)\n",
    "else:\n",
    "    raise ValueError(\"lambda_v must be a float or a list\")\n",
    "\n",
    "# Configure phi values for each agent\n",
    "if isinstance(phi_v, list):\n",
    "    for i in graph.nodes():\n",
    "        config.add_node_configuration(\"phi\", i, phi_v[i])\n",
    "elif isinstance(phi_v, float):\n",
    "    print('Assigning homogeneous phi')\n",
    "    for i in graph.nodes():\n",
    "        config.add_node_configuration(\"phi\", i, phi_v)\n",
    "else:\n",
    "    raise ValueError(\"phi_v must be a float or a list\")\n",
    "\n",
    "# Initialize the model with the graph and configuration\n",
    "print('Configuring model: assigning graph, parameters, and initial distribution of weights')\n",
    "model = AlmondoModel(graph)"
   ]
  },
  {
   "cell_type": "code",
   "execution_count": 9,
   "metadata": {},
   "outputs": [
    {
     "name": "stdout",
     "output_type": "stream",
     "text": [
      "Initial status set\n"
     ]
    }
   ],
   "source": [
    "model.set_initial_status(config, kind=initial_distribution)\n",
    "print('Initial status set')"
   ]
  },
  {
   "cell_type": "code",
   "execution_count": 10,
   "metadata": {},
   "outputs": [
    {
     "name": "stdout",
     "output_type": "stream",
     "text": [
      "[0.95246821 0.58131125 0.81554443 0.17642859 0.28180933 0.35492418\n",
      " 0.95542305 0.85638213 0.25572574 0.12210512 0.64637814 0.49403801\n",
      " 0.15461332 0.30467479 0.8144284  0.14979003 0.31961432 0.17845697\n",
      " 0.15590171 0.01493474 0.6249178  0.77567844 0.07781613 0.3860562\n",
      " 0.30323066 0.9207601  0.7321407  0.21225739 0.31600788 0.84761304\n",
      " 0.84278509 0.13656053 0.73853613 0.97016502 0.29779391 0.40029019\n",
      " 0.41009502 0.20939852 0.56065245 0.60382907 0.48310848 0.52087432\n",
      " 0.66785514 0.12179346 0.00799189 0.39643884 0.85791679 0.79900217\n",
      " 0.3684007  0.77364427 0.55479798 0.10044498 0.55717327 0.29229348\n",
      " 0.61798073 0.863617   0.97962371 0.80361062 0.98331385 0.04309548\n",
      " 0.37499667 0.30344813 0.61686369 0.17128039 0.04936023 0.01397287\n",
      " 0.00939023 0.90057268 0.227214   0.16029678 0.10662748 0.88776882\n",
      " 0.29734889 0.71808941 0.21444229 0.16990952 0.92124853 0.12758969\n",
      " 0.24592264 0.79554598 0.87354045 0.26156268 0.50584426 0.64141008\n",
      " 0.51928215 0.03332886 0.3335511  0.7986923  0.36627471 0.36661413\n",
      " 0.00823085 0.81604572 0.58032921 0.78493349 0.56852192 0.03864297\n",
      " 0.69568589 0.63279101 0.97628089 0.58054187 0.0595544  0.2663415\n",
      " 0.56630127 0.97764647 0.32656257 0.58040617 0.70254877 0.03566356\n",
      " 0.05101432 0.10787229 0.94446022 0.37464381 0.56334115 0.23304842\n",
      " 0.66326347 0.94507289 0.8535757  0.6510914  0.96740107 0.5494823\n",
      " 0.87737593 0.93073457 0.12177117 0.13014167 0.11619436 0.00119025\n",
      " 0.97310775 0.3200606  0.60932908 0.23063421 0.87472207 0.75012793\n",
      " 0.92418368 0.77278732 0.10036417 0.79794645 0.32243186 0.51941577\n",
      " 0.00166807 0.04740435 0.7299756  0.82335266 0.73719741 0.68731967\n",
      " 0.90880134 0.59983721 0.92765733 0.89715845 0.34081969 0.73729547\n",
      " 0.34248759 0.86832633 0.58121812 0.2377932  0.26488762 0.83493243\n",
      " 0.50748715 0.46679973 0.89401862 0.90207141 0.40866432 0.63728853\n",
      " 0.49767362 0.13156564 0.46926436 0.54212049 0.97269327 0.67164921\n",
      " 0.58618022 0.18053919 0.67773111 0.65955309 0.34482151 0.69596631\n",
      " 0.45181423 0.08656271 0.05556745 0.89725209 0.89925846 0.10345761\n",
      " 0.60414302 0.72484216 0.82034048 0.03619355 0.80087507 0.06131072\n",
      " 0.05504927 0.13297112 0.3264899  0.26891019 0.50267841 0.49279297\n",
      " 0.31476761 0.0110056  0.49873989 0.29847661 0.62257312 0.7408045\n",
      " 0.12399954 0.2213319  0.18504633 0.1448406  0.10793114 0.98015648\n",
      " 0.98310097 0.49766873 0.96032104 0.4075853  0.40857952 0.09258177\n",
      " 0.11720712 0.81158359 0.57936637 0.27120699 0.97426098 0.11442849\n",
      " 0.24066928 0.86058284 0.44897678 0.0450886  0.24850322 0.5557611\n",
      " 0.70107261 0.54506548 0.37446702 0.2428249  0.85773562 0.03318693\n",
      " 0.08719278 0.30287264 0.55318341 0.69601409 0.18895424 0.98813798\n",
      " 0.04642063 0.5886261  0.38091151 0.94179563 0.77381564 0.70952145\n",
      " 0.57484088 0.18977277 0.90155236 0.66569388 0.8936029  0.31800975\n",
      " 0.15812142 0.23005256 0.93678172 0.24622731 0.36811778 0.11287505\n",
      " 0.06864475 0.01022349 0.72784606 0.2051334  0.75813872 0.8132644\n",
      " 0.45105104 0.66462324 0.54001119 0.05830229 0.39882507 0.29958507\n",
      " 0.26937084 0.5477979  0.32083088 0.51596252 0.13150158 0.20602193\n",
      " 0.26095726 0.71899705 0.36119724 0.16323438 0.95246739 0.81387256\n",
      " 0.71767132 0.78066604 0.18028824 0.38652686 0.42497452 0.81872262\n",
      " 0.4974312  0.35329633 0.77438618 0.75389093 0.5530162  0.84645287\n",
      " 0.71389763 0.18383397 0.21465195 0.98782269 0.16847736 0.44703945\n",
      " 0.59919747 0.51406153 0.21119828 0.20698958 0.19233081 0.20368832\n",
      " 0.00279048 0.90489017 0.96956826 0.89973945 0.08608988 0.51841282\n",
      " 0.66495682 0.72219873 0.05885771 0.80898277 0.22994666 0.09041487\n",
      " 0.64309818 0.25565801 0.4537053  0.53487347 0.81094135 0.50371834\n",
      " 0.78005181 0.52030258 0.74047337 0.97405052 0.64425906 0.13669013\n",
      " 0.62905958 0.81921777 0.3864807  0.97439965 0.09208502 0.37447379\n",
      " 0.56203987 0.20684816 0.86359994 0.51638836 0.08000009 0.88847561\n",
      " 0.82939274 0.36853593 0.34050881 0.54638943 0.36785643 0.26211524\n",
      " 0.51760924 0.0186596  0.86128051 0.94075521 0.98434099 0.49516596\n",
      " 0.53140834 0.17300213 0.3603185  0.0539003  0.78717362 0.6980565\n",
      " 0.3920214  0.52073902 0.13861389 0.75435886 0.2982961  0.68028947\n",
      " 0.42712242 0.98002578 0.15983078 0.62908965 0.92288306 0.40404225\n",
      " 0.4152167  0.86636932 0.63974404 0.45238721 0.11479823 0.16655401\n",
      " 0.62925575 0.04661566 0.77905155 0.58464773 0.53336422 0.67998051\n",
      " 0.35311745 0.32635384 0.86408106 0.37689975 0.95654394 0.16268838\n",
      " 0.62498995 0.28281987 0.52431412 0.16627722 0.62941795 0.87121674\n",
      " 0.40425532 0.52114142 0.62942784 0.12106    0.13769169 0.36636117\n",
      " 0.48409911 0.7437456  0.87435573 0.39675599 0.15318888 0.3562527\n",
      " 0.65324986 0.87924089 0.99418543 0.54032295 0.51114012 0.91627129\n",
      " 0.06579959 0.01627652 0.31093889 0.06967101 0.41336017 0.85433086\n",
      " 0.66362419 0.93245757 0.04340608 0.75783506 0.51953559 0.3963934\n",
      " 0.87050514 0.37054376 0.66618468 0.90848769 0.32943394 0.06986037\n",
      " 0.83958816 0.78188901 0.10828062 0.82631838 0.81355079 0.92704754\n",
      " 0.64612336 0.33085713 0.56854109 0.48929958 0.47785868 0.100507\n",
      " 0.8144631  0.11732598 0.78447354 0.0151475  0.78104731 0.94305837\n",
      " 0.96248917 0.21739327 0.9335003  0.44952092 0.02866729 0.5738708\n",
      " 0.6106209  0.75598596 0.04506588 0.57187265 0.64223211 0.06012875\n",
      " 0.66880697 0.57547342 0.06343058 0.13666655 0.93711057 0.68680491\n",
      " 0.55918553 0.12326865 0.33755628 0.42075351 0.77662406 0.10398331\n",
      " 0.85779032 0.88906181 0.21986386 0.39126641 0.62307803 0.57979701\n",
      " 0.14454199 0.57266155 0.43599285 0.91288027 0.46814721 0.6693784\n",
      " 0.79307993 0.80269799 0.60896393 0.05419946 0.22307388 0.79240526\n",
      " 0.59374744 0.88255766 0.72789505 0.88811594 0.36926897 0.86807969\n",
      " 0.35282225 0.0275045  0.36659204 0.86775862 0.65577734 0.31218105\n",
      " 0.74030711 0.21597859]\n"
     ]
    }
   ],
   "source": [
    "print(model.status)"
   ]
  },
  {
   "cell_type": "code",
   "execution_count": 12,
   "metadata": {},
   "outputs": [
    {
     "data": {
      "image/png": "[encoded data removed]",
      "text/plain": [
       "<Figure size 640x480 with 1 Axes>"
      ]
     },
     "metadata": {},
     "output_type": "display_data"
    }
   ],
   "source": [
    "distrib = np.random.uniform(low=0, high=1, size=N)\n",
    "plt.hist(distrib, bins=10)\n",
    "plt.show()"
   ]
  },
  {
   "cell_type": "markdown",
   "metadata": {},
   "source": [
    "#### La funzione iniziale su 100 run genera distribuzioni con media 0.5?"
   ]
  },
  {
   "cell_type": "code",
   "execution_count": 15,
   "metadata": {},
   "outputs": [
    {
     "name": "stdout",
     "output_type": "stream",
     "text": [
      "0.5068413849395671\n",
      "0.5111868322438436\n",
      "0.5001301574521103\n",
      "0.49992050703599145\n",
      "0.5058161829718403\n",
      "0.5082888440379506\n",
      "0.5045929504180552\n",
      "0.49402769827503723\n",
      "0.5191259036124994\n",
      "0.49749816319317414\n",
      "0.48450989896771723\n",
      "0.498990089810292\n",
      "0.5199223325688703\n",
      "0.5061890839096106\n",
      "0.49229155299320315\n",
      "0.49346875709152127\n",
      "0.48906057893918536\n",
      "0.5034793854458008\n",
      "0.49631415343717117\n",
      "0.5034964395701653\n",
      "0.4910664202617174\n",
      "0.5163439674557206\n",
      "0.482642988028221\n",
      "0.5046257431012515\n",
      "0.5223714970987676\n",
      "0.483181938122998\n",
      "0.4997063417357518\n",
      "0.5087403063460489\n",
      "0.4904602786721748\n",
      "0.47923799532830197\n",
      "0.5018009641326783\n",
      "0.5083581862891449\n",
      "0.48903201574143806\n",
      "0.5022722162981295\n",
      "0.4674763800928116\n",
      "0.5118185860563053\n",
      "0.49846547874963637\n",
      "0.5036302230633984\n",
      "0.49748440421511153\n",
      "0.5032645742470598\n",
      "0.519397112378243\n",
      "0.5187643384144394\n",
      "0.5031608260615315\n",
      "0.5074072592667183\n",
      "0.49626196492159785\n",
      "0.50683202251904\n",
      "0.5097071466445494\n",
      "0.5204673872386104\n",
      "0.5099435568928892\n",
      "0.4820574241259701\n",
      "0.4851669767669127\n",
      "0.47179427735041646\n",
      "0.5091816707891056\n",
      "0.4950445427272319\n",
      "0.48945293485083585\n",
      "0.49464046041203663\n",
      "0.5069396895947412\n",
      "0.509054062482294\n",
      "0.5121531154619885\n",
      "0.503161946493746\n",
      "0.48832208221488144\n",
      "0.4975107643295596\n",
      "0.5177048029318208\n",
      "0.49966272236129533\n",
      "0.4720353916436311\n",
      "0.5066523168387803\n",
      "0.5231327822092319\n",
      "0.5026465847695581\n",
      "0.49681425268462615\n",
      "0.5060346795822819\n",
      "0.5138649514740102\n",
      "0.518848711899591\n",
      "0.5066583127695363\n",
      "0.5098279492122391\n",
      "0.49974496098015575\n",
      "0.49988396814389463\n",
      "0.4746835746070519\n",
      "0.5060690873530183\n",
      "0.4889257044238731\n",
      "0.48265165566195034\n",
      "0.505645760763603\n",
      "0.49971780855072\n",
      "0.5258940822225969\n",
      "0.5092655080715152\n",
      "0.5143509409635071\n",
      "0.48277605876356455\n",
      "0.5115551680820128\n",
      "0.5056950337051825\n",
      "0.49822713822983744\n",
      "0.4777227948335219\n",
      "0.5089000419089635\n",
      "0.5191587365139916\n",
      "0.49468072144756037\n",
      "0.48697831257427243\n",
      "0.49512103208213176\n",
      "0.48231417814914734\n",
      "0.5010385449378968\n",
      "0.49381709360436377\n",
      "0.49549895826367946\n",
      "0.5040999305696898\n"
     ]
    },
    {
     "data": {
      "text/plain": [
       "np.float64(0.5007185321767192)"
      ]
     },
     "execution_count": 15,
     "metadata": {},
     "output_type": "execute_result"
    }
   ],
   "source": [
    "avg_ops = []\n",
    "\n",
    "for _ in range(100):\n",
    "    distrib = np.random.uniform(0, 1, N)\n",
    "    avg_opinion = np.mean(distrib)\n",
    "    print(avg_opinion)\n",
    "    avg_ops.append(avg_opinion)\n",
    "\n",
    "sum(avg_ops)/len(avg_ops)"
   ]
  },
  {
   "cell_type": "code",
   "execution_count": 16,
   "metadata": {},
   "outputs": [
    {
     "name": "stdout",
     "output_type": "stream",
     "text": [
      "[0. 0. 0. 0. 0. 0. 0. 0. 0. 0. 0. 0. 0. 0. 0. 0. 0. 0. 0. 0. 0. 0. 0. 0.\n",
      " 0. 0. 0. 0. 0. 0. 0. 0. 0. 0. 0. 0. 0. 0. 0. 0. 0. 0. 0. 0. 0. 0. 0. 0.\n",
      " 0. 0. 0. 0. 0. 0. 0. 0. 0. 0. 0. 0. 0. 0. 0. 0. 0. 0. 0. 0. 0. 0. 0. 0.\n",
      " 0. 0. 0. 0. 0. 0. 0. 0. 0. 0. 0. 0. 0. 0. 0. 0. 0. 0. 0. 0. 0. 0. 0. 0.\n",
      " 0. 0. 0. 0. 0. 0. 0. 0. 0. 0. 0. 0. 0. 0. 0. 0. 0. 0. 0. 0. 0. 0. 0. 0.\n",
      " 0. 0. 0. 0. 0. 0. 0. 0. 0. 0. 0. 0. 0. 0. 0. 0. 0. 0. 0. 0. 0. 0. 0. 0.\n",
      " 0. 0. 0. 0. 0. 0. 0. 0. 0. 0. 0. 0. 0. 0. 0. 0. 0. 0. 0. 0. 0. 0. 0. 0.\n",
      " 0. 0. 0. 0. 0. 0. 0. 0. 0. 0. 0. 0. 0. 0. 0. 0. 0. 0. 0. 0. 0. 0. 0. 0.\n",
      " 0. 0. 0. 0. 0. 0. 0. 0. 0. 0. 0. 0. 0. 0. 0. 0. 0. 0. 0. 0. 0. 0. 0. 0.\n",
      " 0. 0. 0. 0. 0. 0. 0. 0. 0. 0. 0. 0. 0. 0. 0. 0. 0. 0. 0. 0. 0. 0. 0. 0.\n",
      " 0. 0. 0. 0. 0. 0. 0. 0. 0. 0. 0. 0. 0. 0. 0. 0. 0. 0. 0. 0. 0. 0. 0. 0.\n",
      " 0. 0. 0. 0. 0. 0. 0. 0. 0. 0. 0. 0. 0. 0. 0. 0. 0. 0. 0. 0. 0. 0. 0. 0.\n",
      " 0. 0. 0. 0. 0. 0. 0. 0. 0. 0. 0. 0. 0. 0. 0. 0. 0. 0. 0. 0. 0. 0. 0. 0.\n",
      " 0. 0. 0. 0. 0. 0. 0. 0. 0. 0. 0. 0. 0. 0. 0. 0. 0. 0. 0. 0. 0. 0. 0. 0.\n",
      " 0. 0. 0. 0. 0. 0. 0. 0. 0. 0. 0. 0. 0. 0. 0. 0. 0. 0. 0. 0. 0. 0. 0. 0.\n",
      " 0. 0. 0. 0. 0. 0. 0. 0. 0. 0. 0. 0. 0. 0. 0. 0. 0. 0. 0. 0. 0. 0. 0. 0.\n",
      " 0. 0. 0. 0. 0. 0. 0. 0. 0. 0. 0. 0. 0. 0. 0. 0. 0. 0. 0. 0. 0. 0. 0. 0.\n",
      " 0. 0. 0. 0. 0. 0. 0. 0. 0. 0. 0. 0. 0. 0. 0. 0. 0. 0. 0. 0. 0. 0. 0. 0.\n",
      " 0. 0. 0. 0. 0. 0. 0. 0. 0. 0. 0. 0. 0. 0. 0. 0. 0. 0. 0. 0. 0. 0. 0. 0.\n",
      " 0. 0. 0. 0. 0. 0. 0. 0. 0. 0. 0. 0. 0. 0. 0. 0. 0. 0. 0. 0. 0. 0. 0. 0.\n",
      " 0. 0. 0. 0. 0. 0. 0. 0. 0. 0. 0. 0. 0. 0. 0. 0. 0. 0. 0. 0.]\n"
     ]
    }
   ],
   "source": [
    "print(model.lambdas)"
   ]
  },
  {
   "cell_type": "code",
   "execution_count": 17,
   "metadata": {},
   "outputs": [
    {
     "name": "stdout",
     "output_type": "stream",
     "text": [
      "[0. 0. 0. 0. 0. 0. 0. 0. 0. 0. 0. 0. 0. 0. 0. 0. 0. 0. 0. 0. 0. 0. 0. 0.\n",
      " 0. 0. 0. 0. 0. 0. 0. 0. 0. 0. 0. 0. 0. 0. 0. 0. 0. 0. 0. 0. 0. 0. 0. 0.\n",
      " 0. 0. 0. 0. 0. 0. 0. 0. 0. 0. 0. 0. 0. 0. 0. 0. 0. 0. 0. 0. 0. 0. 0. 0.\n",
      " 0. 0. 0. 0. 0. 0. 0. 0. 0. 0. 0. 0. 0. 0. 0. 0. 0. 0. 0. 0. 0. 0. 0. 0.\n",
      " 0. 0. 0. 0. 0. 0. 0. 0. 0. 0. 0. 0. 0. 0. 0. 0. 0. 0. 0. 0. 0. 0. 0. 0.\n",
      " 0. 0. 0. 0. 0. 0. 0. 0. 0. 0. 0. 0. 0. 0. 0. 0. 0. 0. 0. 0. 0. 0. 0. 0.\n",
      " 0. 0. 0. 0. 0. 0. 0. 0. 0. 0. 0. 0. 0. 0. 0. 0. 0. 0. 0. 0. 0. 0. 0. 0.\n",
      " 0. 0. 0. 0. 0. 0. 0. 0. 0. 0. 0. 0. 0. 0. 0. 0. 0. 0. 0. 0. 0. 0. 0. 0.\n",
      " 0. 0. 0. 0. 0. 0. 0. 0. 0. 0. 0. 0. 0. 0. 0. 0. 0. 0. 0. 0. 0. 0. 0. 0.\n",
      " 0. 0. 0. 0. 0. 0. 0. 0. 0. 0. 0. 0. 0. 0. 0. 0. 0. 0. 0. 0. 0. 0. 0. 0.\n",
      " 0. 0. 0. 0. 0. 0. 0. 0. 0. 0. 0. 0. 0. 0. 0. 0. 0. 0. 0. 0. 0. 0. 0. 0.\n",
      " 0. 0. 0. 0. 0. 0. 0. 0. 0. 0. 0. 0. 0. 0. 0. 0. 0. 0. 0. 0. 0. 0. 0. 0.\n",
      " 0. 0. 0. 0. 0. 0. 0. 0. 0. 0. 0. 0. 0. 0. 0. 0. 0. 0. 0. 0. 0. 0. 0. 0.\n",
      " 0. 0. 0. 0. 0. 0. 0. 0. 0. 0. 0. 0. 0. 0. 0. 0. 0. 0. 0. 0. 0. 0. 0. 0.\n",
      " 0. 0. 0. 0. 0. 0. 0. 0. 0. 0. 0. 0. 0. 0. 0. 0. 0. 0. 0. 0. 0. 0. 0. 0.\n",
      " 0. 0. 0. 0. 0. 0. 0. 0. 0. 0. 0. 0. 0. 0. 0. 0. 0. 0. 0. 0. 0. 0. 0. 0.\n",
      " 0. 0. 0. 0. 0. 0. 0. 0. 0. 0. 0. 0. 0. 0. 0. 0. 0. 0. 0. 0. 0. 0. 0. 0.\n",
      " 0. 0. 0. 0. 0. 0. 0. 0. 0. 0. 0. 0. 0. 0. 0. 0. 0. 0. 0. 0. 0. 0. 0. 0.\n",
      " 0. 0. 0. 0. 0. 0. 0. 0. 0. 0. 0. 0. 0. 0. 0. 0. 0. 0. 0. 0. 0. 0. 0. 0.\n",
      " 0. 0. 0. 0. 0. 0. 0. 0. 0. 0. 0. 0. 0. 0. 0. 0. 0. 0. 0. 0. 0. 0. 0. 0.\n",
      " 0. 0. 0. 0. 0. 0. 0. 0. 0. 0. 0. 0. 0. 0. 0. 0. 0. 0. 0. 0.]\n"
     ]
    }
   ],
   "source": [
    "print(model.phis)"
   ]
  },
  {
   "cell_type": "code",
   "execution_count": 18,
   "metadata": {},
   "outputs": [
    {
     "name": "stdout",
     "output_type": "stream",
     "text": [
      "[]\n"
     ]
    }
   ],
   "source": [
    "print(model.lobbyists)"
   ]
  },
  {
   "cell_type": "code",
   "execution_count": 19,
   "metadata": {},
   "outputs": [
    {
     "name": "stdout",
     "output_type": "stream",
     "text": [
      "[]\n"
     ]
    }
   ],
   "source": [
    "print(model.system_status)"
   ]
  },
  {
   "cell_type": "code",
   "execution_count": 20,
   "metadata": {},
   "outputs": [
    {
     "name": "stdout",
     "output_type": "stream",
     "text": [
      "Assign strategies to lobbyists if any\n"
     ]
    },
    {
     "name": "stderr",
     "output_type": "stream",
     "text": [
      "  0%|          | 0/2 [00:00<?, ?it/s]"
     ]
    },
    {
     "name": "stdout",
     "output_type": "stream",
     "text": [
      "300000\n",
      "300000\n"
     ]
    },
    {
     "name": "stderr",
     "output_type": "stream",
     "text": [
      "100%|██████████| 2/2 [00:00<00:00, 14.09it/s]"
     ]
    },
    {
     "name": "stdout",
     "output_type": "stream",
     "text": [
      "Configuration ended\n"
     ]
    },
    {
     "name": "stderr",
     "output_type": "stream",
     "text": [
      "\n"
     ]
    }
   ],
   "source": [
    "print('Assign strategies to lobbyists if any')\n",
    "if n_lobbyists > 0:\n",
    "    for id in tqdm(lobbyists_data):\n",
    "        data = lobbyists_data[id]\n",
    "        B = data['B']\n",
    "        print(B)\n",
    "        m = data['m']\n",
    "        matrix, name = read_random_strategy(strategies_path, B)\n",
    "        model.add_lobbyist(m, matrix)\n",
    "        lobbyists_data[id]['strategies'].append(name)\n",
    "\n",
    "print('Configuration ended')"
   ]
  },
  {
   "cell_type": "code",
   "execution_count": 21,
   "metadata": {},
   "outputs": [
    {
     "name": "stdout",
     "output_type": "stream",
     "text": [
      "[<classes.almondoModel.AlmondoModel.LobbyistAgent object at 0x7279cbfd1390>, <classes.almondoModel.AlmondoModel.LobbyistAgent object at 0x7279cc008fd0>]\n"
     ]
    }
   ],
   "source": [
    "print(model.lobbyists)"
   ]
  },
  {
   "cell_type": "code",
   "execution_count": 37,
   "metadata": {},
   "outputs": [
    {
     "data": {
      "image/png": "[encoded data removed]",
      "text/plain": [
       "<Figure size 640x480 with 1 Axes>"
      ]
     },
     "metadata": {},
     "output_type": "display_data"
    }
   ],
   "source": [
    "plt.hist(model.status)\n",
    "plt.show()"
   ]
  },
  {
   "cell_type": "code",
   "execution_count": 38,
   "metadata": {},
   "outputs": [],
   "source": [
    "system_status = []"
   ]
  },
  {
   "cell_type": "code",
   "execution_count": 39,
   "metadata": {},
   "outputs": [],
   "source": [
    "actual_iteration = 0"
   ]
  },
  {
   "cell_type": "code",
   "execution_count": 40,
   "metadata": {},
   "outputs": [],
   "source": [
    "node_status = True"
   ]
  },
  {
   "cell_type": "code",
   "execution_count": 41,
   "metadata": {},
   "outputs": [],
   "source": [
    "def generate_lambda(w: np.ndarray, s: float, phi: np.ndarray, lam: np.ndarray) -> np.ndarray:\n",
    "        \"\"\"\n",
    "        Generates a lambda value for each node based on the current status and parameters.\n",
    "\n",
    "        Arguments:\n",
    "            w (np.ndarray): The current status of nodes.\n",
    "            s (float): Strategy value for influence.\n",
    "            phi (np.ndarray): The phi parameter for nodes.\n",
    "            lam (np.ndarray): The lambda parameter for nodes.\n",
    "\n",
    "        Returns:\n",
    "            np.ndarray: The calculated lambda values for the nodes.\n",
    "        \"\"\"\n",
    "        f = np.abs((1 - s) - w)  # Difference between current state and strategy\n",
    "        lambdas = phi * f + (1 - phi) * lam\n",
    "        \n",
    "        assert(len(lambdas) == len(w)), f\"Length of lambdas {len(lambdas)} does not match the number of nodes {len(w)}.\"\n",
    "        \n",
    "        return lambdas  # Weighted influence"
   ]
  },
  {
   "cell_type": "code",
   "execution_count": 42,
   "metadata": {},
   "outputs": [],
   "source": [
    "def update(receivers: np.ndarray, s: float) -> np.ndarray:\n",
    "        \"\"\"\n",
    "        Updates the status of receiver nodes based on a signal and their current status.\n",
    "\n",
    "        Arguments:\n",
    "            receivers (np.ndarray): List of nodes to receive the signal.\n",
    "            s (float): The signal to propagate to receivers.\n",
    "\n",
    "        Returns:\n",
    "            np.ndarray: Updated statuses for the receiver nodes.\n",
    "        \"\"\"\n",
    "        w = model.actual_status[receivers]  # Current status of the receiver nodes\n",
    "        \n",
    "        p_o = model.params['model']['p_o']\n",
    "        p_p = model.params['model']['p_p']\n",
    "        p = w * p_o + (1 - w) * p_p  # Combined probability based on current node's status\n",
    "        \n",
    "        phi = model.phis[receivers]\n",
    "        lam = model.lambdas[receivers]\n",
    "        \n",
    "        l = generate_lambda(model.actual_status[receivers], s, phi, lam)\n",
    "        \n",
    "        updated_w = l * w + (1 - l) * w * (s * (p_o / p) + (1 - s) * ((1 - p_o) / (1 - p)))\n",
    "        \n",
    "        assert(len(updated_w) == len(w)), f\"Length of updated_w {len(updated_w)} does not match the number of receivers {len(w)}.\"\n",
    "        \n",
    "        return np.clip(updated_w, 0, 1)"
   ]
  },
  {
   "cell_type": "markdown",
   "metadata": {},
   "source": [
    "## Interazione con il lobbista"
   ]
  },
  {
   "cell_type": "code",
   "execution_count": 43,
   "metadata": {},
   "outputs": [],
   "source": [
    "def lupdate(w: np.ndarray, lobbyist: object, t: int) -> np.ndarray:\n",
    "        \"\"\"\n",
    "        Updates the status of nodes with the influence of a given lobbyist.\n",
    "\n",
    "        Arguments:\n",
    "            w (np.ndarray): The current status of nodes.\n",
    "            lobbyist (LobbyistAgent): The lobbyist influencing the nodes.\n",
    "            t (int): Current time step for the lobbyist's strategy.\n",
    "\n",
    "        Returns:\n",
    "            np.ndarray: Updated node statuses considering lobbyist influence.\n",
    "        \"\"\"\n",
    "        m = lobbyist.get_model()\n",
    "        s = lobbyist.get_current_strategy(t)\n",
    "        \n",
    "        if s is not None:\n",
    "            \n",
    "            c = m * s  # Create a signal from the lobbyist at time t\n",
    "            p_o = model.params['model']['p_o']\n",
    "            p_p = model.params['model']['p_p']\n",
    "            p = w * p_o + (1 - w) * p_p\n",
    "            phi = model.phis #array of phi values for all nodes\n",
    "            lam = model.lambdas #array of lambda values for all nodes\n",
    "            l = generate_lambda(w, s, phi, lam)\n",
    "            updated_w = (1 - s) * w + s * w * (l + (1 - l) * (c * (p_o / p) + (1 - c) * ((1 - p_o) / (1 - p))))\n",
    "            assert(len(updated_w) == len(w)), f\"Length of updated_w {len(updated_w)} does not match the number of nodes {len(w)}.\"\n",
    "            \n",
    "            return np.clip(updated_w, 0, 1)\n",
    "        \n",
    "        else:\n",
    "            \n",
    "            return np.clip(w, 0, 1)"
   ]
  },
  {
   "cell_type": "code",
   "execution_count": 44,
   "metadata": {},
   "outputs": [
    {
     "name": "stdout",
     "output_type": "stream",
     "text": [
      "[<classes.almondoModel.AlmondoModel.LobbyistAgent object at 0x7279cbfd1390>, <classes.almondoModel.AlmondoModel.LobbyistAgent object at 0x7279cc008fd0>]\n"
     ]
    }
   ],
   "source": [
    "print(model.lobbyists)"
   ]
  },
  {
   "cell_type": "code",
   "execution_count": 52,
   "metadata": {},
   "outputs": [
    {
     "data": {
      "image/png": "[encoded data removed]",
      "text/plain": [
       "<Figure size 640x480 with 1 Axes>"
      ]
     },
     "metadata": {},
     "output_type": "display_data"
    }
   ],
   "source": [
    "model.actual_status = model.status.copy()\n",
    "\n",
    "if model.actual_iteration == 0:\n",
    "    model.actual_iteration += 1\n",
    "    if node_status:\n",
    "        its = {\"iteration\": 0, \"status\": {i: value for i, value in enumerate(model.actual_status)}}\n",
    "    else:\n",
    "        its = {\"iteration\": 0, \"status\": {}}\n",
    "\n",
    "p_o = model.params['model']['p_o']\n",
    "p_p = model.params['model']['p_p']\n",
    "\n",
    "lobbyist_list = model.lobbyists.copy()\n",
    "                \n",
    "random.shuffle(lobbyist_list)\n",
    "\n",
    "if len(model.lobbyists) > 0:\n",
    "    for lobbyist in lobbyist_list:\n",
    "        if model.actual_iteration < lobbyist.get_max_t():\n",
    "            w = lupdate(model.actual_status, lobbyist, model.actual_iteration)\n",
    "\n",
    "model.actual_status = w.copy()\n",
    "\n",
    "plt.hist(model.actual_status, bins=30)\n",
    "plt.show()\n"
   ]
  },
  {
   "cell_type": "code",
   "execution_count": 53,
   "metadata": {},
   "outputs": [],
   "source": [
    "system_status.append(its)"
   ]
  },
  {
   "cell_type": "code",
   "execution_count": 54,
   "metadata": {},
   "outputs": [
    {
     "name": "stdout",
     "output_type": "stream",
     "text": [
      "sender  400\n",
      "p  0.9882125301673107\n",
      "signal  1\n",
      "[  0   1   2   3   4   5   6   7   8   9  10  11  12  13  14  15  16  17\n",
      "  18  19  20  21  22  23  24  25  26  27  28  29  30  31  32  33  34  35\n",
      "  36  37  38  39  40  41  42  43  44  45  46  47  48  49  50  51  52  53\n",
      "  54  55  56  57  58  59  60  61  62  63  64  65  66  67  68  69  70  71\n",
      "  72  73  74  75  76  77  78  79  80  81  82  83  84  85  86  87  88  89\n",
      "  90  91  92  93  94  95  96  97  98  99 100 101 102 103 104 105 106 107\n",
      " 108 109 110 111 112 113 114 115 116 117 118 119 120 121 122 123 124 125\n",
      " 126 127 128 129 130 131 132 133 134 135 136 137 138 139 140 141 142 143\n",
      " 144 145 146 147 148 149 150 151 152 153 154 155 156 157 158 159 160 161\n",
      " 162 163 164 165 166 167 168 169 170 171 172 173 174 175 176 177 178 179\n",
      " 180 181 182 183 184 185 186 187 188 189 190 191 192 193 194 195 196 197\n",
      " 198 199 200 201 202 203 204 205 206 207 208 209 210 211 212 213 214 215\n",
      " 216 217 218 219 220 221 222 223 224 225 226 227 228 229 230 231 232 233\n",
      " 234 235 236 237 238 239 240 241 242 243 244 245 246 247 248 249 250 251\n",
      " 252 253 254 255 256 257 258 259 260 261 262 263 264 265 266 267 268 269\n",
      " 270 271 272 273 274 275 276 277 278 279 280 281 282 283 284 285 286 287\n",
      " 288 289 290 291 292 293 294 295 296 297 298 299 300 301 302 303 304 305\n",
      " 306 307 308 309 310 311 312 313 314 315 316 317 318 319 320 321 322 323\n",
      " 324 325 326 327 328 329 330 331 332 333 334 335 336 337 338 339 340 341\n",
      " 342 343 344 345 346 347 348 349 350 351 352 353 354 355 356 357 358 359\n",
      " 360 361 362 363 364 365 366 367 368 369 370 371 372 373 374 375 376 377\n",
      " 378 379 380 381 382 383 384 385 386 387 388 389 390 391 392 393 394 395\n",
      " 396 397 398 399 401 402 403 404 405 406 407 408 409 410 411 412 413 414\n",
      " 415 416 417 418 419 420 421 422 423 424 425 426 427 428 429 430 431 432\n",
      " 433 434 435 436 437 438 439 440 441 442 443 444 445 446 447 448 449 450\n",
      " 451 452 453 454 455 456 457 458 459 460 461 462 463 464 465 466 467 468\n",
      " 469 470 471 472 473 474 475 476 477 478 479 480 481 482 483 484 485 486\n",
      " 487 488 489 490 491 492 493 494 495 496 497 498 499]\n"
     ]
    }
   ],
   "source": [
    "sender = random.randint(0, model.n - 1)\n",
    "print('sender ', sender)\n",
    "\n",
    "try:        \n",
    "    p = model.actual_status[sender] * p_o + (1 - model.actual_status[sender]) * p_p\n",
    "    print('p ', p)\n",
    "    assert(p >= 0 and p <= 1), f\"Probability should be between 0 and 1, not {p}.\"\n",
    "    signal = np.random.binomial(1, p)\n",
    "    print('signal ', signal)\n",
    "    assert(signal == 0 or signal == 1), f\"Signal should be 0 or 1, not {signal}.\"\n",
    "\n",
    "except ValueError as e:\n",
    "    print('Info about code that causes the error -->')\n",
    "    print('Error = ', e)\n",
    "    print('p = ', p)\n",
    "    print('sender = ', sender)\n",
    "    print('sender actual status = ', model.actual_status[sender])\n",
    "    \n",
    "receivers = np.array(list(model.graph.neighbors(sender)))\n",
    "print(receivers)"
   ]
  },
  {
   "cell_type": "markdown",
   "metadata": {},
   "source": [
    "### Update functions"
   ]
  },
  {
   "cell_type": "markdown",
   "metadata": {},
   "source": [
    "## Interazione con il sender"
   ]
  },
  {
   "cell_type": "code",
   "execution_count": 55,
   "metadata": {},
   "outputs": [
    {
     "data": {
      "image/png": "[encoded data removed]",
      "text/plain": [
       "<Figure size 640x480 with 1 Axes>"
      ]
     },
     "metadata": {},
     "output_type": "display_data"
    }
   ],
   "source": [
    "if len(receivers) > 0:\n",
    "    model.actual_status[receivers] = update(receivers=receivers, s=signal)\n",
    "\n",
    "assert(np.all(model.actual_status >= 0) and np.all(model.actual_status <= 1)), \"Status values should be between 0 and 1.\"\n",
    "assert(len(model.actual_status) == model.n), f\"Length of actual_status {len(model.actual_status)} does not match the number of nodes {self.n}.\"\n",
    "\n",
    "model.actual_iteration += 1\n",
    "model.status = model.actual_status\n",
    "\n",
    "plt.hist(model.actual_status, bins=30)\n",
    "plt.show()\n",
    "\n",
    "if node_status:\n",
    "    its = {\"iteration\": model.actual_iteration - 1, \"status\": {i: value for i, value in enumerate(model.actual_status)}}\n",
    "else:\n",
    "    its = {\"iteration\": model.actual_iteration - 1, \"status\": {}}"
   ]
  },
  {
   "cell_type": "code",
   "execution_count": 56,
   "metadata": {},
   "outputs": [],
   "source": [
    "system_status.append(its)"
   ]
  },
  {
   "cell_type": "code",
   "execution_count": 57,
   "metadata": {},
   "outputs": [
    {
     "name": "stdout",
     "output_type": "stream",
     "text": [
      "[{'iteration': 1, 'status': {0: np.float64(0.16833665676535678), 1: np.float64(0.581311253603559), 2: np.float64(0.04275093418015223), 3: np.float64(0.002159204439792383), 4: np.float64(0.28180933248033097), 5: np.float64(0.005526913476008433), 6: np.float64(0.17796696864364944), 7: np.float64(0.05680979165438049), 8: np.float64(0.0034586099182041894), 9: np.float64(0.001402963773194705), 10: np.float64(0.01812871107040298), 11: np.float64(0.009766632119552957), 12: np.float64(0.0018439738405001023), 13: np.float64(0.004406516509244552), 14: np.float64(0.04244906059450442), 15: np.float64(0.0017764351295636736), 16: np.float64(0.004722587587129163), 17: np.float64(0.00218935480093017), 18: np.float64(0.0018621437613764058), 19: np.float64(0.00015311965416202808), 20: np.float64(0.016550582295521768), 21: np.float64(0.03374934222804684), 22: np.float64(0.000851622044193386), 23: np.float64(0.006311563471226339), 24: np.float64(0.3032306602917189), 25: np.float64(0.9207600995785351), 26: np.float64(0.026867339901185967), 27: np.float64(0.0027143313185276348), 28: np.float64(0.3160078778891012), 29: np.float64(0.0531955047173985), 30: np.float64(0.05136721688498906), 31: np.float64(0.0015950152233861965), 32: np.float64(0.027740052123802848), 33: np.float64(0.9701650181201231), 34: np.float64(0.004265398533145175), 35: np.float64(0.006697000676152614), 36: np.float64(0.006973137569433857), 37: np.float64(0.002668212675376462), 38: np.float64(0.01272588705914608), 39: np.float64(0.6038290727045483), 40: np.float64(0.009352531652335594), 41: np.float64(0.010861886017984736), 42: np.float64(0.019906147405995507), 43: np.float64(0.0013988918364476323), 44: np.float64(0.007991889978068047), 45: np.float64(0.006590947188163104), 46: np.float64(0.05748511660996325), 47: np.float64(0.038603264817066885), 48: np.float64(0.005857231164113265), 49: np.float64(0.03337138770799984), 50: np.float64(0.012431110941605115), 51: np.float64(0.0011266155477414684), 52: np.float64(0.01254978995063165), 53: np.float64(0.29229347935927386), 54: np.float64(0.016077384762594352), 55: np.float64(0.06011729066162902), 56: np.float64(0.32688162746803073), 57: np.float64(0.03969200212940758), 58: np.float64(0.37313970745166897), 59: np.float64(0.00045470574078644875), 60: np.float64(0.006024011215785622), 61: np.float64(0.0043811579794731026), 62: np.float64(0.016002748650696723), 63: np.float64(0.1712803871368182), 64: np.float64(0.0005242015071723794), 65: np.float64(0.00014311973569748585), 66: np.float64(9.574074565400859e-05), 67: np.float64(0.0838219419501893), 68: np.float64(0.002961097761846338), 69: np.float64(0.0019245410058849164), 70: np.float64(0.001204143016586415), 71: np.float64(0.07398902422613647), 72: np.float64(0.004256365675332787), 73: np.float64(0.025084132066061235), 74: np.float64(0.0027498011017774173), 75: np.float64(0.1699095224366091), 76: np.float64(0.10567631971854469), 77: np.float64(0.0014750898981804794), 78: np.float64(0.0032833646900750084), 79: np.float64(0.03781742319205017), 80: np.float64(0.8735404525188654), 81: np.float64(0.2615626762641721), 82: np.float64(0.010234114490976057), 83: np.float64(0.6414100816353904), 84: np.float64(0.010793564333063327), 85: np.float64(0.0003481410609704303), 86: np.float64(0.005030026790028101), 87: np.float64(0.03853176118131559), 88: np.float64(0.3662747059973496), 89: np.float64(0.005812645931504576), 90: np.float64(8.382286110565566e-05), 91: np.float64(0.8160457176807375), 92: np.float64(0.013775466148428995), 93: np.float64(0.035555131879579066), 94: np.float64(0.013134431352631131), 95: np.float64(0.00040585818021703616), 96: np.float64(0.02257050840658377), 97: np.float64(0.017108710617803627), 98: np.float64(0.2936648359938064), 99: np.float64(0.013787334665916508), 100: np.float64(0.0006392448419755594), 101: np.float64(0.003653591984116613), 102: np.float64(0.013017679139472082), 103: np.float64(0.30641024409115497), 104: np.float64(0.0048742960435609614), 105: np.float64(0.013779759492976202), 106: np.float64(0.023301613287256887), 107: np.float64(0.0356635566582386), 108: np.float64(0.0005427020504652229), 109: np.float64(0.1078722898270371), 110: np.float64(0.14658933609052965), 111: np.float64(0.37464381202886354), 112: np.float64(0.012863853145892246), 113: np.float64(0.003059934025727291), 114: np.float64(0.019507645469863433), 115: np.float64(0.1480642530255991), 116: np.float64(0.853575704235249), 117: np.float64(0.018500571683226868), 118: np.float64(0.2306248635133744), 119: np.float64(0.012169952657268137), 120: np.float64(0.06740149228210453), 121: np.float64(0.9307345727633374), 122: np.float64(0.0013986007586279854), 123: np.float64(0.0015089568922537066), 124: np.float64(0.11619436244699645), 125: np.float64(1.2036879040858399e-05), 126: np.float64(0.26767254782049543), 127: np.float64(0.004732239767129295), 128: np.float64(0.015510180675479575), 129: np.float64(0.0030188574245207447), 130: np.float64(0.065881334134108), 131: np.float64(0.750127928741608), 132: np.float64(0.10963033278717695), 133: np.float64(0.03321410368486322), 134: np.float64(0.0011256091483232834), 135: np.float64(0.03836050800172466), 136: np.float64(0.004783736440526429), 137: np.float64(0.010799280984636882), 138: np.float64(1.6877019484489998e-05), 139: np.float64(0.0005024075573428504), 140: np.float64(0.026580919621360062), 141: np.float64(0.04496384208138393), 142: np.float64(0.7371974059134071), 143: np.float64(0.6873196735041552), 144: np.float64(0.09145199654523935), 145: np.float64(0.014915404658641614), 146: np.float64(0.11467309194105858), 147: np.float64(0.08098214592909656), 148: np.float64(0.005195448132713796), 149: np.float64(0.7372954748615438), 150: np.float64(0.005233914884821814), 151: np.float64(0.06245146045886645), 152: np.float64(0.01382515446059402), 153: np.float64(0.0031414125322474905), 154: np.float64(0.0036265599831314574), 155: np.float64(0.048608650284530305), 156: np.float64(0.507487146421374), 157: np.float64(0.008765595243489476), 158: np.float64(0.07851790719960693), 159: np.float64(0.0851251576551919), 160: np.float64(0.006932283372032224), 161: np.float64(0.017438114641900527), 162: np.float64(0.009908293433715956), 163: np.float64(0.1315656396775352), 164: np.float64(0.008852024743462623), 165: np.float64(0.011818063771930927), 166: np.float64(0.26460213027262885), 167: np.float64(0.6716492136764971), 168: np.float64(0.014106354335393291), 169: np.float64(0.18053919017477685), 170: np.float64(0.020800558992495825), 171: np.float64(0.6595530877851538), 172: np.float64(0.005288065896161227), 173: np.float64(0.022599756651509952), 174: np.float64(0.4518142256311536), 175: np.float64(0.000956315918105961), 176: np.float64(0.05556745422146366), 177: np.float64(0.08105774651372138), 178: np.float64(0.08270814785957889), 179: np.float64(0.10345761245905528), 180: np.float64(0.015181767948084754), 181: np.float64(0.025919185083795617), 182: np.float64(0.8203404820087531), 183: np.float64(0.0003791765628962367), 184: np.float64(0.039039951949419165), 185: np.float64(0.0006593149760219124), 186: np.float64(0.000588100772701972), 187: np.float64(0.0015467363913405955), 188: np.float64(0.004872693415237716), 189: np.float64(0.003701610825828305), 190: np.float64(0.5026784064234014), 191: np.float64(0.4927929669963672), 192: np.float64(0.004618559038673688), 193: np.float64(0.00011239215349441395), 194: np.float64(0.49873989472917324), 195: np.float64(0.004279277963670518), 196: np.float64(0.016388750303439552), 197: np.float64(0.02805954430831611), 198: np.float64(0.12399953521736318), 199: np.float64(0.0028629336937311214), 200: np.float64(0.0022883234485765987), 201: np.float64(0.001707912752747776), 202: np.float64(0.0012206264351762564), 203: np.float64(0.9801564817046654), 204: np.float64(0.9831009667770433), 205: np.float64(0.00990810170671042), 206: np.float64(0.19644341061346154), 207: np.float64(0.006901599733189618), 208: np.float64(0.006929867971797073), 209: np.float64(0.0010295215444892148), 210: np.float64(0.0013393002302502523), 211: np.float64(0.04169491810901645), 212: np.float64(0.01372187625413721), 213: np.float64(0.0037448297376736685), 214: np.float64(0.27658820891274005), 215: np.float64(0.0013034935066175333), 216: np.float64(0.24066928476249708), 217: np.float64(0.05869124921178147), 218: np.float64(0.008163173379003427), 219: np.float64(0.00047671783049928917), 220: np.float64(0.24850322072044362), 221: np.float64(0.012479083011998618), 222: np.float64(0.023141616569553897), 223: np.float64(0.5450654847148905), 224: np.float64(0.006010491358699225), 225: np.float64(0.003228918782126565), 226: np.float64(0.8577356174902397), 227: np.float64(0.00034660818481169854), 228: np.float64(0.0009639342776587848), 229: np.float64(0.004369291331069792), 230: np.float64(0.012351145260093128), 231: np.float64(0.02260474493842589), 232: np.float64(0.0023477684142950766), 233: np.float64(0.4569471733368381), 234: np.float64(0.0004914795829402123), 235: np.float64(0.5886261033522159), 236: np.float64(0.0061765421342533456), 237: np.float64(0.9417956343774679), 238: np.float64(0.03340297893050395), 239: np.float64(0.0240785929130574), 240: np.float64(0.5748408815324663), 241: np.float64(0.0023602912619982443), 242: np.float64(0.9015523623190682), 243: np.float64(0.6656938759067401), 244: np.float64(0.07820158083418219), 245: np.float64(0.00468798623669858), 246: np.float64(0.001893576704473441), 247: np.float64(0.0030089988984256153), 248: np.float64(0.130191896455718), 249: np.float64(0.003288743408490694), 250: np.float64(0.0058501541830592784), 251: np.float64(0.11287505351217304), 252: np.float64(0.06864475120052793), 253: np.float64(0.00010432330170291556), 254: np.float64(0.026303486776442), 255: np.float64(0.00260001764716981), 256: np.float64(0.75813871569578), 257: np.float64(0.04213785727147887), 258: np.float64(0.008231309368928364), 259: np.float64(0.019624553667977582), 260: np.float64(0.011719271715202954), 261: np.float64(0.0006249818702374543), 262: np.float64(0.006656498578671281), 263: np.float64(0.004301869874491887), 264: np.float64(0.2693708395149603), 265: np.float64(0.012088450838879536), 266: np.float64(0.0047489290660182835), 267: np.float64(0.010652531315585996), 268: np.float64(0.0015270844249369632), 269: np.float64(0.20602193392183965), 270: np.float64(0.0035540079539585086), 271: np.float64(0.025194119168049044), 272: np.float64(0.3611972439552473), 273: np.float64(0.16323438090428444), 274: np.float64(0.16833412304701675), 275: np.float64(0.8138725588464286), 276: np.float64(0.7176713159865409), 277: np.float64(0.03470439965511726), 278: np.float64(0.002216701837027826), 279: np.float64(0.006324027095434802), 280: np.float64(0.0074098694156312225), 281: np.float64(0.043629877380060675), 282: np.float64(0.4974312030281184), 283: np.float64(0.3532963330920448), 284: np.float64(0.03350848081287626), 285: np.float64(0.030013148527729995), 286: np.float64(0.012342895702639751), 287: np.float64(0.05274632336367204), 288: np.float64(0.024584917583731318), 289: np.float64(0.002269995973958547), 290: np.float64(0.002753214898891518), 291: np.float64(0.45036628591015526), 292: np.float64(0.0020424166593565854), 293: np.float64(0.008099988481397192), 294: np.float64(0.014876305663952696), 295: np.float64(0.5140615252329889), 296: np.float64(0.00269720753334421), 297: np.float64(0.002629607164509993), 298: np.float64(0.0023995884733165017), 299: np.float64(0.002577075743481402), 300: np.float64(2.8264773899111755e-05), 301: np.float64(0.08767666845736313), 302: np.float64(0.24346876987720545), 303: np.float64(0.08311270630764184), 304: np.float64(0.0009506055916901439), 305: np.float64(0.010756447035277217), 306: np.float64(0.01965337454814176), 307: np.float64(0.02558763158577349), 308: np.float64(0.0006313040587979948), 309: np.float64(0.04102411392635443), 310: np.float64(0.0030072055539926874), 311: np.float64(0.0010030566781549968), 312: np.float64(0.017875567499239325), 313: np.float64(0.0034573835529939745), 314: np.float64(0.00831923826273586), 315: np.float64(0.01148230810401825), 316: np.float64(0.041527644548443876), 317: np.float64(0.010148327464069618), 318: np.float64(0.03458454864043259), 319: np.float64(0.01083730095344441), 320: np.float64(0.0280125705187012), 321: np.float64(0.27491869434107413), 322: np.float64(0.6442590641874752), 323: np.float64(0.0015967658419356514), 324: np.float64(0.016841316626534295), 325: np.float64(0.04376944691775467), 326: np.float64(0.006322803777096073), 327: np.float64(0.27769894255525307), 328: np.float64(0.0010234436293365377), 329: np.float64(0.00601066388790976), 330: np.float64(0.012796873458644857), 331: np.float64(0.002627347968773867), 332: np.float64(0.8635999423461214), 333: np.float64(0.5163883599344816), 334: np.float64(0.0008775789272581125), 335: np.float64(0.8884756058907212), 336: np.float64(0.04680674971724013), 337: np.float64(0.00586061616095085), 338: np.float64(0.005188299516965409), 339: np.float64(0.012020755049938053), 340: np.float64(0.005843622391316349), 341: np.float64(0.0035753043923720668), 342: np.float64(0.010722253961975386), 343: np.float64(0.00019202776239571912), 344: np.float64(0.059014007136143354), 345: np.float64(0.9407552133700288), 346: np.float64(0.3883640412792509), 347: np.float64(0.00981036878742098), 348: np.float64(0.011325359976846056), 349: np.float64(0.17300212693342218), 350: np.float64(0.00565748726170178), 351: np.float64(0.0005751342966607239), 352: np.float64(0.03601473989628474), 353: np.float64(0.6980564983040742), 354: np.float64(0.0064709324534478856), 355: np.float64(0.010856062901418119), 356: np.float64(0.001622812487348744), 357: np.float64(0.030086703855947916), 358: np.float64(0.004275605592760302), 359: np.float64(0.02104098723177345), 360: np.float64(0.42712242326707905), 361: np.float64(0.331372603711874), 362: np.float64(0.001917894597648275), 363: np.float64(0.01684345040868637), 364: np.float64(0.10784544505699514), 365: np.float64(0.006801616135194811), 366: np.float64(0.007120999994725628), 367: np.float64(0.06146291217270055), 368: np.float64(0.017621334762212598), 369: np.float64(0.45238720946545397), 370: np.float64(0.001308245339060317), 371: np.float64(0.0020144972694759915), 372: np.float64(0.01685524380930864), 373: np.float64(0.04661565871110586), 374: np.float64(0.034390734759225626), 375: np.float64(0.584647732121632), 376: np.float64(0.5333642170155783), 377: np.float64(0.021011754887376624), 378: np.float64(0.0054836595046768915), 379: np.float64(0.3263538416765065), 380: np.float64(0.8640810556946966), 381: np.float64(0.3768997509992262), 382: np.float64(0.18189762397714404), 383: np.float64(0.0019587666654134043), 384: np.float64(0.016555593467278248), 385: np.float64(0.003967527692769704), 386: np.float64(0.011011019797187858), 387: np.float64(0.0020104898186283793), 388: np.float64(0.01686677040763223), 389: np.float64(0.06396242146793817), 390: np.float64(0.40425532339555287), 391: np.float64(0.01087339091275386), 392: np.float64(0.016867473484045745), 393: np.float64(0.0013893205390468138), 394: np.float64(0.001610312136037469), 395: np.float64(0.005806353140480304), 396: np.float64(0.009389356030566913), 397: np.float64(0.02848188932021892), 398: np.float64(0.06567615564168183), 399: np.float64(0.006599630242019259), 400: np.float64(0.0018239488088666255), 401: np.float64(0.3562526987089468), 402: np.float64(0.018674145364666165), 403: np.float64(0.06850662392651957), 404: np.float64(0.6333086687941237), 405: np.float64(0.011733817442611282), 406: np.float64(0.5111401247702239), 407: np.float64(0.09953613749363213), 408: np.float64(0.0007109499803432755), 409: np.float64(0.00016710170423869585), 410: np.float64(0.3109388908749013), 411: np.float64(0.0007558784034781088), 412: np.float64(0.007067108970814581), 413: np.float64(0.055927900038419305), 414: np.float64(0.019538570233415088), 415: np.float64(0.9324575668882136), 416: np.float64(0.000458130048001604), 417: np.float64(0.03064167959439429), 418: np.float64(0.010804409911101924), 419: np.float64(0.006589703877699908), 420: np.float64(0.8705051353323187), 421: np.float64(0.0059110416758828225), 422: np.float64(0.01975994070612769), 423: np.float64(0.09113853539443169), 424: np.float64(0.00493789409772089), 425: np.float64(0.0007580855281261474), 426: np.float64(0.8395881636257815), 427: np.float64(0.7818890111309823), 428: np.float64(0.10828061849038288), 429: np.float64(0.04585359196849407), 430: np.float64(0.04221408584190466), 431: np.float64(0.11375735924879761), 432: np.float64(0.01810888393857062), 433: np.float64(0.33085713126385063), 434: np.float64(0.013135444386158563), 435: np.float64(0.009584967668454411), 436: np.float64(0.47785868000987824), 437: np.float64(0.0011273880919642318), 438: np.float64(0.042458394532819764), 439: np.float64(0.0013408368202625137), 440: np.float64(0.03546189084884292), 441: np.float64(0.01514749837108433), 442: np.float64(0.03477911767420766), 443: np.float64(0.14331583644980966), 444: np.float64(0.205833328519131), 445: np.float64(0.0027980177035299885), 446: np.float64(0.12418570871519367), 447: np.float64(0.008180998544211903), 448: np.float64(0.00029802592467760607), 449: np.float64(0.013420531322310964), 450: np.float64(0.015593312504301736), 451: np.float64(0.030344581341537637), 452: np.float64(0.00047646641601877123), 453: np.float64(0.01331283779058671), 454: np.float64(0.642232110075241), 455: np.float64(0.06012874674403821), 456: np.float64(0.01999009557405095), 457: np.float64(0.57547341542447), 458: np.float64(0.0006836384526165179), 459: np.float64(0.0015964472416253029), 460: np.float64(0.13082354950061625), 461: np.float64(0.0216704741603949), 462: np.float64(0.012651308239818835), 463: np.float64(0.0014181905091115363), 464: np.float64(0.3375562792305449), 465: np.float64(0.007283737303333631), 466: np.float64(0.033927281667630274), 467: np.float64(0.0011708561775939218), 468: np.float64(0.8577903244525901), 469: np.float64(0.07488764656472657), 470: np.float64(0.0028386620827651515), 471: np.float64(0.006450591924886526), 472: np.float64(0.016423433949057837), 473: np.float64(0.013745814825831202), 474: np.float64(0.001703803654286646), 475: np.float64(0.5726615529861029), 476: np.float64(0.4359928508558591), 477: np.float64(0.09571249374481844), 478: np.float64(0.008812751155688657), 479: np.float64(0.02004071900965654), 480: np.float64(0.03727200386787662), 481: np.float64(0.8026979881853711), 482: np.float64(0.6089639268032606), 483: np.float64(0.0005785073498288003), 484: np.float64(0.0028918520773635954), 485: np.float64(0.03712493974495628), 486: np.float64(0.014548086562793517), 487: np.float64(0.8825576557332727), 488: np.float64(0.7278950525568383), 489: np.float64(0.07422840284516413), 490: np.float64(0.005878989491406947), 491: np.float64(0.062325377306704864), 492: np.float64(0.35282225308880333), 493: np.float64(0.00028559913478808167), 494: np.float64(0.005812096300848276), 495: np.float64(0.06216189316012832), 496: np.float64(0.018880081106836078), 497: np.float64(0.004563632861361139), 498: np.float64(0.02798902957380229), 499: np.float64(0.0027748582276326656)}}, {'iteration': 2, 'status': {0: np.float64(0.9524682113371045), 1: np.float64(0.9927773061957957), 2: np.float64(0.8155444302965411), 3: np.float64(0.17642859069798736), 4: np.float64(0.9749036316655479), 5: np.float64(0.3549241808116795), 6: np.float64(0.9554230465080534), 7: np.float64(0.05680979165438024), 8: np.float64(0.0034586099182042193), 9: np.float64(0.12210512499158326), 10: np.float64(0.6463781424583943), 11: np.float64(0.4940380075242495), 12: np.float64(0.15461332363948035), 13: np.float64(0.30467479292688243), 14: np.float64(0.042449060594504), 15: np.float64(0.0017764351295636708), 16: np.float64(0.31961432159713604), 17: np.float64(0.1784569734063859), 18: np.float64(0.15590171465386743), 19: np.float64(0.014934739156762003), 20: np.float64(0.6249178024892449), 21: np.float64(0.7756784404155257), 22: np.float64(0.07781612914013081), 23: np.float64(0.00631156347122629), 24: np.float64(0.9773161992896477), 25: np.float64(0.9991314699010097), 26: np.float64(0.026867339901185887), 27: np.float64(0.2122573869748736), 28: np.float64(0.9786043667425819), 29: np.float64(0.05319550471739834), 30: np.float64(0.05136721688498879), 31: np.float64(0.13656052735139876), 32: np.float64(0.7385361347299249), 33: np.float64(0.9996894653343442), 34: np.float64(0.29779390542019835), 35: np.float64(0.4002901881745839), 36: np.float64(0.4100950189639679), 37: np.float64(0.2093985167545384), 38: np.float64(0.560652446688398), 39: np.float64(0.9934163807702366), 40: np.float64(0.48310847645794225), 41: np.float64(0.010861886017984743), 42: np.float64(0.6678551442868865), 43: np.float64(0.12179345636748452), 44: np.float64(0.44369380478954423), 45: np.float64(0.006590947188163145), 46: np.float64(0.8579167864327386), 47: np.float64(0.7990021691247056), 48: np.float64(0.3684006969993405), 49: np.float64(0.7736442678063444), 50: np.float64(0.5547979753757122), 51: np.float64(0.10044497762489889), 52: np.float64(0.5571732698480154), 53: np.float64(0.976127096413939), 54: np.float64(0.016077384762594227), 55: np.float64(0.8636169975313807), 56: np.float64(0.9796237139804015), 57: np.float64(0.8036106150236179), 58: np.float64(0.9833138457448048), 59: np.float64(0.04309548349082405), 60: np.float64(0.37499666626402167), 61: np.float64(0.30344812912511293), 62: np.float64(0.6168636889500604), 63: np.float64(0.9534047037877486), 64: np.float64(0.04936022802919225), 65: np.float64(0.00014311973569748485), 66: np.float64(0.009390229121031712), 67: np.float64(0.9005726783059262), 68: np.float64(0.22721399803942474), 69: np.float64(0.001924541005884904), 70: np.float64(0.10662747514409619), 71: np.float64(0.8877688203428744), 72: np.float64(0.2973488915358608), 73: np.float64(0.718089411203915), 74: np.float64(0.21444229144595708), 75: np.float64(0.9529723973971028), 76: np.float64(0.9212485309577984), 77: np.float64(0.1275896866471208), 78: np.float64(0.24592264036023997), 79: np.float64(0.7955459830943479), 80: np.float64(0.998539845514332), 81: np.float64(0.9722737438886515), 82: np.float64(0.5058442617999571), 83: np.float64(0.9943845898295282), 84: np.float64(0.5192821501242614), 85: np.float64(0.03332885696098602), 86: np.float64(0.33355109816880957), 87: np.float64(0.7986923005813481), 88: np.float64(0.9828235086672786), 89: np.float64(0.36661413023167505), 90: np.float64(0.008230849778439502), 91: np.float64(0.9977281876316078), 92: np.float64(0.5803292145698434), 93: np.float64(0.784933494063151), 94: np.float64(0.5685219178581833), 95: np.float64(0.03864297040798621), 96: np.float64(0.02257050840658395), 97: np.float64(0.6327910064665104), 98: np.float64(0.9762808854231265), 99: np.float64(0.5805418730187523), 100: np.float64(0.0006392448419755559), 101: np.float64(0.2663414969240219), 102: np.float64(0.5663012692760364), 103: np.float64(0.9776464742311141), 104: np.float64(0.3265625695301926), 105: np.float64(0.013779759492976317), 106: np.float64(0.7025487729079987), 107: np.float64(0.7854660027011744), 108: np.float64(0.0005427020504652173), 109: np.float64(0.9229029155552553), 110: np.float64(0.14658933609052915), 111: np.float64(0.37464381202886377), 112: np.float64(0.5633411520475485), 113: np.float64(0.23304841625117756), 114: np.float64(0.6632634652540845), 115: np.float64(0.9450728920180199), 116: np.float64(0.99827024724191), 117: np.float64(0.6510914039360278), 118: np.float64(0.9674010667858765), 119: np.float64(0.012169952657268196), 120: np.float64(0.8773759303204605), 121: np.float64(0.9992488457451064), 122: np.float64(0.12177116870855965), 123: np.float64(0.13014167146475217), 124: np.float64(0.9286508236817624), 125: np.float64(0.0011902469928549658), 126: np.float64(0.9731077452660248), 127: np.float64(0.3200605959167418), 128: np.float64(0.015510180675479626), 129: np.float64(0.2306342091521136), 130: np.float64(0.8747220735403457), 131: np.float64(0.996646576787441), 132: np.float64(0.9241836761879794), 133: np.float64(0.7727873209081961), 134: np.float64(0.1003641650898829), 135: np.float64(0.7979464471663669), 136: np.float64(0.004783736440526414), 137: np.float64(0.5194157682350082), 138: np.float64(1.687701948448991e-05), 139: np.float64(0.04740435039574663), 140: np.float64(0.7299756036332283), 141: np.float64(0.044963842081383744), 142: np.float64(0.9964120232993685), 143: np.float64(0.9954257965366893), 144: np.float64(0.9088013411434902), 145: np.float64(0.5998372136529024), 146: np.float64(0.9276573309365834), 147: np.float64(0.08098214592909582), 148: np.float64(0.34081968667522977), 149: np.float64(0.9964138327621856), 150: np.float64(0.34248758727079137), 151: np.float64(0.8683263305639972), 152: np.float64(0.5812181215872605), 153: np.float64(0.23779319993371129), 154: np.float64(0.26488761685964746), 155: np.float64(0.0486086502845307), 156: np.float64(0.9902922029760127), 157: np.float64(0.008765595243489499), 158: np.float64(0.8940186235484353), 159: np.float64(0.9020714143458263), 160: np.float64(0.006932283372032247), 161: np.float64(0.637288528460481), 162: np.float64(0.49767361814424005), 163: np.float64(0.9374931753872716), 164: np.float64(0.4692643581045124), 165: np.float64(0.5421204900824284), 166: np.float64(0.9726932668546671), 167: np.float64(0.9950861596609696), 168: np.float64(0.01410635433539316), 169: np.float64(0.18053919017477538), 170: np.float64(0.6777311128520518), 171: np.float64(0.9948131229609012), 172: np.float64(0.34482151311228365), 173: np.float64(0.02259975665151015), 174: np.float64(0.4518142256311528), 175: np.float64(0.08656270884680296), 176: np.float64(0.05556745422146388), 177: np.float64(0.08105774651372123), 178: np.float64(0.8992584615463244), 179: np.float64(0.10345761245905458), 180: np.float64(0.6041430245924106), 181: np.float64(0.7248421569890814), 182: np.float64(0.9977927007557209), 183: np.float64(0.0003791765628962393), 184: np.float64(0.8008750692673513), 185: np.float64(0.06131072111709585), 186: np.float64(0.0005881007727019638), 187: np.float64(0.0015467363913406029), 188: np.float64(0.3264898999276599), 189: np.float64(0.26891018739499106), 190: np.float64(0.5026784064234022), 191: np.float64(0.9897105122514507), 192: np.float64(0.314767610953083), 193: np.float64(0.0001123921534944129), 194: np.float64(0.9899499762823807), 195: np.float64(0.004279277963670511), 196: np.float64(0.6225731238094558), 197: np.float64(0.7408044975335956), 198: np.float64(0.9333938945708609), 199: np.float64(0.22133189795921762), 200: np.float64(0.18504632797419998), 201: np.float64(0.14484060167227886), 202: np.float64(0.10793114359184149), 203: np.float64(0.9801564817046654), 204: np.float64(0.9998263986327302), 205: np.float64(0.00990810170671054), 206: np.float64(0.9603210426343282), 207: np.float64(0.006901599733189583), 208: np.float64(0.40857952030316125), 209: np.float64(0.09258177006714761), 210: np.float64(0.11720712137907777), 211: np.float64(0.8115835886380153), 212: np.float64(0.5793663712515696), 213: np.float64(0.27120699139754195), 214: np.float64(0.27658820891274044), 215: np.float64(0.001303493506617529), 216: np.float64(0.9691148059445256), 217: np.float64(0.058691249211781565), 218: np.float64(0.44897678293848536), 219: np.float64(0.045088600326113594), 220: np.float64(0.9703590334996484), 221: np.float64(0.5557611026169602), 222: np.float64(0.7010726052991726), 223: np.float64(0.9916397562322457), 224: np.float64(0.3744670245965785), 225: np.float64(0.24282489631845183), 226: np.float64(0.9983274444365022), 227: np.float64(0.000346608184811703), 228: np.float64(0.08719277887286979), 229: np.float64(0.30287263953761817), 230: np.float64(0.5531834112737974), 231: np.float64(0.6960140909517419), 232: np.float64(0.18895423590769803), 233: np.float64(0.9881379846138363), 234: np.float64(0.04642062914861085), 235: np.float64(0.5886261033522162), 236: np.float64(0.38091150637404286), 237: np.float64(0.9993761320636961), 238: np.float64(0.033402978930504076), 239: np.float64(0.7095214467094486), 240: np.float64(0.992584572768153), 241: np.float64(0.0023602912619982343), 242: np.float64(0.9988982060526118), 243: np.float64(0.6656938759067388), 244: np.float64(0.8936028976475665), 245: np.float64(0.3180097534135657), 246: np.float64(0.15812142006631755), 247: np.float64(0.23005255751434842), 248: np.float64(0.9367817154439972), 249: np.float64(0.24622731003841386), 250: np.float64(0.3681177791173884), 251: np.float64(0.11287505351217303), 252: np.float64(0.879470314952457), 253: np.float64(0.00010432330170291582), 254: np.float64(0.026303486776441933), 255: np.float64(0.20513340158388788), 256: np.float64(0.7581387156957775), 257: np.float64(0.8132643975009808), 258: np.float64(0.008231309368928416), 259: np.float64(0.019624553667977745), 260: np.float64(0.5400111895572733), 261: np.float64(0.05830229327695421), 262: np.float64(0.3988250670661543), 263: np.float64(0.29958507056388), 264: np.float64(0.9733330887971539), 265: np.float64(0.5477978957144555), 266: np.float64(0.32083087630652896), 267: np.float64(0.515962521883654), 268: np.float64(0.13150158402803128), 269: np.float64(0.9625307945483751), 270: np.float64(0.003554007953958522), 271: np.float64(0.7189970518557481), 272: np.float64(0.9824491863093748), 273: np.float64(0.9507697164760575), 274: np.float64(0.9524673919806332), 275: np.float64(0.997695287658556), 276: np.float64(0.9960420355622184), 277: np.float64(0.7806660385052377), 278: np.float64(0.18028824421537537), 279: np.float64(0.006324027095434831), 280: np.float64(0.4249745163658062), 281: np.float64(0.8187226245065948), 282: np.float64(0.989897760882102), 283: np.float64(0.9818459161476811), 284: np.float64(0.7743861762544415), 285: np.float64(0.7538909324299207), 286: np.float64(0.012342895702639835), 287: np.float64(0.846452872800547), 288: np.float64(0.024584917583731197), 289: np.float64(0.18383396917197165), 290: np.float64(0.21465194700923373), 291: np.float64(0.9878226918580256), 292: np.float64(0.16847735544312584), 293: np.float64(0.008099988481397084), 294: np.float64(0.014876305663952783), 295: np.float64(0.9905419012805082), 296: np.float64(0.21119827826012627), 297: np.float64(0.20698958285989147), 298: np.float64(0.19233080916921622), 299: np.float64(0.20368831695966297), 300: np.float64(2.8264773899111986e-05), 301: np.float64(0.9048901674550544), 302: np.float64(0.9695682593392365), 303: np.float64(0.899739446681714), 304: np.float64(0.0009506055916901382), 305: np.float64(0.5184128163488465), 306: np.float64(0.6649568223819001), 307: np.float64(0.7221987310166923), 308: np.float64(0.058857705217836814), 309: np.float64(0.041024113926354744), 310: np.float64(0.22994665712986467), 311: np.float64(0.09041486972672108), 312: np.float64(0.6430981799100037), 313: np.float64(0.255658008093713), 314: np.float64(0.4537053021031266), 315: np.float64(0.011482308104018289), 316: np.float64(0.04152764454844404), 317: np.float64(0.5037183449500681), 318: np.float64(0.7800518119211759), 319: np.float64(0.5203025805103016), 320: np.float64(0.740473366503707), 321: np.float64(0.9740505162802702), 322: np.float64(0.9944534546027667), 323: np.float64(0.0015967658419356698), 324: np.float64(0.6290595772762719), 325: np.float64(0.8192177742432492), 326: np.float64(0.3864806964303713), 327: np.float64(0.97439964733157), 328: np.float64(0.09208502386335243), 329: np.float64(0.006010663887909747), 330: np.float64(0.012796873458644862), 331: np.float64(0.002627347968773831), 332: np.float64(0.9984071516211825), 333: np.float64(0.9906287818354479), 334: np.float64(0.0008775789272581116), 335: np.float64(0.9987336933978563), 336: np.float64(0.8293927398131632), 337: np.float64(0.36853593156492304), 338: np.float64(0.3405088074304279), 339: np.float64(0.5463894286010994), 340: np.float64(0.3678564349398824), 341: np.float64(0.26211524110681805), 342: np.float64(0.01072225396197523), 343: np.float64(0.00019202776239572036), 344: np.float64(0.8612805112484652), 345: np.float64(0.9993642854723034), 346: np.float64(0.9843409874160158), 347: np.float64(0.49516596176102107), 348: np.float64(0.5314083422173406), 349: np.float64(0.9539384943728128), 350: np.float64(0.36031850074994304), 351: np.float64(0.0005751342966607256), 352: np.float64(0.0360147398962845), 353: np.float64(0.9956498268758235), 354: np.float64(0.3920214005630736), 355: np.float64(0.5207390213173141), 356: np.float64(0.13861388981842662), 357: np.float64(0.7543588607065106), 358: np.float64(0.29829609949565494), 359: np.float64(0.6802894650463785), 360: np.float64(0.9866331230945184), 361: np.float64(0.331372603711874), 362: np.float64(0.15983078285885569), 363: np.float64(0.0168434504086863), 364: np.float64(0.9228830630425569), 365: np.float64(0.4040422495608007), 366: np.float64(0.4152167022757253), 367: np.float64(0.06146291217270035), 368: np.float64(0.6397440400527881), 369: np.float64(0.9879204694830402), 370: np.float64(0.11479823189029331), 371: np.float64(0.16655401420764857), 372: np.float64(0.6292557488026849), 373: np.float64(0.8287846514794278), 374: np.float64(0.7790515453370637), 375: np.float64(0.9928750516519579), 376: np.float64(0.9912401263389876), 377: np.float64(0.02101175488737676), 378: np.float64(0.35311745428578284), 379: np.float64(0.9795757582425367), 380: np.float64(0.9984136433940133), 381: np.float64(0.9835750378318348), 382: np.float64(0.18189762397714557), 383: np.float64(0.1626883795534273), 384: np.float64(0.6249899534295311), 385: np.float64(0.2828198673270275), 386: np.float64(0.5243141155295692), 387: np.float64(0.16627722298404485), 388: np.float64(0.6294179542038295), 389: np.float64(0.8712167425553596), 390: np.float64(0.9853326351422125), 391: np.float64(0.010873390912753982), 392: np.float64(0.6294278436151951), 393: np.float64(0.12106000106398265), 394: np.float64(0.13769169407902213), 395: np.float64(0.3663611716376794), 396: np.float64(0.009389356030566913), 397: np.float64(0.743745604290142), 398: np.float64(0.8743557331707078), 399: np.float64(0.3967559940017223), 400: np.float64(0.0018239488088666383), 401: np.float64(0.3562526987089467), 402: np.float64(0.6532498643403001), 403: np.float64(0.06850662392651974), 404: np.float64(0.9941854325728131), 405: np.float64(0.5403229467412237), 406: np.float64(0.9904317224349888), 407: np.float64(0.09953613749363233), 408: np.float64(0.06579958697730906), 409: np.float64(0.01627652488498909), 410: np.float64(0.978105590315436), 411: np.float64(0.0007558784034781102), 412: np.float64(0.41336017253068047), 413: np.float64(0.8543308618357645), 414: np.float64(0.6636241949084619), 415: np.float64(0.9324575668882128), 416: np.float64(0.000458130048001603), 417: np.float64(0.7578350571622993), 418: np.float64(0.5195355872693292), 419: np.float64(0.39639340099343007), 420: np.float64(0.8705051353323199), 421: np.float64(0.3705437627346388), 422: np.float64(0.666184684034035), 423: np.float64(0.9084876940258083), 424: np.float64(0.3294339431664266), 425: np.float64(0.06986037372971846), 426: np.float64(0.9980738168860219), 427: np.float64(0.7818890111309827), 428: np.float64(0.9232037777629158), 429: np.float64(0.8263183751375484), 430: np.float64(0.813550794971646), 431: np.float64(0.11375735924879696), 432: np.float64(0.01810888393857074), 433: np.float64(0.9799801672007679), 434: np.float64(0.5685410887205218), 435: np.float64(0.4892995774409311), 436: np.float64(0.9890834272317157), 437: np.float64(0.10050700215984301), 438: np.float64(0.814463097440624), 439: np.float64(0.11732597628616974), 440: np.float64(0.7844735353534555), 441: np.float64(0.603594122288925), 442: np.float64(0.7810473059151323), 443: np.float64(0.9430583650157254), 444: np.float64(0.9624891747219636), 445: np.float64(0.21739327100205116), 446: np.float64(0.9335003016212574), 447: np.float64(0.4495209181406428), 448: np.float64(0.028667294054850107), 449: np.float64(0.5738707992940327), 450: np.float64(0.6106208966065195), 451: np.float64(0.7559859605276457), 452: np.float64(0.045065882015567896), 453: np.float64(0.5718726518607706), 454: np.float64(0.9944045213911603), 455: np.float64(0.8636408742011266), 456: np.float64(0.6688069690685067), 457: np.float64(0.9926036019037665), 458: np.float64(0.06343057589518596), 459: np.float64(0.13666654577799076), 460: np.float64(0.9371105691643209), 461: np.float64(0.02167047416039504), 462: np.float64(0.559185526616245), 463: np.float64(0.12326865378490957), 464: np.float64(0.980562391334678), 465: np.float64(0.4207535073585474), 466: np.float64(0.033927281667630226), 467: np.float64(0.10398331044453366), 468: np.float64(0.9983281929836579), 469: np.float64(0.8890618139529096), 470: np.float64(0.21986386338292205), 471: np.float64(0.39126640753141867), 472: np.float64(0.6230780321524986), 473: np.float64(0.5797970052393336), 474: np.float64(0.1445419874634456), 475: np.float64(0.9925186936077417), 476: np.float64(0.4359928508558572), 477: np.float64(0.9128802692087529), 478: np.float64(0.46814720868489174), 479: np.float64(0.669378396037006), 480: np.float64(0.7930799273149174), 481: np.float64(0.8026979881853723), 482: np.float64(0.993555603716847), 483: np.float64(0.05419945868297608), 484: np.float64(0.22307388207044207), 485: np.float64(0.7924052636014083), 486: np.float64(0.5937474369773696), 487: np.float64(0.9986576583450322), 488: np.float64(0.9962382003070525), 489: np.float64(0.8881159424718651), 490: np.float64(0.3692689744566334), 491: np.float64(0.8680796943097362), 492: np.float64(0.9818088829137275), 493: np.float64(0.027504498761219468), 494: np.float64(0.36659204401555), 495: np.float64(0.8677586168387874), 496: np.float64(0.6557773440658555), 497: np.float64(0.3121810450417759), 498: np.float64(0.02798902957380221), 499: np.float64(0.21597858821149743)}}, {'iteration': 2, 'status': {0: np.float64(0.9524682113371045), 1: np.float64(0.9927773061957957), 2: np.float64(0.8155444302965411), 3: np.float64(0.17642859069798736), 4: np.float64(0.9749036316655479), 5: np.float64(0.3549241808116795), 6: np.float64(0.9554230465080534), 7: np.float64(0.05680979165438024), 8: np.float64(0.0034586099182042193), 9: np.float64(0.12210512499158326), 10: np.float64(0.6463781424583943), 11: np.float64(0.4940380075242495), 12: np.float64(0.15461332363948035), 13: np.float64(0.30467479292688243), 14: np.float64(0.042449060594504), 15: np.float64(0.0017764351295636708), 16: np.float64(0.31961432159713604), 17: np.float64(0.1784569734063859), 18: np.float64(0.15590171465386743), 19: np.float64(0.014934739156762003), 20: np.float64(0.6249178024892449), 21: np.float64(0.7756784404155257), 22: np.float64(0.07781612914013081), 23: np.float64(0.00631156347122629), 24: np.float64(0.9773161992896477), 25: np.float64(0.9991314699010097), 26: np.float64(0.026867339901185887), 27: np.float64(0.2122573869748736), 28: np.float64(0.9786043667425819), 29: np.float64(0.05319550471739834), 30: np.float64(0.05136721688498879), 31: np.float64(0.13656052735139876), 32: np.float64(0.7385361347299249), 33: np.float64(0.9996894653343442), 34: np.float64(0.29779390542019835), 35: np.float64(0.4002901881745839), 36: np.float64(0.4100950189639679), 37: np.float64(0.2093985167545384), 38: np.float64(0.560652446688398), 39: np.float64(0.9934163807702366), 40: np.float64(0.48310847645794225), 41: np.float64(0.010861886017984743), 42: np.float64(0.6678551442868865), 43: np.float64(0.12179345636748452), 44: np.float64(0.44369380478954423), 45: np.float64(0.006590947188163145), 46: np.float64(0.8579167864327386), 47: np.float64(0.7990021691247056), 48: np.float64(0.3684006969993405), 49: np.float64(0.7736442678063444), 50: np.float64(0.5547979753757122), 51: np.float64(0.10044497762489889), 52: np.float64(0.5571732698480154), 53: np.float64(0.976127096413939), 54: np.float64(0.016077384762594227), 55: np.float64(0.8636169975313807), 56: np.float64(0.9796237139804015), 57: np.float64(0.8036106150236179), 58: np.float64(0.9833138457448048), 59: np.float64(0.04309548349082405), 60: np.float64(0.37499666626402167), 61: np.float64(0.30344812912511293), 62: np.float64(0.6168636889500604), 63: np.float64(0.9534047037877486), 64: np.float64(0.04936022802919225), 65: np.float64(0.00014311973569748485), 66: np.float64(0.009390229121031712), 67: np.float64(0.9005726783059262), 68: np.float64(0.22721399803942474), 69: np.float64(0.001924541005884904), 70: np.float64(0.10662747514409619), 71: np.float64(0.8877688203428744), 72: np.float64(0.2973488915358608), 73: np.float64(0.718089411203915), 74: np.float64(0.21444229144595708), 75: np.float64(0.9529723973971028), 76: np.float64(0.9212485309577984), 77: np.float64(0.1275896866471208), 78: np.float64(0.24592264036023997), 79: np.float64(0.7955459830943479), 80: np.float64(0.998539845514332), 81: np.float64(0.9722737438886515), 82: np.float64(0.5058442617999571), 83: np.float64(0.9943845898295282), 84: np.float64(0.5192821501242614), 85: np.float64(0.03332885696098602), 86: np.float64(0.33355109816880957), 87: np.float64(0.7986923005813481), 88: np.float64(0.9828235086672786), 89: np.float64(0.36661413023167505), 90: np.float64(0.008230849778439502), 91: np.float64(0.9977281876316078), 92: np.float64(0.5803292145698434), 93: np.float64(0.784933494063151), 94: np.float64(0.5685219178581833), 95: np.float64(0.03864297040798621), 96: np.float64(0.02257050840658395), 97: np.float64(0.6327910064665104), 98: np.float64(0.9762808854231265), 99: np.float64(0.5805418730187523), 100: np.float64(0.0006392448419755559), 101: np.float64(0.2663414969240219), 102: np.float64(0.5663012692760364), 103: np.float64(0.9776464742311141), 104: np.float64(0.3265625695301926), 105: np.float64(0.013779759492976317), 106: np.float64(0.7025487729079987), 107: np.float64(0.7854660027011744), 108: np.float64(0.0005427020504652173), 109: np.float64(0.9229029155552553), 110: np.float64(0.14658933609052915), 111: np.float64(0.37464381202886377), 112: np.float64(0.5633411520475485), 113: np.float64(0.23304841625117756), 114: np.float64(0.6632634652540845), 115: np.float64(0.9450728920180199), 116: np.float64(0.99827024724191), 117: np.float64(0.6510914039360278), 118: np.float64(0.9674010667858765), 119: np.float64(0.012169952657268196), 120: np.float64(0.8773759303204605), 121: np.float64(0.9992488457451064), 122: np.float64(0.12177116870855965), 123: np.float64(0.13014167146475217), 124: np.float64(0.9286508236817624), 125: np.float64(0.0011902469928549658), 126: np.float64(0.9731077452660248), 127: np.float64(0.3200605959167418), 128: np.float64(0.015510180675479626), 129: np.float64(0.2306342091521136), 130: np.float64(0.8747220735403457), 131: np.float64(0.996646576787441), 132: np.float64(0.9241836761879794), 133: np.float64(0.7727873209081961), 134: np.float64(0.1003641650898829), 135: np.float64(0.7979464471663669), 136: np.float64(0.004783736440526414), 137: np.float64(0.5194157682350082), 138: np.float64(1.687701948448991e-05), 139: np.float64(0.04740435039574663), 140: np.float64(0.7299756036332283), 141: np.float64(0.044963842081383744), 142: np.float64(0.9964120232993685), 143: np.float64(0.9954257965366893), 144: np.float64(0.9088013411434902), 145: np.float64(0.5998372136529024), 146: np.float64(0.9276573309365834), 147: np.float64(0.08098214592909582), 148: np.float64(0.34081968667522977), 149: np.float64(0.9964138327621856), 150: np.float64(0.34248758727079137), 151: np.float64(0.8683263305639972), 152: np.float64(0.5812181215872605), 153: np.float64(0.23779319993371129), 154: np.float64(0.26488761685964746), 155: np.float64(0.0486086502845307), 156: np.float64(0.9902922029760127), 157: np.float64(0.008765595243489499), 158: np.float64(0.8940186235484353), 159: np.float64(0.9020714143458263), 160: np.float64(0.006932283372032247), 161: np.float64(0.637288528460481), 162: np.float64(0.49767361814424005), 163: np.float64(0.9374931753872716), 164: np.float64(0.4692643581045124), 165: np.float64(0.5421204900824284), 166: np.float64(0.9726932668546671), 167: np.float64(0.9950861596609696), 168: np.float64(0.01410635433539316), 169: np.float64(0.18053919017477538), 170: np.float64(0.6777311128520518), 171: np.float64(0.9948131229609012), 172: np.float64(0.34482151311228365), 173: np.float64(0.02259975665151015), 174: np.float64(0.4518142256311528), 175: np.float64(0.08656270884680296), 176: np.float64(0.05556745422146388), 177: np.float64(0.08105774651372123), 178: np.float64(0.8992584615463244), 179: np.float64(0.10345761245905458), 180: np.float64(0.6041430245924106), 181: np.float64(0.7248421569890814), 182: np.float64(0.9977927007557209), 183: np.float64(0.0003791765628962393), 184: np.float64(0.8008750692673513), 185: np.float64(0.06131072111709585), 186: np.float64(0.0005881007727019638), 187: np.float64(0.0015467363913406029), 188: np.float64(0.3264898999276599), 189: np.float64(0.26891018739499106), 190: np.float64(0.5026784064234022), 191: np.float64(0.9897105122514507), 192: np.float64(0.314767610953083), 193: np.float64(0.0001123921534944129), 194: np.float64(0.9899499762823807), 195: np.float64(0.004279277963670511), 196: np.float64(0.6225731238094558), 197: np.float64(0.7408044975335956), 198: np.float64(0.9333938945708609), 199: np.float64(0.22133189795921762), 200: np.float64(0.18504632797419998), 201: np.float64(0.14484060167227886), 202: np.float64(0.10793114359184149), 203: np.float64(0.9801564817046654), 204: np.float64(0.9998263986327302), 205: np.float64(0.00990810170671054), 206: np.float64(0.9603210426343282), 207: np.float64(0.006901599733189583), 208: np.float64(0.40857952030316125), 209: np.float64(0.09258177006714761), 210: np.float64(0.11720712137907777), 211: np.float64(0.8115835886380153), 212: np.float64(0.5793663712515696), 213: np.float64(0.27120699139754195), 214: np.float64(0.27658820891274044), 215: np.float64(0.001303493506617529), 216: np.float64(0.9691148059445256), 217: np.float64(0.058691249211781565), 218: np.float64(0.44897678293848536), 219: np.float64(0.045088600326113594), 220: np.float64(0.9703590334996484), 221: np.float64(0.5557611026169602), 222: np.float64(0.7010726052991726), 223: np.float64(0.9916397562322457), 224: np.float64(0.3744670245965785), 225: np.float64(0.24282489631845183), 226: np.float64(0.9983274444365022), 227: np.float64(0.000346608184811703), 228: np.float64(0.08719277887286979), 229: np.float64(0.30287263953761817), 230: np.float64(0.5531834112737974), 231: np.float64(0.6960140909517419), 232: np.float64(0.18895423590769803), 233: np.float64(0.9881379846138363), 234: np.float64(0.04642062914861085), 235: np.float64(0.5886261033522162), 236: np.float64(0.38091150637404286), 237: np.float64(0.9993761320636961), 238: np.float64(0.033402978930504076), 239: np.float64(0.7095214467094486), 240: np.float64(0.992584572768153), 241: np.float64(0.0023602912619982343), 242: np.float64(0.9988982060526118), 243: np.float64(0.6656938759067388), 244: np.float64(0.8936028976475665), 245: np.float64(0.3180097534135657), 246: np.float64(0.15812142006631755), 247: np.float64(0.23005255751434842), 248: np.float64(0.9367817154439972), 249: np.float64(0.24622731003841386), 250: np.float64(0.3681177791173884), 251: np.float64(0.11287505351217303), 252: np.float64(0.879470314952457), 253: np.float64(0.00010432330170291582), 254: np.float64(0.026303486776441933), 255: np.float64(0.20513340158388788), 256: np.float64(0.7581387156957775), 257: np.float64(0.8132643975009808), 258: np.float64(0.008231309368928416), 259: np.float64(0.019624553667977745), 260: np.float64(0.5400111895572733), 261: np.float64(0.05830229327695421), 262: np.float64(0.3988250670661543), 263: np.float64(0.29958507056388), 264: np.float64(0.9733330887971539), 265: np.float64(0.5477978957144555), 266: np.float64(0.32083087630652896), 267: np.float64(0.515962521883654), 268: np.float64(0.13150158402803128), 269: np.float64(0.9625307945483751), 270: np.float64(0.003554007953958522), 271: np.float64(0.7189970518557481), 272: np.float64(0.9824491863093748), 273: np.float64(0.9507697164760575), 274: np.float64(0.9524673919806332), 275: np.float64(0.997695287658556), 276: np.float64(0.9960420355622184), 277: np.float64(0.7806660385052377), 278: np.float64(0.18028824421537537), 279: np.float64(0.006324027095434831), 280: np.float64(0.4249745163658062), 281: np.float64(0.8187226245065948), 282: np.float64(0.989897760882102), 283: np.float64(0.9818459161476811), 284: np.float64(0.7743861762544415), 285: np.float64(0.7538909324299207), 286: np.float64(0.012342895702639835), 287: np.float64(0.846452872800547), 288: np.float64(0.024584917583731197), 289: np.float64(0.18383396917197165), 290: np.float64(0.21465194700923373), 291: np.float64(0.9878226918580256), 292: np.float64(0.16847735544312584), 293: np.float64(0.008099988481397084), 294: np.float64(0.014876305663952783), 295: np.float64(0.9905419012805082), 296: np.float64(0.21119827826012627), 297: np.float64(0.20698958285989147), 298: np.float64(0.19233080916921622), 299: np.float64(0.20368831695966297), 300: np.float64(2.8264773899111986e-05), 301: np.float64(0.9048901674550544), 302: np.float64(0.9695682593392365), 303: np.float64(0.899739446681714), 304: np.float64(0.0009506055916901382), 305: np.float64(0.5184128163488465), 306: np.float64(0.6649568223819001), 307: np.float64(0.7221987310166923), 308: np.float64(0.058857705217836814), 309: np.float64(0.041024113926354744), 310: np.float64(0.22994665712986467), 311: np.float64(0.09041486972672108), 312: np.float64(0.6430981799100037), 313: np.float64(0.255658008093713), 314: np.float64(0.4537053021031266), 315: np.float64(0.011482308104018289), 316: np.float64(0.04152764454844404), 317: np.float64(0.5037183449500681), 318: np.float64(0.7800518119211759), 319: np.float64(0.5203025805103016), 320: np.float64(0.740473366503707), 321: np.float64(0.9740505162802702), 322: np.float64(0.9944534546027667), 323: np.float64(0.0015967658419356698), 324: np.float64(0.6290595772762719), 325: np.float64(0.8192177742432492), 326: np.float64(0.3864806964303713), 327: np.float64(0.97439964733157), 328: np.float64(0.09208502386335243), 329: np.float64(0.006010663887909747), 330: np.float64(0.012796873458644862), 331: np.float64(0.002627347968773831), 332: np.float64(0.9984071516211825), 333: np.float64(0.9906287818354479), 334: np.float64(0.0008775789272581116), 335: np.float64(0.9987336933978563), 336: np.float64(0.8293927398131632), 337: np.float64(0.36853593156492304), 338: np.float64(0.3405088074304279), 339: np.float64(0.5463894286010994), 340: np.float64(0.3678564349398824), 341: np.float64(0.26211524110681805), 342: np.float64(0.01072225396197523), 343: np.float64(0.00019202776239572036), 344: np.float64(0.8612805112484652), 345: np.float64(0.9993642854723034), 346: np.float64(0.9843409874160158), 347: np.float64(0.49516596176102107), 348: np.float64(0.5314083422173406), 349: np.float64(0.9539384943728128), 350: np.float64(0.36031850074994304), 351: np.float64(0.0005751342966607256), 352: np.float64(0.0360147398962845), 353: np.float64(0.9956498268758235), 354: np.float64(0.3920214005630736), 355: np.float64(0.5207390213173141), 356: np.float64(0.13861388981842662), 357: np.float64(0.7543588607065106), 358: np.float64(0.29829609949565494), 359: np.float64(0.6802894650463785), 360: np.float64(0.9866331230945184), 361: np.float64(0.331372603711874), 362: np.float64(0.15983078285885569), 363: np.float64(0.0168434504086863), 364: np.float64(0.9228830630425569), 365: np.float64(0.4040422495608007), 366: np.float64(0.4152167022757253), 367: np.float64(0.06146291217270035), 368: np.float64(0.6397440400527881), 369: np.float64(0.9879204694830402), 370: np.float64(0.11479823189029331), 371: np.float64(0.16655401420764857), 372: np.float64(0.6292557488026849), 373: np.float64(0.8287846514794278), 374: np.float64(0.7790515453370637), 375: np.float64(0.9928750516519579), 376: np.float64(0.9912401263389876), 377: np.float64(0.02101175488737676), 378: np.float64(0.35311745428578284), 379: np.float64(0.9795757582425367), 380: np.float64(0.9984136433940133), 381: np.float64(0.9835750378318348), 382: np.float64(0.18189762397714557), 383: np.float64(0.1626883795534273), 384: np.float64(0.6249899534295311), 385: np.float64(0.2828198673270275), 386: np.float64(0.5243141155295692), 387: np.float64(0.16627722298404485), 388: np.float64(0.6294179542038295), 389: np.float64(0.8712167425553596), 390: np.float64(0.9853326351422125), 391: np.float64(0.010873390912753982), 392: np.float64(0.6294278436151951), 393: np.float64(0.12106000106398265), 394: np.float64(0.13769169407902213), 395: np.float64(0.3663611716376794), 396: np.float64(0.009389356030566913), 397: np.float64(0.743745604290142), 398: np.float64(0.8743557331707078), 399: np.float64(0.3967559940017223), 400: np.float64(0.0018239488088666383), 401: np.float64(0.3562526987089467), 402: np.float64(0.6532498643403001), 403: np.float64(0.06850662392651974), 404: np.float64(0.9941854325728131), 405: np.float64(0.5403229467412237), 406: np.float64(0.9904317224349888), 407: np.float64(0.09953613749363233), 408: np.float64(0.06579958697730906), 409: np.float64(0.01627652488498909), 410: np.float64(0.978105590315436), 411: np.float64(0.0007558784034781102), 412: np.float64(0.41336017253068047), 413: np.float64(0.8543308618357645), 414: np.float64(0.6636241949084619), 415: np.float64(0.9324575668882128), 416: np.float64(0.000458130048001603), 417: np.float64(0.7578350571622993), 418: np.float64(0.5195355872693292), 419: np.float64(0.39639340099343007), 420: np.float64(0.8705051353323199), 421: np.float64(0.3705437627346388), 422: np.float64(0.666184684034035), 423: np.float64(0.9084876940258083), 424: np.float64(0.3294339431664266), 425: np.float64(0.06986037372971846), 426: np.float64(0.9980738168860219), 427: np.float64(0.7818890111309827), 428: np.float64(0.9232037777629158), 429: np.float64(0.8263183751375484), 430: np.float64(0.813550794971646), 431: np.float64(0.11375735924879696), 432: np.float64(0.01810888393857074), 433: np.float64(0.9799801672007679), 434: np.float64(0.5685410887205218), 435: np.float64(0.4892995774409311), 436: np.float64(0.9890834272317157), 437: np.float64(0.10050700215984301), 438: np.float64(0.814463097440624), 439: np.float64(0.11732597628616974), 440: np.float64(0.7844735353534555), 441: np.float64(0.603594122288925), 442: np.float64(0.7810473059151323), 443: np.float64(0.9430583650157254), 444: np.float64(0.9624891747219636), 445: np.float64(0.21739327100205116), 446: np.float64(0.9335003016212574), 447: np.float64(0.4495209181406428), 448: np.float64(0.028667294054850107), 449: np.float64(0.5738707992940327), 450: np.float64(0.6106208966065195), 451: np.float64(0.7559859605276457), 452: np.float64(0.045065882015567896), 453: np.float64(0.5718726518607706), 454: np.float64(0.9944045213911603), 455: np.float64(0.8636408742011266), 456: np.float64(0.6688069690685067), 457: np.float64(0.9926036019037665), 458: np.float64(0.06343057589518596), 459: np.float64(0.13666654577799076), 460: np.float64(0.9371105691643209), 461: np.float64(0.02167047416039504), 462: np.float64(0.559185526616245), 463: np.float64(0.12326865378490957), 464: np.float64(0.980562391334678), 465: np.float64(0.4207535073585474), 466: np.float64(0.033927281667630226), 467: np.float64(0.10398331044453366), 468: np.float64(0.9983281929836579), 469: np.float64(0.8890618139529096), 470: np.float64(0.21986386338292205), 471: np.float64(0.39126640753141867), 472: np.float64(0.6230780321524986), 473: np.float64(0.5797970052393336), 474: np.float64(0.1445419874634456), 475: np.float64(0.9925186936077417), 476: np.float64(0.4359928508558572), 477: np.float64(0.9128802692087529), 478: np.float64(0.46814720868489174), 479: np.float64(0.669378396037006), 480: np.float64(0.7930799273149174), 481: np.float64(0.8026979881853723), 482: np.float64(0.993555603716847), 483: np.float64(0.05419945868297608), 484: np.float64(0.22307388207044207), 485: np.float64(0.7924052636014083), 486: np.float64(0.5937474369773696), 487: np.float64(0.9986576583450322), 488: np.float64(0.9962382003070525), 489: np.float64(0.8881159424718651), 490: np.float64(0.3692689744566334), 491: np.float64(0.8680796943097362), 492: np.float64(0.9818088829137275), 493: np.float64(0.027504498761219468), 494: np.float64(0.36659204401555), 495: np.float64(0.8677586168387874), 496: np.float64(0.6557773440658555), 497: np.float64(0.3121810450417759), 498: np.float64(0.02798902957380221), 499: np.float64(0.21597858821149743)}}, {'iteration': 3, 'status': {0: np.float64(0.9524682113371068), 1: np.float64(0.5813112536035626), 2: np.float64(0.8155444302965473), 3: np.float64(0.0021592044397923753), 4: np.float64(0.2818093324803301), 5: np.float64(0.005526913476008409), 6: np.float64(0.17796696864364908), 7: np.float64(0.05680979165437972), 8: np.float64(3.505547224439814e-05), 9: np.float64(0.12210512499158233), 10: np.float64(0.01812871107040287), 11: np.float64(0.009766632119553002), 12: np.float64(0.0018439738405001027), 13: np.float64(0.3046747929268813), 14: np.float64(0.042449060594504026), 15: np.float64(1.7975398770589716e-05), 16: np.float64(0.3196143215971351), 17: np.float64(0.0021893548009301635), 18: np.float64(0.0018621437613764113), 19: np.float64(0.00015311965416203022), 20: np.float64(0.01655058229552195), 21: np.float64(0.7756784404155289), 22: np.float64(0.000851622044193386), 23: np.float64(6.415398832537969e-05), 24: np.float64(0.3032306602917167), 25: np.float64(0.9207600995785443), 26: np.float64(0.0002788022840692402), 27: np.float64(0.0027143313185276625), 28: np.float64(0.31600787788910234), 29: np.float64(0.0005671958284597285), 30: np.float64(0.0005466574071227033), 31: np.float64(0.001595015223386195), 32: np.float64(0.02774005212380295), 33: np.float64(0.9701650181201231), 34: np.float64(0.0042653985331451314), 35: np.float64(0.4002901881745766), 36: np.float64(0.4100950189639659), 37: np.float64(0.002668212675376446), 38: np.float64(0.012725887059146132), 39: np.float64(0.6038290727045483), 40: np.float64(0.4831084764579335), 41: np.float64(0.00011090852772799938), 42: np.float64(0.6678551442868922), 43: np.float64(0.0013988918364476325), 44: np.float64(0.00799188997806795), 45: np.float64(6.701243819586715e-05), 46: np.float64(0.8579167864327357), 47: np.float64(0.7990021691247086), 48: np.float64(0.0058572311641131814), 49: np.float64(0.03337138770800001), 50: np.float64(0.01243111094160505), 51: np.float64(0.0011266155477414627), 52: np.float64(0.012549789950631733), 53: np.float64(0.29229347935927286), 54: np.float64(0.00016502418361120363), 55: np.float64(0.06011729066162967), 56: np.float64(0.9796237139804119), 57: np.float64(0.8036106150236095), 58: np.float64(0.37313970745166736), 59: np.float64(0.0004547057407864452), 60: np.float64(0.3749966662640275), 61: np.float64(0.00438115797947307), 62: np.float64(0.6168636889500596), 63: np.float64(0.17128038713681715), 64: np.float64(0.0005242015071723755), 65: np.float64(1.4458587366431191e-06), 66: np.float64(9.574074565400859e-05), 67: np.float64(0.0838219419501892), 68: np.float64(0.0029610977618463093), 69: np.float64(1.9476913631739753e-05), 70: np.float64(0.0012041430165864106), 71: np.float64(0.8877688203428703), 72: np.float64(0.0042563656753328), 73: np.float64(0.025084132066061585), 74: np.float64(0.0027498011017773904), 75: np.float64(0.16990952243660876), 76: np.float64(0.10567631971854397), 77: np.float64(0.0014750898981804915), 78: np.float64(0.0032833646900749976), 79: np.float64(0.037817423192050476), 80: np.float64(0.8735404525188568), 81: np.float64(0.2615626762641729), 82: np.float64(0.0102341144909761), 83: np.float64(0.6414100816353904), 84: np.float64(0.01079356433306339), 85: np.float64(0.00034814106097042706), 86: np.float64(0.005030026790028151), 87: np.float64(0.03853176118131539), 88: np.float64(0.3662747059973466), 89: np.float64(0.00581264593150456), 90: np.float64(8.382286110565604e-05), 91: np.float64(0.9977281876316114), 92: np.float64(0.013775466148428924), 93: np.float64(0.03555513187957943), 94: np.float64(0.568521917858184), 95: np.float64(0.0004058581802170394), 96: np.float64(0.022570508406583954), 97: np.float64(0.01710871061780379), 98: np.float64(0.2936648359938084), 99: np.float64(0.013787334665916442), 100: np.float64(6.461107115722012e-06), 101: np.float64(0.0036535919841166314), 102: np.float64(0.566301269276036), 103: np.float64(0.3064102440911604), 104: np.float64(0.004874296043560917), 105: np.float64(0.0001411143702742193), 106: np.float64(0.023301613287256655), 107: np.float64(0.03566355665823854), 108: np.float64(5.484785431177817e-06), 109: np.float64(0.10787228982703695), 110: np.float64(0.0017320333628685304), 111: np.float64(0.00601500160400848), 112: np.float64(0.563341152047548), 113: np.float64(0.2330484162511785), 114: np.float64(0.019507645469863482), 115: np.float64(0.14806425302560022), 116: np.float64(0.853575704235241), 117: np.float64(0.018500571683226743), 118: np.float64(0.23062486351337314), 119: np.float64(0.012169952657268276), 120: np.float64(0.06740149228210408), 121: np.float64(0.9307345727633471), 122: np.float64(0.0013986007586279886), 123: np.float64(0.0015089568922536886), 124: np.float64(0.11619436244699681), 125: np.float64(1.203687904085835e-05), 126: np.float64(0.26767254782049543), 127: np.float64(0.004732239767129229), 128: np.float64(0.015510180675479726), 129: np.float64(0.0030188574245207196), 130: np.float64(0.8747220735403468), 131: np.float64(0.750127928741608), 132: np.float64(0.9241836761879848), 133: np.float64(0.7727873209081934), 134: np.float64(0.0011256091483232821), 135: np.float64(0.038360508001724525), 136: np.float64(4.855047680470488e-05), 137: np.float64(0.010799280984636953), 138: np.float64(1.7047779238260842e-07), 139: np.float64(0.0474043503957465), 140: np.float64(0.026580919621359635), 141: np.float64(0.0004753373267254783), 142: np.float64(0.7371974059134071), 143: np.float64(0.68731967350415), 144: np.float64(0.09145199654523968), 145: np.float64(0.5998372136529028), 146: np.float64(0.1146730919410576), 147: np.float64(0.0809821459290962), 148: np.float64(0.005195448132713772), 149: np.float64(0.7372954748615379), 150: np.float64(0.005233914884821748), 151: np.float64(0.06245146045886684), 152: np.float64(0.013825154460593812), 153: np.float64(0.003141412532247479), 154: np.float64(0.2648876168596452), 155: np.float64(0.0005158163395816598), 156: np.float64(0.9902922029760134), 157: np.float64(8.931636904216558e-05), 158: np.float64(0.07851790719960633), 159: np.float64(0.08512515765519257), 160: np.float64(7.050690107260936e-05), 161: np.float64(0.017438114641900534), 162: np.float64(0.009908293433715947), 163: np.float64(0.1315656396775346), 164: np.float64(0.008852024743462718), 165: np.float64(0.011818063771930842), 166: np.float64(0.26460213027262636), 167: np.float64(0.9950861596609754), 168: np.float64(0.0001445062941444954), 169: np.float64(0.0022204587097801936), 170: np.float64(0.020800558992495888), 171: np.float64(0.6595530877851489), 172: np.float64(0.005288065896161174), 173: np.float64(0.022599756651510084), 174: np.float64(0.008256506080085067), 175: np.float64(0.08656270884680332), 176: np.float64(0.0005939588139752991), 177: np.float64(0.0008901933216784826), 178: np.float64(0.08270814785957853), 179: np.float64(0.0011642614103738664), 180: np.float64(0.015181767948084549), 181: np.float64(0.025919185083795763), 182: np.float64(0.8203404820087531), 183: np.float64(3.831504433647098e-06), 184: np.float64(0.039039951949419054), 185: np.float64(0.0006593149760219183), 186: np.float64(5.943872132219759e-06), 187: np.float64(0.0015467363913406116), 188: np.float64(0.004872693415237727), 189: np.float64(0.003701610825828263), 190: np.float64(0.010106624639239246), 191: np.float64(0.4927929669963698), 192: np.float64(0.3147676109530798), 193: np.float64(0.00011239215349441247), 194: np.float64(0.4987398947291705), 195: np.float64(4.340891238673181e-05), 196: np.float64(0.016388750303439607), 197: np.float64(0.02805954430831576), 198: np.float64(0.12399953521736412), 199: np.float64(0.0028629336937310832), 200: np.float64(0.0022883234485765957), 201: np.float64(0.0017079127527477778), 202: np.float64(0.1079311435918414), 203: np.float64(0.33285842383612463), 204: np.float64(0.9831009667770433), 205: np.float64(0.00010107316301260022), 206: np.float64(0.9603210426343155), 207: np.float64(7.019267702800323e-05), 208: np.float64(0.0069298679717970345), 209: np.float64(0.09258177006714717), 210: np.float64(0.0013393002302502484), 211: np.float64(0.041694918109016106), 212: np.float64(0.013721876254137124), 213: np.float64(0.0037448297376736672), 214: np.float64(0.003847147761281387), 215: np.float64(1.318361224653866e-05), 216: np.float64(0.24066928476249638), 217: np.float64(0.0006294085352014502), 218: np.float64(0.44897678293847765), 219: np.float64(0.00047671783049928895), 220: np.float64(0.9703590334996475), 221: np.float64(0.01247908301199853), 222: np.float64(0.7010726052991706), 223: np.float64(0.5450654847148905), 224: np.float64(0.006010491358699202), 225: np.float64(0.003228918782126555), 226: np.float64(0.8577356174902397), 227: np.float64(3.502294437935841e-06), 228: np.float64(0.0009639342776587684), 229: np.float64(0.004369291331069836), 230: np.float64(0.5531834112737981), 231: np.float64(0.02260474493842584), 232: np.float64(0.002347768414295053), 233: np.float64(0.4569471733368428), 234: np.float64(0.04642062914861084), 235: np.float64(0.014247396968446478), 236: np.float64(0.006176542134253314), 237: np.float64(0.9417956343774679), 238: np.float64(0.033402978930504444), 239: np.float64(0.7095214467094478), 240: np.float64(0.5748408815324663), 241: np.float64(2.3897160397654585e-05), 242: np.float64(0.9015523623190591), 243: np.float64(0.019717252317087514), 244: np.float64(0.8936028976475706), 245: np.float64(0.004687986236698572), 246: np.float64(0.0018935767044734298), 247: np.float64(0.003008998898425591), 248: np.float64(0.1301918964557184), 249: np.float64(0.003288743408490687), 250: np.float64(0.005850154183059337), 251: np.float64(0.11287505351217353), 252: np.float64(0.06864475120052824), 253: np.float64(1.0538795579195314e-06), 254: np.float64(0.026303486776442255), 255: np.float64(0.20513340158388735), 256: np.float64(0.030690885735455663), 257: np.float64(0.04213785727147825), 258: np.float64(8.382758001937013e-05), 259: np.float64(0.00020215494261614406), 260: np.float64(0.01171927171520302), 261: np.float64(0.0006249818702374527), 262: np.float64(0.39882506706615567), 263: np.float64(0.00430186987449187), 264: np.float64(0.9733330887971545), 265: np.float64(0.012088450838879427), 266: np.float64(0.004748929066018308), 267: np.float64(0.010652531315586132), 268: np.float64(0.001527084424936952), 269: np.float64(0.20602193392184015), 270: np.float64(3.6025812974674595e-05), 271: np.float64(0.025194119168049017), 272: np.float64(0.3611972439552458), 273: np.float64(0.1632343809042851), 274: np.float64(0.16833412304701711), 275: np.float64(0.8138725588464286), 276: np.float64(0.7176713159865351), 277: np.float64(0.7806660385052366), 278: np.float64(0.18028824421537523), 279: np.float64(6.428147310753687e-05), 280: np.float64(0.007409869415631182), 281: np.float64(0.04362987738006061), 282: np.float64(0.4974312030281184), 283: np.float64(0.3532963330920448), 284: np.float64(0.033508480812875885), 285: np.float64(0.030013148527730064), 286: np.float64(0.0001262178718933488), 287: np.float64(0.05274632336367221), 288: np.float64(0.00025452681431830277), 289: np.float64(0.0022699959739585548), 290: np.float64(0.0027532148988915067), 291: np.float64(0.987822691858016), 292: np.float64(0.16847735544312797), 293: np.float64(8.247939934843658e-05), 294: np.float64(0.014876305663952873), 295: np.float64(0.5140615252329889), 296: np.float64(0.0026972075333441888), 297: np.float64(0.20698958285989355), 298: np.float64(0.00239958847331649), 299: np.float64(0.0025770757434813957), 300: np.float64(2.8551075504052333e-07), 301: np.float64(0.08767666845736273), 302: np.float64(0.24346876987720678), 303: np.float64(0.08311270630764221), 304: np.float64(9.61112078217795e-06), 305: np.float64(0.01075644703527717), 306: np.float64(0.019653374548141884), 307: np.float64(0.02558763158577367), 308: np.float64(0.05885770521783707), 309: np.float64(0.0004319253609858353), 310: np.float64(0.0030072055539926983), 311: np.float64(0.0010030566781549831), 312: np.float64(0.01787556749923918), 313: np.float64(0.0034573835529939883), 314: np.float64(0.008319238262735822), 315: np.float64(0.011482308104018225), 316: np.float64(0.00043745409587916435), 317: np.float64(0.010148327464069575), 318: np.float64(0.034584548640432894), 319: np.float64(0.010837300953444519), 320: np.float64(0.028012570518701006), 321: np.float64(0.2749186943410724), 322: np.float64(0.6442590641874706), 323: np.float64(1.6154482269018582e-05), 324: np.float64(0.016841316626534323), 325: np.float64(0.04376944691775451), 326: np.float64(0.006322803777096041), 327: np.float64(0.27769894255525046), 328: np.float64(0.0010234436293365355), 329: np.float64(6.107718283636593e-05), 330: np.float64(0.00013091978917397436), 331: np.float64(0.002627347968773835), 332: np.float64(0.998407151621179), 333: np.float64(0.5163883599344816), 334: np.float64(0.0008775789272581123), 335: np.float64(0.9987336933978569), 336: np.float64(0.04680674971724058), 337: np.float64(0.00586061616095076), 338: np.float64(0.005188299516965417), 339: np.float64(0.012020755049937977), 340: np.float64(0.0058436223913164295), 341: np.float64(0.0035753043923720217), 342: np.float64(0.00010946747773195435), 343: np.float64(1.9400431467259924e-06), 344: np.float64(0.05901400713614396), 345: np.float64(0.9407552133700288), 346: np.float64(0.38836404127925445), 347: np.float64(0.4951659617610192), 348: np.float64(0.5314083422173421), 349: np.float64(0.17300212693342037), 350: np.float64(0.005657487261701761), 351: np.float64(5.812746681193867e-06), 352: np.float64(0.000377234003838963), 353: np.float64(0.6980564983040688), 354: np.float64(0.006470932453447922), 355: np.float64(0.010856062901418126), 356: np.float64(0.13861388981842726), 357: np.float64(0.030086703855947826), 358: np.float64(0.2982960994956539), 359: np.float64(0.6802894650463788), 360: np.float64(0.42712242326707905), 361: np.float64(0.004981137747851118), 362: np.float64(0.0019178945976482753), 363: np.float64(0.00017302069112000844), 364: np.float64(0.10784544505699606), 365: np.float64(0.006801616135194866), 366: np.float64(0.007120999994725639), 367: np.float64(0.0006610576133718559), 368: np.float64(0.017621334762212382), 369: np.float64(0.987920469483032), 370: np.float64(0.001308245339060322), 371: np.float64(0.0020144972694759867), 372: np.float64(0.016855243809308786), 373: np.float64(0.04661565871110555), 374: np.float64(0.03439073475922574), 375: np.float64(0.584647732121632), 376: np.float64(0.5333642170155816), 377: np.float64(0.00021674820590404791), 378: np.float64(0.0054836595046769175), 379: np.float64(0.3263538416765065), 380: np.float64(0.8640810556947047), 381: np.float64(0.3768997509992245), 382: np.float64(0.0022408351241182465), 383: np.float64(0.16268837955342896), 384: np.float64(0.016555593467278452), 385: np.float64(0.003967527692769697), 386: np.float64(0.5243141155295667), 387: np.float64(0.16627722298404568), 388: np.float64(0.016866770407632244), 389: np.float64(0.06396242146793747), 390: np.float64(0.9853326351421933), 391: np.float64(0.00011102728008639579), 392: np.float64(0.01686747348404594), 393: np.float64(0.12106000106398156), 394: np.float64(0.13769169407902196), 395: np.float64(0.005806353140480315), 396: np.float64(9.573176029790063e-05), 397: np.float64(0.028481889320219035), 398: np.float64(0.06567615564168164), 399: np.float64(0.0065996302420192774), 400: np.float64(0.0018239488088666383), 401: np.float64(0.3562526987089468), 402: np.float64(0.018674145364665964), 403: np.float64(0.0685066239265201), 404: np.float64(0.9941854325728159), 405: np.float64(0.011733817442611412), 406: np.float64(0.5111401247702239), 407: np.float64(0.0011153075925432515), 408: np.float64(0.0007109499803432745), 409: np.float64(0.00016710170423869577), 410: np.float64(0.3109388908748979), 411: np.float64(0.000755878403478111), 412: np.float64(0.00706710897081462), 413: np.float64(0.055927900038419555), 414: np.float64(0.019538570233414963), 415: np.float64(0.12238327547914674), 416: np.float64(4.629675811864559e-06), 417: np.float64(0.030641679594394164), 418: np.float64(0.010804409911101983), 419: np.float64(0.3963934009934354), 420: np.float64(0.8705051353323187), 421: np.float64(0.005911041675882858), 422: np.float64(0.019759940706127747), 423: np.float64(0.09113853539443102), 424: np.float64(0.004937894097720881), 425: np.float64(0.0007580855281261504), 426: np.float64(0.8395881636257815), 427: np.float64(0.034944952515504474), 428: np.float64(0.10828061849038394), 429: np.float64(0.045853591968494), 430: np.float64(0.042214085841904815), 431: np.float64(0.0012948782689538552), 432: np.float64(0.00018625685359117624), 433: np.float64(0.33085713126385063), 434: np.float64(0.5685410887205166), 435: np.float64(0.4892995774409239), 436: np.float64(0.47785868000987564), 437: np.float64(0.001127388091964221), 438: np.float64(0.04245839453281968), 439: np.float64(0.0013408368202625102), 440: np.float64(0.03546189084884301), 441: np.float64(0.015147498371084275), 442: np.float64(0.03477911767420805), 443: np.float64(0.14331583644980841), 444: np.float64(0.9624891747219522), 445: np.float64(0.0027980177035300067), 446: np.float64(0.12418570871519485), 447: np.float64(0.008180998544211926), 448: np.float64(0.0002980259246776046), 449: np.float64(0.013420531322310879), 450: np.float64(0.015593312504301758), 451: np.float64(0.7559859605276484), 452: np.float64(0.0004764664160187757), 453: np.float64(0.013312837790586863), 454: np.float64(0.9944045213911553), 455: np.float64(0.06012874674403789), 456: np.float64(0.019990095574050938), 457: np.float64(0.57547341542447), 458: np.float64(0.06343057589518569), 459: np.float64(0.001596447241625297), 460: np.float64(0.13082354950061542), 461: np.float64(0.000223692230268636), 462: np.float64(0.5591855266162432), 463: np.float64(0.0014181905091115536), 464: np.float64(0.33755627923054354), 465: np.float64(0.007283737303333584), 466: np.float64(0.0003546092171020716), 467: np.float64(0.0011708561775939106), 468: np.float64(0.8577903244525821), 469: np.float64(0.07488764656472634), 470: np.float64(0.21986386338291988), 471: np.float64(0.006450591924886569), 472: np.float64(0.016423433949057608), 473: np.float64(0.01374581482583116), 474: np.float64(0.0017038036542866323), 475: np.float64(0.9925186936077343), 476: np.float64(0.0077478572395175815), 477: np.float64(0.09571249374481831), 478: np.float64(0.008812751155688548), 479: np.float64(0.020040719009656753), 480: np.float64(0.03727200386787611), 481: np.float64(0.03947255553674083), 482: np.float64(0.6089639268032606), 483: np.float64(0.0005785073498287956), 484: np.float64(0.22307388207044268), 485: np.float64(0.037124939744956634), 486: np.float64(0.014548086562793529), 487: np.float64(0.8825576557332814), 488: np.float64(0.9962382003070506), 489: np.float64(0.07422840284516491), 490: np.float64(0.36926897445663753), 491: np.float64(0.06232537730670492), 492: np.float64(0.35282225308880194), 493: np.float64(0.0002855991347880799), 494: np.float64(0.005812096300848325), 495: np.float64(0.8677586168387932), 496: np.float64(0.018880081106835967), 497: np.float64(0.00456363286136115), 498: np.float64(0.0002907737383897332), 499: np.float64(0.0027748582276326313)}}]\n"
     ]
    }
   ],
   "source": [
    "print(system_status)"
   ]
  },
  {
   "cell_type": "code",
   "execution_count": 58,
   "metadata": {},
   "outputs": [
    {
     "name": "stdout",
     "output_type": "stream",
     "text": [
      "4\n"
     ]
    }
   ],
   "source": [
    "print(len(system_status))"
   ]
  },
  {
   "cell_type": "code",
   "execution_count": null,
   "metadata": {},
   "outputs": [],
   "source": []
  }
 ],
 "metadata": {
  "kernelspec": {
   "display_name": "almondo-venv",
   "language": "python",
   "name": "python3"
  },
  "language_info": {
   "codemirror_mode": {
    "name": "ipython",
    "version": 3
   },
   "file_extension": ".py",
   "mimetype": "text/x-python",
   "name": "python",
   "nbconvert_exporter": "python",
   "pygments_lexer": "ipython3",
   "version": "3.11.5"
  }
 },
 "nbformat": 4,
 "nbformat_minor": 2
}
