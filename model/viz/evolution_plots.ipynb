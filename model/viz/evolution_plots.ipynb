{
 "cells": [
  {
   "cell_type": "code",
   "execution_count": 8,
   "metadata": {},
   "outputs": [],
   "source": [
    "import numpy as np\n",
    "import matplotlib.pyplot as plt\n",
    "import future.utils\n",
    "\n",
    "class OpinionEvolution(object):\n",
    "    def __init__(self, trends, p_o, p_p, kind='probability'):\n",
    "        \n",
    "        \"\"\"\n",
    "        :param p_o: The model p_o parameter\n",
    "        :param p_p: The model p_p parameter\n",
    "        :param trends: The computed simulation trends (status.json in the run folder)\n",
    "        \"\"\"\n",
    "        \n",
    "        self.kind = kind\n",
    "        \n",
    "        self.node2col = {}\n",
    "        self.nodes2opinions = {}\n",
    "            \n",
    "        self.last_it = trends[-1]['iteration'] + 1\n",
    "        self.last_seen = {}\n",
    "        \n",
    "        def transform(w: list, p_o: int, p_p: int):\n",
    "            w = np.array(w)\n",
    "            p = w * p_o + (1 - w) * p_p\n",
    "            p = p.tolist()\n",
    "            return p\n",
    "\n",
    "        for it in trends:\n",
    "            weights = np.array([el for el in it['status'].values()])\n",
    "            if kind == 'probability':\n",
    "                sts = transform(weights, p_o, p_p)  # update conditional probabilities of event will occur\n",
    "            else:\n",
    "                sts = weights\n",
    "            its = it['iteration']\n",
    "            for n, v in enumerate(sts):\n",
    "                if n in self.nodes2opinions:\n",
    "                    last_id = self.last_seen[n]\n",
    "                    last_value = self.nodes2opinions[n][last_id]\n",
    "\n",
    "                    for i in range(last_id, its):\n",
    "                        self.nodes2opinions[n][i] = last_value\n",
    "\n",
    "                    self.nodes2opinions[n][its] = v\n",
    "                    self.last_seen[n] = its\n",
    "                else:\n",
    "                    self.nodes2opinions[n] = [0]*self.last_it\n",
    "                    self.nodes2opinions[n][its] = v\n",
    "                    self.last_seen[n] = 0\n",
    "                    if v < 0.33:\n",
    "                        self.node2col[n] = '#357db0'\n",
    "                    elif 0.33 <= v <= 0.66:\n",
    "                        self.node2col[n] = '#18A558'\n",
    "                    else:\n",
    "                        self.node2col[n] = '#ce2626'\n",
    "    \n",
    "    def plot(self, filename=None, ax = None):   \n",
    "        if ax is None:\n",
    "            fig, ax = plt.subplots(figsize=(10, 6))    \n",
    "        mx = 0\n",
    "        for k, l in future.utils.iteritems(self.nodes2opinions):\n",
    "            if mx < self.last_seen[k]:\n",
    "                mx = self.last_seen[k]\n",
    "            x = list(range(0, self.last_seen[k]))\n",
    "            y = l[0:self.last_seen[k]]\n",
    "            ax.plot(x, y, lw=1.5, alpha=0.5, color=self.node2col[k])\n",
    "        plt.xlabel(\"Iterations\")\n",
    "        plt.ylabel(f\"{self.kind.capitalize()}\")\n",
    "        if filename is not None:\n",
    "            plt.savefig(filename, dpi=300, facecolor='white', bbox_inches='tight')\n",
    "        else:\n",
    "            plt.show()\n",
    "            \n",
    "        plt.close()"
   ]
  },
  {
   "cell_type": "code",
   "execution_count": 9,
   "metadata": {},
   "outputs": [],
   "source": [
    "n_lobbyists = 2"
   ]
  },
  {
   "cell_type": "code",
   "execution_count": 10,
   "metadata": {},
   "outputs": [],
   "source": [
    "import json\n",
    "with open(f'../results/{n_lobbyists}_lobbyistsconfig.json', 'r') as f:\n",
    "    params = json.load(f)"
   ]
  },
  {
   "cell_type": "code",
   "execution_count": 11,
   "metadata": {},
   "outputs": [
    {
     "name": "stdout",
     "output_type": "stream",
     "text": [
      "{'p_o': 0.01, 'p_p': 0.99, 'lambda_values': [0.0, 0.5, 1.0], 'phi_values': [0.0, 0.5, 1.0], 'T': 10000, 'n_lobbyists': 2, 'lobbyists': {'0': {'m': 0, 'strategy': ''}, '1': {'m': 1, 'strategy': ''}}, 'nruns': 3}\n"
     ]
    }
   ],
   "source": [
    "print(params)"
   ]
  },
  {
   "cell_type": "code",
   "execution_count": 12,
   "metadata": {},
   "outputs": [],
   "source": [
    "p_o = params['p_o']\n",
    "p_p = params['p_p']\n",
    "lambda_values = params['lambda_values']\n",
    "phi_values = params['phi_values']\n",
    "n_lobbyists = params['n_lobbyists']\n",
    "lobbyists_data = params['lobbyists']\n",
    "nruns = params['nruns']"
   ]
  },
  {
   "cell_type": "code",
   "execution_count": 13,
   "metadata": {},
   "outputs": [
    {
     "data": {
      "text/plain": [
       "list"
      ]
     },
     "execution_count": 13,
     "metadata": {},
     "output_type": "execute_result"
    }
   ],
   "source": [
    "type(lambda_values)"
   ]
  },
  {
   "cell_type": "code",
   "execution_count": 14,
   "metadata": {},
   "outputs": [
    {
     "data": {
      "text/plain": [
       "list"
      ]
     },
     "execution_count": 14,
     "metadata": {},
     "output_type": "execute_result"
    }
   ],
   "source": [
    "type(phi_values)"
   ]
  },
  {
   "cell_type": "code",
   "execution_count": 15,
   "metadata": {},
   "outputs": [],
   "source": [
    "import json\n",
    "import os \n",
    "\n",
    "values = ['weights', 'probabilities']\n",
    "\n",
    "for value in values:\n",
    "    for _, (lambda_v, phi_v) in enumerate([(l, p) for l in params['lambda_values'] for p in params['phi_values']]):    \n",
    "        path = os.path.join(f'../results/{n_lobbyists}_lobbyists/', f'{lambda_v}_{phi_v}/')        \n",
    "        for run in range(params['nruns']):\n",
    "            runpath = os.path.join(path, str(run))\n",
    "            with open(runpath+'/status.json', 'r') as f:\n",
    "                trends = json.load(f)\n",
    "            \n",
    "            oe = OpinionEvolution(trends, p_o, p_p, kind=value)\n",
    "            oe.plot(runpath+f'/{value}_evolution.png')"
   ]
  },
  {
   "cell_type": "code",
   "execution_count": null,
   "metadata": {},
   "outputs": [],
   "source": []
  }
 ],
 "metadata": {
  "kernelspec": {
   "display_name": "twitter-venv",
   "language": "python",
   "name": "python3"
  },
  "language_info": {
   "codemirror_mode": {
    "name": "ipython",
    "version": 3
   },
   "file_extension": ".py",
   "mimetype": "text/x-python",
   "name": "python",
   "nbconvert_exporter": "python",
   "pygments_lexer": "ipython3",
   "version": "3.11.5"
  }
 },
 "nbformat": 4,
 "nbformat_minor": 2
}
