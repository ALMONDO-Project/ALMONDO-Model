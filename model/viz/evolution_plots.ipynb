{
 "cells": [
  {
   "cell_type": "code",
   "execution_count": 1,
   "metadata": {},
   "outputs": [],
   "source": [
    "import numpy as np\n",
    "import matplotlib.pyplot as plt\n",
    "import future.utils\n",
    "\n",
    "class OpinionEvolution(object):\n",
    "    def __init__(self, trends, p_o, p_p, kind='probability'):\n",
    "        \n",
    "        \"\"\"\n",
    "        :param p_o: The model p_o parameter\n",
    "        :param p_p: The model p_p parameter\n",
    "        :param trends: The computed simulation trends (status.json in the run folder)\n",
    "        \"\"\"\n",
    "        \n",
    "        self.kind = kind\n",
    "        \n",
    "        self.node2col = {}\n",
    "        self.nodes2opinions = {}\n",
    "            \n",
    "        self.last_it = trends[-1]['iteration'] + 1\n",
    "        self.last_seen = {}\n",
    "        \n",
    "        def transform(w: list, p_o: int, p_p: int):\n",
    "            w = np.array(w)\n",
    "            p = w * p_o + (1 - w) * p_p\n",
    "            p = p.tolist()\n",
    "            return p\n",
    "\n",
    "        for it in trends:\n",
    "            weights = np.array([el for el in it['status'].values()])\n",
    "            if kind == 'probability':\n",
    "                sts = transform(weights, p_o, p_p)  # update conditional probabilities of event will occur\n",
    "            else:\n",
    "                sts = weights\n",
    "            its = it['iteration']\n",
    "            for n, v in enumerate(sts):\n",
    "                if n in self.nodes2opinions:\n",
    "                    last_id = self.last_seen[n]\n",
    "                    last_value = self.nodes2opinions[n][last_id]\n",
    "\n",
    "                    for i in range(last_id, its):\n",
    "                        self.nodes2opinions[n][i] = last_value\n",
    "\n",
    "                    self.nodes2opinions[n][its] = v\n",
    "                    self.last_seen[n] = its\n",
    "                else:\n",
    "                    self.nodes2opinions[n] = [0]*self.last_it\n",
    "                    self.nodes2opinions[n][its] = v\n",
    "                    self.last_seen[n] = 0\n",
    "                    if v < 0.33:\n",
    "                        self.node2col[n] = '#357db0'\n",
    "                    elif 0.33 <= v <= 0.66:\n",
    "                        self.node2col[n] = '#18A558'\n",
    "                    else:\n",
    "                        self.node2col[n] = '#ce2626'\n",
    "    \n",
    "    def plot(self, filename=None, ax = None):   \n",
    "        if ax is None:\n",
    "            fig, ax = plt.subplots(figsize=(10, 6))    \n",
    "        mx = 0\n",
    "        for k, l in future.utils.iteritems(self.nodes2opinions):\n",
    "            if mx < self.last_seen[k]:\n",
    "                mx = self.last_seen[k]\n",
    "            x = list(range(0, self.last_seen[k]))\n",
    "            y = l[0:self.last_seen[k]]\n",
    "            ax.plot(x, y, lw=1.5, alpha=0.5, color=self.node2col[k])\n",
    "        plt.xlabel(\"Iterations\")\n",
    "        plt.ylabel(f\"{self.kind.capitalize()}\")\n",
    "        if filename is not None:\n",
    "            plt.savefig(filename, dpi=300, facecolor='white', bbox_inches='tight')\n",
    "        else:\n",
    "            plt.show()\n",
    "            \n",
    "        plt.close()"
   ]
  },
  {
   "cell_type": "code",
   "execution_count": 5,
   "metadata": {},
   "outputs": [
    {
     "name": "stdout",
     "output_type": "stream",
     "text": [
      "doing 0 lobbyists\n"
     ]
    },
    {
     "name": "stderr",
     "output_type": "stream",
     "text": [
      "Processing: 100%|██████████| 792/792 [06:00<00:00,  2.20iteration/s]\n"
     ]
    },
    {
     "name": "stdout",
     "output_type": "stream",
     "text": [
      "finished 0 lobbyists\n",
      "doing 1 lobbyists\n"
     ]
    },
    {
     "name": "stderr",
     "output_type": "stream",
     "text": [
      "Processing: 100%|██████████| 792/792 [50:29<00:00,  3.83s/iteration]    \n"
     ]
    },
    {
     "name": "stdout",
     "output_type": "stream",
     "text": [
      "finished 1 lobbyists\n",
      "doing 2 lobbyists\n"
     ]
    },
    {
     "name": "stderr",
     "output_type": "stream",
     "text": [
      "Processing:  82%|████████▏ | 651/792 [1:09:34<38:39, 16.45s/iteration]  "
     ]
    },
    {
     "ename": "",
     "evalue": "",
     "output_type": "error",
     "traceback": [
      "\u001b[1;31mSi è verificato un arresto anomalo del Kernel durante l'esecuzione del codice nella cella attiva o in una cella precedente. \n",
      "\u001b[1;31mEsaminare il codice nelle celle per identificare una possibile causa dell'errore. \n",
      "\u001b[1;31mPer altre informazioni, fare clic<a href='https://aka.ms/vscodeJupyterKernelCrash'>qui</a>. \n",
      "\u001b[1;31mPer ulteriori dettagli, visualizzare Jupyter <a href='command:jupyter.viewOutput'>log</a>."
     ]
    }
   ],
   "source": [
    "import json\n",
    "import os \n",
    "from tqdm.notebook import tqdm  # Use tqdm for Jupyter Notebook\n",
    "\n",
    "\n",
    "values = ['weights', 'probabilities']\n",
    "\n",
    "for n_lobbyists in [0, 1, 2, 3]:\n",
    "    print(f'doing {n_lobbyists} lobbyists')\n",
    "    \n",
    "    with open(f'../results/{n_lobbyists}_lobbyistsconfig.json', 'r') as f:\n",
    "        params = json.load(f)\n",
    "   \n",
    "    p_o = params['p_o']\n",
    "    p_p = params['p_p']\n",
    "    lambda_values = params['lambda_values']\n",
    "    phi_values = params['phi_values']\n",
    "    n_lobbyists = params['n_lobbyists']\n",
    "    lobbyists_data = params['lobbyists']\n",
    "    nruns = params['nruns']\n",
    "    \n",
    "    total_iterations = len(values) * len(lambda_values) * len(phi_values) * nruns\n",
    "    with tqdm(total=total_iterations, desc=\"Processing\", unit=\"iteration\") as pbar:\n",
    "\n",
    "        for value in values:\n",
    "            for _, (lambda_v, phi_v) in enumerate([(l, p) for l in params['lambda_values'] for p in params['phi_values']]):    \n",
    "                path = os.path.join(f'../results/{n_lobbyists}_lobbyists/', f'{lambda_v}_{phi_v}/')        \n",
    "                for run in range(params['nruns']):\n",
    "                    runpath = os.path.join(path, str(run))\n",
    "                    with open(runpath+'/status.json', 'r') as f:\n",
    "                        trends = json.load(f)\n",
    "                    \n",
    "                    oe = OpinionEvolution(trends, p_o, p_p, kind=value)\n",
    "                    oe.plot(runpath+f'/{value}_evolution.png')\n",
    "                    \n",
    "                    pbar.update(1)\n",
    "        \n",
    "    print(f'finished {n_lobbyists} lobbyists')"
   ]
  },
  {
   "cell_type": "code",
   "execution_count": null,
   "metadata": {},
   "outputs": [],
   "source": []
  }
 ],
 "metadata": {
  "kernelspec": {
   "display_name": "almondo-venv",
   "language": "python",
   "name": "python3"
  },
  "language_info": {
   "codemirror_mode": {
    "name": "ipython",
    "version": 3
   },
   "file_extension": ".py",
   "mimetype": "text/x-python",
   "name": "python",
   "nbconvert_exporter": "python",
   "pygments_lexer": "ipython3",
   "version": "3.13.1"
  }
 },
 "nbformat": 4,
 "nbformat_minor": 2
}
