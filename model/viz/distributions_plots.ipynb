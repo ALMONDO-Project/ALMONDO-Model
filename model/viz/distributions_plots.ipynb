{
 "cells": [
  {
   "cell_type": "code",
   "execution_count": null,
   "metadata": {},
   "outputs": [],
   "source": [
    "import numpy as np\n",
    "import matplotlib.pyplot as plt\n",
    "import os\n",
    "import seaborn as sns\n",
    "\n",
    "\n",
    "class OpinionDistribution(object):\n",
    "    def __init__(self, \n",
    "                 trends: dict, \n",
    "                 p_o,\n",
    "                 p_p,\n",
    "                 iteration: int | str = -1, \n",
    "                 values: str = \"probabilities\"):\n",
    "        \n",
    "        \"\"\"\n",
    "        :param model: The model object\n",
    "        :param trends: The computed simulation trends\n",
    "        :param iteration: The iteration number or the string \"last\" for plotting final state\n",
    "        \"\"\"\n",
    "        \n",
    "        self.trends = trends\n",
    "        self.iteration = iteration\n",
    "        \n",
    "        if iteration == 'last':\n",
    "            self.it = self.trends[-1]['iteration']\n",
    "            self.ops = self.trends[-1]['status']\n",
    "        else:\n",
    "            self.ops = self.trends[iteration]['status'].values()\n",
    "        \n",
    "        if values == 'probabilities':\n",
    "            weights = np.array([el for el in self.ops])\n",
    "            self.values = p_o * weights + p_p * (1-weights)\n",
    "            \n",
    "        elif values == 'weights':\n",
    "            self.values = np.array([el for el in self.ops])\n",
    "    \n",
    "    def get_values(self):\n",
    "        return self.values\n",
    "        \n"
   ]
  },
  {
   "cell_type": "code",
   "execution_count": null,
   "metadata": {},
   "outputs": [],
   "source": [
    "import json\n",
    "for n_lobbyists in [0, 1, 2, 3]:\n",
    "    with open(f'../results/{n_lobbyists}_lobbyistsconfig.json', 'r') as f:\n",
    "        params = json.load(f)\n",
    "        \n",
    "        values = ['weights', 'probabilities']\n",
    "\n",
    "        for value in values:\n",
    "            for _, (lambda_v, phi_v) in enumerate([(l, p) for l in params['lambda_values'] for p in params['phi_values']]):    \n",
    "                path = os.path.join(f'../results/{n_lobbyists}_lobbyists/', f'{lambda_v}_{phi_v}/')        \n",
    "                for run in range(params['nruns']):\n",
    "                    runpath = os.path.join(path, str(run))\n",
    "                    with open(runpath+'/status.json', 'r') as f:\n",
    "                        trends = json.load(f)\n",
    "                    if not os.path.exists(f'{runpath}/{value}_finaldistribution.png'):\n",
    "                        print(f'plotting {runpath}')\n",
    "                        oe = OpinionDistribution(trends, params['p_o'], params['p_p'], values=value)\n",
    "                        data = oe.get_values()\n",
    "                        plt.figure(figsize=(10, 6))\n",
    "                        sns.histplot(data, stat='probability', bins=30)\n",
    "                        plt.xlim(-0.01, 1.01)\n",
    "                        plt.ylim(0, 1)\n",
    "                        plt.xlabel(f\"{value.capitalize()} of optimist model\")\n",
    "                        plt.ylabel('% Agents')\n",
    "                        plt.savefig(f'{runpath}/{value}_finaldistribution.png', dpi=300, bbox_inches='tight', facecolor='white')\n",
    "                        plt.close()\n",
    "                    else:\n",
    "                        continue"
   ]
  },
  {
   "cell_type": "code",
   "execution_count": null,
   "metadata": {},
   "outputs": [],
   "source": [
    "\n",
    "\n",
    "    "
   ]
  },
  {
   "cell_type": "code",
   "execution_count": null,
   "metadata": {},
   "outputs": [],
   "source": []
  }
 ],
 "metadata": {
  "kernelspec": {
   "display_name": "almondo-venv",
   "language": "python",
   "name": "python3"
  },
  "language_info": {
   "codemirror_mode": {
    "name": "ipython",
    "version": 3
   },
   "file_extension": ".py",
   "mimetype": "text/x-python",
   "name": "python",
   "nbconvert_exporter": "python",
   "pygments_lexer": "ipython3",
   "version": "3.11.5"
  }
 },
 "nbformat": 4,
 "nbformat_minor": 2
}
