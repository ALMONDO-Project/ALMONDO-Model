{
 "cells": [
  {
   "cell_type": "code",
   "execution_count": 3,
   "metadata": {},
   "outputs": [],
   "source": [
    "import numpy as np\n",
    "import matplotlib.pyplot as plt\n",
    "import os\n",
    "import seaborn as sns\n",
    "import json\n",
    "\n",
    "\n",
    "\n",
    "class OpinionDistribution(object):\n",
    "    def __init__(self, \n",
    "                 trends: dict, \n",
    "                 p_o,\n",
    "                 p_p,\n",
    "                 iteration: int | str = -1, \n",
    "                 values: str = \"probabilities\"):\n",
    "        \n",
    "        \"\"\"\n",
    "        :param model: The model object\n",
    "        :param trends: The computed simulation trends\n",
    "        :param iteration: The iteration number or the string \"last\" for plotting final state\n",
    "        \"\"\"\n",
    "        \n",
    "        self.trends = trends\n",
    "        self.iteration = iteration\n",
    "        \n",
    "        if iteration == 'last':\n",
    "            self.it = self.trends[-1]['iteration']\n",
    "            self.ops = self.trends[-1]['status']\n",
    "        else:\n",
    "            self.ops = self.trends[iteration]['status'].values()\n",
    "        \n",
    "        if values == 'probabilities':\n",
    "            weights = np.array([el for el in self.ops])\n",
    "            self.values = p_o * weights + p_p * (1-weights)\n",
    "            \n",
    "        elif values == 'weights':\n",
    "            self.values = np.array([el for el in self.ops])\n",
    "    \n",
    "    def get_values(self):\n",
    "        return self.values\n"
   ]
  },
  {
   "cell_type": "code",
   "execution_count": 4,
   "metadata": {},
   "outputs": [],
   "source": [
    "from tqdm.notebook import tqdm"
   ]
  },
  {
   "cell_type": "code",
   "execution_count": null,
   "metadata": {},
   "outputs": [
    {
     "data": {
      "application/vnd.jupyter.widget-view+json": {
       "model_id": "774350984e6d42f0a35feaad27159773",
       "version_major": 2,
       "version_minor": 0
      },
      "text/plain": [
       "  0%|          | 0/145200 [00:00<?, ?it/s]"
      ]
     },
     "metadata": {},
     "output_type": "display_data"
    },
    {
     "name": "stderr",
     "output_type": "stream",
     "text": [
      "Exception ignored in: <bound method IPythonKernel._clean_thread_parent_frames of <ipykernel.ipkernel.IPythonKernel object at 0x7c3f23eeb590>>\n",
      "Traceback (most recent call last):\n",
      "  File \"/home/pansanella/mydata/github/almondo-tweets-retrieval/almondo-venv/lib/python3.11/site-packages/ipykernel/ipkernel.py\", line 775, in _clean_thread_parent_frames\n",
      "    def _clean_thread_parent_frames(\n",
      "\n",
      "KeyboardInterrupt: \n"
     ]
    }
   ],
   "source": []
  },
  {
   "cell_type": "code",
   "execution_count": null,
   "metadata": {},
   "outputs": [],
   "source": [
    "\n",
    "\n",
    "    "
   ]
  },
  {
   "cell_type": "code",
   "execution_count": null,
   "metadata": {},
   "outputs": [],
   "source": []
  }
 ],
 "metadata": {
  "kernelspec": {
   "display_name": "almondo-venv",
   "language": "python",
   "name": "python3"
  },
  "language_info": {
   "codemirror_mode": {
    "name": "ipython",
    "version": 3
   },
   "file_extension": ".py",
   "mimetype": "text/x-python",
   "name": "python",
   "nbconvert_exporter": "python",
   "pygments_lexer": "ipython3",
   "version": "3.11.5"
  }
 },
 "nbformat": 4,
 "nbformat_minor": 2
}
