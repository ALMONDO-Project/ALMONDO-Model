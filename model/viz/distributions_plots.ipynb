{
 "cells": [
  {
   "cell_type": "code",
   "execution_count": 1,
   "metadata": {},
   "outputs": [],
   "source": [
    "import numpy as np\n",
    "import matplotlib.pyplot as plt\n",
    "import os\n",
    "import seaborn as sns\n",
    "import json\n",
    "\n",
    "\n",
    "\n",
    "class OpinionDistribution(object):\n",
    "    def __init__(self, \n",
    "                 trends: dict, \n",
    "                 p_o,\n",
    "                 p_p,\n",
    "                 iteration: int | str = -1, \n",
    "                 values: str = \"probabilities\"):\n",
    "        \n",
    "        \"\"\"\n",
    "        :param model: The model object\n",
    "        :param trends: The computed simulation trends\n",
    "        :param iteration: The iteration number or the string \"last\" for plotting final state\n",
    "        :param values: The iteration number or the string \"last\" for plotting final state\n",
    "        \"\"\"\n",
    "        \n",
    "        self.trends = trends\n",
    "        self.iteration = iteration\n",
    "        \n",
    "        if iteration == 'last':\n",
    "            self.it = self.trends[-1]['iteration']\n",
    "            self.ops = self.trends[-1]['status']\n",
    "        else:\n",
    "            self.ops = self.trends[iteration]['status'].values()\n",
    "        \n",
    "        if values == 'probabilities':\n",
    "            weights = np.array([el for el in self.ops])\n",
    "            self.values = p_o * weights + p_p * (1-weights)\n",
    "            \n",
    "        elif values == 'weights':\n",
    "            self.values = np.array([el for el in self.ops])\n",
    "    \n",
    "    def get_values(self):\n",
    "        return self.values\n",
    "        \n",
    "    def plot(self, filename=None, ax = None, values: str = \"probabilities\"):   \n",
    "           if ax is None:\n",
    "               fig, ax = plt.subplots(figsize=(10, 6))    \n",
    "           ax = sns.histplot(self.get_values(), bins = 50, color='lightblue', alpha=1.0, stat='percent')\n",
    "           ax.set_xlabel(r'$p_{i,T}$')\n",
    "           ax.set_ylabel('% agents')\n",
    "           ax.set_title(f'Final {values} distribution of optimist model')\n",
    "           ax.set_xlim(0.0, 1.0)\n",
    "           plt.tight_layout()\n",
    "           if filename is not None:\n",
    "               plt.savefig(filename, dpi=300, facecolor='white', bbox_inches='tight')\n",
    "           else:\n",
    "               plt.show()\n",
    "               \n",
    "           plt.close()"
   ]
  },
  {
   "cell_type": "code",
   "execution_count": null,
   "metadata": {},
   "outputs": [
    {
     "name": "stdout",
     "output_type": "stream",
     "text": [
      "doing 0 lobbyists\n"
     ]
    },
    {
     "data": {
      "application/vnd.jupyter.widget-view+json": {
       "model_id": "397f94a4250040cbb45817f33b48159b",
       "version_major": 2,
       "version_minor": 0
      },
      "text/plain": [
       "Processing:   0%|          | 0/4 [00:00<?, ?iteration/s]"
      ]
     },
     "metadata": {},
     "output_type": "display_data"
    },
    {
     "name": "stdout",
     "output_type": "stream",
     "text": [
      "finished 0 lobbyists\n"
     ]
    }
   ],
   "source": [
    "import json\n",
    "import os \n",
    "from tqdm.notebook import tqdm  # Use tqdm for Jupyter Notebook\n",
    "\n",
    "\n",
    "values = ['weights', 'probabilities']\n",
    "NLs = [0]\n",
    "\n",
    "for nl in NLs:\n",
    "    print(f'doing {nl} lobbyists')\n",
    "    \n",
    "    path = f'../results/balanced_budgets/{nl}_lobbyists/'\n",
    "    filename = os.path.join(path, 'config.json')\n",
    "    \n",
    "    with open(filename, 'r') as f: #qua va messo il path del file initial_config.json\n",
    "        params = json.load(f)\n",
    "    \n",
    "    total_iterations = len(values) * len(params['lambda_values']) * len(params['phi_values']) * params['nruns']\n",
    "    with tqdm(total=total_iterations, desc=\"Processing\", unit=\"iteration\") as pbar:\n",
    "\n",
    "        for value in values:\n",
    "            for _, (lambda_v, phi_v) in enumerate([(l, p) for l in params['lambda_values'] for p in params['phi_values']]):    \n",
    "                paramspath = os.path.join(path, f'{lambda_v}_{phi_v}/')        \n",
    "                for run in range(params['nruns']):\n",
    "                    runpath = os.path.join(paramspath, str(run))\n",
    "                    if not os.path.exists(runpath+f'/{value}_final_distribution.png'):\n",
    "                        with open(runpath+'/status.json', 'r') as f:\n",
    "                            trends = json.load(f)\n",
    "                        \n",
    "                        od = OpinionDistribution(trends, params['p_o'], params['p_p'], values=value)\n",
    "                        od.plot(runpath+f'/{value}_final_distribution.png',values=value)\n",
    "                    \n",
    "                    pbar.update(1)\n",
    "        \n",
    "    print(f'finished {nl} lobbyists')"
   ]
  },
  {
   "cell_type": "code",
   "execution_count": null,
   "metadata": {},
   "outputs": [],
   "source": []
  },
  {
   "cell_type": "code",
   "execution_count": null,
   "metadata": {},
   "outputs": [],
   "source": [
    "\n",
    "\n",
    "    "
   ]
  },
  {
   "cell_type": "code",
   "execution_count": null,
   "metadata": {},
   "outputs": [],
   "source": []
  }
 ],
 "metadata": {
  "kernelspec": {
   "display_name": "Python 3 (ipykernel)",
   "language": "python",
   "name": "python3"
  },
  "language_info": {
   "codemirror_mode": {
    "name": "ipython",
    "version": 3
   },
   "file_extension": ".py",
   "mimetype": "text/x-python",
   "name": "python",
   "nbconvert_exporter": "python",
   "pygments_lexer": "ipython3",
   "version": "3.12.7"
  }
 },
 "nbformat": 4,
 "nbformat_minor": 4
}
