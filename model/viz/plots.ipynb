{
 "cells": [
  {
   "cell_type": "code",
   "execution_count": null,
   "metadata": {},
   "outputs": [
    {
     "name": "stdout",
     "output_type": "stream",
     "text": [
      "Plotting 0_lobbyists with lambda=0.0 and phi=0.0\n",
      "Plotting 0_lobbyists with lambda=0.0 and phi=0.5\n",
      "Plotting 0_lobbyists with lambda=0.0 and phi=1.0\n",
      "Plotting 0_lobbyists with lambda=0.5 and phi=0.0\n"
     ]
    }
   ],
   "source": [
    "import json\n",
    "import matplotlib.pyplot as plt\n",
    "\n",
    "\n",
    "path = '/home/pansanella/mydata/github/almondo-tweets-retrieval/model/simulations'\n",
    "lambda_values = [0.0, 0.5, 1.0]\n",
    "phi_values = [0.0, 0.5, 1.0]\n",
    "\n",
    "# Load the JSON data\n",
    "for nl in range(3):\n",
    "    \n",
    "    scenario = f'{nl}_lobbyists'\n",
    "\n",
    "    for _, (lambda_v, phi_v) in enumerate([(l, p) for l in lambda_values for p in phi_values]):\n",
    "        \n",
    "        print(f\"Plotting {scenario} with lambda={lambda_v} and phi={phi_v}\")\n",
    "        \n",
    "        for run in range(100):    \n",
    "                       \n",
    "                filename = f'{path}/{scenario}/{lambda_v}_{phi_v}/{run}/status.json'\n",
    "        \n",
    "                with open(filename, 'r') as file:\n",
    "                    data = json.load(file)\n",
    "\n",
    "                # Extract the last iteration\n",
    "                last_iteration = data[-1]\n",
    "\n",
    "                # Extract the weights from the last iteration\n",
    "                weights = list(last_iteration['status'].values())\n",
    "\n",
    "                # Plot the histogram of the weights\n",
    "                plt.hist(weights, bins=30, edgecolor='black')\n",
    "                plt.xlabel('Weight')\n",
    "                plt.ylabel('Frequency')\n",
    "                plt.title('Distribution of Weights in the Last Iteration')\n",
    "                \n",
    "                plt.savefig(f'{path}/{scenario}/{lambda_v}_{phi_v}/{run}/final_weights.png', bbox_inches='tight', facecolor='white')\n",
    "\n"
   ]
  },
  {
   "cell_type": "code",
   "execution_count": null,
   "metadata": {},
   "outputs": [],
   "source": []
  }
 ],
 "metadata": {
  "kernelspec": {
   "display_name": "twitter-venv",
   "language": "python",
   "name": "python3"
  },
  "language_info": {
   "codemirror_mode": {
    "name": "ipython",
    "version": 3
   },
   "file_extension": ".py",
   "mimetype": "text/x-python",
   "name": "python",
   "nbconvert_exporter": "python",
   "pygments_lexer": "ipython3",
   "version": "3.11.5"
  }
 },
 "nbformat": 4,
 "nbformat_minor": 2
}
