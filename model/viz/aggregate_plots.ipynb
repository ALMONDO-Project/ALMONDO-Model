{
 "cells": [
  {
   "cell_type": "code",
   "execution_count": 3,
   "metadata": {},
   "outputs": [],
   "source": [
    "import numpy as np\n",
    "import pandas as pd\n",
    "import seaborn as sns\n",
    "import matplotlib.pyplot as plt\n",
    "import json\n",
    "import os\n",
    "from tqdm.notebook import tqdm\n"
   ]
  },
  {
   "cell_type": "code",
   "execution_count": 19,
   "metadata": {},
   "outputs": [
    {
     "name": "stdout",
     "output_type": "stream",
     "text": [
      "doing 0 lobbyists\n",
      "doing 1 lobbyists\n",
      "doing 2 lobbyists\n",
      "doing 3 lobbyists\n"
     ]
    }
   ],
   "source": [
    "kinds = ['weights', 'probabilities']\n",
    "\n",
    "data = []\n",
    "\n",
    "\n",
    "\n",
    "for n_lobbyists in [0, 1, 2, 3]:\n",
    "    print(f'doing {n_lobbyists} lobbyists')\n",
    "    \n",
    "    with open(f'../results/{n_lobbyists}_lobbyistsconfig.json', 'r') as f:\n",
    "        params = json.load(f)\n",
    "\n",
    "    p_o = params['p_o']\n",
    "    p_p = params['p_p']\n",
    "    lambda_values = params['lambda_values']\n",
    "    phi_values = params['phi_values']\n",
    "    n_lobbyists = params['n_lobbyists']\n",
    "    lobbyists_data = params['lobbyists']\n",
    "    nruns = params['nruns']\n",
    "    \n",
    "    for _, (lambda_v, phi_v) in enumerate([(l, p) for l in params['lambda_values'] for p in params['phi_values']]): \n",
    "        path = os.path.join(f'../results/{n_lobbyists}_lobbyists/', f'{lambda_v}_{phi_v}/')  \n",
    "        \n",
    "        for kind in kinds:   \n",
    "            filename = os.path.join(path, f'{kind}_average_metrics.json') \n",
    "            with open(filename, 'r') as f:\n",
    "                avg_metrics = json.load(f)\n",
    "                            \n",
    "            columns = ['kind', 'n_lobbyists', 'lambda', 'phi', 'nruns', 'p_o', 'p_p']\n",
    "            values = [kind, n_lobbyists, lambda_v, phi_v, nruns, p_o, p_p]\n",
    "            \n",
    "            for metric_name in avg_metrics.keys():\n",
    "                if metric_name != 'lobbyists_performance':\n",
    "                    avg = avg_metrics[metric_name]['avg']\n",
    "                    std = avg_metrics[metric_name]['std']\n",
    "                    columns.extend([f'avg_{metric_name}', f'std_{metric_name}'])\n",
    "                    values.extend([avg, std])\n",
    "                else:\n",
    "                    for id in lobbyists_data.keys():\n",
    "                        avg = avg_metrics[metric_name][id]['avg']\n",
    "                        std = avg_metrics[metric_name][id]['std']\n",
    "                        columns.extend([f'avg_{metric_name}_{id}', f'std_{metric_name}_{id}'])\n",
    "                        values.extend([avg, std])\n",
    "                                \n",
    "                row = dict(zip(columns, values))\n",
    "                \n",
    "                data.append(row)\n",
    "        \n",
    "df = pd.DataFrame(data)\n",
    "        \n",
    "df.to_csv('../results/aggregate_metrics.csv')"
   ]
  },
  {
   "cell_type": "code",
   "execution_count": null,
   "metadata": {},
   "outputs": [],
   "source": []
  }
 ],
 "metadata": {
  "kernelspec": {
   "display_name": "almondo-venv",
   "language": "python",
   "name": "python3"
  },
  "language_info": {
   "codemirror_mode": {
    "name": "ipython",
    "version": 3
   },
   "file_extension": ".py",
   "mimetype": "text/x-python",
   "name": "python",
   "nbconvert_exporter": "python",
   "pygments_lexer": "ipython3",
   "version": "3.13.1"
  }
 },
 "nbformat": 4,
 "nbformat_minor": 2
}
