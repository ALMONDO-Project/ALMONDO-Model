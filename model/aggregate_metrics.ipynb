{
 "cells": [
  {
   "cell_type": "code",
   "execution_count": 1,
   "metadata": {},
   "outputs": [],
   "source": [
    "import os\n",
    "import json\n",
    "import numpy as np\n",
    "import matplotlib.pyplot as plt\n",
    "from typing import Union\n",
    "from metrics.metrics import nclusters, pwdist, lobbyist_performance"
   ]
  },
  {
   "cell_type": "code",
   "execution_count": 2,
   "metadata": {},
   "outputs": [],
   "source": [
    "basepath = f'C:/Users/leona/PycharmProjects/almondo-tweets-retrieval/model/results/balanced_budgets/2_lobbyists_bottom_right/'\n",
    "filename = 'config.json'\n",
    "with open(os.path.join(basepath, filename), 'r') as f:\n",
    "    params = json.load(f)"
   ]
  },
  {
   "cell_type": "code",
   "execution_count": 3,
   "metadata": {},
   "outputs": [
    {
     "name": "stdout",
     "output_type": "stream",
     "text": [
      "{'p_o': 0.01, 'p_p': 0.99, 'lambda_values': [0.8, 0.82, 0.84, 0.86, 0.88, 0.9, 0.92, 0.94, 0.96, 0.98, 1.0], 'phi_values': [0.8, 0.82, 0.84, 0.86, 0.88, 0.9, 0.92, 0.94, 0.96, 0.98, 1.0], 'T': 10000, 'n_lobbyists': 2, 'lobbyists_data': {'0': {'m': 0, 'B': 300000, 'c': 1, 'strategies': ['results\\\\balanced_budgets/2_lobbyists\\\\strategies\\\\300000\\\\strategy_100.txt', 'results\\\\balanced_budgets/2_lobbyists\\\\strategies\\\\300000\\\\strategy_114.txt', 'results\\\\balanced_budgets/2_lobbyists\\\\strategies\\\\300000\\\\strategy_93.txt', 'results\\\\balanced_budgets/2_lobbyists\\\\strategies\\\\300000\\\\strategy_118.txt', 'results\\\\balanced_budgets/2_lobbyists\\\\strategies\\\\300000\\\\strategy_48.txt', 'results\\\\balanced_budgets/2_lobbyists\\\\strategies\\\\300000\\\\strategy_58.txt', 'results\\\\balanced_budgets/2_lobbyists\\\\strategies\\\\300000\\\\strategy_53.txt', 'results\\\\balanced_budgets/2_lobbyists\\\\strategies\\\\300000\\\\strategy_146.txt', 'results\\\\balanced_budgets/2_lobbyists\\\\strategies\\\\300000\\\\strategy_62.txt', 'results\\\\balanced_budgets/2_lobbyists\\\\strategies\\\\300000\\\\strategy_23.txt', 'results\\\\balanced_budgets/2_lobbyists\\\\strategies\\\\300000\\\\strategy_86.txt', 'results\\\\balanced_budgets/2_lobbyists\\\\strategies\\\\300000\\\\strategy_79.txt', 'results\\\\balanced_budgets/2_lobbyists\\\\strategies\\\\300000\\\\strategy_107.txt', 'results\\\\balanced_budgets/2_lobbyists\\\\strategies\\\\300000\\\\strategy_143.txt', 'results\\\\balanced_budgets/2_lobbyists\\\\strategies\\\\300000\\\\strategy_63.txt', 'results\\\\balanced_budgets/2_lobbyists\\\\strategies\\\\300000\\\\strategy_7.txt', 'results\\\\balanced_budgets/2_lobbyists\\\\strategies\\\\300000\\\\strategy_99.txt', 'results\\\\balanced_budgets/2_lobbyists\\\\strategies\\\\300000\\\\strategy_122.txt', 'results\\\\balanced_budgets/2_lobbyists\\\\strategies\\\\300000\\\\strategy_88.txt', 'results\\\\balanced_budgets/2_lobbyists\\\\strategies\\\\300000\\\\strategy_68.txt', 'results\\\\balanced_budgets/2_lobbyists\\\\strategies\\\\300000\\\\strategy_3.txt', 'results\\\\balanced_budgets/2_lobbyists\\\\strategies\\\\300000\\\\strategy_6.txt', 'results\\\\balanced_budgets/2_lobbyists\\\\strategies\\\\300000\\\\strategy_112.txt', 'results\\\\balanced_budgets/2_lobbyists\\\\strategies\\\\300000\\\\strategy_93.txt', 'results\\\\balanced_budgets/2_lobbyists\\\\strategies\\\\300000\\\\strategy_80.txt', 'results\\\\balanced_budgets/2_lobbyists\\\\strategies\\\\300000\\\\strategy_103.txt', 'results\\\\balanced_budgets/2_lobbyists\\\\strategies\\\\300000\\\\strategy_74.txt', 'results\\\\balanced_budgets/2_lobbyists\\\\strategies\\\\300000\\\\strategy_132.txt', 'results\\\\balanced_budgets/2_lobbyists\\\\strategies\\\\300000\\\\strategy_17.txt', 'results\\\\balanced_budgets/2_lobbyists\\\\strategies\\\\300000\\\\strategy_115.txt', 'results\\\\balanced_budgets/2_lobbyists\\\\strategies\\\\300000\\\\strategy_136.txt', 'results\\\\balanced_budgets/2_lobbyists\\\\strategies\\\\300000\\\\strategy_58.txt', 'results\\\\balanced_budgets/2_lobbyists\\\\strategies\\\\300000\\\\strategy_12.txt', 'results\\\\balanced_budgets/2_lobbyists\\\\strategies\\\\300000\\\\strategy_28.txt', 'results\\\\balanced_budgets/2_lobbyists\\\\strategies\\\\300000\\\\strategy_47.txt', 'results\\\\balanced_budgets/2_lobbyists\\\\strategies\\\\300000\\\\strategy_132.txt', 'results\\\\balanced_budgets/2_lobbyists\\\\strategies\\\\300000\\\\strategy_120.txt', 'results\\\\balanced_budgets/2_lobbyists\\\\strategies\\\\300000\\\\strategy_54.txt', 'results\\\\balanced_budgets/2_lobbyists\\\\strategies\\\\300000\\\\strategy_11.txt', 'results\\\\balanced_budgets/2_lobbyists\\\\strategies\\\\300000\\\\strategy_119.txt', 'results\\\\balanced_budgets/2_lobbyists\\\\strategies\\\\300000\\\\strategy_75.txt', 'results\\\\balanced_budgets/2_lobbyists\\\\strategies\\\\300000\\\\strategy_73.txt', 'results\\\\balanced_budgets/2_lobbyists\\\\strategies\\\\300000\\\\strategy_25.txt', 'results\\\\balanced_budgets/2_lobbyists\\\\strategies\\\\300000\\\\strategy_18.txt', 'results\\\\balanced_budgets/2_lobbyists\\\\strategies\\\\300000\\\\strategy_34.txt', 'results\\\\balanced_budgets/2_lobbyists\\\\strategies\\\\300000\\\\strategy_25.txt', 'results\\\\balanced_budgets/2_lobbyists\\\\strategies\\\\300000\\\\strategy_41.txt', 'results\\\\balanced_budgets/2_lobbyists\\\\strategies\\\\300000\\\\strategy_97.txt', 'results\\\\balanced_budgets/2_lobbyists\\\\strategies\\\\300000\\\\strategy_15.txt', 'results\\\\balanced_budgets/2_lobbyists\\\\strategies\\\\300000\\\\strategy_123.txt', 'results\\\\balanced_budgets/2_lobbyists\\\\strategies\\\\300000\\\\strategy_7.txt', 'results\\\\balanced_budgets/2_lobbyists\\\\strategies\\\\300000\\\\strategy_103.txt', 'results\\\\balanced_budgets/2_lobbyists\\\\strategies\\\\300000\\\\strategy_108.txt', 'results\\\\balanced_budgets/2_lobbyists\\\\strategies\\\\300000\\\\strategy_62.txt', 'results\\\\balanced_budgets/2_lobbyists\\\\strategies\\\\300000\\\\strategy_77.txt', 'results\\\\balanced_budgets/2_lobbyists\\\\strategies\\\\300000\\\\strategy_34.txt', 'results\\\\balanced_budgets/2_lobbyists\\\\strategies\\\\300000\\\\strategy_120.txt', 'results\\\\balanced_budgets/2_lobbyists\\\\strategies\\\\300000\\\\strategy_45.txt', 'results\\\\balanced_budgets/2_lobbyists\\\\strategies\\\\300000\\\\strategy_71.txt', 'results\\\\balanced_budgets/2_lobbyists\\\\strategies\\\\300000\\\\strategy_53.txt', 'results\\\\balanced_budgets/2_lobbyists\\\\strategies\\\\300000\\\\strategy_76.txt', 'results\\\\balanced_budgets/2_lobbyists\\\\strategies\\\\300000\\\\strategy_108.txt', 'results\\\\balanced_budgets/2_lobbyists\\\\strategies\\\\300000\\\\strategy_146.txt', 'results\\\\balanced_budgets/2_lobbyists\\\\strategies\\\\300000\\\\strategy_87.txt', 'results\\\\balanced_budgets/2_lobbyists\\\\strategies\\\\300000\\\\strategy_15.txt', 'results\\\\balanced_budgets/2_lobbyists\\\\strategies\\\\300000\\\\strategy_26.txt', 'results\\\\balanced_budgets/2_lobbyists\\\\strategies\\\\300000\\\\strategy_119.txt', 'results\\\\balanced_budgets/2_lobbyists\\\\strategies\\\\300000\\\\strategy_117.txt', 'results\\\\balanced_budgets/2_lobbyists\\\\strategies\\\\300000\\\\strategy_70.txt', 'results\\\\balanced_budgets/2_lobbyists\\\\strategies\\\\300000\\\\strategy_61.txt', 'results\\\\balanced_budgets/2_lobbyists\\\\strategies\\\\300000\\\\strategy_147.txt', 'results\\\\balanced_budgets/2_lobbyists\\\\strategies\\\\300000\\\\strategy_129.txt', 'results\\\\balanced_budgets/2_lobbyists\\\\strategies\\\\300000\\\\strategy_35.txt', 'results\\\\balanced_budgets/2_lobbyists\\\\strategies\\\\300000\\\\strategy_121.txt', 'results\\\\balanced_budgets/2_lobbyists\\\\strategies\\\\300000\\\\strategy_124.txt', 'results\\\\balanced_budgets/2_lobbyists\\\\strategies\\\\300000\\\\strategy_33.txt', 'results\\\\balanced_budgets/2_lobbyists\\\\strategies\\\\300000\\\\strategy_135.txt', 'results\\\\balanced_budgets/2_lobbyists\\\\strategies\\\\300000\\\\strategy_33.txt', 'results\\\\balanced_budgets/2_lobbyists\\\\strategies\\\\300000\\\\strategy_56.txt', 'results\\\\balanced_budgets/2_lobbyists\\\\strategies\\\\300000\\\\strategy_36.txt', 'results\\\\balanced_budgets/2_lobbyists\\\\strategies\\\\300000\\\\strategy_33.txt', 'results\\\\balanced_budgets/2_lobbyists\\\\strategies\\\\300000\\\\strategy_5.txt', 'results\\\\balanced_budgets/2_lobbyists\\\\strategies\\\\300000\\\\strategy_52.txt', 'results\\\\balanced_budgets/2_lobbyists\\\\strategies\\\\300000\\\\strategy_69.txt', 'results\\\\balanced_budgets/2_lobbyists\\\\strategies\\\\300000\\\\strategy_44.txt', 'results\\\\balanced_budgets/2_lobbyists\\\\strategies\\\\300000\\\\strategy_41.txt', 'results\\\\balanced_budgets/2_lobbyists\\\\strategies\\\\300000\\\\strategy_30.txt', 'results\\\\balanced_budgets/2_lobbyists\\\\strategies\\\\300000\\\\strategy_75.txt', 'results\\\\balanced_budgets/2_lobbyists\\\\strategies\\\\300000\\\\strategy_131.txt', 'results\\\\balanced_budgets/2_lobbyists\\\\strategies\\\\300000\\\\strategy_56.txt', 'results\\\\balanced_budgets/2_lobbyists\\\\strategies\\\\300000\\\\strategy_56.txt', 'results\\\\balanced_budgets/2_lobbyists\\\\strategies\\\\300000\\\\strategy_93.txt', 'results\\\\balanced_budgets/2_lobbyists\\\\strategies\\\\300000\\\\strategy_47.txt', 'results\\\\balanced_budgets/2_lobbyists\\\\strategies\\\\300000\\\\strategy_75.txt', 'results\\\\balanced_budgets/2_lobbyists\\\\strategies\\\\300000\\\\strategy_126.txt', 'results\\\\balanced_budgets/2_lobbyists\\\\strategies\\\\300000\\\\strategy_117.txt', 'results\\\\balanced_budgets/2_lobbyists\\\\strategies\\\\300000\\\\strategy_72.txt', 'results\\\\balanced_budgets/2_lobbyists\\\\strategies\\\\300000\\\\strategy_135.txt', 'results\\\\balanced_budgets/2_lobbyists\\\\strategies\\\\300000\\\\strategy_43.txt', 'results\\\\balanced_budgets/2_lobbyists\\\\strategies\\\\300000\\\\strategy_0.txt', 'results\\\\balanced_budgets/2_lobbyists\\\\strategies\\\\300000\\\\strategy_39.txt', 'results\\\\balanced_budgets/2_lobbyists\\\\strategies\\\\300000\\\\strategy_105.txt', 'results\\\\balanced_budgets/2_lobbyists\\\\strategies\\\\300000\\\\strategy_71.txt', 'results\\\\balanced_budgets/2_lobbyists\\\\strategies\\\\300000\\\\strategy_38.txt', 'results\\\\balanced_budgets/2_lobbyists\\\\strategies\\\\300000\\\\strategy_94.txt', 'results\\\\balanced_budgets/2_lobbyists\\\\strategies\\\\300000\\\\strategy_8.txt', 'results\\\\balanced_budgets/2_lobbyists\\\\strategies\\\\300000\\\\strategy_79.txt', 'results\\\\balanced_budgets/2_lobbyists\\\\strategies\\\\300000\\\\strategy_9.txt', 'results\\\\balanced_budgets/2_lobbyists\\\\strategies\\\\300000\\\\strategy_86.txt', 'results\\\\balanced_budgets/2_lobbyists\\\\strategies\\\\300000\\\\strategy_49.txt', 'results\\\\balanced_budgets/2_lobbyists\\\\strategies\\\\300000\\\\strategy_70.txt', 'results\\\\balanced_budgets/2_lobbyists\\\\strategies\\\\300000\\\\strategy_34.txt', 'results\\\\balanced_budgets/2_lobbyists\\\\strategies\\\\300000\\\\strategy_11.txt', 'results\\\\balanced_budgets/2_lobbyists\\\\strategies\\\\300000\\\\strategy_11.txt', 'results\\\\balanced_budgets/2_lobbyists\\\\strategies\\\\300000\\\\strategy_146.txt', 'results\\\\balanced_budgets/2_lobbyists\\\\strategies\\\\300000\\\\strategy_131.txt', 'results\\\\balanced_budgets/2_lobbyists\\\\strategies\\\\300000\\\\strategy_62.txt', 'results\\\\balanced_budgets/2_lobbyists\\\\strategies\\\\300000\\\\strategy_19.txt', 'results\\\\balanced_budgets/2_lobbyists\\\\strategies\\\\300000\\\\strategy_138.txt', 'results\\\\balanced_budgets/2_lobbyists\\\\strategies\\\\300000\\\\strategy_14.txt', 'results\\\\balanced_budgets/2_lobbyists\\\\strategies\\\\300000\\\\strategy_110.txt', 'results\\\\balanced_budgets/2_lobbyists\\\\strategies\\\\300000\\\\strategy_78.txt', 'results\\\\balanced_budgets/2_lobbyists\\\\strategies\\\\300000\\\\strategy_42.txt', 'results\\\\balanced_budgets/2_lobbyists\\\\strategies\\\\300000\\\\strategy_55.txt', 'results\\\\balanced_budgets/2_lobbyists\\\\strategies\\\\300000\\\\strategy_51.txt', 'results\\\\balanced_budgets/2_lobbyists\\\\strategies\\\\300000\\\\strategy_11.txt', 'results\\\\balanced_budgets/2_lobbyists\\\\strategies\\\\300000\\\\strategy_146.txt', 'results\\\\balanced_budgets/2_lobbyists\\\\strategies\\\\300000\\\\strategy_6.txt', 'results\\\\balanced_budgets/2_lobbyists\\\\strategies\\\\300000\\\\strategy_118.txt', 'results\\\\balanced_budgets/2_lobbyists\\\\strategies\\\\300000\\\\strategy_88.txt', 'results\\\\balanced_budgets/2_lobbyists\\\\strategies\\\\300000\\\\strategy_40.txt', 'results\\\\balanced_budgets/2_lobbyists\\\\strategies\\\\300000\\\\strategy_0.txt', 'results\\\\balanced_budgets/2_lobbyists\\\\strategies\\\\300000\\\\strategy_71.txt', 'results\\\\balanced_budgets/2_lobbyists\\\\strategies\\\\300000\\\\strategy_104.txt', 'results\\\\balanced_budgets/2_lobbyists\\\\strategies\\\\300000\\\\strategy_135.txt', 'results\\\\balanced_budgets/2_lobbyists\\\\strategies\\\\300000\\\\strategy_82.txt', 'results\\\\balanced_budgets/2_lobbyists\\\\strategies\\\\300000\\\\strategy_34.txt', 'results\\\\balanced_budgets/2_lobbyists\\\\strategies\\\\300000\\\\strategy_114.txt', 'results\\\\balanced_budgets/2_lobbyists\\\\strategies\\\\300000\\\\strategy_5.txt', 'results\\\\balanced_budgets/2_lobbyists\\\\strategies\\\\300000\\\\strategy_35.txt', 'results\\\\balanced_budgets/2_lobbyists\\\\strategies\\\\300000\\\\strategy_98.txt', 'results\\\\balanced_budgets/2_lobbyists\\\\strategies\\\\300000\\\\strategy_115.txt', 'results\\\\balanced_budgets/2_lobbyists\\\\strategies\\\\300000\\\\strategy_146.txt', 'results\\\\balanced_budgets/2_lobbyists\\\\strategies\\\\300000\\\\strategy_22.txt', 'results\\\\balanced_budgets/2_lobbyists\\\\strategies\\\\300000\\\\strategy_59.txt', 'results\\\\balanced_budgets/2_lobbyists\\\\strategies\\\\300000\\\\strategy_40.txt', 'results\\\\balanced_budgets/2_lobbyists\\\\strategies\\\\300000\\\\strategy_117.txt', 'results\\\\balanced_budgets/2_lobbyists\\\\strategies\\\\300000\\\\strategy_35.txt', 'results\\\\balanced_budgets/2_lobbyists\\\\strategies\\\\300000\\\\strategy_12.txt', 'results\\\\balanced_budgets/2_lobbyists\\\\strategies\\\\300000\\\\strategy_118.txt'], 'T': 3000}, '1': {'m': 1, 'B': 300000, 'c': 1, 'strategies': ['results\\\\balanced_budgets/2_lobbyists\\\\strategies\\\\300000\\\\strategy_66.txt', 'results\\\\balanced_budgets/2_lobbyists\\\\strategies\\\\300000\\\\strategy_28.txt', 'results\\\\balanced_budgets/2_lobbyists\\\\strategies\\\\300000\\\\strategy_59.txt', 'results\\\\balanced_budgets/2_lobbyists\\\\strategies\\\\300000\\\\strategy_51.txt', 'results\\\\balanced_budgets/2_lobbyists\\\\strategies\\\\300000\\\\strategy_11.txt', 'results\\\\balanced_budgets/2_lobbyists\\\\strategies\\\\300000\\\\strategy_30.txt', 'results\\\\balanced_budgets/2_lobbyists\\\\strategies\\\\300000\\\\strategy_66.txt', 'results\\\\balanced_budgets/2_lobbyists\\\\strategies\\\\300000\\\\strategy_131.txt', 'results\\\\balanced_budgets/2_lobbyists\\\\strategies\\\\300000\\\\strategy_2.txt', 'results\\\\balanced_budgets/2_lobbyists\\\\strategies\\\\300000\\\\strategy_55.txt', 'results\\\\balanced_budgets/2_lobbyists\\\\strategies\\\\300000\\\\strategy_43.txt', 'results\\\\balanced_budgets/2_lobbyists\\\\strategies\\\\300000\\\\strategy_81.txt', 'results\\\\balanced_budgets/2_lobbyists\\\\strategies\\\\300000\\\\strategy_112.txt', 'results\\\\balanced_budgets/2_lobbyists\\\\strategies\\\\300000\\\\strategy_80.txt', 'results\\\\balanced_budgets/2_lobbyists\\\\strategies\\\\300000\\\\strategy_4.txt', 'results\\\\balanced_budgets/2_lobbyists\\\\strategies\\\\300000\\\\strategy_32.txt', 'results\\\\balanced_budgets/2_lobbyists\\\\strategies\\\\300000\\\\strategy_62.txt', 'results\\\\balanced_budgets/2_lobbyists\\\\strategies\\\\300000\\\\strategy_44.txt', 'results\\\\balanced_budgets/2_lobbyists\\\\strategies\\\\300000\\\\strategy_75.txt', 'results\\\\balanced_budgets/2_lobbyists\\\\strategies\\\\300000\\\\strategy_24.txt', 'results\\\\balanced_budgets/2_lobbyists\\\\strategies\\\\300000\\\\strategy_48.txt', 'results\\\\balanced_budgets/2_lobbyists\\\\strategies\\\\300000\\\\strategy_147.txt', 'results\\\\balanced_budgets/2_lobbyists\\\\strategies\\\\300000\\\\strategy_149.txt', 'results\\\\balanced_budgets/2_lobbyists\\\\strategies\\\\300000\\\\strategy_83.txt', 'results\\\\balanced_budgets/2_lobbyists\\\\strategies\\\\300000\\\\strategy_119.txt', 'results\\\\balanced_budgets/2_lobbyists\\\\strategies\\\\300000\\\\strategy_146.txt', 'results\\\\balanced_budgets/2_lobbyists\\\\strategies\\\\300000\\\\strategy_139.txt', 'results\\\\balanced_budgets/2_lobbyists\\\\strategies\\\\300000\\\\strategy_69.txt', 'results\\\\balanced_budgets/2_lobbyists\\\\strategies\\\\300000\\\\strategy_20.txt', 'results\\\\balanced_budgets/2_lobbyists\\\\strategies\\\\300000\\\\strategy_48.txt', 'results\\\\balanced_budgets/2_lobbyists\\\\strategies\\\\300000\\\\strategy_146.txt', 'results\\\\balanced_budgets/2_lobbyists\\\\strategies\\\\300000\\\\strategy_74.txt', 'results\\\\balanced_budgets/2_lobbyists\\\\strategies\\\\300000\\\\strategy_99.txt', 'results\\\\balanced_budgets/2_lobbyists\\\\strategies\\\\300000\\\\strategy_12.txt', 'results\\\\balanced_budgets/2_lobbyists\\\\strategies\\\\300000\\\\strategy_50.txt', 'results\\\\balanced_budgets/2_lobbyists\\\\strategies\\\\300000\\\\strategy_5.txt', 'results\\\\balanced_budgets/2_lobbyists\\\\strategies\\\\300000\\\\strategy_101.txt', 'results\\\\balanced_budgets/2_lobbyists\\\\strategies\\\\300000\\\\strategy_51.txt', 'results\\\\balanced_budgets/2_lobbyists\\\\strategies\\\\300000\\\\strategy_103.txt', 'results\\\\balanced_budgets/2_lobbyists\\\\strategies\\\\300000\\\\strategy_99.txt', 'results\\\\balanced_budgets/2_lobbyists\\\\strategies\\\\300000\\\\strategy_130.txt', 'results\\\\balanced_budgets/2_lobbyists\\\\strategies\\\\300000\\\\strategy_124.txt', 'results\\\\balanced_budgets/2_lobbyists\\\\strategies\\\\300000\\\\strategy_117.txt', 'results\\\\balanced_budgets/2_lobbyists\\\\strategies\\\\300000\\\\strategy_12.txt', 'results\\\\balanced_budgets/2_lobbyists\\\\strategies\\\\300000\\\\strategy_97.txt', 'results\\\\balanced_budgets/2_lobbyists\\\\strategies\\\\300000\\\\strategy_50.txt', 'results\\\\balanced_budgets/2_lobbyists\\\\strategies\\\\300000\\\\strategy_25.txt', 'results\\\\balanced_budgets/2_lobbyists\\\\strategies\\\\300000\\\\strategy_105.txt', 'results\\\\balanced_budgets/2_lobbyists\\\\strategies\\\\300000\\\\strategy_139.txt', 'results\\\\balanced_budgets/2_lobbyists\\\\strategies\\\\300000\\\\strategy_54.txt', 'results\\\\balanced_budgets/2_lobbyists\\\\strategies\\\\300000\\\\strategy_52.txt', 'results\\\\balanced_budgets/2_lobbyists\\\\strategies\\\\300000\\\\strategy_41.txt', 'results\\\\balanced_budgets/2_lobbyists\\\\strategies\\\\300000\\\\strategy_107.txt', 'results\\\\balanced_budgets/2_lobbyists\\\\strategies\\\\300000\\\\strategy_35.txt', 'results\\\\balanced_budgets/2_lobbyists\\\\strategies\\\\300000\\\\strategy_70.txt', 'results\\\\balanced_budgets/2_lobbyists\\\\strategies\\\\300000\\\\strategy_140.txt', 'results\\\\balanced_budgets/2_lobbyists\\\\strategies\\\\300000\\\\strategy_45.txt', 'results\\\\balanced_budgets/2_lobbyists\\\\strategies\\\\300000\\\\strategy_32.txt', 'results\\\\balanced_budgets/2_lobbyists\\\\strategies\\\\300000\\\\strategy_137.txt', 'results\\\\balanced_budgets/2_lobbyists\\\\strategies\\\\300000\\\\strategy_110.txt', 'results\\\\balanced_budgets/2_lobbyists\\\\strategies\\\\300000\\\\strategy_115.txt', 'results\\\\balanced_budgets/2_lobbyists\\\\strategies\\\\300000\\\\strategy_117.txt', 'results\\\\balanced_budgets/2_lobbyists\\\\strategies\\\\300000\\\\strategy_134.txt', 'results\\\\balanced_budgets/2_lobbyists\\\\strategies\\\\300000\\\\strategy_105.txt', 'results\\\\balanced_budgets/2_lobbyists\\\\strategies\\\\300000\\\\strategy_131.txt', 'results\\\\balanced_budgets/2_lobbyists\\\\strategies\\\\300000\\\\strategy_53.txt', 'results\\\\balanced_budgets/2_lobbyists\\\\strategies\\\\300000\\\\strategy_51.txt', 'results\\\\balanced_budgets/2_lobbyists\\\\strategies\\\\300000\\\\strategy_110.txt', 'results\\\\balanced_budgets/2_lobbyists\\\\strategies\\\\300000\\\\strategy_8.txt', 'results\\\\balanced_budgets/2_lobbyists\\\\strategies\\\\300000\\\\strategy_43.txt', 'results\\\\balanced_budgets/2_lobbyists\\\\strategies\\\\300000\\\\strategy_119.txt', 'results\\\\balanced_budgets/2_lobbyists\\\\strategies\\\\300000\\\\strategy_120.txt', 'results\\\\balanced_budgets/2_lobbyists\\\\strategies\\\\300000\\\\strategy_125.txt', 'results\\\\balanced_budgets/2_lobbyists\\\\strategies\\\\300000\\\\strategy_120.txt', 'results\\\\balanced_budgets/2_lobbyists\\\\strategies\\\\300000\\\\strategy_130.txt', 'results\\\\balanced_budgets/2_lobbyists\\\\strategies\\\\300000\\\\strategy_148.txt', 'results\\\\balanced_budgets/2_lobbyists\\\\strategies\\\\300000\\\\strategy_146.txt', 'results\\\\balanced_budgets/2_lobbyists\\\\strategies\\\\300000\\\\strategy_114.txt', 'results\\\\balanced_budgets/2_lobbyists\\\\strategies\\\\300000\\\\strategy_132.txt', 'results\\\\balanced_budgets/2_lobbyists\\\\strategies\\\\300000\\\\strategy_13.txt', 'results\\\\balanced_budgets/2_lobbyists\\\\strategies\\\\300000\\\\strategy_134.txt', 'results\\\\balanced_budgets/2_lobbyists\\\\strategies\\\\300000\\\\strategy_60.txt', 'results\\\\balanced_budgets/2_lobbyists\\\\strategies\\\\300000\\\\strategy_83.txt', 'results\\\\balanced_budgets/2_lobbyists\\\\strategies\\\\300000\\\\strategy_4.txt', 'results\\\\balanced_budgets/2_lobbyists\\\\strategies\\\\300000\\\\strategy_49.txt', 'results\\\\balanced_budgets/2_lobbyists\\\\strategies\\\\300000\\\\strategy_136.txt', 'results\\\\balanced_budgets/2_lobbyists\\\\strategies\\\\300000\\\\strategy_84.txt', 'results\\\\balanced_budgets/2_lobbyists\\\\strategies\\\\300000\\\\strategy_122.txt', 'results\\\\balanced_budgets/2_lobbyists\\\\strategies\\\\300000\\\\strategy_1.txt', 'results\\\\balanced_budgets/2_lobbyists\\\\strategies\\\\300000\\\\strategy_75.txt', 'results\\\\balanced_budgets/2_lobbyists\\\\strategies\\\\300000\\\\strategy_69.txt', 'results\\\\balanced_budgets/2_lobbyists\\\\strategies\\\\300000\\\\strategy_55.txt', 'results\\\\balanced_budgets/2_lobbyists\\\\strategies\\\\300000\\\\strategy_103.txt', 'results\\\\balanced_budgets/2_lobbyists\\\\strategies\\\\300000\\\\strategy_96.txt', 'results\\\\balanced_budgets/2_lobbyists\\\\strategies\\\\300000\\\\strategy_138.txt', 'results\\\\balanced_budgets/2_lobbyists\\\\strategies\\\\300000\\\\strategy_26.txt', 'results\\\\balanced_budgets/2_lobbyists\\\\strategies\\\\300000\\\\strategy_34.txt', 'results\\\\balanced_budgets/2_lobbyists\\\\strategies\\\\300000\\\\strategy_68.txt', 'results\\\\balanced_budgets/2_lobbyists\\\\strategies\\\\300000\\\\strategy_138.txt', 'results\\\\balanced_budgets/2_lobbyists\\\\strategies\\\\300000\\\\strategy_131.txt', 'results\\\\balanced_budgets/2_lobbyists\\\\strategies\\\\300000\\\\strategy_76.txt', 'results\\\\balanced_budgets/2_lobbyists\\\\strategies\\\\300000\\\\strategy_1.txt', 'results\\\\balanced_budgets/2_lobbyists\\\\strategies\\\\300000\\\\strategy_107.txt', 'results\\\\balanced_budgets/2_lobbyists\\\\strategies\\\\300000\\\\strategy_137.txt', 'results\\\\balanced_budgets/2_lobbyists\\\\strategies\\\\300000\\\\strategy_100.txt', 'results\\\\balanced_budgets/2_lobbyists\\\\strategies\\\\300000\\\\strategy_58.txt', 'results\\\\balanced_budgets/2_lobbyists\\\\strategies\\\\300000\\\\strategy_94.txt', 'results\\\\balanced_budgets/2_lobbyists\\\\strategies\\\\300000\\\\strategy_122.txt', 'results\\\\balanced_budgets/2_lobbyists\\\\strategies\\\\300000\\\\strategy_117.txt', 'results\\\\balanced_budgets/2_lobbyists\\\\strategies\\\\300000\\\\strategy_26.txt', 'results\\\\balanced_budgets/2_lobbyists\\\\strategies\\\\300000\\\\strategy_90.txt', 'results\\\\balanced_budgets/2_lobbyists\\\\strategies\\\\300000\\\\strategy_125.txt', 'results\\\\balanced_budgets/2_lobbyists\\\\strategies\\\\300000\\\\strategy_55.txt', 'results\\\\balanced_budgets/2_lobbyists\\\\strategies\\\\300000\\\\strategy_3.txt', 'results\\\\balanced_budgets/2_lobbyists\\\\strategies\\\\300000\\\\strategy_142.txt', 'results\\\\balanced_budgets/2_lobbyists\\\\strategies\\\\300000\\\\strategy_21.txt', 'results\\\\balanced_budgets/2_lobbyists\\\\strategies\\\\300000\\\\strategy_114.txt', 'results\\\\balanced_budgets/2_lobbyists\\\\strategies\\\\300000\\\\strategy_19.txt', 'results\\\\balanced_budgets/2_lobbyists\\\\strategies\\\\300000\\\\strategy_102.txt', 'results\\\\balanced_budgets/2_lobbyists\\\\strategies\\\\300000\\\\strategy_32.txt', 'results\\\\balanced_budgets/2_lobbyists\\\\strategies\\\\300000\\\\strategy_25.txt', 'results\\\\balanced_budgets/2_lobbyists\\\\strategies\\\\300000\\\\strategy_123.txt', 'results\\\\balanced_budgets/2_lobbyists\\\\strategies\\\\300000\\\\strategy_140.txt', 'results\\\\balanced_budgets/2_lobbyists\\\\strategies\\\\300000\\\\strategy_96.txt', 'results\\\\balanced_budgets/2_lobbyists\\\\strategies\\\\300000\\\\strategy_89.txt', 'results\\\\balanced_budgets/2_lobbyists\\\\strategies\\\\300000\\\\strategy_12.txt', 'results\\\\balanced_budgets/2_lobbyists\\\\strategies\\\\300000\\\\strategy_111.txt', 'results\\\\balanced_budgets/2_lobbyists\\\\strategies\\\\300000\\\\strategy_131.txt', 'results\\\\balanced_budgets/2_lobbyists\\\\strategies\\\\300000\\\\strategy_70.txt', 'results\\\\balanced_budgets/2_lobbyists\\\\strategies\\\\300000\\\\strategy_87.txt', 'results\\\\balanced_budgets/2_lobbyists\\\\strategies\\\\300000\\\\strategy_33.txt', 'results\\\\balanced_budgets/2_lobbyists\\\\strategies\\\\300000\\\\strategy_47.txt', 'results\\\\balanced_budgets/2_lobbyists\\\\strategies\\\\300000\\\\strategy_45.txt', 'results\\\\balanced_budgets/2_lobbyists\\\\strategies\\\\300000\\\\strategy_42.txt', 'results\\\\balanced_budgets/2_lobbyists\\\\strategies\\\\300000\\\\strategy_36.txt', 'results\\\\balanced_budgets/2_lobbyists\\\\strategies\\\\300000\\\\strategy_107.txt', 'results\\\\balanced_budgets/2_lobbyists\\\\strategies\\\\300000\\\\strategy_52.txt', 'results\\\\balanced_budgets/2_lobbyists\\\\strategies\\\\300000\\\\strategy_74.txt', 'results\\\\balanced_budgets/2_lobbyists\\\\strategies\\\\300000\\\\strategy_26.txt', 'results\\\\balanced_budgets/2_lobbyists\\\\strategies\\\\300000\\\\strategy_105.txt', 'results\\\\balanced_budgets/2_lobbyists\\\\strategies\\\\300000\\\\strategy_2.txt', 'results\\\\balanced_budgets/2_lobbyists\\\\strategies\\\\300000\\\\strategy_114.txt', 'results\\\\balanced_budgets/2_lobbyists\\\\strategies\\\\300000\\\\strategy_60.txt', 'results\\\\balanced_budgets/2_lobbyists\\\\strategies\\\\300000\\\\strategy_65.txt', 'results\\\\balanced_budgets/2_lobbyists\\\\strategies\\\\300000\\\\strategy_137.txt', 'results\\\\balanced_budgets/2_lobbyists\\\\strategies\\\\300000\\\\strategy_68.txt', 'results\\\\balanced_budgets/2_lobbyists\\\\strategies\\\\300000\\\\strategy_149.txt', 'results\\\\balanced_budgets/2_lobbyists\\\\strategies\\\\300000\\\\strategy_130.txt', 'results\\\\balanced_budgets/2_lobbyists\\\\strategies\\\\300000\\\\strategy_146.txt', 'results\\\\balanced_budgets/2_lobbyists\\\\strategies\\\\300000\\\\strategy_83.txt'], 'T': 3000}}, 'nruns': 150}\n"
     ]
    }
   ],
   "source": [
    "print(params)"
   ]
  },
  {
   "cell_type": "code",
   "execution_count": 4,
   "metadata": {},
   "outputs": [],
   "source": [
    "p_o = params['p_o']\n",
    "p_p = params['p_p']\n",
    "lambda_values = params['lambda_values']\n",
    "phi_values = params['phi_values']\n",
    "n_lobbyists = params['n_lobbyists']\n",
    "nruns = params['nruns']\n",
    "lobbyists_data = params['lobbyists_data']"
   ]
  },
  {
   "cell_type": "code",
   "execution_count": 5,
   "metadata": {},
   "outputs": [],
   "source": [
    "def get_data(trends: dict, \n",
    "            p_o: float,\n",
    "            p_p: float,\n",
    "            iteration: Union[int, str] = -1, \n",
    "            kind: str = \"probabilities\"):\n",
    "       \n",
    "        \"\"\"\n",
    "        Args:\n",
    "            trends (dict): The computed simulation trends.\n",
    "            p_o (float): Probability of the optimistic model.\n",
    "            p_p (float): Probability of the pessimistic model.\n",
    "            iteration (int | str): The iteration number or \"last\" for final state (default: -1).\n",
    "            values (str): The type of values to extract (\"probabilities\" or \"weights\").\n",
    "        \"\"\"\n",
    "        #print(f\"Length of trends: {len(trends)}, Iteration: {iteration}\")\n",
    "        if isinstance(iteration, int) and -1 <= iteration < len(trends):\n",
    "            it = trends[iteration]['iteration']\n",
    "            ops = np.array(list(trends[iteration]['status'].values()), dtype=float)\n",
    "        else:\n",
    "            raise ValueError(f\"Invalid iteration index: {iteration}\")\n",
    "\n",
    "        # Compute values based on type\n",
    "        if kind == 'probabilities':\n",
    "            ops = p_o * ops + p_p * (1 - ops)\n",
    "            ops = np.array(ops, dtype=float)\n",
    "        elif kind == 'weights':\n",
    "            np.array(ops, dtype=float)\n",
    "        else:\n",
    "            raise ValueError(\"`values` must be either 'probabilities' or 'weights'.\")\n",
    "        \n",
    "        return ops, it"
   ]
  },
  {
   "cell_type": "code",
   "execution_count": 10,
   "metadata": {},
   "outputs": [
    {
     "data": {
      "application/vnd.jupyter.widget-view+json": {
       "model_id": "6aecbd0a7a5d4d1eb328cac64aa3a0e0",
       "version_major": 2,
       "version_minor": 0
      },
      "text/plain": [
       "Processing:   0%|          | 0/36300 [00:00<?, ?iteration/s]"
      ]
     },
     "metadata": {},
     "output_type": "display_data"
    },
    {
     "name": "stderr",
     "output_type": "stream",
     "text": [
      "C:\\Users\\leona\\PycharmProjects\\almondo-tweets-retrieval\\model\\metrics\\metrics.py:114: RuntimeWarning: divide by zero encountered in divide\n",
      "  (1 - p_lob) * np.log((1 - p_lob) / (1 - opinions))\n",
      "C:\\Users\\leona\\PycharmProjects\\almondo-tweets-retrieval\\.venv\\Lib\\site-packages\\numpy\\_core\\_methods.py:191: RuntimeWarning: invalid value encountered in subtract\n",
      "  x = asanyarray(arr - arrmean)\n",
      "C:\\Users\\leona\\PycharmProjects\\almondo-tweets-retrieval\\model\\metrics\\metrics.py:113: RuntimeWarning: divide by zero encountered in divide\n",
      "  rel_entropy = p_lob * np.log((p_lob) / (opinions)) + \\\n",
      "C:\\Users\\leona\\PycharmProjects\\almondo-tweets-retrieval\\model\\metrics\\metrics.py:113: RuntimeWarning: overflow encountered in divide\n",
      "  rel_entropy = p_lob * np.log((p_lob) / (opinions)) + \\\n"
     ]
    }
   ],
   "source": [
    "import json\n",
    "import os\n",
    "import numpy as np\n",
    "from tqdm.notebook import tqdm  # Use tqdm for Jupyter Notebook\n",
    "from scipy.stats import t  # Import stud_t for the t-test p-value calculation\n",
    "\n",
    "kinds = ['weights', 'probabilities']\n",
    "\n",
    "# Total iterations for tqdm\n",
    "total_iterations = len(kinds) * len(params['lambda_values']) * len(params['phi_values']) * params['nruns']\n",
    "\n",
    "with tqdm(total=total_iterations, desc=\"Processing\", unit=\"iteration\") as pbar:\n",
    "    for kind in kinds:\n",
    "        for _, (lambda_v, phi_v) in enumerate([(l, p) for l in params['lambda_values'] for p in params['phi_values']]):    \n",
    "            path = os.path.join(basepath, f'{lambda_v}_{phi_v}/')  \n",
    "            metrics = {\n",
    "                'effective_number_clusters': [],\n",
    "                'number_iterations': [],\n",
    "                'average_pairwise_distance': [],\n",
    "                'average_opinions': [],\n",
    "                'std_opinions': [],\n",
    "                'lobbyists_performance': {k: [] for k in range(n_lobbyists)}\n",
    "            }\n",
    "            \n",
    "            avg_metrics = {\n",
    "                'effective_number_clusters': {'avg': -1, 'std': -1},\n",
    "                'number_iterations': {'avg': -1, 'std': -1},\n",
    "                'average_pairwise_distance': {'avg': -1, 'std': -1},\n",
    "                'average_opinions': {'avg': -1, 'std': -1},\n",
    "                'std_opinions': {'avg': -1, 'std': -1},\n",
    "                'lobbyists_performance': {k: {'avg': -1, 'std': -1} for k in range(n_lobbyists)}\n",
    "            }\n",
    "\n",
    "            for run in range(params['nruns']):\n",
    "                runpath = os.path.join(path, str(run))\n",
    "                json_path = os.path.join(runpath, 'status.json')\n",
    "\n",
    "                try:\n",
    "                    with open(json_path, 'r') as f:\n",
    "                        trends = json.load(f)  # Try to load JSON\n",
    "\n",
    "                except json.JSONDecodeError:\n",
    "                    print(f\"Skipping run {run} for ({lambda_v}, {phi_v}) due to JSON decoding error.\")\n",
    "                    pbar.update(1)\n",
    "                    continue  # Skip this iteration\n",
    "                \n",
    "                except FileNotFoundError:\n",
    "                    print(f\"Skipping run {run} for ({lambda_v}, {phi_v}) - File not found.\")\n",
    "                    pbar.update(1)\n",
    "                    continue  # Skip if the file doesn't exist\n",
    "\n",
    "                ops, it = get_data(trends, p_o, p_p, kind=kind)\n",
    "                \n",
    "                metrics['effective_number_clusters'].append(nclusters(ops, 0.0001))\n",
    "                metrics['number_iterations'].append(it)\n",
    "                metrics['average_pairwise_distance'].append(pwdist(ops))\n",
    "                metrics['average_opinions'].append(np.array(ops).mean())\n",
    "                metrics['std_opinions'].append(np.array(ops).std())\n",
    "\n",
    "                for id, lob in lobbyists_data.items():\n",
    "                    metrics['lobbyists_performance'][int(id)].append(lobbyist_performance(ops, lob['m'], p_o, p_p))\n",
    "                    \n",
    "                for k, v in metrics.items():\n",
    "                    if k != 'lobbyists_performance':\n",
    "                        avg = np.array(v).mean()\n",
    "                        std = np.array(v).std()\n",
    "                        avg_metrics[k]['avg'] = avg\n",
    "                        avg_metrics[k]['std'] = std\n",
    "                    else:\n",
    "                        for id in range(n_lobbyists):\n",
    "                            avg = np.array(v[id]).mean()\n",
    "                            std = np.array(v[id]).std()\n",
    "                            avg_metrics[k][id]['avg'] = avg\n",
    "                            avg_metrics[k][id]['std'] = std\n",
    "\n",
    "            \n",
    "                # t-test for means calculation\n",
    "                p_hat = avg_metrics['average_opinions']['avg']  #average opinion across runs\n",
    "                n = params['nruns']  # Sample size\n",
    "                p_0 = 0.5  # Hypothesized population proportion\n",
    "\n",
    "                # t-test\n",
    "                t_stat = (p_hat - p_0) / np.sqrt((p_hat * (1 - p_hat)) / n)\n",
    "\n",
    "                \n",
    "                # Degrees of freedom\n",
    "                df = n - 1\n",
    "\n",
    "                p_value = 2 * (1 - t.cdf(abs(t_stat), df))\n",
    "\n",
    "                # Add Z-statistic and p-value to avg_metrics\n",
    "                avg_metrics['average_opinions']['t_statistic'] = t_stat\n",
    "                avg_metrics['average_opinions']['p_value'] = p_value\n",
    "\n",
    "                pbar.update(1)  \n",
    "\n",
    "            with open(path + f'{kind}_metrics_distributions.json', 'w') as f:\n",
    "                json.dump(metrics, f)\n",
    "            \n",
    "            with open(path + f'{kind}_average_metrics.json', 'w') as f:\n",
    "                json.dump(avg_metrics, f)\n"
   ]
  },
  {
   "cell_type": "code",
   "execution_count": null,
   "metadata": {},
   "outputs": [],
   "source": []
  },
  {
   "cell_type": "code",
   "execution_count": null,
   "metadata": {
    "scrolled": true
   },
   "outputs": [],
   "source": []
  },
  {
   "cell_type": "code",
   "execution_count": null,
   "metadata": {},
   "outputs": [],
   "source": []
  },
  {
   "cell_type": "code",
   "execution_count": null,
   "metadata": {},
   "outputs": [],
   "source": []
  },
  {
   "cell_type": "code",
   "execution_count": null,
   "metadata": {},
   "outputs": [],
   "source": []
  },
  {
   "cell_type": "code",
   "execution_count": null,
   "metadata": {},
   "outputs": [],
   "source": []
  },
  {
   "cell_type": "code",
   "execution_count": null,
   "metadata": {},
   "outputs": [],
   "source": []
  },
  {
   "cell_type": "code",
   "execution_count": null,
   "metadata": {},
   "outputs": [],
   "source": []
  }
 ],
 "metadata": {
  "kernelspec": {
   "display_name": "Python 3 (ipykernel)",
   "language": "python",
   "name": "python3"
  },
  "language_info": {
   "codemirror_mode": {
    "name": "ipython",
    "version": 3
   },
   "file_extension": ".py",
   "mimetype": "text/x-python",
   "name": "python",
   "nbconvert_exporter": "python",
   "pygments_lexer": "ipython3",
   "version": "3.12.2"
  }
 },
 "nbformat": 4,
 "nbformat_minor": 4
}
