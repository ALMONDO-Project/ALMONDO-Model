{
 "cells": [
  {
   "cell_type": "code",
   "execution_count": 6,
   "metadata": {},
   "outputs": [],
   "source": [
    "import json\n",
    "import numpy as np\n",
    "import matplotlib.pyplot as plt\n",
    "from typing import Union\n",
    "from metrics import nclusters, pwdist, lobbyist_performance"
   ]
  },
  {
   "cell_type": "code",
   "execution_count": null,
   "metadata": {},
   "outputs": [],
   "source": [
    "\n",
    "with open(path, 'r') as f:\n",
    "    params = json.load(f)"
   ]
  },
  {
   "cell_type": "code",
   "execution_count": 8,
   "metadata": {},
   "outputs": [
    {
     "name": "stdout",
     "output_type": "stream",
     "text": [
      "{'p_o': 0.01, 'p_p': 0.99, 'lambda_values': [0.0, 1.0], 'phi_values': [0.0, 1.0], 'T': 10000, 'n_lobbyists': 2, 'lobbyists': {'0': {'m': 1, 'B': 20000, 'c': 1, 'strategies': ['results_unbalanced_lobbyists/different_budgets_1/strategies/20000/RSBRQD8FVF.txt', 'results_unbalanced_lobbyists/different_budgets_1/strategies/20000/Q7PDR4KCZD.txt'], 'T': 3000}, '1': {'m': 0, 'B': 40000, 'c': 1, 'strategies': ['results_unbalanced_lobbyists/different_budgets_1/strategies/40000/SNP5UYMILF.txt', 'results_unbalanced_lobbyists/different_budgets_1/strategies/40000/WNW9N29Z53.txt'], 'T': 3000}}, 'nruns': 2}\n"
     ]
    }
   ],
   "source": [
    "print(params)"
   ]
  },
  {
   "cell_type": "code",
   "execution_count": 9,
   "metadata": {},
   "outputs": [],
   "source": [
    "p_o = params['p_o']\n",
    "p_p = params['p_p']\n",
    "lambda_values = params['lambda_values']\n",
    "phi_values = params['phi_values']\n",
    "n_lobbyists = params['n_lobbyists']\n",
    "nruns = params['nruns']\n",
    "lobbyists_data = params['lobbyists']"
   ]
  },
  {
   "cell_type": "code",
   "execution_count": 10,
   "metadata": {},
   "outputs": [],
   "source": [
    "def get_data(trends: dict, \n",
    "            p_o: float,\n",
    "            p_p: float,\n",
    "            iteration: Union[int, str] = -1, \n",
    "            kind: str = \"probabilities\"):\n",
    "       \n",
    "        \"\"\"\n",
    "        Args:\n",
    "            trends (dict): The computed simulation trends.\n",
    "            p_o (float): Probability of the optimistic model.\n",
    "            p_p (float): Probability of the pessimistic model.\n",
    "            iteration (int | str): The iteration number or \"last\" for final state (default: -1).\n",
    "            values (str): The type of values to extract (\"probabilities\" or \"weights\").\n",
    "        \"\"\"\n",
    "        \n",
    "        if isinstance(iteration, int) and -1 <= iteration < len(trends):\n",
    "            it = trends[iteration]['iteration']\n",
    "            ops = np.array(list(trends[iteration]['status'].values()), dtype=float)\n",
    "        else:\n",
    "            raise ValueError(f\"Invalid iteration index: {iteration}\")\n",
    "\n",
    "        # Compute values based on type\n",
    "        if kind == 'probabilities':\n",
    "            ops = p_o * ops + p_p * (1 - ops)\n",
    "            ops = np.array(ops, dtype=float)\n",
    "        elif kind == 'weights':\n",
    "            np.array(ops, dtype=float)\n",
    "        else:\n",
    "            raise ValueError(\"`values` must be either 'probabilities' or 'weights'.\")\n",
    "        \n",
    "        return ops, it"
   ]
  },
  {
   "cell_type": "code",
   "execution_count": null,
   "metadata": {},
   "outputs": [
    {
     "data": {
      "application/vnd.jupyter.widget-view+json": {
       "model_id": "ed248a8fc9a44bd1bc612c75e4597e56",
       "version_major": 2,
       "version_minor": 0
      },
      "text/plain": [
       "Processing:   0%|          | 0/792 [00:00<?, ?iteration/s]"
      ]
     },
     "metadata": {},
     "output_type": "display_data"
    }
   ],
   "source": [
    "import json\n",
    "import os\n",
    "import numpy as np\n",
    "from tqdm.notebook import tqdm  # Use tqdm for Jupyter Notebook\n",
    "\n",
    "kinds = ['weights', 'probabilities']\n",
    "\n",
    "# Total iterations for tqdm\n",
    "total_iterations = len(kinds) * len(params['lambda_values']) * len(params['phi_values']) * params['nruns']\n",
    "\n",
    "with tqdm(total=total_iterations, desc=\"Processing\", unit=\"iteration\") as pbar:\n",
    "    for kind in kinds:\n",
    "        for _, (lambda_v, phi_v) in enumerate([(l, p) for l in params['lambda_values'] for p in params['phi_values']]):    \n",
    "            \n",
    "            path = os.path.join(f'../{path}/', f'{lambda_v}_{phi_v}/')    \n",
    "\n",
    "            metrics = {\n",
    "                'effective_number_clusters': [],\n",
    "                'number_iterations': [],\n",
    "                'average_pairwise_distance': [],\n",
    "                'average_opinions': [],\n",
    "                'std_opinions': [],\n",
    "                'lobbyists_performance': {k: [] for k in range(n_lobbyists)}\n",
    "            }\n",
    "            \n",
    "            avg_metrics = {\n",
    "                'effective_number_clusters': {'avg': -1, 'std': -1},\n",
    "                'number_iterations': {'avg': -1, 'std': -1},\n",
    "                'average_pairwise_distance': {'avg': -1, 'std': -1},\n",
    "                'average_opinions': {'avg': -1, 'std': -1},\n",
    "                'std_opinions': {'avg': -1, 'std': -1},\n",
    "                'lobbyists_performance': {k: {'avg': -1, 'std': -1} for k in range(n_lobbyists)}\n",
    "            }\n",
    "\n",
    "            for run in range(params['nruns']):\n",
    "                runpath = os.path.join(path, str(run))\n",
    "                \n",
    "                with open(runpath+'/status.json', 'r') as f:\n",
    "                    trends = json.load(f)\n",
    "                \n",
    "                ops, it = get_data(trends, p_o, p_p, kind=kind)\n",
    "                \n",
    "                metrics['effective_number_clusters'].append(nclusters(ops, 0.0001))\n",
    "                metrics['number_iterations'].append(it)\n",
    "                metrics['average_pairwise_distance'].append(pwdist(ops))\n",
    "                metrics['average_opinions'].append(np.array(ops).mean())\n",
    "                metrics['std_opinions'].append(np.array(ops).std())\n",
    "\n",
    "                for id, lob in lobbyists_data.items():\n",
    "                    metrics['lobbyists_performance'][id].append(lobbyist_performance(ops, lob['m'], p_o, p_p))\n",
    "                    \n",
    "                for k, v in metrics.items():\n",
    "                    if k != 'lobbyists_performance':\n",
    "                        avg = np.array(v).mean()\n",
    "                        std = np.array(v).std()\n",
    "                        avg_metrics[k]['avg'] = avg\n",
    "                        avg_metrics[k]['std'] = std\n",
    "                    else:\n",
    "                        for id in range(n_lobbyists):\n",
    "                            avg = np.array(v[id]).mean()\n",
    "                            std = np.array(v[id]).std()\n",
    "                            avg_metrics[k][id]['avg'] = avg\n",
    "                            avg_metrics[k][id]['std'] = std\n",
    "                pbar.update(1)  \n",
    "\n",
    "            with open(path+f'{kind}_metrics_distributions.json', 'w') as f:\n",
    "                json.dump(metrics, f)\n",
    "            \n",
    "            with open(path+f'{kind}_average_metrics.json', 'w') as f:\n",
    "                json.dump(avg_metrics, f)"
   ]
  },
  {
   "cell_type": "code",
   "execution_count": null,
   "metadata": {},
   "outputs": [],
   "source": []
  },
  {
   "cell_type": "code",
   "execution_count": null,
   "metadata": {},
   "outputs": [],
   "source": []
  }
 ],
 "metadata": {
  "kernelspec": {
   "display_name": "almondo-venv",
   "language": "python",
   "name": "python3"
  },
  "language_info": {
   "codemirror_mode": {
    "name": "ipython",
    "version": 3
   },
   "file_extension": ".py",
   "mimetype": "text/x-python",
   "name": "python",
   "nbconvert_exporter": "python",
   "pygments_lexer": "ipython3",
   "version": "3.13.1"
  }
 },
 "nbformat": 4,
 "nbformat_minor": 2
}
