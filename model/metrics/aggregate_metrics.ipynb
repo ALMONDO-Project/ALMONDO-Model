{
 "cells": [
  {
   "cell_type": "code",
   "execution_count": 1,
   "metadata": {},
   "outputs": [],
   "source": [
    "import os\n",
    "import json\n",
    "import numpy as np\n",
    "import matplotlib.pyplot as plt\n",
    "from typing import Union\n",
    "from metrics import nclusters, pwdist, lobbyist_performance"
   ]
  },
  {
   "cell_type": "code",
   "execution_count": 2,
   "metadata": {},
   "outputs": [],
   "source": [
    "nl = 0\n",
    "basepath = f'../results/unbalanced_budgets/'\n",
    "filename = 'config.json'\n",
    "with open(os.path.join(basepath, filename), 'r') as f:\n",
    "    params = json.load(f)"
   ]
  },
  {
   "cell_type": "code",
   "execution_count": 3,
   "metadata": {},
   "outputs": [
    {
     "name": "stdout",
     "output_type": "stream",
     "text": [
      "{'p_o': 0.01, 'p_p': 0.99, 'lambda_values': [0.0, 0.1, 0.2, 0.3, 0.4, 0.5, 0.6, 0.7, 0.8, 0.9, 1.0], 'phi_values': [0.0, 0.1, 0.2, 0.3, 0.4, 0.0, 0.5, 0.6, 0.7, 0.8, 0.9, 1.0], 'T': 10000, 'n_lobbyists': 2, 'lobbyists_data': {'0': {'m': 1, 'B': 200000, 'c': 1, 'strategies': ['results/unbalanced_budgets/strategies/200000/strategy_94.txt', 'results/unbalanced_budgets/strategies/200000/strategy_32.txt', 'results/unbalanced_budgets/strategies/200000/strategy_23.txt', 'results/unbalanced_budgets/strategies/200000/strategy_92.txt', 'results/unbalanced_budgets/strategies/200000/strategy_37.txt', 'results/unbalanced_budgets/strategies/200000/strategy_66.txt', 'results/unbalanced_budgets/strategies/200000/strategy_44.txt', 'results/unbalanced_budgets/strategies/200000/strategy_60.txt', 'results/unbalanced_budgets/strategies/200000/strategy_69.txt', 'results/unbalanced_budgets/strategies/200000/strategy_15.txt', 'results/unbalanced_budgets/strategies/200000/strategy_99.txt', 'results/unbalanced_budgets/strategies/200000/strategy_71.txt', 'results/unbalanced_budgets/strategies/200000/strategy_49.txt', 'results/unbalanced_budgets/strategies/200000/strategy_87.txt', 'results/unbalanced_budgets/strategies/200000/strategy_9.txt', 'results/unbalanced_budgets/strategies/200000/strategy_59.txt', 'results/unbalanced_budgets/strategies/200000/strategy_85.txt', 'results/unbalanced_budgets/strategies/200000/strategy_20.txt', 'results/unbalanced_budgets/strategies/200000/strategy_65.txt', 'results/unbalanced_budgets/strategies/200000/strategy_49.txt', 'results/unbalanced_budgets/strategies/200000/strategy_69.txt', 'results/unbalanced_budgets/strategies/200000/strategy_30.txt', 'results/unbalanced_budgets/strategies/200000/strategy_28.txt', 'results/unbalanced_budgets/strategies/200000/strategy_86.txt', 'results/unbalanced_budgets/strategies/200000/strategy_29.txt', 'results/unbalanced_budgets/strategies/200000/strategy_95.txt', 'results/unbalanced_budgets/strategies/200000/strategy_7.txt', 'results/unbalanced_budgets/strategies/200000/strategy_0.txt', 'results/unbalanced_budgets/strategies/200000/strategy_78.txt', 'results/unbalanced_budgets/strategies/200000/strategy_15.txt', 'results/unbalanced_budgets/strategies/200000/strategy_91.txt', 'results/unbalanced_budgets/strategies/200000/strategy_95.txt', 'results/unbalanced_budgets/strategies/200000/strategy_36.txt', 'results/unbalanced_budgets/strategies/200000/strategy_77.txt', 'results/unbalanced_budgets/strategies/200000/strategy_64.txt', 'results/unbalanced_budgets/strategies/200000/strategy_13.txt', 'results/unbalanced_budgets/strategies/200000/strategy_22.txt', 'results/unbalanced_budgets/strategies/200000/strategy_5.txt', 'results/unbalanced_budgets/strategies/200000/strategy_9.txt', 'results/unbalanced_budgets/strategies/200000/strategy_51.txt', 'results/unbalanced_budgets/strategies/200000/strategy_14.txt', 'results/unbalanced_budgets/strategies/200000/strategy_21.txt', 'results/unbalanced_budgets/strategies/200000/strategy_37.txt', 'results/unbalanced_budgets/strategies/200000/strategy_3.txt', 'results/unbalanced_budgets/strategies/200000/strategy_81.txt', 'results/unbalanced_budgets/strategies/200000/strategy_10.txt', 'results/unbalanced_budgets/strategies/200000/strategy_34.txt', 'results/unbalanced_budgets/strategies/200000/strategy_42.txt', 'results/unbalanced_budgets/strategies/200000/strategy_86.txt', 'results/unbalanced_budgets/strategies/200000/strategy_42.txt', 'results/unbalanced_budgets/strategies/200000/strategy_14.txt', 'results/unbalanced_budgets/strategies/200000/strategy_68.txt', 'results/unbalanced_budgets/strategies/200000/strategy_96.txt', 'results/unbalanced_budgets/strategies/200000/strategy_14.txt', 'results/unbalanced_budgets/strategies/200000/strategy_9.txt', 'results/unbalanced_budgets/strategies/200000/strategy_92.txt', 'results/unbalanced_budgets/strategies/200000/strategy_16.txt', 'results/unbalanced_budgets/strategies/200000/strategy_11.txt', 'results/unbalanced_budgets/strategies/200000/strategy_25.txt', 'results/unbalanced_budgets/strategies/200000/strategy_26.txt', 'results/unbalanced_budgets/strategies/200000/strategy_94.txt', 'results/unbalanced_budgets/strategies/200000/strategy_66.txt', 'results/unbalanced_budgets/strategies/200000/strategy_57.txt', 'results/unbalanced_budgets/strategies/200000/strategy_24.txt', 'results/unbalanced_budgets/strategies/200000/strategy_79.txt', 'results/unbalanced_budgets/strategies/200000/strategy_18.txt', 'results/unbalanced_budgets/strategies/200000/strategy_27.txt', 'results/unbalanced_budgets/strategies/200000/strategy_0.txt', 'results/unbalanced_budgets/strategies/200000/strategy_23.txt', 'results/unbalanced_budgets/strategies/200000/strategy_81.txt', 'results/unbalanced_budgets/strategies/200000/strategy_53.txt', 'results/unbalanced_budgets/strategies/200000/strategy_87.txt', 'results/unbalanced_budgets/strategies/200000/strategy_55.txt', 'results/unbalanced_budgets/strategies/200000/strategy_96.txt', 'results/unbalanced_budgets/strategies/200000/strategy_35.txt', 'results/unbalanced_budgets/strategies/200000/strategy_73.txt', 'results/unbalanced_budgets/strategies/200000/strategy_83.txt', 'results/unbalanced_budgets/strategies/200000/strategy_34.txt', 'results/unbalanced_budgets/strategies/200000/strategy_86.txt', 'results/unbalanced_budgets/strategies/200000/strategy_27.txt', 'results/unbalanced_budgets/strategies/200000/strategy_52.txt', 'results/unbalanced_budgets/strategies/200000/strategy_6.txt', 'results/unbalanced_budgets/strategies/200000/strategy_18.txt', 'results/unbalanced_budgets/strategies/200000/strategy_7.txt', 'results/unbalanced_budgets/strategies/200000/strategy_17.txt', 'results/unbalanced_budgets/strategies/200000/strategy_25.txt', 'results/unbalanced_budgets/strategies/200000/strategy_92.txt', 'results/unbalanced_budgets/strategies/200000/strategy_67.txt', 'results/unbalanced_budgets/strategies/200000/strategy_83.txt', 'results/unbalanced_budgets/strategies/200000/strategy_78.txt', 'results/unbalanced_budgets/strategies/200000/strategy_57.txt', 'results/unbalanced_budgets/strategies/200000/strategy_67.txt', 'results/unbalanced_budgets/strategies/200000/strategy_17.txt', 'results/unbalanced_budgets/strategies/200000/strategy_32.txt', 'results/unbalanced_budgets/strategies/200000/strategy_33.txt', 'results/unbalanced_budgets/strategies/200000/strategy_17.txt', 'results/unbalanced_budgets/strategies/200000/strategy_34.txt', 'results/unbalanced_budgets/strategies/200000/strategy_20.txt', 'results/unbalanced_budgets/strategies/200000/strategy_33.txt', 'results/unbalanced_budgets/strategies/200000/strategy_32.txt'], 'T': 3000}, '1': {'m': 0, 'B': 400000, 'c': 1, 'strategies': ['results/unbalanced_budgets/strategies/400000/strategy_74.txt', 'results/unbalanced_budgets/strategies/400000/strategy_25.txt', 'results/unbalanced_budgets/strategies/400000/strategy_30.txt', 'results/unbalanced_budgets/strategies/400000/strategy_4.txt', 'results/unbalanced_budgets/strategies/400000/strategy_32.txt', 'results/unbalanced_budgets/strategies/400000/strategy_93.txt', 'results/unbalanced_budgets/strategies/400000/strategy_40.txt', 'results/unbalanced_budgets/strategies/400000/strategy_37.txt', 'results/unbalanced_budgets/strategies/400000/strategy_18.txt', 'results/unbalanced_budgets/strategies/400000/strategy_72.txt', 'results/unbalanced_budgets/strategies/400000/strategy_55.txt', 'results/unbalanced_budgets/strategies/400000/strategy_73.txt', 'results/unbalanced_budgets/strategies/400000/strategy_39.txt', 'results/unbalanced_budgets/strategies/400000/strategy_37.txt', 'results/unbalanced_budgets/strategies/400000/strategy_98.txt', 'results/unbalanced_budgets/strategies/400000/strategy_32.txt', 'results/unbalanced_budgets/strategies/400000/strategy_10.txt', 'results/unbalanced_budgets/strategies/400000/strategy_60.txt', 'results/unbalanced_budgets/strategies/400000/strategy_56.txt', 'results/unbalanced_budgets/strategies/400000/strategy_76.txt', 'results/unbalanced_budgets/strategies/400000/strategy_66.txt', 'results/unbalanced_budgets/strategies/400000/strategy_90.txt', 'results/unbalanced_budgets/strategies/400000/strategy_75.txt', 'results/unbalanced_budgets/strategies/400000/strategy_78.txt', 'results/unbalanced_budgets/strategies/400000/strategy_86.txt', 'results/unbalanced_budgets/strategies/400000/strategy_77.txt', 'results/unbalanced_budgets/strategies/400000/strategy_43.txt', 'results/unbalanced_budgets/strategies/400000/strategy_98.txt', 'results/unbalanced_budgets/strategies/400000/strategy_90.txt', 'results/unbalanced_budgets/strategies/400000/strategy_70.txt', 'results/unbalanced_budgets/strategies/400000/strategy_26.txt', 'results/unbalanced_budgets/strategies/400000/strategy_86.txt', 'results/unbalanced_budgets/strategies/400000/strategy_35.txt', 'results/unbalanced_budgets/strategies/400000/strategy_80.txt', 'results/unbalanced_budgets/strategies/400000/strategy_83.txt', 'results/unbalanced_budgets/strategies/400000/strategy_22.txt', 'results/unbalanced_budgets/strategies/400000/strategy_31.txt', 'results/unbalanced_budgets/strategies/400000/strategy_60.txt', 'results/unbalanced_budgets/strategies/400000/strategy_63.txt', 'results/unbalanced_budgets/strategies/400000/strategy_39.txt', 'results/unbalanced_budgets/strategies/400000/strategy_83.txt', 'results/unbalanced_budgets/strategies/400000/strategy_58.txt', 'results/unbalanced_budgets/strategies/400000/strategy_32.txt', 'results/unbalanced_budgets/strategies/400000/strategy_35.txt', 'results/unbalanced_budgets/strategies/400000/strategy_5.txt', 'results/unbalanced_budgets/strategies/400000/strategy_13.txt', 'results/unbalanced_budgets/strategies/400000/strategy_20.txt', 'results/unbalanced_budgets/strategies/400000/strategy_33.txt', 'results/unbalanced_budgets/strategies/400000/strategy_64.txt', 'results/unbalanced_budgets/strategies/400000/strategy_37.txt', 'results/unbalanced_budgets/strategies/400000/strategy_60.txt', 'results/unbalanced_budgets/strategies/400000/strategy_48.txt', 'results/unbalanced_budgets/strategies/400000/strategy_52.txt', 'results/unbalanced_budgets/strategies/400000/strategy_42.txt', 'results/unbalanced_budgets/strategies/400000/strategy_10.txt', 'results/unbalanced_budgets/strategies/400000/strategy_73.txt', 'results/unbalanced_budgets/strategies/400000/strategy_4.txt', 'results/unbalanced_budgets/strategies/400000/strategy_71.txt', 'results/unbalanced_budgets/strategies/400000/strategy_32.txt', 'results/unbalanced_budgets/strategies/400000/strategy_4.txt', 'results/unbalanced_budgets/strategies/400000/strategy_9.txt', 'results/unbalanced_budgets/strategies/400000/strategy_74.txt', 'results/unbalanced_budgets/strategies/400000/strategy_75.txt', 'results/unbalanced_budgets/strategies/400000/strategy_43.txt', 'results/unbalanced_budgets/strategies/400000/strategy_92.txt', 'results/unbalanced_budgets/strategies/400000/strategy_91.txt', 'results/unbalanced_budgets/strategies/400000/strategy_0.txt', 'results/unbalanced_budgets/strategies/400000/strategy_17.txt', 'results/unbalanced_budgets/strategies/400000/strategy_16.txt', 'results/unbalanced_budgets/strategies/400000/strategy_86.txt', 'results/unbalanced_budgets/strategies/400000/strategy_18.txt', 'results/unbalanced_budgets/strategies/400000/strategy_90.txt', 'results/unbalanced_budgets/strategies/400000/strategy_8.txt', 'results/unbalanced_budgets/strategies/400000/strategy_30.txt', 'results/unbalanced_budgets/strategies/400000/strategy_78.txt', 'results/unbalanced_budgets/strategies/400000/strategy_87.txt', 'results/unbalanced_budgets/strategies/400000/strategy_54.txt', 'results/unbalanced_budgets/strategies/400000/strategy_14.txt', 'results/unbalanced_budgets/strategies/400000/strategy_62.txt', 'results/unbalanced_budgets/strategies/400000/strategy_77.txt', 'results/unbalanced_budgets/strategies/400000/strategy_49.txt', 'results/unbalanced_budgets/strategies/400000/strategy_65.txt', 'results/unbalanced_budgets/strategies/400000/strategy_88.txt', 'results/unbalanced_budgets/strategies/400000/strategy_79.txt', 'results/unbalanced_budgets/strategies/400000/strategy_53.txt', 'results/unbalanced_budgets/strategies/400000/strategy_50.txt', 'results/unbalanced_budgets/strategies/400000/strategy_10.txt', 'results/unbalanced_budgets/strategies/400000/strategy_99.txt', 'results/unbalanced_budgets/strategies/400000/strategy_52.txt', 'results/unbalanced_budgets/strategies/400000/strategy_3.txt', 'results/unbalanced_budgets/strategies/400000/strategy_99.txt', 'results/unbalanced_budgets/strategies/400000/strategy_90.txt', 'results/unbalanced_budgets/strategies/400000/strategy_35.txt', 'results/unbalanced_budgets/strategies/400000/strategy_61.txt', 'results/unbalanced_budgets/strategies/400000/strategy_85.txt', 'results/unbalanced_budgets/strategies/400000/strategy_17.txt', 'results/unbalanced_budgets/strategies/400000/strategy_70.txt', 'results/unbalanced_budgets/strategies/400000/strategy_46.txt', 'results/unbalanced_budgets/strategies/400000/strategy_56.txt', 'results/unbalanced_budgets/strategies/400000/strategy_11.txt'], 'T': 3000}}, 'nruns': 100}\n"
     ]
    }
   ],
   "source": [
    "print(params)"
   ]
  },
  {
   "cell_type": "code",
   "execution_count": 4,
   "metadata": {},
   "outputs": [],
   "source": [
    "p_o = params['p_o']\n",
    "p_p = params['p_p']\n",
    "lambda_values = params['lambda_values']\n",
    "phi_values = params['phi_values']\n",
    "n_lobbyists = params['n_lobbyists']\n",
    "nruns = params['nruns']\n",
    "lobbyists_data = params['lobbyists_data']"
   ]
  },
  {
   "cell_type": "code",
   "execution_count": 5,
   "metadata": {},
   "outputs": [],
   "source": [
    "def get_data(trends: dict, \n",
    "            p_o: float,\n",
    "            p_p: float,\n",
    "            iteration: Union[int, str] = -1, \n",
    "            kind: str = \"probabilities\"):\n",
    "       \n",
    "        \"\"\"\n",
    "        Args:\n",
    "            trends (dict): The computed simulation trends.\n",
    "            p_o (float): Probability of the optimistic model.\n",
    "            p_p (float): Probability of the pessimistic model.\n",
    "            iteration (int | str): The iteration number or \"last\" for final state (default: -1).\n",
    "            values (str): The type of values to extract (\"probabilities\" or \"weights\").\n",
    "        \"\"\"\n",
    "        \n",
    "        if isinstance(iteration, int) and -1 <= iteration < len(trends):\n",
    "            it = trends[iteration]['iteration']\n",
    "            ops = np.array(list(trends[iteration]['status'].values()), dtype=float)\n",
    "        else:\n",
    "            raise ValueError(f\"Invalid iteration index: {iteration}\")\n",
    "\n",
    "        # Compute values based on type\n",
    "        if kind == 'probabilities':\n",
    "            ops = p_o * ops + p_p * (1 - ops)\n",
    "            ops = np.array(ops, dtype=float)\n",
    "        elif kind == 'weights':\n",
    "            np.array(ops, dtype=float)\n",
    "        else:\n",
    "            raise ValueError(\"`values` must be either 'probabilities' or 'weights'.\")\n",
    "        \n",
    "        return ops, it"
   ]
  },
  {
   "cell_type": "code",
   "execution_count": 6,
   "metadata": {},
   "outputs": [
    {
     "data": {
      "application/vnd.jupyter.widget-view+json": {
       "model_id": "837d0d7d75114a17aef884fa86b8fef2",
       "version_major": 2,
       "version_minor": 0
      },
      "text/plain": [
       "Processing:   0%|          | 0/26400 [00:00<?, ?iteration/s]"
      ]
     },
     "metadata": {},
     "output_type": "display_data"
    },
    {
     "name": "stderr",
     "output_type": "stream",
     "text": [
      "/media/user_data/users/pansanella/github/almondo-tweets-retrieval/model/metrics/metrics.py:114: RuntimeWarning: divide by zero encountered in divide\n",
      "  (1 - p_lob) * np.log((1 - p_lob) / (1 - opinions))\n",
      "/home/pansanella/mydata/github/almondo-tweets-retrieval/almondo-venv/lib/python3.11/site-packages/numpy/_core/_methods.py:191: RuntimeWarning: invalid value encountered in subtract\n",
      "  x = asanyarray(arr - arrmean)\n",
      "/media/user_data/users/pansanella/github/almondo-tweets-retrieval/model/metrics/metrics.py:114: RuntimeWarning: invalid value encountered in log\n",
      "  (1 - p_lob) * np.log((1 - p_lob) / (1 - opinions))\n",
      "/media/user_data/users/pansanella/github/almondo-tweets-retrieval/model/metrics/metrics.py:113: RuntimeWarning: divide by zero encountered in divide\n",
      "  rel_entropy = p_lob * np.log((p_lob) / (opinions)) + \\\n",
      "/media/user_data/users/pansanella/github/almondo-tweets-retrieval/model/metrics/metrics.py:113: RuntimeWarning: overflow encountered in divide\n",
      "  rel_entropy = p_lob * np.log((p_lob) / (opinions)) + \\\n"
     ]
    },
    {
     "ename": "FileNotFoundError",
     "evalue": "[Errno 2] No such file or directory: '../results/unbalanced_budgets/1.0_0.1/44/status.json'",
     "output_type": "error",
     "traceback": [
      "\u001b[0;31m---------------------------------------------------------------------------\u001b[0m",
      "\u001b[0;31mFileNotFoundError\u001b[0m                         Traceback (most recent call last)",
      "Cell \u001b[0;32mIn[6], line 36\u001b[0m\n\u001b[1;32m     33\u001b[0m \u001b[38;5;28;01mfor\u001b[39;00m run \u001b[38;5;129;01min\u001b[39;00m \u001b[38;5;28mrange\u001b[39m(params[\u001b[38;5;124m'\u001b[39m\u001b[38;5;124mnruns\u001b[39m\u001b[38;5;124m'\u001b[39m]):\n\u001b[1;32m     34\u001b[0m     runpath \u001b[38;5;241m=\u001b[39m os\u001b[38;5;241m.\u001b[39mpath\u001b[38;5;241m.\u001b[39mjoin(path, \u001b[38;5;28mstr\u001b[39m(run))\n\u001b[0;32m---> 36\u001b[0m     \u001b[38;5;28;01mwith\u001b[39;00m \u001b[38;5;28;43mopen\u001b[39;49m\u001b[43m(\u001b[49m\u001b[43mrunpath\u001b[49m\u001b[38;5;241;43m+\u001b[39;49m\u001b[38;5;124;43m'\u001b[39;49m\u001b[38;5;124;43m/status.json\u001b[39;49m\u001b[38;5;124;43m'\u001b[39;49m\u001b[43m,\u001b[49m\u001b[43m \u001b[49m\u001b[38;5;124;43m'\u001b[39;49m\u001b[38;5;124;43mr\u001b[39;49m\u001b[38;5;124;43m'\u001b[39;49m\u001b[43m)\u001b[49m \u001b[38;5;28;01mas\u001b[39;00m f:\n\u001b[1;32m     37\u001b[0m         trends \u001b[38;5;241m=\u001b[39m json\u001b[38;5;241m.\u001b[39mload(f)\n\u001b[1;32m     39\u001b[0m     ops, it \u001b[38;5;241m=\u001b[39m get_data(trends, p_o, p_p, kind\u001b[38;5;241m=\u001b[39mkind)\n",
      "File \u001b[0;32m~/mydata/github/almondo-tweets-retrieval/almondo-venv/lib/python3.11/site-packages/IPython/core/interactiveshell.py:324\u001b[0m, in \u001b[0;36m_modified_open\u001b[0;34m(file, *args, **kwargs)\u001b[0m\n\u001b[1;32m    317\u001b[0m \u001b[38;5;28;01mif\u001b[39;00m file \u001b[38;5;129;01min\u001b[39;00m {\u001b[38;5;241m0\u001b[39m, \u001b[38;5;241m1\u001b[39m, \u001b[38;5;241m2\u001b[39m}:\n\u001b[1;32m    318\u001b[0m     \u001b[38;5;28;01mraise\u001b[39;00m \u001b[38;5;167;01mValueError\u001b[39;00m(\n\u001b[1;32m    319\u001b[0m         \u001b[38;5;124mf\u001b[39m\u001b[38;5;124m\"\u001b[39m\u001b[38;5;124mIPython won\u001b[39m\u001b[38;5;124m'\u001b[39m\u001b[38;5;124mt let you open fd=\u001b[39m\u001b[38;5;132;01m{\u001b[39;00mfile\u001b[38;5;132;01m}\u001b[39;00m\u001b[38;5;124m by default \u001b[39m\u001b[38;5;124m\"\u001b[39m\n\u001b[1;32m    320\u001b[0m         \u001b[38;5;124m\"\u001b[39m\u001b[38;5;124mas it is likely to crash IPython. If you know what you are doing, \u001b[39m\u001b[38;5;124m\"\u001b[39m\n\u001b[1;32m    321\u001b[0m         \u001b[38;5;124m\"\u001b[39m\u001b[38;5;124myou can use builtins\u001b[39m\u001b[38;5;124m'\u001b[39m\u001b[38;5;124m open.\u001b[39m\u001b[38;5;124m\"\u001b[39m\n\u001b[1;32m    322\u001b[0m     )\n\u001b[0;32m--> 324\u001b[0m \u001b[38;5;28;01mreturn\u001b[39;00m \u001b[43mio_open\u001b[49m\u001b[43m(\u001b[49m\u001b[43mfile\u001b[49m\u001b[43m,\u001b[49m\u001b[43m \u001b[49m\u001b[38;5;241;43m*\u001b[39;49m\u001b[43margs\u001b[49m\u001b[43m,\u001b[49m\u001b[43m \u001b[49m\u001b[38;5;241;43m*\u001b[39;49m\u001b[38;5;241;43m*\u001b[39;49m\u001b[43mkwargs\u001b[49m\u001b[43m)\u001b[49m\n",
      "\u001b[0;31mFileNotFoundError\u001b[0m: [Errno 2] No such file or directory: '../results/unbalanced_budgets/1.0_0.1/44/status.json'"
     ]
    }
   ],
   "source": [
    "import json\n",
    "import os\n",
    "import numpy as np\n",
    "from tqdm.notebook import tqdm  # Use tqdm for Jupyter Notebook\n",
    "\n",
    "kinds = ['weights', 'probabilities']\n",
    "\n",
    "# Total iterations for tqdm\n",
    "total_iterations = len(kinds) * len(params['lambda_values']) * len(params['phi_values']) * params['nruns']\n",
    "\n",
    "with tqdm(total=total_iterations, desc=\"Processing\", unit=\"iteration\") as pbar:\n",
    "    for kind in kinds:\n",
    "        for _, (lambda_v, phi_v) in enumerate([(l, p) for l in params['lambda_values'] for p in params['phi_values']]):    \n",
    "            path = os.path.join(basepath, f'{lambda_v}_{phi_v}/')  \n",
    "            metrics = {\n",
    "                'effective_number_clusters': [],\n",
    "                'number_iterations': [],\n",
    "                'average_pairwise_distance': [],\n",
    "                'average_opinions': [],\n",
    "                'std_opinions': [],\n",
    "                'lobbyists_performance': {k: [] for k in range(n_lobbyists)}\n",
    "            }\n",
    "            \n",
    "            avg_metrics = {\n",
    "                'effective_number_clusters': {'avg': -1, 'std': -1},\n",
    "                'number_iterations': {'avg': -1, 'std': -1},\n",
    "                'average_pairwise_distance': {'avg': -1, 'std': -1},\n",
    "                'average_opinions': {'avg': -1, 'std': -1},\n",
    "                'std_opinions': {'avg': -1, 'std': -1},\n",
    "                'lobbyists_performance': {k: {'avg': -1, 'std': -1} for k in range(n_lobbyists)}\n",
    "            }\n",
    "\n",
    "            for run in range(params['nruns']):\n",
    "                runpath = os.path.join(path, str(run))\n",
    "                \n",
    "                with open(runpath+'/status.json', 'r') as f:\n",
    "                    trends = json.load(f)\n",
    "                \n",
    "                ops, it = get_data(trends, p_o, p_p, kind=kind)\n",
    "                \n",
    "                metrics['effective_number_clusters'].append(nclusters(ops, 0.0001))\n",
    "                metrics['number_iterations'].append(it)\n",
    "                metrics['average_pairwise_distance'].append(pwdist(ops))\n",
    "                metrics['average_opinions'].append(np.array(ops).mean())\n",
    "                metrics['std_opinions'].append(np.array(ops).std())\n",
    "\n",
    "                for id, lob in lobbyists_data.items():\n",
    "                    metrics['lobbyists_performance'][int(id)].append(lobbyist_performance(ops, lob['m'], p_o, p_p))\n",
    "                    \n",
    "                for k, v in metrics.items():\n",
    "                    if k != 'lobbyists_performance':\n",
    "                        avg = np.array(v).mean()\n",
    "                        std = np.array(v).std()\n",
    "                        avg_metrics[k]['avg'] = avg\n",
    "                        avg_metrics[k]['std'] = std\n",
    "                    else:\n",
    "                        for id in range(n_lobbyists):\n",
    "                            avg = np.array(v[id]).mean()\n",
    "                            std = np.array(v[id]).std()\n",
    "                            avg_metrics[k][id]['avg'] = avg\n",
    "                            avg_metrics[k][id]['std'] = std\n",
    "                pbar.update(1)  \n",
    "\n",
    "            with open(path+f'{kind}_metrics_distributions.json', 'w') as f:\n",
    "                json.dump(metrics, f)\n",
    "            \n",
    "            with open(path+f'{kind}_average_metrics.json', 'w') as f:\n",
    "                json.dump(avg_metrics, f)"
   ]
  },
  {
   "cell_type": "code",
   "execution_count": null,
   "metadata": {},
   "outputs": [],
   "source": []
  },
  {
   "cell_type": "code",
   "execution_count": null,
   "metadata": {},
   "outputs": [],
   "source": []
  },
  {
   "cell_type": "code",
   "execution_count": null,
   "metadata": {},
   "outputs": [],
   "source": []
  },
  {
   "cell_type": "code",
   "execution_count": null,
   "metadata": {},
   "outputs": [],
   "source": []
  }
 ],
 "metadata": {
  "kernelspec": {
   "display_name": "almondo-venv",
   "language": "python",
   "name": "python3"
  },
  "language_info": {
   "codemirror_mode": {
    "name": "ipython",
    "version": 3
   },
   "file_extension": ".py",
   "mimetype": "text/x-python",
   "name": "python",
   "nbconvert_exporter": "python",
   "pygments_lexer": "ipython3",
   "version": "3.11.5"
  }
 },
 "nbformat": 4,
 "nbformat_minor": 2
}
