Brussels
Brussels, Belgium
Berlaymont
Brussels, Director-General's office
Brussels, BERL 08/304
Amsterdam
Virtual
video-call
Hoek Zeeland
Videoconference
videoconference (Brussels)
Brussels (video conference)
Brussels (videoconference)
videoconference
Online meeting
video conference
Virtual meeting
webex
Ljubljana, Slovenia
Hong Kong
Brussel
London
virtual
video - call
Dublin, Ireland
Spain
Rome, Italy
online meeting
Roma
Davos
Brussels (Berlaymont)
Brussels, Europan Parl (Magritte Group)
Brussels, Berlaymont
Brussels ( Berlaymont)
Berlaymont, Brussels
Online
Brussels - videoconference
Videocall
Video conference
online
virtual meeting
Brussels - video conference
Video-conferencing
Conference call
Gela, Italy
Videconference
BERL 10/411
Bruxelles
Brussels, BERL
Sassenheim
European Commission, Brussels
Virtual Meeting
Video conferencing
Video Conferencing
video-conferencing
Sweden
Brussels (VTC)
Helmond
Portorož
Ljubljana
Lech
Brussels, Belguim
Amsterdam, The Netherlands
BERL 8/26
hybrid meeting
video call
Tokyo
Virtual meeeting
Belgium, Brussels, BERL
Brussels, BERL 10th floor
Videocongerence
Brussels Belgium
BERL
Brussels - Belgium
My office
Brussels (virtual)
Brussels (conference call)
Phone call
Brussels + online
BXL
Bryssels, Belgium
Brussels- European Commission
Berlaymont - Brussels
BERL 10/286
VTC
virtual meeting via videoconference
Brussels - WEBEX
Video meeting
Brussels B232
BREY - Brussels
BERL 8th floor
BERL 09/346
BERL, Berlaymont
Brussels, belgium
Berlaymont-Cabinet Vice-President Ansip
Bxl
Brussels, BE
BERL 8/275
Video-call
Brussels (VC)
video conferencing
Video-conference
Videoconference call
Video Conference - Brussels
Brussels, video conference
VC meeting
Brussels (Teams)
Brussels (WEBEX)
On line
Video call
videocall
Brussels - BERL
virtual / online meeting
Florence
brussels
Singapore
Brussels/BE
Brussels/Belgium
Nyon, Switzerland
Helsinki
berl
Brussels- video conference
virtually
Bucharest
New York
london
London (UK)
London, UK
Aix-en-Provence
Brussles
Berl 8/165
Viceo call
Video Conference
Videomeeting
conference call
Valladolid, Spain
Digital
PHone call
BREY-Brussels
digital
BRUSSELS - BELGIUM
Brussels-video conference
Wolfsburg
Berlin
Office of Mr Tomasz Husak
Strasbourg
Stuttgart
Davos, Switzerland
Brussels - video call
Prague
BERL 8/159
New Delhi, India
Teleconference
Paris
Rome
Bratislava
Algiers
BERL 8/165
Berlaymont, Bruxelles
European Commission
Nicosia, Cyprus
Algiers, Algeria
Houston, U.S.A.
Washington DC
Hannover, DE
Webex
Brussels (BELGIUM)
Warsaw
Skype meeting
Meet and Meat
AmCham EU office, on Avenue des Arts 53, 1000 Brussels
Berl 8/155
Teams meeting
teams
Berlaymont, Brussels, Belgium
Virtual call
Santiago de Copostela (Eurofi)
Brussels (Webex)
Hamburg
Dresden
1 Rue Zinner
Zoom meeting
Brussels (video-conference)
Av. De Cortenbergh 168
BusinessEurope headquarters
BERL 13/173
Berl
168 avenue Cortenbergh - 1000 Brussels
BUSINESSEUROPE
Brussels-Belgium
Sofia, Bulgaria
BXL, Berlaymont
BERL 8/155
videoconferencing
Virtual Conference
Brussles, online
video phone call
WebEx Video meeting
Video phone call
Commissioners office
call
Stockholm
Madrid
EU COMPETITIVENESS
Brussels, DG Environment
Bucharest, Romania
Brussels - virtual
videoconference call
Frankfurt
Bonn, Germany
virtual + Brussels
Barcelona
Ireland
Video Call
EU premises
Commissioner's office
In person, Brussels
Commissioner's meeting room
BERL -Bruxelles
San Francisco
Confindustria
BERL 09/374
phone call
Webex video conference
video-conference
Bruxelles, Belgium
Roma (IT)
Viddo Conference -Brussels
Video Conferencing.
Brussels Virtual
Madrid, Spain
Juelich
Kiel
videophonecall
Conference Call
video conference (Brussels)
Brussels (Video conference)
Brussels MS Teams
Copenhagen
Helsinki, Finland
Video conference call
Berlin, Germany
Copenhagen, Denmark
Berlin/Germany
Representation to the EU of the Association of German Chambers of Commerce and Industry (CCI Germany)
Berlaymont , Brussels
Brussels (L107)
Munich, in the frame of MSC
Dublin
visiocall
Washington, U.S.A.
Rue Montoyer 15
Brussels - online meeting
webex call
Santiago de Compostela (Eurofi)
BERL, Brussels
Baku
Thessaloniki
BERL 08/155
videoconference (joint meeting with representative from Cabinet Timmermans)
video meeting
Munich
Brussels,Belgium
telephone call
European Commission, Brussels, Belgium
Avenue Van Nieuwenhuyse 4, Brussels
New Hotel Charlemagne - meeting room Ambiorix
Tokyo, Japan
Montréal, Canada
Munich, Germany
BRUSSELS
Mission to Seoul
Paris Mission
Toulouse, France
San Jose, California
Valencia
Toulouse
Brussels, Belgium.
Dubai,  United Arab Emirates
Saudi Arabia
BERL, Bruxelles
France, Toulouse
Tianjin
Berl, Brussels
Berlaymont Building - Brussels
BE/Brussels
VC
Washington, D.C.
Brussels (webex)
Videoconference Brussels
Munich Security Conference
Montréal
Brusels
Vitrolles France
Brussls, Belgium
virtual call
J-70
DG AGRI, Rue de la Loi 130
Carcassone, France
Greece
Belgium, Brussels
Copa Cogeca Secretariat
BERL 08/323
cab meeting room
BERLAYMONT
VIRTUAL
Virtualy
Lennik, Belgium
Webex VC
Paris in the margins of the EUROFI event
Sofia
lONDON
Brussels, Begium
Brussels - Virtual
Davos Kloster
Belgium-Brussels -Palais des Academies, Rue Ducale 1
Virtual Presentation
Conference-call
Bruessels
European Commission - Berlaymont
St. Petersburg
Virtual meetings
Riga
berlaymont
Video Conferencing - Brussels
Luxembourg
Frankfurt am Main, Germany
Brussels - Berlaymont
Frankfurt-Germany
Brussels - Microsoft Team
Bruxelles, Belgique
Brussels- Belgium
DG REGIO
Brussels -BERL
Charleroi (Thales Alenia Space Belgium)
Cabinet meeting room
France
Vienna
ITUH Auditorium, International Trade Union House, Boulevard du Roi Albert II 5, 1210 Brussels
Paris, France
BERL 10/041
Brussels Berlaymont
Brussels, online
VIDEO CONFERENCE
Brussels/ online
Sofia (BG)
Bologna
Bologna (Italy)
Malta
Birmingham, UK
Cernobbio
Davos - Kolsters
Brussels -video conference
Bruxelles - Skype call
Gent
Antwerp
nan
Warsaw, Poland
Warsaw (PL)
Oslo
Normandie
Sines, Portugal
Washington, D.C., USA
Washington
Washington D.C.
Washington - USA
Brussels, Be
Brussels, BERL 089/318
Btussels/Belgium
Brusssels, Belgium
European Parliament
EP
Belgium
Brusssels
Abu Dhabi, United Arab Emirates
BERL 08/318
Brussels (online)
Video message (Brussels)
Webinar
Brussels (vtc)
Videoconferencing.
San Francisco, US
Silicon Valley
Sillicon Valley
Avenue des Arts 53
Milan
Brussels - EC premises
Amcham
Brussels - online
Brussels/Online
Video - conferencing
virutal
Brussels BERL
Berlaymont (Brussels)
Teheran, Iran
Video-Call
Abu Dhabi, UAE
Vienna. Austria
Tallinn
Brussels - phone call
Videoconferece
World Economic Forum, Davos
bruxelles
Hotel Amigo, Brussels
Brussels Belgium.
Berlaymont Brussels
BERL 10/390
Bordeaux, France
Online event
VIDEO CONFERENCING
Representation of the State of North Rhine-Westphalia to the European Union,  Rue Montoyer 47, 1000 Brussels
European Commission - BERL
Videoconferencing
Frankfurt, Germany
Online videoconference
Strasbourg, France
Nauen, Ortsteil Ribbeck, Germany
Brussels, European Parliament
BERL 11/334
European Commission –Brussels (Berlaymont)
AFEP and Cercle de l'industrie
EAC premises
Brussels (virtual via Webex)
Bruxelles (Berlaymont)
Atlantic City, U.S.A.
Brussels - conference call
davos
Brussels-Webex
Brussels - ZOOM
Bruxelles - Skype meeting
Warsaw EU office
ONLINE
Nürnberg, Germany
Square de Meeûs 18, B-1050 Brussels
Stockholm, Sweden
Stockholm (SE)
BERLIN
Hybrid (online and BERL)
video
Hoboken, Antwerp
Hoboken
Umicore Olen
Lyon
Atlanta
European parliament
Capetown
Brussels (by video conference)
Avenue d'Auderghem 22
BERL 1/80
Bilbao
Brussels, videoconference
Portugal, Lisbon
Florence, Italy
ENTSO, Brussels
Vidéoconférence
Virtual Roundtable
Windsor
New York, USA
paris
Ljubljana,Slovenia
Sempeter pri Gorici
Brussels-videoconference
Alpach, Austria
Viennna, Austria
Schwarzenberg, Austrai
DUBLIN
Dublin (IE)
Doha
Bruxelles- Euroepean Commission
Video Conferencing Brussels
Davos Congress Centre,Talstrasse 41, CH-7270  Davos, Switzerland
Davos Switzerland
Ghent
Brussels, Beligum
ERT
Brussels (TEAMS)
WEBEX
virtual conference
BRUXELLES
Videoconference via Skype
MO59  8/10
Takamatsu
Menlo Park, California
San Francisco (US)
San Francisco, USA
Lisbon, Portugal
USA
Takamatsu (Japan)
Brussels (Egmont Palace)
Livestream debate
Brussels, BERL 08/304
Brussels (virtual meeting)
Brussels (phone call)
Brussels, Berl
on-line meeting
Brussels (virtual via zoom)
European Commission – Brussels (Berlaymont)
Video Recording
Belgium, Brussels, BERL 10th
restaurant Icônes
rue du Trone
BERL 10/180
Virtual conference
on line event
EPC
Vitual meeting
Brussels (BERL)
Videoconference or MERO
Cologne
Evian, France
Brussels - VTC
Brussels + Videoconference
Brussels-VTC
video - conference
Marseille
WebEx
BERLAYMONT, Brussels
Brussels, virtual
BERL/Brussels
Paris, in the margins of Eurofi event
Korea
Seoul, Korea
Paris in the margins of EUROFI event
BERL/10
LOI 15  Brussels
Geneva
BREY 14/069
Rue de la Loi 41
BERl
Berl 10/411
Brussels- call
Videolink (Brussels)
webinar
Brussels - L-15
Brussels, BREY
European Commission - Barlaymont Building
Brussels, BERL 08/318
Brussels - Videoconference
bRUSSELS
BRUSSELS, BELGIUM
Bruseels
Tallinn, Estonia
Brussels (Skype meeting)
Videoonference
Video conference (skype)
Lille, France
Kecskemét
Sunnyvale CA
Brussels (teleconference)
Vienna, Austria
Sydney, Australia
Brussels - Zoom
L-41; 12/12
Maribor
Sitges
On-line meeting
Athens
Milan, Italy
Venice
Online/Brussels
BERL 12/243
Brussels, VC Interactio
Brussels - VC Interactio
Brussels VC Interactio
Brussels - Webex call
Saint Julian's, Malta
VIRTUAL MEETING
Online conference
Germany
Santander, Spain
Brussels VTC
ZOOM meeting
Luxembourg, Grand Duchy of Luxembourg
Brussels/Paris (videoconference)
Grenoble, Isère (Base de STMicroelectronics)
Leuven, Belgium
Leuven
Hannover CEBIT
Ho Chi Minh City, Vietnam
Budapest
Gerlingen
Veldhoven
Netherlands
eindhoven
L 41 12/012
Hotel Radisson Blue, Brussels
Salzburg, Austria
Phone call meeting
Chiang Mai
Manila
EBU Brussels Office
BERL 10/152
skype call
Video Confercing
Luleå, Sweden
Virtual Call
Boeblingen
Director-General's office
BERL 8/39
PRAGUE, CZECH REPUBLIC
Vilvoorde
Brussels- European Commission- Berlaymont
Rencontre virtuelle
BERL 11/176
BERL 09/301
Brussels, Berl 10/400
Silicon Valley, USA
J-70 04/71
Brüssel
Mountain View California
Brussels German Marshall Fund Forum – Brussels
Office of Commissioner Avramopoulos - BERLAYMONT Building
Berlaymont 10/021
visioconférence
Davos (Switzerland)
Sharm el Sheikh
Davos (CH)
La Toja
Brusels, Belguim.
Brussels Berl
Berl 8th floor
videophone call
Berlaymont 8th floor
Marrakech
belgium
Denmark
on-line
Brussels. Belgium
Video Conference.
Brussels - virtual meeting
Windsor, Berkshire
Taxud Brussels Office
Bali, Indonesia
Brussels - Online call
Cab Johansson meeting room
Haus der deutschen Wirtschaft, Berlin
Hotel Plaza, Brussels
Sipoo, Finland
video confererence
Paris - France
Video-conference - via  Webex
VIDEOCONFERENCE
Bussels
München
Vienna Austria
The House of Austrian Indsutry, Schwarzenbergplatz 4, 1031 Wien
Waidhofen an der Ybbs, Austria
Turku, Finland
BERL 12/217
stockholm, Sweden
Brussels , Belgium
Webex call
Videoconference (Brussels)
Brussels - virtual via Webex
Brussels online
Walldorf
Heidelberg
Videoconférence
Evian
Skopje
Brussels, Brussels
Hannover
video confrence
Washington DC, USA
Ljubjana
Doha, Qatar
Kuwait
COnference call
Abu Dhabi, ARE
EAC DG Premises
Breussels
BERL 08/141
skype virtual meeting
Berlaymont Hotel
Silken Berlaymont Hotel
Online Event
Brussles, Belgium
Brussels - conferencecall
Bruxelles (VTC)
Skype call
Seattle
Redmond
Tallinn (Estonia)
European Commission Brussels
Brussels (Microsoft Teams)
Geneva (CH)
Langen, Germany
Brussels - TEAMS meeting
Michel Servoz office
Brasilia, Brazil
Brussels - Webex
Phone
Telephone call
BREY 14/110
Brussels, Berlgium
EP, Brussels
Brussels, skype meeting
Glasgow
Göteborg, Sweden
Paris, FRA
Comece Secretariat
Brussels - online event
On-line
Brussels/ videocall
BERL, Brussels, BE
Video conference (Brussels)
BERL 09/246
Videoconference meeting
Seattle US
Luxembourg, Luxembourg
Brussels (skype)
Brussels, Berlaymont Building
hybrid
Brussels (Zoom)
Vodeo call
Online call
Brussels (video conferencel)
zoom- videocall
VIDEO Conference
Online - Meet Google
Sillicon Valley, USA
Brussels, virtual meeting
Augsburg
Brussels, Belgum
TEN-T Days, Rotterdam
Brussels (video conf)
Brussls
Hybrid
Brussels - Webex meeting
Beaulieu
Avenue Tervuren 168
Le Bourget (Paris), France
Le Bourget( Paris), France
European Commission – Berlaymont - Brussels
European Commission –Brussels
European Commission - Berl
video-confernece
Brussels - video call meeting
brussels, berlaymont
Port Moresby, PNG
brussels, belgium
Video Meeting
The Hague
Brussels/Videoconference
Boston
Brussels (virtual via Zoom)
L-41; 12/31
European Commission Brussels, Ms Calviño's office
KfW premises; Frankfurt am Main; Germany
MFF
Brussels (Phone call)
Riga - Radisson Blu Hotel Latvija
Berl 10/021
Vienna (AT)
Brussels - Webex - virtual meeting
Virtually
WebEx from Brussels, Belgium
Brussels - video meeting
VB Wien
Brussels, DG ENV
Gent, Belgium
BREY - brussels
Bruxelles BERL 10/411
visio conference
skype visio call
Berlin (Germany)
Washington, USA
Italy, Rome
Video
Washington D.C., USA
B232 07/066
Virtual event
berl building in Brussels
Skype
Phone meeting
Videoconfernce
Tele conference
skype
webex videocall
Brussels/online meeting
video recording(online)
BERL 13/093
Sharm el-Sheikh, Egypt
Oslo, Norway
Ghent city hall
online conference
Seville - urban mobility days
Brussels - Webex- virtual meeting
Brussels VC
Brussels - webinar
telephone conference
Riga, Latvia
Sofitel Brussels
Berlaymont building, Brussels
Videofongerence
Zaventem
Ottawa, Canada
Geneva, Switzerland
Brussels (VC mtg)
Prague, Czech Republic
Phone Call
Brussels/Be
Videconfernce
video conferenc
Tianjin, China
Vi!rtual meeting
Brussels office
Belgium, Brussels, DG ECHO premises, L86
Brussels / Berlaymont (phone call)
Brussels/Berlaymont
Brussels / Berlaymont
BERL 11/029
Webex from Brussels, Belgium
Webex Meeting
Khartoum, Sudan
Goma, Democratic Republic of the Congo
Cabinet Juncker
Other
New York, U.S.A.
Brussels, DG ENV office
Brussels, BELGIUM
Beijing, China
Beijing
Belgium, Brussels, Berlaymont
Berl Building Bruxelles
Brussels (Skype for Business)
Brussels - Belgium - Virtual meeting
Stanhope Hotel, Rue de Commerce, Brussels
Belgium, Bruxelles, BERL
Finland
Helsinki (Finland)
European Commission- Brussels - Berlaymont
Brussels, Belgium, BERL
Calais, France
Coquelles
Belgium - Brussels
Rotterdam, the Netherlands
Rotterdam
Phona cell
Brussels, Berl 10/411
CSR Europe office- Brussels
Conference all
brussels, Belgium
Leon
Brussels - SKYPE meeting
The Hague, The Netherlands
The Netherlands, Den Haag
Oosterbeek
Brussels (videocnference)
Brussels (video confernece)
on line
Brussels - Video call
BERL 13/244
Beralymont
tbc
Brussels and video-call
DG MARE
Berl 8/97
Brussesls
Brussels - Skype meeting
Brussel, Belgium
vide conference
Webex meeting
Ath, Belgium
WHS Istanbul
European Commission- Berlaymont
Jarvenpaa, Finland
LISBON, Portugal
Diamant Conference Centre
Gateway building – Luchthaven Nationaal 1J, 1930 Zaventem, Belgium
Turin
BERLAYMONT 10-286
Germany, Franfurt am Main
Brussels, Permanent Representation of Hessen
Berlin (DE)
Brussels and London (phone call)
Brussels Videoconference
VTC Brussels
Brussels/online
Bucharest (RO)
brusselos
RIGA
Milano
skype meeting
Nice, France
Brussels and online (hybrid)
Brussels, phone call
Brussels (webinar)
BERL 2/320
Berl buirlding in Brussels
Conference Brussels
Betzdorf
BERL 02 / 352
BERL2/320
Audio Conference
Dubai, UAE
Rue Parnasse - Bruxelles
Brussels - virtual call
Brussels virtual meeting
BERL, Belgium
Berlin Germany
Rue Froissart
Belgique, Brussels
Virtual Meeting Brussels
Budapest, Hungary
Concert Noble, Rue d'Arlon 82, 1000 Brussels
Lisbon
Leiden
Nagoya, Japan
Evere - Belgium
Bruusels
Belgium - Brussel
BU-24   3/87
Santiago
Vilnius, Lithuania
copenhagen
Brussels (Virtual)
Space Conference
Palais D'Egmont
Belgium, Berl
Brusels, Belgium
Marseille, France
Ljublijana
Bruxelles - Virtual
Brussels, Ocean Room, European Climate Foundation, 23 Rue de la Science
Energy Union and Climate change
Brussels -videoconference
Dubai, United Arab Emirates
Abu Dhabi
Steigenberger Hotel Berlin
Videoceonference
Alkmaar
The Hague (NL)
Rottweil
Online - Brussels
Euractive, Bd de Charlemagne, Brussels
European Commission, Berlaymont
Statoil, Brussels
Brussels, BERLAYMONT
DG EMPL - Micgel Servoz office
Berlaymont 10/072
Exchange of views
Phone conference
Philanthropy House, Rue Royale 94, 1000 Brussels, Belgium
Fremont California
Austin - USA
Brussels (video call)
BERL 9
Espoo
Janakkala
Oulu, Finland
Hiroshima
Abijan
British Chamber of Commerce in Belgium
London/UK
Germany, Berlin
BERL 9/412
Brussels (ZOOM)
Delhi, India
BERL 8th floor N° 165
Barcelona, Spain
Madrid, spain
Cologne, Germany
Video conferencing - interview
Dubai
BERL - CAB HOGAN
Moscow
Bruxelles, Berlaymont
video confenrence (Brussels)
Wesseling, Germany
Cercle Lorainne, Brussels
Sofitel, Place Jourdan 6 Brussels
Rue d'Italie, 9-13, 1050 Brussels
MO59 8/10
Speech via Video call
Telephone
Brussels, Belgium phone
Brussels /BERL
Brussels BERL 8/168
Ijmuiden
Brussels, L86
Montreal
Rennes
Vizzini, Italy
Berlaymont 11/044
Bonn
Lausanne
Milano, IT
Kuków, Poland
Brussels (on-line)
Brussels BERL 2/320
Cairo, Egypt
Sharjah, UAE
Brussela
Avignon, France
Lesvos, Greece
European Commission: Berlaymont
Athens, Greece
Brussels (videconference)
Brussels Belguim
San Francisco - US
Utrecht
Brussels, Rue de Joseph II, 27
Virtual meeting via teleconference
rue ravesntein
DG Agri  Brussels
Brussles - video conference
Call
Martin's Hotel, Bruxelles
Hotel Martin's Brussels EU
Derry/Londonderry, Northern Ireland
CBI Brussels
London - BT Centre
UK
Brussels Video Meeting
BERL 8/36
WebEX
BERL 12/62
Brussels/video conference
Berlaymont office, Brussels
Ulm
Oyu Tulgoi copper mine
Düsseldorf
Brussels / Belgium
Webconference
Tuebingen
Linz
Hamburg, Germany
Vilnius
London, United Kingdom
Sånga Säby, Sweden
Hotel Royal Windsor - Brussels
Hannover, Germany
Stanhope Hotel
Rue Montoyer 47, Brussels
MER ROOM 481
Jodoigne (Belgium)
Jodoigne, Belgium
Amsterdam - Elsevier HQ
Bruxelles / BRE2
BERL 12th floor
Brusseles
Brussels (Skype call)
Belgium, Brussels, ZDH headquarters - Rue Jacques de Lalaing 4
office RF
Brussels Berl 10/411
Berlaymont, bruxelles
Brussels  Belgium
Video message
Brussels- belgium
Sant Egidio office Brussels
Seoul
Brussels, European Commission
Brussels, Beigium
virtual (call)
Brussels / online
Grodno
Salzburg
The Hague, Netherlands
Alpbach
Brussles (online)
Zurich
Galway, Ireland
Brussels - belgium
BERL 09/412
Brussels (vide conference)
Brussels, Berlyamont building
BERL11/176
Brussels/ BE
Berlaymnt - Brussels
Phone call with Ms Helle Thorning-Schmidt
BERL 10/394
World Economic Forum in Davos
video conference - Brussels
Brussels (Stanhope Hotel)
Mûnchen
Tour & Taxis - Brussels
BERL 40/411
Karlsruhe, Germany
Anvers
Brusseòs
Tübingen
Rond point Schuman, Brussels
Berlaymont 8th floor office n° 165
Mainz, Germany
VTC meeting
Suwon, South Korea
Berlaymont 9th floor
Brusssels (Teams)
BERL 08/034
brussels- Belgium
BREMEN
Valenciennes, France
BERL Bxl
AeroSpaceLab Giga Factory (satellite data) at A6K, Charleroi
Varna
L41 12/12
Kirchlengern
Brussels, |Belgium
Representation of the Free State of Bavaria to the European Union- Brussels
Zagreb
BERL - BRU
BERL 10/41
Video call Brussels
Brussels, L86 - ECHO OFFICES
BERL 11/076
Sibenik, Croatia
Dollenberg
Austria
berlaymond
GIZ premises, Frankfurt am Main, Germany
Bruessel
Videonconference
Brussles, Belguim
Illingen
Markgröningen/Germany
Athens - Greece
Athens (EL)
Waldkirch
Videoconfenrece
BERL 8/304
VTC - Teams
Brusses, Belgium
Cannes
Cabinet of Commissioner Moedas
Seville - urgan mobility days
Brussels; Belgium
Brusseks
Poland
Freiburg
Gütersloh
Zoom
Live Debate
VP`s office 10/041
Rust, Germany
Unterägeri, Switzerland
Seville – urban mobility days
Brackenheim-Hausen
Vidéoconference
BERL 10/390 Deutsche Sozialversicherung Europavertretung
Brussels (PMO's premise)
Brussels, BERL 2/320
BERLAYMONT 8th floor
Lindenberg
BERL - bRUSSELS
brussels, BERL
berl 10/400 Brussels
Brussels,  Belgium
Director General's office
Regensburg
Berlaimont
Phone call - Brussels
ECHO, L86
Berlaymont S5
Palo Alto, USA
BERL 8/168
ANGED
Lisbon (PT)
Norway House Rue Archimede 17 Brussels
Norway Houses Schuman
BERL 10/093
Brussels belgium
Den Hague
SC11 9/12
European Energy Policy priorities
J-70 4/69
BERL 13
EP esplanade
EAPN, Boulevard Bischoffscheim 11, 1000 Brussels
Valletta, Malta
Berl 8/158
Berl 8/168
Berlaymont 12/383
Reutlingen, Germany
BERL - Bxl
Haarlem
Video-Conférence
Paianias
virtual interview (Brussels)
BERL 11/258
BERL 08/344
SIllicon Valley
Koper
Koper (Slovenia)
COPENHAGEN
BERL - Brussels
Berlaymont, Room 11/062
Freising
Neckarsulm
Altenberge
Frankfurt a. M.
Kilkenny, Ireland
iRELAND
Limerick
slovenia
Bxl - BERL
Stuggart
Myslowice, Poland
Übach-Palenberg, Germany
test
ireland
Birmingham
Bressels, BERL
Ljulbjana (Slovenia)
ChinaEu
Brussesls, Belgium
Sevilla, Spain
Sardinia
Grand Hotel Union. Ljubljana
Lausanne, Switzerland
Ancient Olympia, Greece
BERL Bruxelles
Berl 8/137
Brussels EAC
Zurich, Switzerland
Lisboa
Brussesl
Brussels, BERL 10th
BERL 12/286
Münich, Germany
Dubaï, UAE
video confrerence
Tilburg, the Netherlands
Potsdam, Germany
Brussles Belgium
Brussels, Berlyamont
video conferense
Ludwigsburg
Brussels - Virtual meeting
zoom platform
Berlaymont, 10th floor/021
EC Representation in Ljubljana, Slovenia
Representatin of European Commission in Slovenia
Prague, Czech republic
Dusseldorf
BER 12/243
Brussels -
Berlaymont, 10/021
Brussels European Commission
Berl 10/394
Radisson EU
VideoConference
Brusselse
Cascais, Portugal
Valparaiso, Chile
EEAS building
Tartu, Estonia
teleconference
PARIS
Digital Single Market
Gdansk
Vipava/Ajdovscina
Brussels - Commissioner's office
Cascais
Kiev
Lokeren, Belgium
virtual phone call
Virutal
Kraków
Puurs, Belgium
Pfizer, Grange Castle, Clondalkin, Dublin 22
Meeting room BERL 12 floor
BERL 11/400
Dalian
Brussels, Belgium (videoconference)
Brussels (via Teams)
Brussels, Rue Joseph II,27
Brussells
Irealnd
European Association of Paritarian Institutions
Brussels-Berlaymont, Cabinet of Vice-President
Representation North Rhine Westfalia, Rue Montoyer 47, Brussels
Lugano, Switzerland
BER 08/323
Steigenberger Hotel, Brussels
US Dairy Export Council
Strasbourg EP
Helsinki, Finnland
physical - Berlaymont
Cab room
Mannheim
Bremen, Germany
EC Brussels
Tartu
Tirana
Poole, UK
Sternenfels
Brno, Czech republic
Brussels, BERL 08/323
brussels - lunch with Christine Bosse
Cyprus
Elsenborn
Rio de Janeiro, Brasil
Belfast
Langres, france
EC, BERL
Brussels- EP
Katowice, Poland
Delphi
Montreal, Canada
BRUSSELS, Berlaymont
Luxemburg, LU
BERL - Bruxelles
Milan (IT)
Helsinki (via Teams)
Zwolle - Netherlands
Estonia, Jõhvi
Estonia, Pärnu
Pärnu, Estonia
VC (Brussels)
Göteborg
Brussles, BERL 08/304
BERL, Brussels, Belgium
Videoconference (Webex)
video and audio conferencing
Fiskars
Karlsruhe
strasbourg
Brussels, Belgia
Goa, India
Brussels - Belhium
Edinburgh
Ajdovscina, Slovenia
Slovenia
Eindhoven
Brussels EC Off BERL 09/374
Autoworld Museum - Brussels
Berlaymont - Brussels - Belgium
Berl Building Brussels
Bruxelles, BERL 10th
Virtual Confernce
Brussels Phone call
Brussels (Video Call)
Nuremberg - Germany
Papenburg
Narva, Estonia
Leipzig
Santa Perpètua de Mogoda
Linz (AT)
Ras Al-Kaimah
Chania
CAB Johansson meeting room
Delft
Videoconference via Webex
Brussels, CAB Johansson
In person
BERL - Cabinet meeting room
viedo-call
Video Conference Brussels
Online / Brussels
Brussel (VC)
Brussels, Belgium and ONLINE (hybrid meeting)
Marburg Germany
Brussels/ Online
Wideoconference
video confrence (Brussels)
BERL 09
Heerlen, the Netherlands
Jubail, Saudi Arabia
Virtual participation in a conference
Kerry, Ireland
Marrakesh
Santiago de Compostela (ES)
WeBex Meeting
Seneffe
Belgrade
Antwerpen
EC Representation, Tallinn
viedo conference
virtuel
Kyoto
Riga (LV)
Switzerland
Brussels and virtual
EC
virtual event
EC Representation in Tallinn
Brussels / Online
Gdansk (PL)
videocinference
WebEx meeting
Brussels - Zoom meeting
Den Haag
Brussels (video message)
Brussels - videocall
Brussels, VC
Brussels - Teleconference
Brussels, BERL Building
Prague, Czechia
DAVOS
Breda
Bucarest (RO)
video conference call
Linz, Austria
Cavan, Ireland
Phone-call
Virtual meeting (Teams)
Dundalk, Ireland
CAB Johansson, 9-196
Brussels/European Parliament
Santa Clara
Portugal, Porto/Viana do Castelo
Bratislava, Slovakia
Sharm El Sheikh, Egypt
Harsewinkel, Germany
Bruxelles (BERL)
Olbia
Video-conference call
Ljubljana (SI)
Graz, Austria
Libreville, Gabon
Antwerp, Belgium
Kaunas
Lithuania
Roma, Italy
Salzgitter, Germany
ONLINE meeting
Berl, Brussules
Brussels - VC !
Brussels, DG EAC premises
Sao Paolo
Brazil
LEON
Leon, Spain
Sean's office
Co. Meath, Ireland
