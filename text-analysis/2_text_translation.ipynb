{
 "cells": [
  {
   "cell_type": "code",
   "execution_count": null,
   "metadata": {},
   "outputs": [],
   "source": [
    "import json\n",
    "import tqdm\n",
    "import pandas as pd\n",
    "import matplotlib.pyplot as plt\n",
    "import seaborn as sns\n",
    "from matplotlib import rcParams\n",
    "from deep_translator import GoogleTranslator\n",
    "from langdetect import detect\n",
    "from tqdm.notebook import tqdm"
   ]
  },
  {
   "cell_type": "code",
   "execution_count": null,
   "metadata": {},
   "outputs": [],
   "source": [
    "# Function to capitalize and replace specific usernames\n",
    "def format_username(username):\n",
    "    # Dictionary for specific replacements\n",
    "    specific_replacements = {\n",
    "        'lego_group': 'Lego Group',\n",
    "        'hm': 'H&M',\n",
    "        'detushepostdhl': 'DHL',\n",
    "        'iberdrola_en': 'Iberdrola'\n",
    "    }\n",
    "    # Apply specific replacements if available\n",
    "    if username in specific_replacements:\n",
    "        return specific_replacements[username]\n",
    "    # General case for handling 'group'\n",
    "    if 'group' in username.lower():\n",
    "        parts = username.split('group')\n",
    "        return ' '.join([part.capitalize() for part in parts if part]) + ' Group'\n",
    "    # Capitalize other usernames\n",
    "    return username.capitalize()"
   ]
  },
  {
   "cell_type": "code",
   "execution_count": null,
   "metadata": {},
   "outputs": [],
   "source": [
    "#rcParams default settings\n",
    "\"https://matplotlib.org/stable/tutorials/introductory/customizing.html\"\n",
    "\n",
    "#rcParams settings\n",
    "plt.style.use('ggplot')\n",
    "\n",
    "rcParams['font.family'] = 'sans-serif'\n",
    "rcParams['font.style'] = 'normal'\n",
    "\n",
    "rcParams['figure.facecolor'] = 'white'\n",
    "\n",
    "rcParams['savefig.bbox'] = 'tight'\n",
    "rcParams['savefig.dpi'] = 300\n",
    "rcParams['savefig.transparent'] = True\n",
    "\n",
    "rcParams['axes.spines.right'] = False\n",
    "rcParams['axes.spines.top'] = False\n",
    "rcParams['axes.labelsize'] = 20\n",
    "rcParams['axes.labelcolor'] = 'black'\n",
    "rcParams['axes.edgecolor'] = 'grey'\n",
    "rcParams['axes.linewidth'] = 3\n",
    "rcParams['axes.facecolor'] = 'white'\n",
    "rcParams['axes.titlepad'] = 4\n",
    "rcParams['axes.titlesize'] = 20\n",
    "\n",
    "rcParams['xtick.color'] = 'grey'\n",
    "rcParams['ytick.color'] = 'grey'\n",
    "rcParams['xtick.labelsize'] = 15\n",
    "rcParams['ytick.labelsize'] = 15\n",
    "rcParams['xtick.major.width'] = 2\n",
    "rcParams['ytick.major.width'] = 0\n",
    "rcParams['xtick.major.size'] = 5\n",
    "rcParams['ytick.major.size'] = 0\n",
    "\n",
    "rcParams['lines.linewidth'] = 3\n",
    "rcParams['lines.markersize'] = 10\n",
    "\n",
    "rcParams['legend.title_fontsize'] = 15\n",
    "rcParams['legend.fontsize'] = 10\n",
    "\n",
    "rcParams['grid.color'] = 'grey'\n",
    "rcParams['grid.linewidth'] = 0.1\n",
    "\n",
    "language_map = {\n",
    "    'en': 'English',\n",
    "    'es': 'Spanish',\n",
    "    'fr': 'French',\n",
    "    'pt': 'Portuguese',\n",
    "    'de': 'German',\n",
    "    'ca': 'Catalan',\n",
    "    'ro': 'Romanian',\n",
    "    'it': 'Italian',\n",
    "    'tr': 'Turkish',\n",
    "    'ar': 'Arabic',\n",
    "    'id': 'Indonesian',\n",
    "    'fi': 'Finnish',\n",
    "    'da': 'Danish',\n",
    "    'no': 'Norwegian',\n",
    "    'tl': 'Tagalog',\n",
    "    'nl': 'Dutch',\n",
    "    'sl': 'Slovenian',\n",
    "    'uk': 'Ukrainian',\n",
    "    'lv': 'Latvian',\n",
    "    'cs': 'Czech'\n",
    "}\n",
    "\n",
    "\n",
    "tab20_palette = sns.color_palette(\"tab20\", n_colors=20)"
   ]
  },
  {
   "cell_type": "code",
   "execution_count": null,
   "metadata": {},
   "outputs": [],
   "source": [
    "df = pd.read_csv('data_2.csv', index_col=[0])\n",
    "df = df[['username', 'lang', 'text', 'created_at']]"
   ]
  },
  {
   "cell_type": "code",
   "execution_count": null,
   "metadata": {},
   "outputs": [],
   "source": [
    "#remove qme #media links \n",
    "df = df.loc[df.lang != 'qme']\n",
    "#remove zxx #used when the language is unknown\n",
    "df = df.loc[df.lang != 'zxx']\n",
    "#If no language classification can be made for a Tweet\n",
    "df = df.loc[df.lang != 'und']\n",
    "#tweets with hashtags only\n",
    "df = df.loc[df.lang != 'qht']\n",
    "#lang:qam for tweets with mentions only (works for tweets since 2022-06\n",
    "df = df.loc[df.lang != 'qam']\n",
    "#questo non so che è ma lo toglierei\n",
    "df = df.loc[df.lang != 'art']\n",
    "\n",
    "no_english = df.loc[df.lang != 'en']\n",
    "\n",
    "print(f\"We have {len(df.loc[df.lang != 'en'])} tweets in languages that are not English.\")\n",
    "\n",
    "print(f\"We have {len(df.loc[df.lang != 'en'].username.unique())} different companies tweeting in non-english languages:\")\n",
    "\n",
    "print(f\"we have {len(df.lang.unique())} different languages\")\n",
    "\n",
    "print(\"such languages are:\")\n",
    "\n",
    "df.loc[df.lang != 'en'].lang.unique()"
   ]
  },
  {
   "cell_type": "code",
   "execution_count": null,
   "metadata": {},
   "outputs": [],
   "source": [
    "matches=0\n",
    " \n",
    "for index, row in tqdm(df.iterrows()):\n",
    "    l = detect(row['text'])\n",
    "    if l != row['lang']:\n",
    "        if l:\n",
    "            df.loc[index, 'new_lang'] = l\n",
    "    else:\n",
    "        df.loc[index, 'new_lang'] = row['lang']\n",
    "        matches+=1\n",
    "        \n",
    "print(matches)"
   ]
  },
  {
   "cell_type": "code",
   "execution_count": null,
   "metadata": {},
   "outputs": [],
   "source": [
    "pd.set_option('display.max_rows', None)\n",
    "pd.set_option('display.max_colwidth', None)\n",
    "for index, row in tqdm(df.loc[(df.lang != df.new_lang) & (df.username == 'lego_group')].iterrows()):\n",
    "    df.loc[index, 'new_lang'] = 'en'\n",
    "df.loc[(df.lang != df.new_lang) & (df.username == 'lego_group')]"
   ]
  },
  {
   "cell_type": "code",
   "execution_count": null,
   "metadata": {},
   "outputs": [],
   "source": [
    "pd.set_option('display.max_rows', None)\n",
    "pd.set_option('display.max_colwidth', None)\n",
    "for index, row in tqdm(df.loc[(df.lang != df.new_lang) & (df.username == 'sap')].iterrows()):\n",
    "    df.loc[index, 'new_lang'] = 'en'\n",
    "df.loc[(df.lang != df.new_lang) & (df.username == 'sap')]"
   ]
  },
  {
   "cell_type": "code",
   "execution_count": null,
   "metadata": {},
   "outputs": [],
   "source": [
    "pd.set_option('display.max_rows', None)\n",
    "pd.set_option('display.max_colwidth', None)\n",
    "for index, row in tqdm(df.loc[(df.lang != df.new_lang) & (df.username == 'verbundag')].iterrows()):\n",
    "    df.loc[index, 'new_lang'] = 'de'\n",
    "df.loc[(df.lang != df.new_lang) & (df.username == 'verbundag')]"
   ]
  },
  {
   "cell_type": "code",
   "execution_count": null,
   "metadata": {},
   "outputs": [],
   "source": [
    "print(f\"After manually cleaning the data we have {len(df.loc[df.new_lang != 'en'])} tweets in languages that are not English.\")"
   ]
  },
  {
   "cell_type": "code",
   "execution_count": null,
   "metadata": {},
   "outputs": [],
   "source": [
    "len(df.new_lang.unique())"
   ]
  },
  {
   "cell_type": "markdown",
   "metadata": {},
   "source": [
    "#### How many tweets for each language?"
   ]
  },
  {
   "cell_type": "code",
   "execution_count": null,
   "metadata": {},
   "outputs": [],
   "source": [
    "sns.set_palette(tab20_palette)\n",
    "\n",
    "df.username = df.username.apply(lambda x: format_username(x))\n",
    "df_plot = df.loc[df.new_lang != 'en'].groupby(['new_lang', 'username']).size().reset_index().pivot(columns='new_lang', index='username', values=0)\n",
    "df_plot['total_tweets'] = df_plot.sum(axis=1)\n",
    "df_plot = df_plot.sort_values(by='total_tweets', ascending=False)\n",
    "\n",
    "fig, (ax_main, ax_legend) = plt.subplots(nrows=1, ncols=2, figsize=(10, 6), gridspec_kw={'width_ratios': [4, 1]})\n",
    "\n",
    "# Plot Number of Tweets per Day\n",
    "df_plot.drop(columns='total_tweets').plot(kind='bar', stacked=True, ax=ax_main)\n",
    "ax_main.set_title('Number of Tweets for Each (non English) Language')\n",
    "ax_main.set_xlabel('Username')\n",
    "ax_main.set_ylabel('Number of Tweets')\n",
    "ax_main.set_yscale('log')\n",
    "ax_main.grid(False)\n",
    "handles, labels = ax_main.get_legend_handles_labels()\n",
    "labels = [language_map[k] for k in labels if k in language_map]\n",
    "ax_main.get_legend().remove()\n",
    "\n",
    "# Legend on the ax_legend\n",
    "legend = ax_legend.legend(handles, labels, loc=\"center left\", bbox_to_anchor=(-2, 0.75), ncol=3, markerscale=0.3, fontsize=10, title=\"Language\")\n",
    "ax_legend.add_artist(legend)\n",
    "ax_legend.axis('off')"
   ]
  },
  {
   "cell_type": "markdown",
   "metadata": {},
   "source": [
    "#### Translate non-english texts"
   ]
  },
  {
   "cell_type": "markdown",
   "metadata": {},
   "source": [
    "For now I am using google translate because is free and has no limit, maybe I can try deepl but for now i just found an api with a small free translation rate per day"
   ]
  },
  {
   "cell_type": "code",
   "execution_count": null,
   "metadata": {},
   "outputs": [],
   "source": [
    "english_texts = {}\n",
    "for index, row in tqdm(df.loc[df.new_lang != \"en\"].iterrows(), total=len(df)):\n",
    "    translated = GoogleTranslator(source=\"auto\", target=\"en\").translate(row.text)\n",
    "    english_texts[index] = translated"
   ]
  },
  {
   "cell_type": "markdown",
   "metadata": {},
   "source": [
    "#### Clean dataframe"
   ]
  },
  {
   "cell_type": "code",
   "execution_count": null,
   "metadata": {},
   "outputs": [],
   "source": [
    "for idx, text in english_texts.items():\n",
    "    df.loc[idx, \"text\"] = text\n",
    "df.drop('en_text', axis=1)\n",
    "for index, row in no_english.iterrows():\n",
    "    if index in df.index:\n",
    "        df.loc[index, 'text'] = row['en_text']\n",
    "df = df.drop(columns=['en_text'])"
   ]
  },
  {
   "cell_type": "code",
   "execution_count": null,
   "metadata": {},
   "outputs": [],
   "source": [
    "df[['username', 'text', 'created_at', 'new_lang']]\\\n",
    "    .to_csv('translated.csv')"
   ]
  },
  {
   "cell_type": "code",
   "execution_count": null,
   "metadata": {},
   "outputs": [],
   "source": []
  }
 ],
 "metadata": {
  "kernelspec": {
   "display_name": "base",
   "language": "python",
   "name": "python3"
  },
  "language_info": {
   "codemirror_mode": {
    "name": "ipython",
    "version": 3
   },
   "file_extension": ".py",
   "mimetype": "text/x-python",
   "name": "python",
   "nbconvert_exporter": "python",
   "pygments_lexer": "ipython3",
   "version": "3.11.5"
  }
 },
 "nbformat": 4,
 "nbformat_minor": 2
}
